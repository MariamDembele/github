{
 "cells": [
  {
   "cell_type": "code",
   "execution_count": 2,
   "id": "b6a95fbb",
   "metadata": {},
   "outputs": [],
   "source": [
    "import iplantuml\n",
    "import plantuml"
   ]
  },
  {
   "cell_type": "code",
   "execution_count": 3,
   "id": "6c9f9ef0",
   "metadata": {},
   "outputs": [
    {
     "data": {
      "image/svg+xml": [
       "<svg xmlns=\"http://www.w3.org/2000/svg\" xmlns:xlink=\"http://www.w3.org/1999/xlink\" contentScriptType=\"application/ecmascript\" contentStyleType=\"text/css\" height=\"190px\" preserveAspectRatio=\"none\" style=\"width:395px;height:190px;background:#FFFFFF;\" version=\"1.1\" viewBox=\"0 0 395 190\" width=\"395px\" zoomAndPan=\"magnify\"><defs><filter height=\"300%\" id=\"fzqe3k6pk791i\" width=\"300%\" x=\"-1\" y=\"-1\"><feGaussianBlur result=\"blurOut\" stdDeviation=\"2.0\"/><feColorMatrix in=\"blurOut\" result=\"blurOut2\" type=\"matrix\" values=\"0 0 0 0 0 0 0 0 0 0 0 0 0 0 0 0 0 0 .4 0\"/><feOffset dx=\"4.0\" dy=\"4.0\" in=\"blurOut2\" result=\"blurOut3\"/><feBlend in=\"SourceGraphic\" in2=\"blurOut3\" mode=\"normal\"/></filter></defs><g><line style=\"stroke:#A80036;stroke-width:1.0;stroke-dasharray:5.0,5.0;\" x1=\"31\" x2=\"31\" y1=\"40.2969\" y2=\"147.6953\"/><line style=\"stroke:#A80036;stroke-width:1.0;stroke-dasharray:5.0,5.0;\" x1=\"215\" x2=\"215\" y1=\"40.2969\" y2=\"147.6953\"/><line style=\"stroke:#A80036;stroke-width:1.0;stroke-dasharray:5.0,5.0;\" x1=\"283\" x2=\"283\" y1=\"40.2969\" y2=\"147.6953\"/><line style=\"stroke:#A80036;stroke-width:1.0;stroke-dasharray:5.0,5.0;\" x1=\"356\" x2=\"356\" y1=\"40.2969\" y2=\"147.6953\"/><rect fill=\"#FEFECE\" filter=\"url(#fzqe3k6pk791i)\" height=\"30.2969\" style=\"stroke:#A80036;stroke-width:1.5;\" width=\"49\" x=\"5\" y=\"5\"/><text fill=\"#000000\" font-family=\"sans-serif\" font-size=\"14\" lengthAdjust=\"spacing\" textLength=\"35\" x=\"12\" y=\"24.9951\">Alice</text><rect fill=\"#FEFECE\" filter=\"url(#fzqe3k6pk791i)\" height=\"30.2969\" style=\"stroke:#A80036;stroke-width:1.5;\" width=\"49\" x=\"5\" y=\"146.6953\"/><text fill=\"#000000\" font-family=\"sans-serif\" font-size=\"14\" lengthAdjust=\"spacing\" textLength=\"35\" x=\"12\" y=\"166.6904\">Alice</text><rect fill=\"#FEFECE\" filter=\"url(#fzqe3k6pk791i)\" height=\"30.2969\" style=\"stroke:#A80036;stroke-width:1.5;\" width=\"43\" x=\"192\" y=\"5\"/><text fill=\"#000000\" font-family=\"sans-serif\" font-size=\"14\" lengthAdjust=\"spacing\" textLength=\"29\" x=\"199\" y=\"24.9951\">Bob</text><rect fill=\"#FEFECE\" filter=\"url(#fzqe3k6pk791i)\" height=\"30.2969\" style=\"stroke:#A80036;stroke-width:1.5;\" width=\"43\" x=\"192\" y=\"146.6953\"/><text fill=\"#000000\" font-family=\"sans-serif\" font-size=\"14\" lengthAdjust=\"spacing\" textLength=\"29\" x=\"199\" y=\"166.6904\">Bob</text><rect fill=\"#FEFECE\" filter=\"url(#fzqe3k6pk791i)\" height=\"30.2969\" style=\"stroke:#A80036;stroke-width:1.5;\" width=\"65\" x=\"249\" y=\"5\"/><text fill=\"#000000\" font-family=\"sans-serif\" font-size=\"14\" lengthAdjust=\"spacing\" textLength=\"51\" x=\"256\" y=\"24.9951\">Moussa</text><rect fill=\"#FEFECE\" filter=\"url(#fzqe3k6pk791i)\" height=\"30.2969\" style=\"stroke:#A80036;stroke-width:1.5;\" width=\"65\" x=\"249\" y=\"146.6953\"/><text fill=\"#000000\" font-family=\"sans-serif\" font-size=\"14\" lengthAdjust=\"spacing\" textLength=\"51\" x=\"256\" y=\"166.6904\">Moussa</text><rect fill=\"#FEFECE\" filter=\"url(#fzqe3k6pk791i)\" height=\"30.2969\" style=\"stroke:#A80036;stroke-width:1.5;\" width=\"53\" x=\"328\" y=\"5\"/><text fill=\"#000000\" font-family=\"sans-serif\" font-size=\"14\" lengthAdjust=\"spacing\" textLength=\"39\" x=\"335\" y=\"24.9951\">Kadia</text><rect fill=\"#FEFECE\" filter=\"url(#fzqe3k6pk791i)\" height=\"30.2969\" style=\"stroke:#A80036;stroke-width:1.5;\" width=\"53\" x=\"328\" y=\"146.6953\"/><text fill=\"#000000\" font-family=\"sans-serif\" font-size=\"14\" lengthAdjust=\"spacing\" textLength=\"39\" x=\"335\" y=\"166.6904\">Kadia</text><polygon fill=\"#A80036\" points=\"203.5,67.4297,213.5,71.4297,203.5,75.4297,207.5,71.4297\" style=\"stroke:#A80036;stroke-width:1.0;\"/><line style=\"stroke:#A80036;stroke-width:1.0;\" x1=\"31.5\" x2=\"209.5\" y1=\"71.4297\" y2=\"71.4297\"/><text fill=\"#000000\" font-family=\"sans-serif\" font-size=\"13\" lengthAdjust=\"spacing\" textLength=\"150\" x=\"38.5\" y=\"66.3638\">Authentication Request</text><polygon fill=\"#A80036\" points=\"42.5,96.5625,32.5,100.5625,42.5,104.5625,38.5,100.5625\" style=\"stroke:#A80036;stroke-width:1.0;\"/><line style=\"stroke:#A80036;stroke-width:1.0;stroke-dasharray:2.0,2.0;\" x1=\"36.5\" x2=\"214.5\" y1=\"100.5625\" y2=\"100.5625\"/><text fill=\"#000000\" font-family=\"sans-serif\" font-size=\"13\" lengthAdjust=\"spacing\" textLength=\"160\" x=\"48.5\" y=\"95.4966\">Authentication Response</text><polygon fill=\"#A80036\" points=\"344.5,125.6953,354.5,129.6953,344.5,133.6953,348.5,129.6953\" style=\"stroke:#A80036;stroke-width:1.0;\"/><line style=\"stroke:#A80036;stroke-width:1.0;\" x1=\"283.5\" x2=\"350.5\" y1=\"129.6953\" y2=\"129.6953\"/><text fill=\"#000000\" font-family=\"sans-serif\" font-size=\"13\" lengthAdjust=\"spacing\" textLength=\"48\" x=\"290.5\" y=\"124.6294\">Bonjour</text><!--MD5=[527df9d7403f66a970ccfdd7f7b90b7e]\n",
       "@startuml\n",
       "Alice -> Bob: Authentication Request\n",
       "Bob - -> Alice: Authentication Response\n",
       "Moussa -> Kadia : Bonjour\n",
       "@enduml\n",
       "\n",
       "PlantUML version 1.2021.9beta2(Unknown compile time)\n",
       "(GPL source distribution)\n",
       "Java Runtime: Java(TM) SE Runtime Environment\n",
       "JVM: Java HotSpot(TM) 64-Bit Server VM\n",
       "Default Encoding: UTF-8\n",
       "Language: en\n",
       "Country: US\n",
       "--></g></svg>"
      ],
      "text/plain": [
       "<IPython.core.display.SVG object>"
      ]
     },
     "execution_count": 3,
     "metadata": {},
     "output_type": "execute_result"
    }
   ],
   "source": [
    "%%plantuml\n",
    "\n",
    "@startuml\n",
    "Alice -> Bob: Authentication Request\n",
    "Bob --> Alice: Authentication Response\n",
    "Moussa -> Kadia : Bonjour   \n",
    "@enduml"
   ]
  },
  {
   "cell_type": "code",
   "execution_count": 4,
   "id": "01648193",
   "metadata": {},
   "outputs": [
    {
     "data": {
      "image/svg+xml": [
       "<svg xmlns=\"http://www.w3.org/2000/svg\" xmlns:xlink=\"http://www.w3.org/1999/xlink\" contentScriptType=\"application/ecmascript\" contentStyleType=\"text/css\" height=\"338px\" preserveAspectRatio=\"none\" style=\"width:384px;height:338px;background:#FFFFFF;\" version=\"1.1\" viewBox=\"0 0 384 338\" width=\"384px\" zoomAndPan=\"magnify\"><defs><filter height=\"300%\" id=\"f1nwd5gfvwhd0s\" width=\"300%\" x=\"-1\" y=\"-1\"><feGaussianBlur result=\"blurOut\" stdDeviation=\"2.0\"/><feColorMatrix in=\"blurOut\" result=\"blurOut2\" type=\"matrix\" values=\"0 0 0 0 0 0 0 0 0 0 0 0 0 0 0 0 0 0 .4 0\"/><feOffset dx=\"4.0\" dy=\"4.0\" in=\"blurOut2\" result=\"blurOut3\"/><feBlend in=\"SourceGraphic\" in2=\"blurOut3\" mode=\"normal\"/></filter></defs><g><line style=\"stroke:#A80036;stroke-width:1.0;stroke-dasharray:5.0,5.0;\" x1=\"25\" x2=\"25\" y1=\"88.2969\" y2=\"253.9609\"/><line style=\"stroke:#A80036;stroke-width:1.0;stroke-dasharray:5.0,5.0;\" x1=\"130\" x2=\"130\" y1=\"88.2969\" y2=\"253.9609\"/><line style=\"stroke:#A80036;stroke-width:1.0;stroke-dasharray:5.0,5.0;\" x1=\"185\" x2=\"185\" y1=\"88.2969\" y2=\"253.9609\"/><line style=\"stroke:#A80036;stroke-width:1.0;stroke-dasharray:5.0,5.0;\" x1=\"236\" x2=\"236\" y1=\"88.2969\" y2=\"253.9609\"/><line style=\"stroke:#A80036;stroke-width:1.0;stroke-dasharray:5.0,5.0;\" x1=\"286\" x2=\"286\" y1=\"88.2969\" y2=\"253.9609\"/><line style=\"stroke:#A80036;stroke-width:1.0;stroke-dasharray:5.0,5.0;\" x1=\"345\" x2=\"345\" y1=\"88.2969\" y2=\"253.9609\"/><text fill=\"#000000\" font-family=\"sans-serif\" font-size=\"14\" lengthAdjust=\"spacing\" textLength=\"35\" x=\"5\" y=\"84.9951\">Foo1</text><ellipse cx=\"25.5\" cy=\"15\" fill=\"#FEFECE\" filter=\"url(#f1nwd5gfvwhd0s)\" rx=\"8\" ry=\"8\" style=\"stroke:#A80036;stroke-width:2.0;\"/><path d=\"M25.5,23 L25.5,50 M12.5,31 L38.5,31 M25.5,50 L12.5,65 M25.5,50 L38.5,65 \" fill=\"none\" filter=\"url(#f1nwd5gfvwhd0s)\" style=\"stroke:#A80036;stroke-width:2.0;\"/><text fill=\"#000000\" font-family=\"sans-serif\" font-size=\"14\" lengthAdjust=\"spacing\" textLength=\"35\" x=\"5\" y=\"265.9561\">Foo1</text><ellipse cx=\"25.5\" cy=\"279.2578\" fill=\"#FEFECE\" filter=\"url(#f1nwd5gfvwhd0s)\" rx=\"8\" ry=\"8\" style=\"stroke:#A80036;stroke-width:2.0;\"/><path d=\"M25.5,287.2578 L25.5,314.2578 M12.5,295.2578 L38.5,295.2578 M25.5,314.2578 L12.5,329.2578 M25.5,314.2578 L38.5,329.2578 \" fill=\"none\" filter=\"url(#f1nwd5gfvwhd0s)\" style=\"stroke:#A80036;stroke-width:2.0;\"/><text fill=\"#000000\" font-family=\"sans-serif\" font-size=\"14\" lengthAdjust=\"spacing\" textLength=\"34\" x=\"110.5\" y=\"84.9951\">Foo2</text><path d=\"M110,44 L110,68 M110,56 L127,56 \" fill=\"none\" filter=\"url(#f1nwd5gfvwhd0s)\" style=\"stroke:#A80036;stroke-width:2.0;\"/><ellipse cx=\"139\" cy=\"56\" fill=\"#FEFECE\" filter=\"url(#f1nwd5gfvwhd0s)\" rx=\"12\" ry=\"12\" style=\"stroke:#A80036;stroke-width:2.0;\"/><text fill=\"#000000\" font-family=\"sans-serif\" font-size=\"14\" lengthAdjust=\"spacing\" textLength=\"34\" x=\"110.5\" y=\"265.9561\">Foo2</text><path d=\"M110,273.2578 L110,297.2578 M110,285.2578 L127,285.2578 \" fill=\"none\" filter=\"url(#f1nwd5gfvwhd0s)\" style=\"stroke:#A80036;stroke-width:2.0;\"/><ellipse cx=\"139\" cy=\"285.2578\" fill=\"#FEFECE\" filter=\"url(#f1nwd5gfvwhd0s)\" rx=\"12\" ry=\"12\" style=\"stroke:#A80036;stroke-width:2.0;\"/><text fill=\"#000000\" font-family=\"sans-serif\" font-size=\"14\" lengthAdjust=\"spacing\" textLength=\"35\" x=\"165\" y=\"84.9951\">Foo3</text><ellipse cx=\"185.5\" cy=\"56\" fill=\"#FEFECE\" filter=\"url(#f1nwd5gfvwhd0s)\" rx=\"12\" ry=\"12\" style=\"stroke:#A80036;stroke-width:2.0;\"/><polygon fill=\"#A80036\" points=\"181.5,44,187.5,39,185.5,44,187.5,49,181.5,44\" style=\"stroke:#A80036;stroke-width:1.0;\"/><text fill=\"#000000\" font-family=\"sans-serif\" font-size=\"14\" lengthAdjust=\"spacing\" textLength=\"35\" x=\"165\" y=\"265.9561\">Foo3</text><ellipse cx=\"185.5\" cy=\"285.2578\" fill=\"#FEFECE\" filter=\"url(#f1nwd5gfvwhd0s)\" rx=\"12\" ry=\"12\" style=\"stroke:#A80036;stroke-width:2.0;\"/><polygon fill=\"#A80036\" points=\"181.5,273.2578,187.5,268.2578,185.5,273.2578,187.5,278.2578,181.5,273.2578\" style=\"stroke:#A80036;stroke-width:1.0;\"/><text fill=\"#000000\" font-family=\"sans-serif\" font-size=\"14\" lengthAdjust=\"spacing\" textLength=\"34\" x=\"216\" y=\"84.9951\">Foo4</text><ellipse cx=\"236\" cy=\"56\" fill=\"#FEFECE\" filter=\"url(#f1nwd5gfvwhd0s)\" rx=\"12\" ry=\"12\" style=\"stroke:#A80036;stroke-width:2.0;\"/><line style=\"stroke:#A80036;stroke-width:2.0;\" x1=\"224\" x2=\"248\" y1=\"70\" y2=\"70\"/><text fill=\"#000000\" font-family=\"sans-serif\" font-size=\"14\" lengthAdjust=\"spacing\" textLength=\"34\" x=\"216\" y=\"265.9561\">Foo4</text><ellipse cx=\"236\" cy=\"285.2578\" fill=\"#FEFECE\" filter=\"url(#f1nwd5gfvwhd0s)\" rx=\"12\" ry=\"12\" style=\"stroke:#A80036;stroke-width:2.0;\"/><line style=\"stroke:#A80036;stroke-width:2.0;\" x1=\"224\" x2=\"248\" y1=\"299.2578\" y2=\"299.2578\"/><text fill=\"#000000\" font-family=\"sans-serif\" font-size=\"14\" lengthAdjust=\"spacing\" textLength=\"35\" x=\"266\" y=\"84.9951\">Foo5</text><path d=\"M268.5,36 C268.5,26 286.5,26 286.5,26 C286.5,26 304.5,26 304.5,36 L304.5,62 C304.5,72 286.5,72 286.5,72 C286.5,72 268.5,72 268.5,62 L268.5,36 \" fill=\"#FEFECE\" filter=\"url(#f1nwd5gfvwhd0s)\" style=\"stroke:#000000;stroke-width:1.5;\"/><path d=\"M268.5,36 C268.5,46 286.5,46 286.5,46 C286.5,46 304.5,46 304.5,36 \" fill=\"none\" style=\"stroke:#000000;stroke-width:1.5;\"/><text fill=\"#000000\" font-family=\"sans-serif\" font-size=\"14\" lengthAdjust=\"spacing\" textLength=\"35\" x=\"266\" y=\"265.9561\">Foo5</text><path d=\"M268.5,279.2578 C268.5,269.2578 286.5,269.2578 286.5,269.2578 C286.5,269.2578 304.5,269.2578 304.5,279.2578 L304.5,305.2578 C304.5,315.2578 286.5,315.2578 286.5,315.2578 C286.5,315.2578 268.5,315.2578 268.5,305.2578 L268.5,279.2578 \" fill=\"#FEFECE\" filter=\"url(#f1nwd5gfvwhd0s)\" style=\"stroke:#000000;stroke-width:1.5;\"/><path d=\"M268.5,279.2578 C268.5,289.2578 286.5,289.2578 286.5,289.2578 C286.5,289.2578 304.5,289.2578 304.5,279.2578 \" fill=\"none\" style=\"stroke:#000000;stroke-width:1.5;\"/><rect fill=\"#FEFECE\" filter=\"url(#f1nwd5gfvwhd0s)\" height=\"30.2969\" style=\"stroke:#A80036;stroke-width:1.5;\" width=\"49\" x=\"321\" y=\"49\"/><rect fill=\"#FEFECE\" filter=\"url(#f1nwd5gfvwhd0s)\" height=\"30.2969\" style=\"stroke:#A80036;stroke-width:1.5;\" width=\"49\" x=\"317\" y=\"53\"/><text fill=\"#000000\" font-family=\"sans-serif\" font-size=\"14\" lengthAdjust=\"spacing\" textLength=\"35\" x=\"324\" y=\"72.9951\">Foo6</text><rect fill=\"#FEFECE\" filter=\"url(#f1nwd5gfvwhd0s)\" height=\"30.2969\" style=\"stroke:#A80036;stroke-width:1.5;\" width=\"49\" x=\"321\" y=\"252.9609\"/><rect fill=\"#FEFECE\" filter=\"url(#f1nwd5gfvwhd0s)\" height=\"30.2969\" style=\"stroke:#A80036;stroke-width:1.5;\" width=\"49\" x=\"317\" y=\"256.9609\"/><text fill=\"#000000\" font-family=\"sans-serif\" font-size=\"14\" lengthAdjust=\"spacing\" textLength=\"35\" x=\"324\" y=\"276.9561\">Foo6</text><polygon fill=\"#A80036\" points=\"118.5,115.4297,128.5,119.4297,118.5,123.4297,122.5,119.4297\" style=\"stroke:#A80036;stroke-width:1.0;\"/><line style=\"stroke:#A80036;stroke-width:1.0;\" x1=\"25.5\" x2=\"124.5\" y1=\"119.4297\" y2=\"119.4297\"/><text fill=\"#000000\" font-family=\"sans-serif\" font-size=\"13\" lengthAdjust=\"spacing\" textLength=\"81\" x=\"32.5\" y=\"114.3638\">To boundary</text><polygon fill=\"#A80036\" points=\"173.5,144.5625,183.5,148.5625,173.5,152.5625,177.5,148.5625\" style=\"stroke:#A80036;stroke-width:1.0;\"/><line style=\"stroke:#A80036;stroke-width:1.0;\" x1=\"25.5\" x2=\"179.5\" y1=\"148.5625\" y2=\"148.5625\"/><text fill=\"#000000\" font-family=\"sans-serif\" font-size=\"13\" lengthAdjust=\"spacing\" textLength=\"64\" x=\"32.5\" y=\"143.4966\">To control</text><polygon fill=\"#A80036\" points=\"224,173.6953,234,177.6953,224,181.6953,228,177.6953\" style=\"stroke:#A80036;stroke-width:1.0;\"/><line style=\"stroke:#A80036;stroke-width:1.0;\" x1=\"25.5\" x2=\"230\" y1=\"177.6953\" y2=\"177.6953\"/><text fill=\"#000000\" font-family=\"sans-serif\" font-size=\"13\" lengthAdjust=\"spacing\" textLength=\"57\" x=\"32.5\" y=\"172.6294\">To entity</text><polygon fill=\"#A80036\" points=\"274.5,202.8281,284.5,206.8281,274.5,210.8281,278.5,206.8281\" style=\"stroke:#A80036;stroke-width:1.0;\"/><line style=\"stroke:#A80036;stroke-width:1.0;\" x1=\"25.5\" x2=\"280.5\" y1=\"206.8281\" y2=\"206.8281\"/><text fill=\"#000000\" font-family=\"sans-serif\" font-size=\"13\" lengthAdjust=\"spacing\" textLength=\"80\" x=\"32.5\" y=\"201.7622\">To database</text><polygon fill=\"#A80036\" points=\"333.5,231.9609,343.5,235.9609,333.5,239.9609,337.5,235.9609\" style=\"stroke:#A80036;stroke-width:1.0;\"/><line style=\"stroke:#A80036;stroke-width:1.0;\" x1=\"25.5\" x2=\"339.5\" y1=\"235.9609\" y2=\"235.9609\"/><text fill=\"#000000\" font-family=\"sans-serif\" font-size=\"13\" lengthAdjust=\"spacing\" textLength=\"87\" x=\"32.5\" y=\"230.895\">To collections</text><!--MD5=[05ec770ce3bfe7121235be959be8e0ef]\n",
       "@startuml\n",
       "actor Foo1\n",
       "boundary Foo2\n",
       "control Foo3\n",
       "entity Foo4\n",
       "database Foo5\n",
       "collections Foo6\n",
       "Foo1 -> Foo2 : To boundary\n",
       "Foo1 -> Foo3 : To control\n",
       "Foo1 -> Foo4 : To entity\n",
       "Foo1 -> Foo5 : To database\n",
       "Foo1 -> Foo6 : To collections\n",
       "@enduml\n",
       "\n",
       "PlantUML version 1.2021.9beta2(Unknown compile time)\n",
       "(GPL source distribution)\n",
       "Java Runtime: Java(TM) SE Runtime Environment\n",
       "JVM: Java HotSpot(TM) 64-Bit Server VM\n",
       "Default Encoding: UTF-8\n",
       "Language: en\n",
       "Country: US\n",
       "--></g></svg>"
      ],
      "text/plain": [
       "<IPython.core.display.SVG object>"
      ]
     },
     "execution_count": 4,
     "metadata": {},
     "output_type": "execute_result"
    }
   ],
   "source": [
    "%%plantuml\n",
    "\n",
    "@startuml\n",
    "actor Foo1\n",
    "boundary Foo2\n",
    "control Foo3\n",
    "entity Foo4\n",
    "database Foo5\n",
    "collections Foo6\n",
    "Foo1 -> Foo2 : To boundary\n",
    "Foo1 -> Foo3 : To control\n",
    "Foo1 -> Foo4 : To entity\n",
    "Foo1 -> Foo5 : To database\n",
    "Foo1 -> Foo6 : To collections\n",
    "@enduml    "
   ]
  },
  {
   "cell_type": "code",
   "execution_count": 5,
   "id": "f1276ec7",
   "metadata": {},
   "outputs": [
    {
     "data": {
      "image/svg+xml": [
       "<svg xmlns=\"http://www.w3.org/2000/svg\" xmlns:xlink=\"http://www.w3.org/1999/xlink\" contentScriptType=\"application/ecmascript\" contentStyleType=\"text/css\" height=\"279px\" preserveAspectRatio=\"none\" style=\"width:368px;height:279px;background:#FFFFFF;\" version=\"1.1\" viewBox=\"0 0 368 279\" width=\"368px\" zoomAndPan=\"magnify\"><defs><filter height=\"300%\" id=\"fyujgun3k371f\" width=\"300%\" x=\"-1\" y=\"-1\"><feGaussianBlur result=\"blurOut\" stdDeviation=\"2.0\"/><feColorMatrix in=\"blurOut\" result=\"blurOut2\" type=\"matrix\" values=\"0 0 0 0 0 0 0 0 0 0 0 0 0 0 0 0 0 0 .4 0\"/><feOffset dx=\"4.0\" dy=\"4.0\" in=\"blurOut2\" result=\"blurOut3\"/><feBlend in=\"SourceGraphic\" in2=\"blurOut3\" mode=\"normal\"/></filter></defs><g><line style=\"stroke:#A80036;stroke-width:1.0;stroke-dasharray:5.0,5.0;\" x1=\"22\" x2=\"22\" y1=\"88.2969\" y2=\"195.6953\"/><line style=\"stroke:#A80036;stroke-width:1.0;stroke-dasharray:5.0,5.0;\" x1=\"206\" x2=\"206\" y1=\"88.2969\" y2=\"195.6953\"/><line style=\"stroke:#A80036;stroke-width:1.0;stroke-dasharray:5.0,5.0;\" x1=\"300\" x2=\"300\" y1=\"88.2969\" y2=\"195.6953\"/><text fill=\"#000000\" font-family=\"sans-serif\" font-size=\"14\" lengthAdjust=\"spacing\" textLength=\"29\" x=\"5\" y=\"84.9951\">Bob</text><ellipse cx=\"22.5\" cy=\"15\" fill=\"#FF0000\" filter=\"url(#fyujgun3k371f)\" rx=\"8\" ry=\"8\" style=\"stroke:#A80036;stroke-width:2.0;\"/><path d=\"M22.5,23 L22.5,50 M9.5,31 L35.5,31 M22.5,50 L9.5,65 M22.5,50 L35.5,65 \" fill=\"none\" filter=\"url(#fyujgun3k371f)\" style=\"stroke:#A80036;stroke-width:2.0;\"/><text fill=\"#000000\" font-family=\"sans-serif\" font-size=\"14\" lengthAdjust=\"spacing\" textLength=\"29\" x=\"5\" y=\"207.6904\">Bob</text><ellipse cx=\"22.5\" cy=\"220.9922\" fill=\"#FF0000\" filter=\"url(#fyujgun3k371f)\" rx=\"8\" ry=\"8\" style=\"stroke:#A80036;stroke-width:2.0;\"/><path d=\"M22.5,228.9922 L22.5,255.9922 M9.5,236.9922 L35.5,236.9922 M22.5,255.9922 L9.5,270.9922 M22.5,255.9922 L35.5,270.9922 \" fill=\"none\" filter=\"url(#fyujgun3k371f)\" style=\"stroke:#A80036;stroke-width:2.0;\"/><rect fill=\"#FEFECE\" filter=\"url(#fyujgun3k371f)\" height=\"30.2969\" style=\"stroke:#A80036;stroke-width:1.5;\" width=\"49\" x=\"180\" y=\"53\"/><text fill=\"#000000\" font-family=\"sans-serif\" font-size=\"14\" lengthAdjust=\"spacing\" textLength=\"35\" x=\"187\" y=\"72.9951\">Alice</text><rect fill=\"#FEFECE\" filter=\"url(#fyujgun3k371f)\" height=\"30.2969\" style=\"stroke:#A80036;stroke-width:1.5;\" width=\"49\" x=\"180\" y=\"194.6953\"/><text fill=\"#000000\" font-family=\"sans-serif\" font-size=\"14\" lengthAdjust=\"spacing\" textLength=\"35\" x=\"187\" y=\"214.6904\">Alice</text><rect fill=\"#99FF99\" filter=\"url(#fyujgun3k371f)\" height=\"46.5938\" style=\"stroke:#A80036;stroke-width:1.5;\" width=\"111\" x=\"243\" y=\"36.7031\"/><text fill=\"#000000\" font-family=\"sans-serif\" font-size=\"14\" lengthAdjust=\"spacing\" textLength=\"97\" x=\"250\" y=\"56.6982\">I have a really</text><text fill=\"#000000\" font-family=\"sans-serif\" font-size=\"14\" lengthAdjust=\"spacing\" textLength=\"75\" x=\"261\" y=\"72.9951\">long name</text><rect fill=\"#99FF99\" filter=\"url(#fyujgun3k371f)\" height=\"46.5938\" style=\"stroke:#A80036;stroke-width:1.5;\" width=\"111\" x=\"243\" y=\"194.6953\"/><text fill=\"#000000\" font-family=\"sans-serif\" font-size=\"14\" lengthAdjust=\"spacing\" textLength=\"97\" x=\"250\" y=\"214.6904\">I have a really</text><text fill=\"#000000\" font-family=\"sans-serif\" font-size=\"14\" lengthAdjust=\"spacing\" textLength=\"75\" x=\"261\" y=\"230.9873\">long name</text><polygon fill=\"#A80036\" points=\"33.5,115.4297,23.5,119.4297,33.5,123.4297,29.5,119.4297\" style=\"stroke:#A80036;stroke-width:1.0;\"/><line style=\"stroke:#A80036;stroke-width:1.0;\" x1=\"27.5\" x2=\"205.5\" y1=\"119.4297\" y2=\"119.4297\"/><text fill=\"#000000\" font-family=\"sans-serif\" font-size=\"13\" lengthAdjust=\"spacing\" textLength=\"150\" x=\"39.5\" y=\"114.3638\">Authentication Request</text><polygon fill=\"#A80036\" points=\"194.5,144.5625,204.5,148.5625,194.5,152.5625,198.5,148.5625\" style=\"stroke:#A80036;stroke-width:1.0;\"/><line style=\"stroke:#A80036;stroke-width:1.0;\" x1=\"22.5\" x2=\"200.5\" y1=\"148.5625\" y2=\"148.5625\"/><text fill=\"#000000\" font-family=\"sans-serif\" font-size=\"13\" lengthAdjust=\"spacing\" textLength=\"160\" x=\"29.5\" y=\"143.4966\">Authentication Response</text><polygon fill=\"#A80036\" points=\"288.5,173.6953,298.5,177.6953,288.5,181.6953,292.5,177.6953\" style=\"stroke:#A80036;stroke-width:1.0;\"/><line style=\"stroke:#A80036;stroke-width:1.0;\" x1=\"22.5\" x2=\"294.5\" y1=\"177.6953\" y2=\"177.6953\"/><text fill=\"#000000\" font-family=\"sans-serif\" font-size=\"13\" lengthAdjust=\"spacing\" textLength=\"99\" x=\"29.5\" y=\"172.6294\">Log transaction</text><!--MD5=[09bb14a8e7e206b6ccefe17d65734f1c]\n",
       "@startuml\n",
       "actor Bob #red\n",
       "' The only difference between actor\n",
       "'and participant is the drawing\n",
       "participant Alice\n",
       "participant \"I have a really\\nlong name\" as L #99FF99\n",
       "/' You can also declare:\n",
       "participant L as \"I have a really\\nlong name\" #99FF99\n",
       "'/\n",
       "Alice->Bob: Authentication Request\n",
       "Bob->Alice: Authentication Response\n",
       "Bob->L: Log transaction\n",
       "@enduml\n",
       "\n",
       "@startuml\n",
       "actor Bob #red\n",
       "participant Alice\n",
       "participant \"I have a really\\nlong name\" as L #99FF99\n",
       "Alice->Bob: Authentication Request\n",
       "Bob->Alice: Authentication Response\n",
       "Bob->L: Log transaction\n",
       "@enduml\n",
       "\n",
       "PlantUML version 1.2021.9beta2(Unknown compile time)\n",
       "(GPL source distribution)\n",
       "Java Runtime: Java(TM) SE Runtime Environment\n",
       "JVM: Java HotSpot(TM) 64-Bit Server VM\n",
       "Default Encoding: UTF-8\n",
       "Language: en\n",
       "Country: US\n",
       "--></g></svg>"
      ],
      "text/plain": [
       "<IPython.core.display.SVG object>"
      ]
     },
     "execution_count": 5,
     "metadata": {},
     "output_type": "execute_result"
    }
   ],
   "source": [
    "%%plantuml\n",
    "\n",
    "@startuml\n",
    "actor Bob #red\n",
    "' The only difference between actor\n",
    "'and participant is the drawing\n",
    "participant Alice\n",
    "participant \"I have a really\\nlong name\" as L #99FF99\n",
    "/' You can also declare:\n",
    "participant L as \"I have a really\\nlong name\" #99FF99\n",
    "'/\n",
    "Alice->Bob: Authentication Request\n",
    "Bob->Alice: Authentication Response\n",
    "Bob->L: Log transaction\n",
    "@enduml\n"
   ]
  },
  {
   "cell_type": "code",
   "execution_count": 6,
   "id": "2dcdbc05",
   "metadata": {},
   "outputs": [
    {
     "data": {
      "image/svg+xml": [
       "<svg xmlns=\"http://www.w3.org/2000/svg\" xmlns:xlink=\"http://www.w3.org/1999/xlink\" contentScriptType=\"application/ecmascript\" contentStyleType=\"text/css\" height=\"103px\" preserveAspectRatio=\"none\" style=\"width:198px;height:103px;background:#FFFFFF;\" version=\"1.1\" viewBox=\"0 0 198 103\" width=\"198px\" zoomAndPan=\"magnify\"><defs><filter height=\"300%\" id=\"f6hawauzsrcv\" width=\"300%\" x=\"-1\" y=\"-1\"><feGaussianBlur result=\"blurOut\" stdDeviation=\"2.0\"/><feColorMatrix in=\"blurOut\" result=\"blurOut2\" type=\"matrix\" values=\"0 0 0 0 0 0 0 0 0 0 0 0 0 0 0 0 0 0 .4 0\"/><feOffset dx=\"4.0\" dy=\"4.0\" in=\"blurOut2\" result=\"blurOut3\"/><feBlend in=\"SourceGraphic\" in2=\"blurOut3\" mode=\"normal\"/></filter></defs><g><line style=\"stroke:#A80036;stroke-width:1.0;stroke-dasharray:5.0,5.0;\" x1=\"30\" x2=\"30\" y1=\"40.2969\" y2=\"60.2969\"/><line style=\"stroke:#A80036;stroke-width:1.0;stroke-dasharray:5.0,5.0;\" x1=\"97\" x2=\"97\" y1=\"40.2969\" y2=\"60.2969\"/><line style=\"stroke:#A80036;stroke-width:1.0;stroke-dasharray:5.0,5.0;\" x1=\"164\" x2=\"164\" y1=\"40.2969\" y2=\"60.2969\"/><rect fill=\"#FEFECE\" filter=\"url(#f6hawauzsrcv)\" height=\"30.2969\" style=\"stroke:#A80036;stroke-width:1.5;\" width=\"46\" x=\"5\" y=\"5\"/><text fill=\"#000000\" font-family=\"sans-serif\" font-size=\"14\" lengthAdjust=\"spacing\" textLength=\"32\" x=\"12\" y=\"24.9951\">First</text><rect fill=\"#FEFECE\" filter=\"url(#f6hawauzsrcv)\" height=\"30.2969\" style=\"stroke:#A80036;stroke-width:1.5;\" width=\"46\" x=\"5\" y=\"59.2969\"/><text fill=\"#000000\" font-family=\"sans-serif\" font-size=\"14\" lengthAdjust=\"spacing\" textLength=\"32\" x=\"12\" y=\"79.292\">First</text><rect fill=\"#FEFECE\" filter=\"url(#f6hawauzsrcv)\" height=\"30.2969\" style=\"stroke:#A80036;stroke-width:1.5;\" width=\"61\" x=\"65\" y=\"5\"/><text fill=\"#000000\" font-family=\"sans-serif\" font-size=\"14\" lengthAdjust=\"spacing\" textLength=\"47\" x=\"72\" y=\"24.9951\">Middle</text><rect fill=\"#FEFECE\" filter=\"url(#f6hawauzsrcv)\" height=\"30.2969\" style=\"stroke:#A80036;stroke-width:1.5;\" width=\"61\" x=\"65\" y=\"59.2969\"/><text fill=\"#000000\" font-family=\"sans-serif\" font-size=\"14\" lengthAdjust=\"spacing\" textLength=\"47\" x=\"72\" y=\"79.292\">Middle</text><rect fill=\"#FEFECE\" filter=\"url(#f6hawauzsrcv)\" height=\"30.2969\" style=\"stroke:#A80036;stroke-width:1.5;\" width=\"44\" x=\"140\" y=\"5\"/><text fill=\"#000000\" font-family=\"sans-serif\" font-size=\"14\" lengthAdjust=\"spacing\" textLength=\"30\" x=\"147\" y=\"24.9951\">Last</text><rect fill=\"#FEFECE\" filter=\"url(#f6hawauzsrcv)\" height=\"30.2969\" style=\"stroke:#A80036;stroke-width:1.5;\" width=\"44\" x=\"140\" y=\"59.2969\"/><text fill=\"#000000\" font-family=\"sans-serif\" font-size=\"14\" lengthAdjust=\"spacing\" textLength=\"30\" x=\"147\" y=\"79.292\">Last</text><!--MD5=[1b4c70f297bc02f8605a455a7abf7e19]\n",
       "@startuml\n",
       "participant Last order 30\n",
       "participant Middle order 20\n",
       "participant First order 10\n",
       "@enduml\n",
       "\n",
       "PlantUML version 1.2021.9beta2(Unknown compile time)\n",
       "(GPL source distribution)\n",
       "Java Runtime: Java(TM) SE Runtime Environment\n",
       "JVM: Java HotSpot(TM) 64-Bit Server VM\n",
       "Default Encoding: UTF-8\n",
       "Language: en\n",
       "Country: US\n",
       "--></g></svg>"
      ],
      "text/plain": [
       "<IPython.core.display.SVG object>"
      ]
     },
     "execution_count": 6,
     "metadata": {},
     "output_type": "execute_result"
    }
   ],
   "source": [
    "%%plantuml\n",
    "\n",
    "@startuml\n",
    "participant Last order 30\n",
    "participant Middle order 20\n",
    "participant First order 10\n",
    "@enduml"
   ]
  },
  {
   "cell_type": "code",
   "execution_count": 7,
   "id": "b1c098c9",
   "metadata": {},
   "outputs": [
    {
     "data": {
      "image/svg+xml": [
       "<svg xmlns=\"http://www.w3.org/2000/svg\" xmlns:xlink=\"http://www.w3.org/1999/xlink\" contentScriptType=\"application/ecmascript\" contentStyleType=\"text/css\" height=\"208px\" preserveAspectRatio=\"none\" style=\"width:242px;height:208px;background:#FFFFFF;\" version=\"1.1\" viewBox=\"0 0 242 208\" width=\"242px\" zoomAndPan=\"magnify\"><defs><filter height=\"300%\" id=\"f1dwv59ubfnhqf\" width=\"300%\" x=\"-1\" y=\"-1\"><feGaussianBlur result=\"blurOut\" stdDeviation=\"2.0\"/><feColorMatrix in=\"blurOut\" result=\"blurOut2\" type=\"matrix\" values=\"0 0 0 0 0 0 0 0 0 0 0 0 0 0 0 0 0 0 .4 0\"/><feOffset dx=\"4.0\" dy=\"4.0\" in=\"blurOut2\" result=\"blurOut3\"/><feBlend in=\"SourceGraphic\" in2=\"blurOut3\" mode=\"normal\"/></filter></defs><g><line style=\"stroke:#A80036;stroke-width:1.0;stroke-dasharray:5.0,5.0;\" x1=\"31\" x2=\"31\" y1=\"56.5938\" y2=\"148.8594\"/><line style=\"stroke:#A80036;stroke-width:1.0;stroke-dasharray:5.0,5.0;\" x1=\"96\" x2=\"96\" y1=\"56.5938\" y2=\"148.8594\"/><line style=\"stroke:#A80036;stroke-width:1.0;stroke-dasharray:5.0,5.0;\" x1=\"183\" x2=\"183\" y1=\"56.5938\" y2=\"148.8594\"/><rect fill=\"#FEFECE\" filter=\"url(#f1dwv59ubfnhqf)\" height=\"30.2969\" style=\"stroke:#A80036;stroke-width:1.5;\" width=\"49\" x=\"5\" y=\"21.2969\"/><text fill=\"#000000\" font-family=\"sans-serif\" font-size=\"14\" lengthAdjust=\"spacing\" textLength=\"35\" x=\"12\" y=\"41.292\">Alice</text><rect fill=\"#FEFECE\" filter=\"url(#f1dwv59ubfnhqf)\" height=\"30.2969\" style=\"stroke:#A80036;stroke-width:1.5;\" width=\"49\" x=\"5\" y=\"147.8594\"/><text fill=\"#000000\" font-family=\"sans-serif\" font-size=\"14\" lengthAdjust=\"spacing\" textLength=\"35\" x=\"12\" y=\"167.8545\">Alice</text><rect fill=\"#FEFECE\" filter=\"url(#f1dwv59ubfnhqf)\" height=\"30.2969\" style=\"stroke:#A80036;stroke-width:1.5;\" width=\"53\" x=\"68\" y=\"21.2969\"/><text fill=\"#000000\" font-family=\"sans-serif\" font-size=\"14\" lengthAdjust=\"spacing\" textLength=\"39\" x=\"75\" y=\"41.292\">Bob()</text><rect fill=\"#FEFECE\" filter=\"url(#f1dwv59ubfnhqf)\" height=\"30.2969\" style=\"stroke:#A80036;stroke-width:1.5;\" width=\"53\" x=\"68\" y=\"147.8594\"/><text fill=\"#000000\" font-family=\"sans-serif\" font-size=\"14\" lengthAdjust=\"spacing\" textLength=\"39\" x=\"75\" y=\"167.8545\">Bob()</text><rect fill=\"#FEFECE\" filter=\"url(#f1dwv59ubfnhqf)\" height=\"46.5938\" style=\"stroke:#A80036;stroke-width:1.5;\" width=\"93\" x=\"135\" y=\"5\"/><text fill=\"#000000\" font-family=\"sans-serif\" font-size=\"14\" lengthAdjust=\"spacing\" textLength=\"79\" x=\"142\" y=\"24.9951\">This is very</text><text fill=\"#000000\" font-family=\"sans-serif\" font-size=\"14\" lengthAdjust=\"spacing\" textLength=\"31\" x=\"166\" y=\"41.292\">long</text><rect fill=\"#FEFECE\" filter=\"url(#f1dwv59ubfnhqf)\" height=\"46.5938\" style=\"stroke:#A80036;stroke-width:1.5;\" width=\"93\" x=\"135\" y=\"147.8594\"/><text fill=\"#000000\" font-family=\"sans-serif\" font-size=\"14\" lengthAdjust=\"spacing\" textLength=\"79\" x=\"142\" y=\"167.8545\">This is very</text><text fill=\"#000000\" font-family=\"sans-serif\" font-size=\"14\" lengthAdjust=\"spacing\" textLength=\"31\" x=\"166\" y=\"184.1514\">long</text><polygon fill=\"#A80036\" points=\"84.5,83.7266,94.5,87.7266,84.5,91.7266,88.5,87.7266\" style=\"stroke:#A80036;stroke-width:1.0;\"/><line style=\"stroke:#A80036;stroke-width:1.0;\" x1=\"31.5\" x2=\"90.5\" y1=\"87.7266\" y2=\"87.7266\"/><text fill=\"#000000\" font-family=\"sans-serif\" font-size=\"13\" lengthAdjust=\"spacing\" textLength=\"31\" x=\"38.5\" y=\"82.6606\">Hello</text><polygon fill=\"#A80036\" points=\"171.5,97.7266,181.5,101.7266,171.5,105.7266,175.5,101.7266\" style=\"stroke:#A80036;stroke-width:1.0;\"/><line style=\"stroke:#A80036;stroke-width:1.0;\" x1=\"96.5\" x2=\"177.5\" y1=\"101.7266\" y2=\"101.7266\"/><polygon fill=\"#A80036\" points=\"107.5,126.8594,97.5,130.8594,107.5,134.8594,103.5,130.8594\" style=\"stroke:#A80036;stroke-width:1.0;\"/><line style=\"stroke:#A80036;stroke-width:1.0;stroke-dasharray:2.0,2.0;\" x1=\"101.5\" x2=\"182.5\" y1=\"130.8594\" y2=\"130.8594\"/><text fill=\"#000000\" font-family=\"sans-serif\" font-size=\"13\" lengthAdjust=\"spacing\" textLength=\"15\" x=\"113.5\" y=\"125.7935\">ok</text><!--MD5=[863cd06492bd2a101b26cd46308ba616]\n",
       "@startuml\n",
       "Alice -> \"Bob()\" : Hello\n",
       "\"Bob()\" -> \"This is very\\nlong\" as Long\n",
       "' You can also declare:\n",
       "' \"Bob()\" -> Long as \"This is very\\nlong\"\n",
       "Long - -> \"Bob()\" : ok\n",
       "@enduml\n",
       "\n",
       "@startuml\n",
       "Alice -> \"Bob()\" : Hello\n",
       "\"Bob()\" -> \"This is very\\nlong\" as Long\n",
       "Long - -> \"Bob()\" : ok\n",
       "@enduml\n",
       "\n",
       "PlantUML version 1.2021.9beta2(Unknown compile time)\n",
       "(GPL source distribution)\n",
       "Java Runtime: Java(TM) SE Runtime Environment\n",
       "JVM: Java HotSpot(TM) 64-Bit Server VM\n",
       "Default Encoding: UTF-8\n",
       "Language: en\n",
       "Country: US\n",
       "--></g></svg>"
      ],
      "text/plain": [
       "<IPython.core.display.SVG object>"
      ]
     },
     "execution_count": 7,
     "metadata": {},
     "output_type": "execute_result"
    }
   ],
   "source": [
    "%%plantuml\n",
    "\n",
    "@startuml\n",
    "Alice -> \"Bob()\" : Hello\n",
    "\"Bob()\" -> \"This is very\\nlong\" as Long\n",
    "' You can also declare:\n",
    "' \"Bob()\" -> Long as \"This is very\\nlong\"\n",
    "Long --> \"Bob()\" : ok\n",
    "@enduml"
   ]
  },
  {
   "cell_type": "code",
   "execution_count": 8,
   "id": "879b6610",
   "metadata": {},
   "outputs": [
    {
     "data": {
      "image/svg+xml": [
       "<svg xmlns=\"http://www.w3.org/2000/svg\" xmlns:xlink=\"http://www.w3.org/1999/xlink\" contentScriptType=\"application/ecmascript\" contentStyleType=\"text/css\" height=\"191px\" preserveAspectRatio=\"none\" style=\"width:186px;height:191px;background:#FFFFFF;\" version=\"1.1\" viewBox=\"0 0 186 191\" width=\"186px\" zoomAndPan=\"magnify\"><defs><filter height=\"300%\" id=\"f1o5rqbebhju7p\" width=\"300%\" x=\"-1\" y=\"-1\"><feGaussianBlur result=\"blurOut\" stdDeviation=\"2.0\"/><feColorMatrix in=\"blurOut\" result=\"blurOut2\" type=\"matrix\" values=\"0 0 0 0 0 0 0 0 0 0 0 0 0 0 0 0 0 0 .4 0\"/><feOffset dx=\"4.0\" dy=\"4.0\" in=\"blurOut2\" result=\"blurOut3\"/><feBlend in=\"SourceGraphic\" in2=\"blurOut3\" mode=\"normal\"/></filter></defs><g><line style=\"stroke:#A80036;stroke-width:1.0;stroke-dasharray:5.0,5.0;\" x1=\"31\" x2=\"31\" y1=\"40.2969\" y2=\"147.8281\"/><rect fill=\"#FEFECE\" filter=\"url(#f1o5rqbebhju7p)\" height=\"30.2969\" style=\"stroke:#A80036;stroke-width:1.5;\" width=\"49\" x=\"5\" y=\"5\"/><text fill=\"#000000\" font-family=\"sans-serif\" font-size=\"14\" lengthAdjust=\"spacing\" textLength=\"35\" x=\"12\" y=\"24.9951\">Alice</text><rect fill=\"#FEFECE\" filter=\"url(#f1o5rqbebhju7p)\" height=\"30.2969\" style=\"stroke:#A80036;stroke-width:1.5;\" width=\"49\" x=\"5\" y=\"146.8281\"/><text fill=\"#000000\" font-family=\"sans-serif\" font-size=\"14\" lengthAdjust=\"spacing\" textLength=\"35\" x=\"12\" y=\"166.8232\">Alice</text><line style=\"stroke:#A80036;stroke-width:1.0;\" x1=\"31.5\" x2=\"73.5\" y1=\"116.8281\" y2=\"116.8281\"/><line style=\"stroke:#A80036;stroke-width:1.0;\" x1=\"73.5\" x2=\"73.5\" y1=\"116.8281\" y2=\"129.8281\"/><line style=\"stroke:#A80036;stroke-width:1.0;\" x1=\"32.5\" x2=\"73.5\" y1=\"129.8281\" y2=\"129.8281\"/><polygon fill=\"#A80036\" points=\"42.5,125.8281,32.5,129.8281,42.5,133.8281,38.5,129.8281\" style=\"stroke:#A80036;stroke-width:1.0;\"/><text fill=\"#000000\" font-family=\"sans-serif\" font-size=\"13\" lengthAdjust=\"spacing\" textLength=\"141\" x=\"38.5\" y=\"66.3638\">This is a signal to self.</text><text fill=\"#000000\" font-family=\"sans-serif\" font-size=\"13\" lengthAdjust=\"spacing\" textLength=\"132\" x=\"38.5\" y=\"81.4966\">It also demonstrates</text><text fill=\"#000000\" font-family=\"sans-serif\" font-size=\"13\" lengthAdjust=\"spacing\" textLength=\"54\" x=\"38.5\" y=\"96.6294\">multiline</text><text fill=\"#000000\" font-family=\"sans-serif\" font-size=\"13\" lengthAdjust=\"spacing\" textLength=\"26\" x=\"38.5\" y=\"111.7622\">text</text><!--MD5=[777ddbd98fa0544da5c7c06b6eb5db8a]\n",
       "@startuml\n",
       "Alice->Alice: This is a signal to self.\\nIt also demonstrates\\nmultiline \\ntext\n",
       "@enduml\n",
       "\n",
       "PlantUML version 1.2021.9beta2(Unknown compile time)\n",
       "(GPL source distribution)\n",
       "Java Runtime: Java(TM) SE Runtime Environment\n",
       "JVM: Java HotSpot(TM) 64-Bit Server VM\n",
       "Default Encoding: UTF-8\n",
       "Language: en\n",
       "Country: US\n",
       "--></g></svg>"
      ],
      "text/plain": [
       "<IPython.core.display.SVG object>"
      ]
     },
     "execution_count": 8,
     "metadata": {},
     "output_type": "execute_result"
    }
   ],
   "source": [
    "%%plantuml\n",
    "\n",
    "@startuml\n",
    "Alice->Alice: This is a signal to self.\\nIt also demonstrates\\nmultiline \\ntext\n",
    "@enduml"
   ]
  },
  {
   "cell_type": "code",
   "execution_count": 9,
   "id": "f3397473",
   "metadata": {},
   "outputs": [
    {
     "data": {
      "image/svg+xml": [
       "<svg xmlns=\"http://www.w3.org/2000/svg\" xmlns:xlink=\"http://www.w3.org/1999/xlink\" contentScriptType=\"application/ecmascript\" contentStyleType=\"text/css\" height=\"161px\" preserveAspectRatio=\"none\" style=\"width:125px;height:161px;background:#FFFFFF;\" version=\"1.1\" viewBox=\"0 0 125 161\" width=\"125px\" zoomAndPan=\"magnify\"><defs><filter height=\"300%\" id=\"facm6q2u64bp3\" width=\"300%\" x=\"-1\" y=\"-1\"><feGaussianBlur result=\"blurOut\" stdDeviation=\"2.0\"/><feColorMatrix in=\"blurOut\" result=\"blurOut2\" type=\"matrix\" values=\"0 0 0 0 0 0 0 0 0 0 0 0 0 0 0 0 0 0 .4 0\"/><feOffset dx=\"4.0\" dy=\"4.0\" in=\"blurOut2\" result=\"blurOut3\"/><feBlend in=\"SourceGraphic\" in2=\"blurOut3\" mode=\"normal\"/></filter></defs><g><line style=\"stroke:#A80036;stroke-width:1.0;stroke-dasharray:5.0,5.0;\" x1=\"28\" x2=\"28\" y1=\"40.2969\" y2=\"118.5625\"/><line style=\"stroke:#A80036;stroke-width:1.0;stroke-dasharray:5.0,5.0;\" x1=\"88\" x2=\"88\" y1=\"40.2969\" y2=\"118.5625\"/><rect fill=\"#FEFECE\" filter=\"url(#facm6q2u64bp3)\" height=\"30.2969\" style=\"stroke:#A80036;stroke-width:1.5;\" width=\"43\" x=\"5\" y=\"5\"/><text fill=\"#000000\" font-family=\"sans-serif\" font-size=\"14\" lengthAdjust=\"spacing\" textLength=\"29\" x=\"12\" y=\"24.9951\">Bob</text><rect fill=\"#FEFECE\" filter=\"url(#facm6q2u64bp3)\" height=\"30.2969\" style=\"stroke:#A80036;stroke-width:1.5;\" width=\"43\" x=\"5\" y=\"117.5625\"/><text fill=\"#000000\" font-family=\"sans-serif\" font-size=\"14\" lengthAdjust=\"spacing\" textLength=\"29\" x=\"12\" y=\"137.5576\">Bob</text><rect fill=\"#FEFECE\" filter=\"url(#facm6q2u64bp3)\" height=\"30.2969\" style=\"stroke:#A80036;stroke-width:1.5;\" width=\"49\" x=\"62\" y=\"5\"/><text fill=\"#000000\" font-family=\"sans-serif\" font-size=\"14\" lengthAdjust=\"spacing\" textLength=\"35\" x=\"69\" y=\"24.9951\">Alice</text><rect fill=\"#FEFECE\" filter=\"url(#facm6q2u64bp3)\" height=\"30.2969\" style=\"stroke:#A80036;stroke-width:1.5;\" width=\"49\" x=\"62\" y=\"117.5625\"/><text fill=\"#000000\" font-family=\"sans-serif\" font-size=\"14\" lengthAdjust=\"spacing\" textLength=\"35\" x=\"69\" y=\"137.5576\">Alice</text><polygon fill=\"#A80036\" points=\"76.5,67.4297,86.5,71.4297,76.5,75.4297,80.5,71.4297\" style=\"stroke:#A80036;stroke-width:1.0;\"/><line style=\"stroke:#A80036;stroke-width:1.0;\" x1=\"28.5\" x2=\"82.5\" y1=\"71.4297\" y2=\"71.4297\"/><text fill=\"#000000\" font-family=\"sans-serif\" font-size=\"13\" lengthAdjust=\"spacing\" textLength=\"30\" x=\"35.5\" y=\"66.3638\">hello</text><polygon fill=\"#A80036\" points=\"39.5,79.4297,29.5,83.4297,39.5,87.4297,35.5,83.4297\" style=\"stroke:#A80036;stroke-width:1.0;\"/><line style=\"stroke:#A80036;stroke-width:1.0;\" x1=\"33.5\" x2=\"87.5\" y1=\"83.4297\" y2=\"83.4297\"/><text fill=\"#000000\" font-family=\"sans-serif\" font-size=\"13\" lengthAdjust=\"spacing\" textLength=\"15\" x=\"45.5\" y=\"96.4966\">ok</text><!--MD5=[7cfd7be4232554c07fd986d9c7aacc54]\n",
       "@startuml\n",
       "skinparam responseMessageBelowArrow true\n",
       "Bob -> Alice : hello\n",
       "Alice -> Bob : ok\n",
       "@enduml\n",
       "\n",
       "PlantUML version 1.2021.9beta2(Unknown compile time)\n",
       "(GPL source distribution)\n",
       "Java Runtime: Java(TM) SE Runtime Environment\n",
       "JVM: Java HotSpot(TM) 64-Bit Server VM\n",
       "Default Encoding: UTF-8\n",
       "Language: en\n",
       "Country: US\n",
       "--></g></svg>"
      ],
      "text/plain": [
       "<IPython.core.display.SVG object>"
      ]
     },
     "execution_count": 9,
     "metadata": {},
     "output_type": "execute_result"
    }
   ],
   "source": [
    "%%plantuml\n",
    "\n",
    "@startuml\n",
    "skinparam responseMessageBelowArrow true\n",
    "Bob -> Alice : hello\n",
    "Alice -> Bob : ok\n",
    "@enduml    "
   ]
  },
  {
   "cell_type": "code",
   "execution_count": 10,
   "id": "c8575058",
   "metadata": {},
   "outputs": [
    {
     "data": {
      "image/svg+xml": [
       "<svg xmlns=\"http://www.w3.org/2000/svg\" xmlns:xlink=\"http://www.w3.org/1999/xlink\" contentScriptType=\"application/ecmascript\" contentStyleType=\"text/css\" height=\"243px\" preserveAspectRatio=\"none\" style=\"width:125px;height:243px;background:#FFFFFF;\" version=\"1.1\" viewBox=\"0 0 125 243\" width=\"125px\" zoomAndPan=\"magnify\"><defs><filter height=\"300%\" id=\"fwro5qc8ntg1j\" width=\"300%\" x=\"-1\" y=\"-1\"><feGaussianBlur result=\"blurOut\" stdDeviation=\"2.0\"/><feColorMatrix in=\"blurOut\" result=\"blurOut2\" type=\"matrix\" values=\"0 0 0 0 0 0 0 0 0 0 0 0 0 0 0 0 0 0 .4 0\"/><feOffset dx=\"4.0\" dy=\"4.0\" in=\"blurOut2\" result=\"blurOut3\"/><feBlend in=\"SourceGraphic\" in2=\"blurOut3\" mode=\"normal\"/></filter></defs><g><line style=\"stroke:#A80036;stroke-width:1.0;stroke-dasharray:5.0,5.0;\" x1=\"28\" x2=\"28\" y1=\"40.2969\" y2=\"200.2969\"/><line style=\"stroke:#A80036;stroke-width:1.0;stroke-dasharray:5.0,5.0;\" x1=\"88\" x2=\"88\" y1=\"40.2969\" y2=\"200.2969\"/><rect fill=\"#FEFECE\" filter=\"url(#fwro5qc8ntg1j)\" height=\"30.2969\" style=\"stroke:#A80036;stroke-width:1.5;\" width=\"43\" x=\"5\" y=\"5\"/><text fill=\"#000000\" font-family=\"sans-serif\" font-size=\"14\" lengthAdjust=\"spacing\" textLength=\"29\" x=\"12\" y=\"24.9951\">Bob</text><rect fill=\"#FEFECE\" filter=\"url(#fwro5qc8ntg1j)\" height=\"30.2969\" style=\"stroke:#A80036;stroke-width:1.5;\" width=\"43\" x=\"5\" y=\"199.2969\"/><text fill=\"#000000\" font-family=\"sans-serif\" font-size=\"14\" lengthAdjust=\"spacing\" textLength=\"29\" x=\"12\" y=\"219.292\">Bob</text><rect fill=\"#FEFECE\" filter=\"url(#fwro5qc8ntg1j)\" height=\"30.2969\" style=\"stroke:#A80036;stroke-width:1.5;\" width=\"49\" x=\"62\" y=\"5\"/><text fill=\"#000000\" font-family=\"sans-serif\" font-size=\"14\" lengthAdjust=\"spacing\" textLength=\"35\" x=\"69\" y=\"24.9951\">Alice</text><rect fill=\"#FEFECE\" filter=\"url(#fwro5qc8ntg1j)\" height=\"30.2969\" style=\"stroke:#A80036;stroke-width:1.5;\" width=\"49\" x=\"62\" y=\"199.2969\"/><text fill=\"#000000\" font-family=\"sans-serif\" font-size=\"14\" lengthAdjust=\"spacing\" textLength=\"35\" x=\"69\" y=\"219.292\">Alice</text><line style=\"stroke:#A80036;stroke-width:2.0;\" x1=\"70.5\" x2=\"80.5\" y1=\"51.2969\" y2=\"61.2969\"/><line style=\"stroke:#A80036;stroke-width:2.0;\" x1=\"70.5\" x2=\"80.5\" y1=\"61.2969\" y2=\"51.2969\"/><line style=\"stroke:#A80036;stroke-width:1.0;\" x1=\"28.5\" x2=\"75.5\" y1=\"56.2969\" y2=\"56.2969\"/><polygon fill=\"#A80036\" points=\"76.5,66.2969,86.5,70.2969,76.5,74.2969,80.5,70.2969\" style=\"stroke:#A80036;stroke-width:1.0;\"/><line style=\"stroke:#A80036;stroke-width:1.0;\" x1=\"28.5\" x2=\"82.5\" y1=\"70.2969\" y2=\"70.2969\"/><line style=\"stroke:#A80036;stroke-width:1.0;\" x1=\"86.5\" x2=\"76.5\" y1=\"84.2969\" y2=\"80.2969\"/><line style=\"stroke:#A80036;stroke-width:1.0;\" x1=\"86.5\" x2=\"76.5\" y1=\"84.2969\" y2=\"88.2969\"/><line style=\"stroke:#A80036;stroke-width:1.0;\" x1=\"28.5\" x2=\"87.5\" y1=\"84.2969\" y2=\"84.2969\"/><polygon fill=\"#A80036\" points=\"76.5,94.2969,86.5,98.2969,76.5,98.2969\" style=\"stroke:#A80036;stroke-width:1.0;\"/><line style=\"stroke:#A80036;stroke-width:1.0;\" x1=\"28.5\" x2=\"87.5\" y1=\"98.2969\" y2=\"98.2969\"/><line style=\"stroke:#A80036;stroke-width:1.0;\" x1=\"28.5\" x2=\"38.5\" y1=\"112.2969\" y2=\"116.2969\"/><line style=\"stroke:#A80036;stroke-width:1.0;\" x1=\"28.5\" x2=\"87.5\" y1=\"112.2969\" y2=\"112.2969\"/><line style=\"stroke:#A80036;stroke-width:1.0;\" x1=\"28.5\" x2=\"38.5\" y1=\"126.2969\" y2=\"122.2969\"/><line style=\"stroke:#A80036;stroke-width:1.0;stroke-dasharray:2.0,2.0;\" x1=\"28.5\" x2=\"87.5\" y1=\"126.2969\" y2=\"126.2969\"/><ellipse cx=\"88\" cy=\"139.5469\" rx=\"4\" ry=\"4\" style=\"stroke:#A80036;stroke-width:1.5;fill:none;\"/><polygon fill=\"#A80036\" points=\"71,136.2969,81,140.2969,71,144.2969,75,140.2969\" style=\"stroke:#A80036;stroke-width:1.0;\"/><line style=\"stroke:#A80036;stroke-width:1.0;\" x1=\"28.5\" x2=\"77\" y1=\"140.2969\" y2=\"140.2969\"/><ellipse cx=\"28\" cy=\"153.5469\" rx=\"4\" ry=\"4\" style=\"stroke:#A80036;stroke-width:1.5;fill:none;\"/><line style=\"stroke:#A80036;stroke-width:1.0;fill:none;\" x1=\"34\" x2=\"44\" y1=\"154.2969\" y2=\"158.2969\"/><line style=\"stroke:#A80036;stroke-width:1.0;fill:none;stroke-dasharray:2.0,2.0;\" x1=\"28.5\" x2=\"87.5\" y1=\"154.2969\" y2=\"154.2969\"/><polygon fill=\"#A80036\" points=\"39.5,164.2969,29.5,168.2969,39.5,172.2969,35.5,168.2969\" style=\"stroke:#A80036;stroke-width:1.0;\"/><polygon fill=\"#A80036\" points=\"76.5,164.2969,86.5,168.2969,76.5,172.2969,80.5,168.2969\" style=\"stroke:#A80036;stroke-width:1.0;\"/><line style=\"stroke:#A80036;stroke-width:1.0;\" x1=\"33.5\" x2=\"82.5\" y1=\"168.2969\" y2=\"168.2969\"/><polygon fill=\"#A80036\" points=\"39.5,178.2969,29.5,182.2969,39.5,186.2969,35.5,182.2969\" style=\"stroke:#A80036;stroke-width:1.0;\"/><ellipse cx=\"88\" cy=\"181.5469\" rx=\"4\" ry=\"4\" style=\"stroke:#A80036;stroke-width:1.5;fill:none;\"/><polygon fill=\"#A80036\" points=\"71,178.2969,81,182.2969,71,186.2969,75,182.2969\" style=\"stroke:#A80036;stroke-width:1.0;\"/><line style=\"stroke:#A80036;stroke-width:1.0;\" x1=\"33.5\" x2=\"77\" y1=\"182.2969\" y2=\"182.2969\"/><!--MD5=[0c34730f1a6f9dacddcf65a5d9783f1d]\n",
       "@startuml\n",
       "Bob ->x Alice\n",
       "Bob -> Alice\n",
       "Bob ->> Alice\n",
       "Bob -\\ Alice\n",
       "Bob \\\\- Alice\n",
       "Bob //- - Alice\n",
       "Bob ->o Alice\n",
       "Bob o\\\\- - Alice\n",
       "Bob <-> Alice\n",
       "Bob <->o Alice\n",
       "@enduml\n",
       "\n",
       "PlantUML version 1.2021.9beta2(Unknown compile time)\n",
       "(GPL source distribution)\n",
       "Java Runtime: Java(TM) SE Runtime Environment\n",
       "JVM: Java HotSpot(TM) 64-Bit Server VM\n",
       "Default Encoding: UTF-8\n",
       "Language: en\n",
       "Country: US\n",
       "--></g></svg>"
      ],
      "text/plain": [
       "<IPython.core.display.SVG object>"
      ]
     },
     "execution_count": 10,
     "metadata": {},
     "output_type": "execute_result"
    }
   ],
   "source": [
    "%%plantuml\n",
    "\n",
    "@startuml\n",
    "Bob ->x Alice\n",
    "Bob -> Alice\n",
    "Bob ->> Alice\n",
    "Bob -\\ Alice\n",
    "Bob \\\\- Alice\n",
    "Bob //-- Alice\n",
    "Bob ->o Alice\n",
    "Bob o\\\\-- Alice\n",
    "Bob <-> Alice\n",
    "Bob <->o Alice\n",
    "@enduml\n"
   ]
  },
  {
   "cell_type": "code",
   "execution_count": 11,
   "id": "a9250912",
   "metadata": {},
   "outputs": [
    {
     "data": {
      "image/svg+xml": [
       "<svg xmlns=\"http://www.w3.org/2000/svg\" xmlns:xlink=\"http://www.w3.org/1999/xlink\" contentScriptType=\"application/ecmascript\" contentStyleType=\"text/css\" height=\"161px\" preserveAspectRatio=\"none\" style=\"width:125px;height:161px;background:#FFFFFF;\" version=\"1.1\" viewBox=\"0 0 125 161\" width=\"125px\" zoomAndPan=\"magnify\"><defs><filter height=\"300%\" id=\"f1n2drr15k98rc\" width=\"300%\" x=\"-1\" y=\"-1\"><feGaussianBlur result=\"blurOut\" stdDeviation=\"2.0\"/><feColorMatrix in=\"blurOut\" result=\"blurOut2\" type=\"matrix\" values=\"0 0 0 0 0 0 0 0 0 0 0 0 0 0 0 0 0 0 .4 0\"/><feOffset dx=\"4.0\" dy=\"4.0\" in=\"blurOut2\" result=\"blurOut3\"/><feBlend in=\"SourceGraphic\" in2=\"blurOut3\" mode=\"normal\"/></filter></defs><g><line style=\"stroke:#A80036;stroke-width:1.0;stroke-dasharray:5.0,5.0;\" x1=\"28\" x2=\"28\" y1=\"40.2969\" y2=\"118.5625\"/><line style=\"stroke:#A80036;stroke-width:1.0;stroke-dasharray:5.0,5.0;\" x1=\"88\" x2=\"88\" y1=\"40.2969\" y2=\"118.5625\"/><rect fill=\"#FEFECE\" filter=\"url(#f1n2drr15k98rc)\" height=\"30.2969\" style=\"stroke:#A80036;stroke-width:1.5;\" width=\"43\" x=\"5\" y=\"5\"/><text fill=\"#000000\" font-family=\"sans-serif\" font-size=\"14\" lengthAdjust=\"spacing\" textLength=\"29\" x=\"12\" y=\"24.9951\">Bob</text><rect fill=\"#FEFECE\" filter=\"url(#f1n2drr15k98rc)\" height=\"30.2969\" style=\"stroke:#A80036;stroke-width:1.5;\" width=\"43\" x=\"5\" y=\"117.5625\"/><text fill=\"#000000\" font-family=\"sans-serif\" font-size=\"14\" lengthAdjust=\"spacing\" textLength=\"29\" x=\"12\" y=\"137.5576\">Bob</text><rect fill=\"#FEFECE\" filter=\"url(#f1n2drr15k98rc)\" height=\"30.2969\" style=\"stroke:#A80036;stroke-width:1.5;\" width=\"49\" x=\"62\" y=\"5\"/><text fill=\"#000000\" font-family=\"sans-serif\" font-size=\"14\" lengthAdjust=\"spacing\" textLength=\"35\" x=\"69\" y=\"24.9951\">Alice</text><rect fill=\"#FEFECE\" filter=\"url(#f1n2drr15k98rc)\" height=\"30.2969\" style=\"stroke:#A80036;stroke-width:1.5;\" width=\"49\" x=\"62\" y=\"117.5625\"/><text fill=\"#000000\" font-family=\"sans-serif\" font-size=\"14\" lengthAdjust=\"spacing\" textLength=\"35\" x=\"69\" y=\"137.5576\">Alice</text><polygon fill=\"#FF0000\" points=\"76.5,67.4297,86.5,71.4297,76.5,75.4297,80.5,71.4297\" style=\"stroke:#FF0000;stroke-width:1.0;\"/><line style=\"stroke:#FF0000;stroke-width:1.0;\" x1=\"28.5\" x2=\"82.5\" y1=\"71.4297\" y2=\"71.4297\"/><text fill=\"#000000\" font-family=\"sans-serif\" font-size=\"13\" lengthAdjust=\"spacing\" textLength=\"30\" x=\"35.5\" y=\"66.3638\">hello</text><polygon fill=\"#0000FF\" points=\"39.5,96.5625,29.5,100.5625,39.5,104.5625,35.5,100.5625\" style=\"stroke:#0000FF;stroke-width:1.0;\"/><line style=\"stroke:#0000FF;stroke-width:1.0;stroke-dasharray:2.0,2.0;\" x1=\"33.5\" x2=\"87.5\" y1=\"100.5625\" y2=\"100.5625\"/><text fill=\"#000000\" font-family=\"sans-serif\" font-size=\"13\" lengthAdjust=\"spacing\" textLength=\"15\" x=\"45.5\" y=\"95.4966\">ok</text><!--MD5=[3ae7acbddef5d8fa4442a68a33e258e8]\n",
       "@startuml\n",
       "Bob -[#red]> Alice : hello\n",
       "Alice -[#0000FF]->Bob : ok\n",
       "@enduml\n",
       "\n",
       "PlantUML version 1.2021.9beta2(Unknown compile time)\n",
       "(GPL source distribution)\n",
       "Java Runtime: Java(TM) SE Runtime Environment\n",
       "JVM: Java HotSpot(TM) 64-Bit Server VM\n",
       "Default Encoding: UTF-8\n",
       "Language: en\n",
       "Country: US\n",
       "--></g></svg>"
      ],
      "text/plain": [
       "<IPython.core.display.SVG object>"
      ]
     },
     "execution_count": 11,
     "metadata": {},
     "output_type": "execute_result"
    }
   ],
   "source": [
    "%%plantuml\n",
    "\n",
    "@startuml\n",
    "Bob -[#red]> Alice : hello\n",
    "Alice -[#0000FF]->Bob : ok\n",
    "@enduml"
   ]
  },
  {
   "cell_type": "code",
   "execution_count": 12,
   "id": "b9b6f021",
   "metadata": {},
   "outputs": [
    {
     "data": {
      "image/svg+xml": [
       "<svg xmlns=\"http://www.w3.org/2000/svg\" xmlns:xlink=\"http://www.w3.org/1999/xlink\" contentScriptType=\"application/ecmascript\" contentStyleType=\"text/css\" height=\"161px\" preserveAspectRatio=\"none\" style=\"width:262px;height:161px;background:#FFFFFF;\" version=\"1.1\" viewBox=\"0 0 262 161\" width=\"262px\" zoomAndPan=\"magnify\"><defs><filter height=\"300%\" id=\"fb8yjvssu1xhn\" width=\"300%\" x=\"-1\" y=\"-1\"><feGaussianBlur result=\"blurOut\" stdDeviation=\"2.0\"/><feColorMatrix in=\"blurOut\" result=\"blurOut2\" type=\"matrix\" values=\"0 0 0 0 0 0 0 0 0 0 0 0 0 0 0 0 0 0 .4 0\"/><feOffset dx=\"4.0\" dy=\"4.0\" in=\"blurOut2\" result=\"blurOut3\"/><feBlend in=\"SourceGraphic\" in2=\"blurOut3\" mode=\"normal\"/></filter></defs><g><line style=\"stroke:#A80036;stroke-width:1.0;stroke-dasharray:5.0,5.0;\" x1=\"28\" x2=\"28\" y1=\"40.2969\" y2=\"118.5625\"/><line style=\"stroke:#A80036;stroke-width:1.0;stroke-dasharray:5.0,5.0;\" x1=\"225\" x2=\"225\" y1=\"40.2969\" y2=\"118.5625\"/><rect fill=\"#FEFECE\" filter=\"url(#fb8yjvssu1xhn)\" height=\"30.2969\" style=\"stroke:#A80036;stroke-width:1.5;\" width=\"43\" x=\"5\" y=\"5\"/><text fill=\"#000000\" font-family=\"sans-serif\" font-size=\"14\" lengthAdjust=\"spacing\" textLength=\"29\" x=\"12\" y=\"24.9951\">Bob</text><rect fill=\"#FEFECE\" filter=\"url(#fb8yjvssu1xhn)\" height=\"30.2969\" style=\"stroke:#A80036;stroke-width:1.5;\" width=\"43\" x=\"5\" y=\"117.5625\"/><text fill=\"#000000\" font-family=\"sans-serif\" font-size=\"14\" lengthAdjust=\"spacing\" textLength=\"29\" x=\"12\" y=\"137.5576\">Bob</text><rect fill=\"#FEFECE\" filter=\"url(#fb8yjvssu1xhn)\" height=\"30.2969\" style=\"stroke:#A80036;stroke-width:1.5;\" width=\"49\" x=\"199\" y=\"5\"/><text fill=\"#000000\" font-family=\"sans-serif\" font-size=\"14\" lengthAdjust=\"spacing\" textLength=\"35\" x=\"206\" y=\"24.9951\">Alice</text><rect fill=\"#FEFECE\" filter=\"url(#fb8yjvssu1xhn)\" height=\"30.2969\" style=\"stroke:#A80036;stroke-width:1.5;\" width=\"49\" x=\"199\" y=\"117.5625\"/><text fill=\"#000000\" font-family=\"sans-serif\" font-size=\"14\" lengthAdjust=\"spacing\" textLength=\"35\" x=\"206\" y=\"137.5576\">Alice</text><polygon fill=\"#A80036\" points=\"213.5,67.4297,223.5,71.4297,213.5,75.4297,217.5,71.4297\" style=\"stroke:#A80036;stroke-width:1.0;\"/><line style=\"stroke:#A80036;stroke-width:1.0;\" x1=\"28.5\" x2=\"219.5\" y1=\"71.4297\" y2=\"71.4297\"/><text fill=\"#000000\" font-family=\"sans-serif\" font-size=\"13\" font-weight=\"bold\" lengthAdjust=\"spacing\" textLength=\"9\" x=\"35.5\" y=\"66.3638\">1</text><text fill=\"#000000\" font-family=\"sans-serif\" font-size=\"13\" lengthAdjust=\"spacing\" textLength=\"150\" x=\"48.5\" y=\"66.3638\">Authentication Request</text><polygon fill=\"#A80036\" points=\"39.5,96.5625,29.5,100.5625,39.5,104.5625,35.5,100.5625\" style=\"stroke:#A80036;stroke-width:1.0;\"/><line style=\"stroke:#A80036;stroke-width:1.0;\" x1=\"33.5\" x2=\"224.5\" y1=\"100.5625\" y2=\"100.5625\"/><text fill=\"#000000\" font-family=\"sans-serif\" font-size=\"13\" font-weight=\"bold\" lengthAdjust=\"spacing\" textLength=\"9\" x=\"45.5\" y=\"95.4966\">2</text><text fill=\"#000000\" font-family=\"sans-serif\" font-size=\"13\" lengthAdjust=\"spacing\" textLength=\"160\" x=\"58.5\" y=\"95.4966\">Authentication Response</text><!--MD5=[d2b6984dccaaf778a1a90e37e5453892]\n",
       "@startuml\n",
       "autonumber\n",
       "Bob -> Alice : Authentication Request\n",
       "Bob <- Alice : Authentication Response\n",
       "@enduml\n",
       "\n",
       "PlantUML version 1.2021.9beta2(Unknown compile time)\n",
       "(GPL source distribution)\n",
       "Java Runtime: Java(TM) SE Runtime Environment\n",
       "JVM: Java HotSpot(TM) 64-Bit Server VM\n",
       "Default Encoding: UTF-8\n",
       "Language: en\n",
       "Country: US\n",
       "--></g></svg>"
      ],
      "text/plain": [
       "<IPython.core.display.SVG object>"
      ]
     },
     "execution_count": 12,
     "metadata": {},
     "output_type": "execute_result"
    }
   ],
   "source": [
    "%%plantuml\n",
    "\n",
    "@startuml\n",
    "autonumber\n",
    "Bob -> Alice : Authentication Request\n",
    "Bob <- Alice : Authentication Response\n",
    "@enduml"
   ]
  },
  {
   "cell_type": "code",
   "execution_count": 13,
   "id": "ff81f84d",
   "metadata": {},
   "outputs": [
    {
     "data": {
      "image/svg+xml": [
       "<svg xmlns=\"http://www.w3.org/2000/svg\" xmlns:xlink=\"http://www.w3.org/1999/xlink\" contentScriptType=\"application/ecmascript\" contentStyleType=\"text/css\" height=\"278px\" preserveAspectRatio=\"none\" style=\"width:350px;height:278px;background:#FFFFFF;\" version=\"1.1\" viewBox=\"0 0 350 278\" width=\"350px\" zoomAndPan=\"magnify\"><defs><filter height=\"300%\" id=\"f1sizp2y1ol52o\" width=\"300%\" x=\"-1\" y=\"-1\"><feGaussianBlur result=\"blurOut\" stdDeviation=\"2.0\"/><feColorMatrix in=\"blurOut\" result=\"blurOut2\" type=\"matrix\" values=\"0 0 0 0 0 0 0 0 0 0 0 0 0 0 0 0 0 0 .4 0\"/><feOffset dx=\"4.0\" dy=\"4.0\" in=\"blurOut2\" result=\"blurOut3\"/><feBlend in=\"SourceGraphic\" in2=\"blurOut3\" mode=\"normal\"/></filter></defs><g><line style=\"stroke:#A80036;stroke-width:1.0;stroke-dasharray:5.0,5.0;\" x1=\"28\" x2=\"28\" y1=\"40.2969\" y2=\"235.0938\"/><line style=\"stroke:#A80036;stroke-width:1.0;stroke-dasharray:5.0,5.0;\" x1=\"313\" x2=\"313\" y1=\"40.2969\" y2=\"235.0938\"/><rect fill=\"#FEFECE\" filter=\"url(#f1sizp2y1ol52o)\" height=\"30.2969\" style=\"stroke:#A80036;stroke-width:1.5;\" width=\"43\" x=\"5\" y=\"5\"/><text fill=\"#000000\" font-family=\"sans-serif\" font-size=\"14\" lengthAdjust=\"spacing\" textLength=\"29\" x=\"12\" y=\"24.9951\">Bob</text><rect fill=\"#FEFECE\" filter=\"url(#f1sizp2y1ol52o)\" height=\"30.2969\" style=\"stroke:#A80036;stroke-width:1.5;\" width=\"43\" x=\"5\" y=\"234.0938\"/><text fill=\"#000000\" font-family=\"sans-serif\" font-size=\"14\" lengthAdjust=\"spacing\" textLength=\"29\" x=\"12\" y=\"254.0889\">Bob</text><rect fill=\"#FEFECE\" filter=\"url(#f1sizp2y1ol52o)\" height=\"30.2969\" style=\"stroke:#A80036;stroke-width:1.5;\" width=\"49\" x=\"287\" y=\"5\"/><text fill=\"#000000\" font-family=\"sans-serif\" font-size=\"14\" lengthAdjust=\"spacing\" textLength=\"35\" x=\"294\" y=\"24.9951\">Alice</text><rect fill=\"#FEFECE\" filter=\"url(#f1sizp2y1ol52o)\" height=\"30.2969\" style=\"stroke:#A80036;stroke-width:1.5;\" width=\"49\" x=\"287\" y=\"234.0938\"/><text fill=\"#000000\" font-family=\"sans-serif\" font-size=\"14\" lengthAdjust=\"spacing\" textLength=\"35\" x=\"294\" y=\"254.0889\">Alice</text><polygon fill=\"#A80036\" points=\"301.5,67.4297,311.5,71.4297,301.5,75.4297,305.5,71.4297\" style=\"stroke:#A80036;stroke-width:1.0;\"/><line style=\"stroke:#A80036;stroke-width:1.0;\" x1=\"28.5\" x2=\"307.5\" y1=\"71.4297\" y2=\"71.4297\"/><text fill=\"#000000\" font-family=\"sans-serif\" font-size=\"13\" font-weight=\"bold\" lengthAdjust=\"spacing\" textLength=\"9\" x=\"35.5\" y=\"66.3638\">1</text><text fill=\"#000000\" font-family=\"sans-serif\" font-size=\"13\" lengthAdjust=\"spacing\" textLength=\"150\" x=\"48.5\" y=\"66.3638\">Authentication Request</text><polygon fill=\"#A80036\" points=\"39.5,96.5625,29.5,100.5625,39.5,104.5625,35.5,100.5625\" style=\"stroke:#A80036;stroke-width:1.0;\"/><line style=\"stroke:#A80036;stroke-width:1.0;\" x1=\"33.5\" x2=\"312.5\" y1=\"100.5625\" y2=\"100.5625\"/><text fill=\"#000000\" font-family=\"sans-serif\" font-size=\"13\" font-weight=\"bold\" lengthAdjust=\"spacing\" textLength=\"9\" x=\"45.5\" y=\"95.4966\">2</text><text fill=\"#000000\" font-family=\"sans-serif\" font-size=\"13\" lengthAdjust=\"spacing\" textLength=\"160\" x=\"58.5\" y=\"95.4966\">Authentication Response</text><polygon fill=\"#A80036\" points=\"301.5,125.6953,311.5,129.6953,301.5,133.6953,305.5,129.6953\" style=\"stroke:#A80036;stroke-width:1.0;\"/><line style=\"stroke:#A80036;stroke-width:1.0;\" x1=\"28.5\" x2=\"307.5\" y1=\"129.6953\" y2=\"129.6953\"/><text fill=\"#000000\" font-family=\"sans-serif\" font-size=\"13\" font-weight=\"bold\" lengthAdjust=\"spacing\" textLength=\"18\" x=\"35.5\" y=\"124.6294\">15</text><text fill=\"#000000\" font-family=\"sans-serif\" font-size=\"13\" lengthAdjust=\"spacing\" textLength=\"204\" x=\"57.5\" y=\"124.6294\">Another authentication Request</text><polygon fill=\"#A80036\" points=\"39.5,154.8281,29.5,158.8281,39.5,162.8281,35.5,158.8281\" style=\"stroke:#A80036;stroke-width:1.0;\"/><line style=\"stroke:#A80036;stroke-width:1.0;\" x1=\"33.5\" x2=\"312.5\" y1=\"158.8281\" y2=\"158.8281\"/><text fill=\"#000000\" font-family=\"sans-serif\" font-size=\"13\" font-weight=\"bold\" lengthAdjust=\"spacing\" textLength=\"18\" x=\"45.5\" y=\"153.7622\">16</text><text fill=\"#000000\" font-family=\"sans-serif\" font-size=\"13\" lengthAdjust=\"spacing\" textLength=\"214\" x=\"67.5\" y=\"153.7622\">Another authentication Response</text><polygon fill=\"#A80036\" points=\"301.5,183.9609,311.5,187.9609,301.5,191.9609,305.5,187.9609\" style=\"stroke:#A80036;stroke-width:1.0;\"/><line style=\"stroke:#A80036;stroke-width:1.0;\" x1=\"28.5\" x2=\"307.5\" y1=\"187.9609\" y2=\"187.9609\"/><text fill=\"#000000\" font-family=\"sans-serif\" font-size=\"13\" font-weight=\"bold\" lengthAdjust=\"spacing\" textLength=\"19\" x=\"35.5\" y=\"182.895\">40</text><text fill=\"#000000\" font-family=\"sans-serif\" font-size=\"13\" lengthAdjust=\"spacing\" textLength=\"228\" x=\"58.5\" y=\"182.895\">Yet another authentication Request</text><polygon fill=\"#A80036\" points=\"39.5,213.0938,29.5,217.0938,39.5,221.0938,35.5,217.0938\" style=\"stroke:#A80036;stroke-width:1.0;\"/><line style=\"stroke:#A80036;stroke-width:1.0;\" x1=\"33.5\" x2=\"312.5\" y1=\"217.0938\" y2=\"217.0938\"/><text fill=\"#000000\" font-family=\"sans-serif\" font-size=\"13\" font-weight=\"bold\" lengthAdjust=\"spacing\" textLength=\"19\" x=\"45.5\" y=\"212.0278\">50</text><text fill=\"#000000\" font-family=\"sans-serif\" font-size=\"13\" lengthAdjust=\"spacing\" textLength=\"238\" x=\"68.5\" y=\"212.0278\">Yet another authentication Response</text><!--MD5=[b7b69393141a81e75e4e8678d408a8e9]\n",
       "@startuml\n",
       "autonumber\n",
       "Bob -> Alice : Authentication Request\n",
       "Bob <- Alice : Authentication Response\n",
       "autonumber 15\n",
       "Bob -> Alice : Another authentication Request\n",
       "Bob <- Alice : Another authentication Response\n",
       "autonumber 40 10\n",
       "Bob -> Alice : Yet another authentication Request\n",
       "Bob <- Alice : Yet another authentication Response\n",
       "@enduml\n",
       "\n",
       "PlantUML version 1.2021.9beta2(Unknown compile time)\n",
       "(GPL source distribution)\n",
       "Java Runtime: Java(TM) SE Runtime Environment\n",
       "JVM: Java HotSpot(TM) 64-Bit Server VM\n",
       "Default Encoding: UTF-8\n",
       "Language: en\n",
       "Country: US\n",
       "--></g></svg>"
      ],
      "text/plain": [
       "<IPython.core.display.SVG object>"
      ]
     },
     "execution_count": 13,
     "metadata": {},
     "output_type": "execute_result"
    }
   ],
   "source": [
    "%%plantuml\n",
    "\n",
    "@startuml\n",
    "autonumber\n",
    "Bob -> Alice : Authentication Request\n",
    "Bob <- Alice : Authentication Response\n",
    "autonumber 15\n",
    "Bob -> Alice : Another authentication Request\n",
    "Bob <- Alice : Another authentication Response\n",
    "autonumber 40 10\n",
    "Bob -> Alice : Yet another authentication Request\n",
    "Bob <- Alice : Yet another authentication Response\n",
    "@enduml\n"
   ]
  },
  {
   "cell_type": "code",
   "execution_count": 14,
   "id": "674c01d3",
   "metadata": {},
   "outputs": [
    {
     "data": {
      "image/svg+xml": [
       "<svg xmlns=\"http://www.w3.org/2000/svg\" xmlns:xlink=\"http://www.w3.org/1999/xlink\" contentScriptType=\"application/ecmascript\" contentStyleType=\"text/css\" height=\"278px\" preserveAspectRatio=\"none\" style=\"width:425px;height:278px;background:#FFFFFF;\" version=\"1.1\" viewBox=\"0 0 425 278\" width=\"425px\" zoomAndPan=\"magnify\"><defs><filter height=\"300%\" id=\"f1sybzfu4qo0qd\" width=\"300%\" x=\"-1\" y=\"-1\"><feGaussianBlur result=\"blurOut\" stdDeviation=\"2.0\"/><feColorMatrix in=\"blurOut\" result=\"blurOut2\" type=\"matrix\" values=\"0 0 0 0 0 0 0 0 0 0 0 0 0 0 0 0 0 0 .4 0\"/><feOffset dx=\"4.0\" dy=\"4.0\" in=\"blurOut2\" result=\"blurOut3\"/><feBlend in=\"SourceGraphic\" in2=\"blurOut3\" mode=\"normal\"/></filter></defs><g><line style=\"stroke:#A80036;stroke-width:1.0;stroke-dasharray:5.0,5.0;\" x1=\"28\" x2=\"28\" y1=\"40.2969\" y2=\"235.0938\"/><line style=\"stroke:#A80036;stroke-width:1.0;stroke-dasharray:5.0,5.0;\" x1=\"388\" x2=\"388\" y1=\"40.2969\" y2=\"235.0938\"/><rect fill=\"#FEFECE\" filter=\"url(#f1sybzfu4qo0qd)\" height=\"30.2969\" style=\"stroke:#A80036;stroke-width:1.5;\" width=\"43\" x=\"5\" y=\"5\"/><text fill=\"#000000\" font-family=\"sans-serif\" font-size=\"14\" lengthAdjust=\"spacing\" textLength=\"29\" x=\"12\" y=\"24.9951\">Bob</text><rect fill=\"#FEFECE\" filter=\"url(#f1sybzfu4qo0qd)\" height=\"30.2969\" style=\"stroke:#A80036;stroke-width:1.5;\" width=\"43\" x=\"5\" y=\"234.0938\"/><text fill=\"#000000\" font-family=\"sans-serif\" font-size=\"14\" lengthAdjust=\"spacing\" textLength=\"29\" x=\"12\" y=\"254.0889\">Bob</text><rect fill=\"#FEFECE\" filter=\"url(#f1sybzfu4qo0qd)\" height=\"30.2969\" style=\"stroke:#A80036;stroke-width:1.5;\" width=\"49\" x=\"362\" y=\"5\"/><text fill=\"#000000\" font-family=\"sans-serif\" font-size=\"14\" lengthAdjust=\"spacing\" textLength=\"35\" x=\"369\" y=\"24.9951\">Alice</text><rect fill=\"#FEFECE\" filter=\"url(#f1sybzfu4qo0qd)\" height=\"30.2969\" style=\"stroke:#A80036;stroke-width:1.5;\" width=\"49\" x=\"362\" y=\"234.0938\"/><text fill=\"#000000\" font-family=\"sans-serif\" font-size=\"14\" lengthAdjust=\"spacing\" textLength=\"35\" x=\"369\" y=\"254.0889\">Alice</text><polygon fill=\"#A80036\" points=\"376.5,67.4297,386.5,71.4297,376.5,75.4297,380.5,71.4297\" style=\"stroke:#A80036;stroke-width:1.0;\"/><line style=\"stroke:#A80036;stroke-width:1.0;\" x1=\"28.5\" x2=\"382.5\" y1=\"71.4297\" y2=\"71.4297\"/><text fill=\"#000000\" font-family=\"sans-serif\" font-size=\"13\" font-weight=\"bold\" lengthAdjust=\"spacing\" textLength=\"41\" x=\"35.5\" y=\"66.3638\">[001]</text><text fill=\"#000000\" font-family=\"sans-serif\" font-size=\"13\" lengthAdjust=\"spacing\" textLength=\"150\" x=\"80.5\" y=\"66.3638\">Authentication Request</text><polygon fill=\"#A80036\" points=\"39.5,96.5625,29.5,100.5625,39.5,104.5625,35.5,100.5625\" style=\"stroke:#A80036;stroke-width:1.0;\"/><line style=\"stroke:#A80036;stroke-width:1.0;\" x1=\"33.5\" x2=\"387.5\" y1=\"100.5625\" y2=\"100.5625\"/><text fill=\"#000000\" font-family=\"sans-serif\" font-size=\"13\" font-weight=\"bold\" lengthAdjust=\"spacing\" textLength=\"41\" x=\"45.5\" y=\"95.4966\">[002]</text><text fill=\"#000000\" font-family=\"sans-serif\" font-size=\"13\" lengthAdjust=\"spacing\" textLength=\"160\" x=\"90.5\" y=\"95.4966\">Authentication Response</text><polygon fill=\"#A80036\" points=\"376.5,125.6953,386.5,129.6953,376.5,133.6953,380.5,129.6953\" style=\"stroke:#A80036;stroke-width:1.0;\"/><line style=\"stroke:#A80036;stroke-width:1.0;\" x1=\"28.5\" x2=\"382.5\" y1=\"129.6953\" y2=\"129.6953\"/><text fill=\"#000000\" font-family=\"sans-serif\" font-size=\"13\" font-weight=\"bold\" lengthAdjust=\"spacing\" textLength=\"6\" x=\"35.5\" y=\"124.6294\">(</text><text fill=\"#000000\" font-family=\"sans-serif\" font-size=\"13\" font-weight=\"bold\" lengthAdjust=\"spacing\" text-decoration=\"underline\" textLength=\"18\" x=\"41.5\" y=\"124.6294\">15</text><text fill=\"#000000\" font-family=\"sans-serif\" font-size=\"13\" font-weight=\"bold\" lengthAdjust=\"spacing\" textLength=\"6\" x=\"59.5\" y=\"124.6294\">)</text><text fill=\"#000000\" font-family=\"sans-serif\" font-size=\"13\" lengthAdjust=\"spacing\" textLength=\"204\" x=\"69.5\" y=\"124.6294\">Another authentication Request</text><polygon fill=\"#A80036\" points=\"39.5,154.8281,29.5,158.8281,39.5,162.8281,35.5,158.8281\" style=\"stroke:#A80036;stroke-width:1.0;\"/><line style=\"stroke:#A80036;stroke-width:1.0;\" x1=\"33.5\" x2=\"387.5\" y1=\"158.8281\" y2=\"158.8281\"/><text fill=\"#000000\" font-family=\"sans-serif\" font-size=\"13\" font-weight=\"bold\" lengthAdjust=\"spacing\" textLength=\"6\" x=\"45.5\" y=\"153.7622\">(</text><text fill=\"#000000\" font-family=\"sans-serif\" font-size=\"13\" font-weight=\"bold\" lengthAdjust=\"spacing\" text-decoration=\"underline\" textLength=\"18\" x=\"51.5\" y=\"153.7622\">16</text><text fill=\"#000000\" font-family=\"sans-serif\" font-size=\"13\" font-weight=\"bold\" lengthAdjust=\"spacing\" textLength=\"6\" x=\"69.5\" y=\"153.7622\">)</text><text fill=\"#000000\" font-family=\"sans-serif\" font-size=\"13\" lengthAdjust=\"spacing\" textLength=\"214\" x=\"79.5\" y=\"153.7622\">Another authentication Response</text><polygon fill=\"#A80036\" points=\"376.5,183.9609,386.5,187.9609,376.5,191.9609,380.5,187.9609\" style=\"stroke:#A80036;stroke-width:1.0;\"/><line style=\"stroke:#A80036;stroke-width:1.0;\" x1=\"28.5\" x2=\"382.5\" y1=\"187.9609\" y2=\"187.9609\"/><text fill=\"#FF0000\" font-family=\"sans-serif\" font-size=\"13\" font-weight=\"bold\" lengthAdjust=\"spacing\" textLength=\"89\" x=\"35.5\" y=\"182.895\">Message 40</text><text fill=\"#000000\" font-family=\"sans-serif\" font-size=\"13\" lengthAdjust=\"spacing\" textLength=\"228\" x=\"133.5\" y=\"182.895\">Yet another authentication Request</text><polygon fill=\"#A80036\" points=\"39.5,213.0938,29.5,217.0938,39.5,221.0938,35.5,217.0938\" style=\"stroke:#A80036;stroke-width:1.0;\"/><line style=\"stroke:#A80036;stroke-width:1.0;\" x1=\"33.5\" x2=\"387.5\" y1=\"217.0938\" y2=\"217.0938\"/><text fill=\"#FF0000\" font-family=\"sans-serif\" font-size=\"13\" font-weight=\"bold\" lengthAdjust=\"spacing\" textLength=\"89\" x=\"45.5\" y=\"212.0278\">Message 50</text><text fill=\"#000000\" font-family=\"sans-serif\" font-size=\"13\" lengthAdjust=\"spacing\" textLength=\"238\" x=\"143.5\" y=\"212.0278\">Yet another authentication Response</text><!--MD5=[51e88bbbdc89038016ce2984fc685c66]\n",
       "@startuml\n",
       "autonumber \"<b>[000]\"\n",
       "Bob -> Alice : Authentication Request\n",
       "Bob <- Alice : Authentication Response\n",
       "autonumber 15 \"<b>(<u>##</u>)\"\n",
       "Bob -> Alice : Another authentication Request\n",
       "Bob <- Alice : Another authentication Response\n",
       "autonumber 40 10 \"<font color=red><b>Message 0 \"\n",
       "Bob -> Alice : Yet another authentication Request\n",
       "Bob <- Alice : Yet another authentication Response\n",
       "@enduml\n",
       "\n",
       "PlantUML version 1.2021.9beta2(Unknown compile time)\n",
       "(GPL source distribution)\n",
       "Java Runtime: Java(TM) SE Runtime Environment\n",
       "JVM: Java HotSpot(TM) 64-Bit Server VM\n",
       "Default Encoding: UTF-8\n",
       "Language: en\n",
       "Country: US\n",
       "--></g></svg>"
      ],
      "text/plain": [
       "<IPython.core.display.SVG object>"
      ]
     },
     "execution_count": 14,
     "metadata": {},
     "output_type": "execute_result"
    }
   ],
   "source": [
    "%%plantuml\n",
    "\n",
    "@startuml\n",
    "autonumber \"<b>[000]\"\n",
    "Bob -> Alice : Authentication Request\n",
    "Bob <- Alice : Authentication Response\n",
    "autonumber 15 \"<b>(<u>##</u>)\"\n",
    "Bob -> Alice : Another authentication Request\n",
    "Bob <- Alice : Another authentication Response\n",
    "autonumber 40 10 \"<font color=red><b>Message 0 \"\n",
    "Bob -> Alice : Yet another authentication Request\n",
    "Bob <- Alice : Yet another authentication Response\n",
    "@enduml"
   ]
  },
  {
   "cell_type": "code",
   "execution_count": 15,
   "id": "1619680f",
   "metadata": {},
   "outputs": [
    {
     "data": {
      "image/svg+xml": [
       "<svg xmlns=\"http://www.w3.org/2000/svg\" xmlns:xlink=\"http://www.w3.org/1999/xlink\" contentScriptType=\"application/ecmascript\" contentStyleType=\"text/css\" height=\"336px\" preserveAspectRatio=\"none\" style=\"width:425px;height:336px;background:#FFFFFF;\" version=\"1.1\" viewBox=\"0 0 425 336\" width=\"425px\" zoomAndPan=\"magnify\"><defs><filter height=\"300%\" id=\"fzv5sam0fe04g\" width=\"300%\" x=\"-1\" y=\"-1\"><feGaussianBlur result=\"blurOut\" stdDeviation=\"2.0\"/><feColorMatrix in=\"blurOut\" result=\"blurOut2\" type=\"matrix\" values=\"0 0 0 0 0 0 0 0 0 0 0 0 0 0 0 0 0 0 .4 0\"/><feOffset dx=\"4.0\" dy=\"4.0\" in=\"blurOut2\" result=\"blurOut3\"/><feBlend in=\"SourceGraphic\" in2=\"blurOut3\" mode=\"normal\"/></filter></defs><g><line style=\"stroke:#A80036;stroke-width:1.0;stroke-dasharray:5.0,5.0;\" x1=\"28\" x2=\"28\" y1=\"40.2969\" y2=\"293.3594\"/><line style=\"stroke:#A80036;stroke-width:1.0;stroke-dasharray:5.0,5.0;\" x1=\"388\" x2=\"388\" y1=\"40.2969\" y2=\"293.3594\"/><rect fill=\"#FEFECE\" filter=\"url(#fzv5sam0fe04g)\" height=\"30.2969\" style=\"stroke:#A80036;stroke-width:1.5;\" width=\"43\" x=\"5\" y=\"5\"/><text fill=\"#000000\" font-family=\"sans-serif\" font-size=\"14\" lengthAdjust=\"spacing\" textLength=\"29\" x=\"12\" y=\"24.9951\">Bob</text><rect fill=\"#FEFECE\" filter=\"url(#fzv5sam0fe04g)\" height=\"30.2969\" style=\"stroke:#A80036;stroke-width:1.5;\" width=\"43\" x=\"5\" y=\"292.3594\"/><text fill=\"#000000\" font-family=\"sans-serif\" font-size=\"14\" lengthAdjust=\"spacing\" textLength=\"29\" x=\"12\" y=\"312.3545\">Bob</text><rect fill=\"#FEFECE\" filter=\"url(#fzv5sam0fe04g)\" height=\"30.2969\" style=\"stroke:#A80036;stroke-width:1.5;\" width=\"49\" x=\"362\" y=\"5\"/><text fill=\"#000000\" font-family=\"sans-serif\" font-size=\"14\" lengthAdjust=\"spacing\" textLength=\"35\" x=\"369\" y=\"24.9951\">Alice</text><rect fill=\"#FEFECE\" filter=\"url(#fzv5sam0fe04g)\" height=\"30.2969\" style=\"stroke:#A80036;stroke-width:1.5;\" width=\"49\" x=\"362\" y=\"292.3594\"/><text fill=\"#000000\" font-family=\"sans-serif\" font-size=\"14\" lengthAdjust=\"spacing\" textLength=\"35\" x=\"369\" y=\"312.3545\">Alice</text><polygon fill=\"#A80036\" points=\"376.5,67.4297,386.5,71.4297,376.5,75.4297,380.5,71.4297\" style=\"stroke:#A80036;stroke-width:1.0;\"/><line style=\"stroke:#A80036;stroke-width:1.0;\" x1=\"28.5\" x2=\"382.5\" y1=\"71.4297\" y2=\"71.4297\"/><text fill=\"#000000\" font-family=\"sans-serif\" font-size=\"13\" font-weight=\"bold\" lengthAdjust=\"spacing\" textLength=\"41\" x=\"35.5\" y=\"66.3638\">[010]</text><text fill=\"#000000\" font-family=\"sans-serif\" font-size=\"13\" lengthAdjust=\"spacing\" textLength=\"150\" x=\"80.5\" y=\"66.3638\">Authentication Request</text><polygon fill=\"#A80036\" points=\"39.5,96.5625,29.5,100.5625,39.5,104.5625,35.5,100.5625\" style=\"stroke:#A80036;stroke-width:1.0;\"/><line style=\"stroke:#A80036;stroke-width:1.0;\" x1=\"33.5\" x2=\"387.5\" y1=\"100.5625\" y2=\"100.5625\"/><text fill=\"#000000\" font-family=\"sans-serif\" font-size=\"13\" font-weight=\"bold\" lengthAdjust=\"spacing\" textLength=\"41\" x=\"45.5\" y=\"95.4966\">[020]</text><text fill=\"#000000\" font-family=\"sans-serif\" font-size=\"13\" lengthAdjust=\"spacing\" textLength=\"160\" x=\"90.5\" y=\"95.4966\">Authentication Response</text><polygon fill=\"#A80036\" points=\"376.5,125.6953,386.5,129.6953,376.5,133.6953,380.5,129.6953\" style=\"stroke:#A80036;stroke-width:1.0;\"/><line style=\"stroke:#A80036;stroke-width:1.0;\" x1=\"28.5\" x2=\"382.5\" y1=\"129.6953\" y2=\"129.6953\"/><text fill=\"#000000\" font-family=\"sans-serif\" font-size=\"13\" lengthAdjust=\"spacing\" textLength=\"50\" x=\"35.5\" y=\"124.6294\">dummy</text><polygon fill=\"#A80036\" points=\"376.5,154.8281,386.5,158.8281,376.5,162.8281,380.5,158.8281\" style=\"stroke:#A80036;stroke-width:1.0;\"/><line style=\"stroke:#A80036;stroke-width:1.0;\" x1=\"28.5\" x2=\"382.5\" y1=\"158.8281\" y2=\"158.8281\"/><text fill=\"#FF0000\" font-family=\"sans-serif\" font-size=\"13\" font-weight=\"bold\" lengthAdjust=\"spacing\" textLength=\"88\" x=\"35.5\" y=\"153.7622\">Message 30</text><text fill=\"#000000\" font-family=\"sans-serif\" font-size=\"13\" lengthAdjust=\"spacing\" textLength=\"228\" x=\"132.5\" y=\"153.7622\">Yet another authentication Request</text><polygon fill=\"#A80036\" points=\"39.5,183.9609,29.5,187.9609,39.5,191.9609,35.5,187.9609\" style=\"stroke:#A80036;stroke-width:1.0;\"/><line style=\"stroke:#A80036;stroke-width:1.0;\" x1=\"33.5\" x2=\"387.5\" y1=\"187.9609\" y2=\"187.9609\"/><text fill=\"#FF0000\" font-family=\"sans-serif\" font-size=\"13\" font-weight=\"bold\" lengthAdjust=\"spacing\" textLength=\"89\" x=\"45.5\" y=\"182.895\">Message 40</text><text fill=\"#000000\" font-family=\"sans-serif\" font-size=\"13\" lengthAdjust=\"spacing\" textLength=\"238\" x=\"143.5\" y=\"182.895\">Yet another authentication Response</text><polygon fill=\"#A80036\" points=\"376.5,213.0938,386.5,217.0938,376.5,221.0938,380.5,217.0938\" style=\"stroke:#A80036;stroke-width:1.0;\"/><line style=\"stroke:#A80036;stroke-width:1.0;\" x1=\"28.5\" x2=\"382.5\" y1=\"217.0938\" y2=\"217.0938\"/><text fill=\"#000000\" font-family=\"sans-serif\" font-size=\"13\" lengthAdjust=\"spacing\" textLength=\"50\" x=\"35.5\" y=\"212.0278\">dummy</text><polygon fill=\"#A80036\" points=\"376.5,242.2266,386.5,246.2266,376.5,250.2266,380.5,246.2266\" style=\"stroke:#A80036;stroke-width:1.0;\"/><line style=\"stroke:#A80036;stroke-width:1.0;\" x1=\"28.5\" x2=\"382.5\" y1=\"246.2266\" y2=\"246.2266\"/><text fill=\"#0000FF\" font-family=\"sans-serif\" font-size=\"13\" font-weight=\"bold\" lengthAdjust=\"spacing\" textLength=\"89\" x=\"35.5\" y=\"241.1606\">Message 50</text><text fill=\"#000000\" font-family=\"sans-serif\" font-size=\"13\" lengthAdjust=\"spacing\" textLength=\"228\" x=\"133.5\" y=\"241.1606\">Yet another authentication Request</text><polygon fill=\"#A80036\" points=\"39.5,271.3594,29.5,275.3594,39.5,279.3594,35.5,275.3594\" style=\"stroke:#A80036;stroke-width:1.0;\"/><line style=\"stroke:#A80036;stroke-width:1.0;\" x1=\"33.5\" x2=\"387.5\" y1=\"275.3594\" y2=\"275.3594\"/><text fill=\"#0000FF\" font-family=\"sans-serif\" font-size=\"13\" font-weight=\"bold\" lengthAdjust=\"spacing\" textLength=\"88\" x=\"45.5\" y=\"270.2935\">Message 51</text><text fill=\"#000000\" font-family=\"sans-serif\" font-size=\"13\" lengthAdjust=\"spacing\" textLength=\"238\" x=\"142.5\" y=\"270.2935\">Yet another authentication Response</text><!--MD5=[e33ef63cbbca1468bebc0b9e8fce0a65]\n",
       "@startuml\n",
       "autonumber 10 10 \"<b>[000]\"\n",
       "Bob -> Alice : Authentication Request\n",
       "Bob <- Alice : Authentication Response\n",
       "autonumber stop\n",
       "\n",
       "Bob -> Alice : dummy\n",
       "autonumber resume \"<font color=red><b>Message 0 \"\n",
       "Bob -> Alice : Yet another authentication Request\n",
       "Bob <- Alice : Yet another authentication Response\n",
       "autonumber stop\n",
       "Bob -> Alice : dummy\n",
       "autonumber resume 1 \"<font color=blue><b>Message 0 \"\n",
       "Bob -> Alice : Yet another authentication Request\n",
       "Bob <- Alice : Yet another authentication Response\n",
       "@enduml\n",
       "\n",
       "PlantUML version 1.2021.9beta2(Unknown compile time)\n",
       "(GPL source distribution)\n",
       "Java Runtime: Java(TM) SE Runtime Environment\n",
       "JVM: Java HotSpot(TM) 64-Bit Server VM\n",
       "Default Encoding: UTF-8\n",
       "Language: en\n",
       "Country: US\n",
       "--></g></svg>"
      ],
      "text/plain": [
       "<IPython.core.display.SVG object>"
      ]
     },
     "execution_count": 15,
     "metadata": {},
     "output_type": "execute_result"
    }
   ],
   "source": [
    "%%plantuml\n",
    "\n",
    "@startuml\n",
    "autonumber 10 10 \"<b>[000]\"\n",
    "Bob -> Alice : Authentication Request\n",
    "Bob <- Alice : Authentication Response\n",
    "autonumber stop\n",
    "\n",
    "Bob -> Alice : dummy\n",
    "autonumber resume \"<font color=red><b>Message 0 \"\n",
    "Bob -> Alice : Yet another authentication Request\n",
    "Bob <- Alice : Yet another authentication Response\n",
    "autonumber stop\n",
    "Bob -> Alice : dummy\n",
    "autonumber resume 1 \"<font color=blue><b>Message 0 \"\n",
    "Bob -> Alice : Yet another authentication Request\n",
    "Bob <- Alice : Yet another authentication Response\n",
    "@enduml\n"
   ]
  },
  {
   "cell_type": "code",
   "execution_count": 16,
   "id": "85c4da01",
   "metadata": {},
   "outputs": [
    {
     "data": {
      "image/svg+xml": [
       "<svg xmlns=\"http://www.w3.org/2000/svg\" xmlns:xlink=\"http://www.w3.org/1999/xlink\" contentScriptType=\"application/ecmascript\" contentStyleType=\"text/css\" height=\"224px\" preserveAspectRatio=\"none\" style=\"width:162px;height:224px;background:#FFFFFF;\" version=\"1.1\" viewBox=\"0 0 162 224\" width=\"162px\" zoomAndPan=\"magnify\"><defs><filter height=\"300%\" id=\"fl0pd2mfeh10c\" width=\"300%\" x=\"-1\" y=\"-1\"><feGaussianBlur result=\"blurOut\" stdDeviation=\"2.0\"/><feColorMatrix in=\"blurOut\" result=\"blurOut2\" type=\"matrix\" values=\"0 0 0 0 0 0 0 0 0 0 0 0 0 0 0 0 0 0 .4 0\"/><feOffset dx=\"4.0\" dy=\"4.0\" in=\"blurOut2\" result=\"blurOut3\"/><feBlend in=\"SourceGraphic\" in2=\"blurOut3\" mode=\"normal\"/></filter></defs><g><text fill=\"#000000\" font-family=\"sans-serif\" font-size=\"18\" lengthAdjust=\"spacing\" textLength=\"126\" x=\"14.5\" y=\"43.3486\">Example Title</text><line style=\"stroke:#A80036;stroke-width:1.0;stroke-dasharray:5.0,5.0;\" x1=\"31\" x2=\"31\" y1=\"89.8906\" y2=\"168.1563\"/><line style=\"stroke:#A80036;stroke-width:1.0;stroke-dasharray:5.0,5.0;\" x1=\"126\" x2=\"126\" y1=\"89.8906\" y2=\"168.1563\"/><rect fill=\"#FEFECE\" filter=\"url(#fl0pd2mfeh10c)\" height=\"30.2969\" style=\"stroke:#A80036;stroke-width:1.5;\" width=\"49\" x=\"5\" y=\"54.5938\"/><text fill=\"#000000\" font-family=\"sans-serif\" font-size=\"14\" lengthAdjust=\"spacing\" textLength=\"35\" x=\"12\" y=\"74.5889\">Alice</text><rect fill=\"#FEFECE\" filter=\"url(#fl0pd2mfeh10c)\" height=\"30.2969\" style=\"stroke:#A80036;stroke-width:1.5;\" width=\"49\" x=\"5\" y=\"167.1563\"/><text fill=\"#000000\" font-family=\"sans-serif\" font-size=\"14\" lengthAdjust=\"spacing\" textLength=\"35\" x=\"12\" y=\"187.1514\">Alice</text><rect fill=\"#FEFECE\" filter=\"url(#fl0pd2mfeh10c)\" height=\"30.2969\" style=\"stroke:#A80036;stroke-width:1.5;\" width=\"43\" x=\"103\" y=\"54.5938\"/><text fill=\"#000000\" font-family=\"sans-serif\" font-size=\"14\" lengthAdjust=\"spacing\" textLength=\"29\" x=\"110\" y=\"74.5889\">Bob</text><rect fill=\"#FEFECE\" filter=\"url(#fl0pd2mfeh10c)\" height=\"30.2969\" style=\"stroke:#A80036;stroke-width:1.5;\" width=\"43\" x=\"103\" y=\"167.1563\"/><text fill=\"#000000\" font-family=\"sans-serif\" font-size=\"14\" lengthAdjust=\"spacing\" textLength=\"29\" x=\"110\" y=\"187.1514\">Bob</text><polygon fill=\"#A80036\" points=\"114.5,117.0234,124.5,121.0234,114.5,125.0234,118.5,121.0234\" style=\"stroke:#A80036;stroke-width:1.0;\"/><line style=\"stroke:#A80036;stroke-width:1.0;\" x1=\"31.5\" x2=\"120.5\" y1=\"121.0234\" y2=\"121.0234\"/><text fill=\"#000000\" font-family=\"sans-serif\" font-size=\"13\" lengthAdjust=\"spacing\" textLength=\"71\" x=\"38.5\" y=\"115.9575\">message 1</text><polygon fill=\"#A80036\" points=\"114.5,146.1563,124.5,150.1563,114.5,154.1563,118.5,150.1563\" style=\"stroke:#A80036;stroke-width:1.0;\"/><line style=\"stroke:#A80036;stroke-width:1.0;\" x1=\"31.5\" x2=\"120.5\" y1=\"150.1563\" y2=\"150.1563\"/><text fill=\"#000000\" font-family=\"sans-serif\" font-size=\"13\" lengthAdjust=\"spacing\" textLength=\"71\" x=\"38.5\" y=\"145.0903\">message 2</text><text fill=\"#888888\" font-family=\"sans-serif\" font-size=\"10\" lengthAdjust=\"spacing\" textLength=\"70\" x=\"85\" y=\"14.2822\">Page Header</text><text fill=\"#888888\" font-family=\"sans-serif\" font-size=\"10\" lengthAdjust=\"spacing\" textLength=\"61\" x=\"47\" y=\"215.7354\">Page 1 of 1</text><!--MD5=[bc6055ff13f715b72d2a6f26dd544f94]\n",
       "@startuml\n",
       "header Page Header\n",
       "footer Page %page% of %lastpage%\n",
       "title Example Title\n",
       "Alice -> Bob : message 1\n",
       "Alice -> Bob : message 2\n",
       "@enduml\n",
       "\n",
       "PlantUML version 1.2021.9beta2(Unknown compile time)\n",
       "(GPL source distribution)\n",
       "Java Runtime: Java(TM) SE Runtime Environment\n",
       "JVM: Java HotSpot(TM) 64-Bit Server VM\n",
       "Default Encoding: UTF-8\n",
       "Language: en\n",
       "Country: US\n",
       "--></g></svg>"
      ],
      "text/plain": [
       "<IPython.core.display.SVG object>"
      ]
     },
     "execution_count": 16,
     "metadata": {},
     "output_type": "execute_result"
    }
   ],
   "source": [
    "%%plantuml\n",
    "\n",
    "@startuml\n",
    "header Page Header\n",
    "footer Page %page% of %lastpage%\n",
    "title Example Title\n",
    "Alice -> Bob : message 1\n",
    "Alice -> Bob : message 2\n",
    "@enduml"
   ]
  },
  {
   "cell_type": "code",
   "execution_count": 17,
   "id": "f13a1cf2",
   "metadata": {},
   "outputs": [
    {
     "data": {
      "image/svg+xml": [
       "<svg xmlns=\"http://www.w3.org/2000/svg\" xmlns:xlink=\"http://www.w3.org/1999/xlink\" contentScriptType=\"application/ecmascript\" contentStyleType=\"text/css\" height=\"162px\" preserveAspectRatio=\"none\" style=\"width:162px;height:162px;background:#FFFFFF;\" version=\"1.1\" viewBox=\"0 0 162 162\" width=\"162px\" zoomAndPan=\"magnify\"><defs><filter height=\"300%\" id=\"fs6k7vkga5yud\" width=\"300%\" x=\"-1\" y=\"-1\"><feGaussianBlur result=\"blurOut\" stdDeviation=\"2.0\"/><feColorMatrix in=\"blurOut\" result=\"blurOut2\" type=\"matrix\" values=\"0 0 0 0 0 0 0 0 0 0 0 0 0 0 0 0 0 0 .4 0\"/><feOffset dx=\"4.0\" dy=\"4.0\" in=\"blurOut2\" result=\"blurOut3\"/><feBlend in=\"SourceGraphic\" in2=\"blurOut3\" mode=\"normal\"/></filter></defs><g><line style=\"stroke:#A80036;stroke-width:1.0;stroke-dasharray:5.0,5.0;\" x1=\"31\" x2=\"31\" y1=\"40.2969\" y2=\"119.5625\"/><line style=\"stroke:#A80036;stroke-width:1.0;stroke-dasharray:5.0,5.0;\" x1=\"126\" x2=\"126\" y1=\"40.2969\" y2=\"119.5625\"/><rect fill=\"#FEFECE\" filter=\"url(#fs6k7vkga5yud)\" height=\"30.2969\" style=\"stroke:#A80036;stroke-width:1.5;\" width=\"49\" x=\"5\" y=\"5\"/><text fill=\"#000000\" font-family=\"sans-serif\" font-size=\"14\" lengthAdjust=\"spacing\" textLength=\"35\" x=\"12\" y=\"24.9951\">Alice</text><rect fill=\"#FEFECE\" filter=\"url(#fs6k7vkga5yud)\" height=\"30.2969\" style=\"stroke:#A80036;stroke-width:1.5;\" width=\"49\" x=\"5\" y=\"118.5625\"/><text fill=\"#000000\" font-family=\"sans-serif\" font-size=\"14\" lengthAdjust=\"spacing\" textLength=\"35\" x=\"12\" y=\"138.5576\">Alice</text><rect fill=\"#FEFECE\" filter=\"url(#fs6k7vkga5yud)\" height=\"30.2969\" style=\"stroke:#A80036;stroke-width:1.5;\" width=\"43\" x=\"103\" y=\"5\"/><text fill=\"#000000\" font-family=\"sans-serif\" font-size=\"14\" lengthAdjust=\"spacing\" textLength=\"29\" x=\"110\" y=\"24.9951\">Bob</text><rect fill=\"#FEFECE\" filter=\"url(#fs6k7vkga5yud)\" height=\"30.2969\" style=\"stroke:#A80036;stroke-width:1.5;\" width=\"43\" x=\"103\" y=\"118.5625\"/><text fill=\"#000000\" font-family=\"sans-serif\" font-size=\"14\" lengthAdjust=\"spacing\" textLength=\"29\" x=\"110\" y=\"138.5576\">Bob</text><polygon fill=\"#A80036\" points=\"114.5,67.4297,124.5,71.4297,114.5,75.4297,118.5,71.4297\" style=\"stroke:#A80036;stroke-width:1.0;\"/><line style=\"stroke:#A80036;stroke-width:1.0;\" x1=\"31.5\" x2=\"120.5\" y1=\"71.4297\" y2=\"71.4297\"/><text fill=\"#000000\" font-family=\"sans-serif\" font-size=\"13\" lengthAdjust=\"spacing\" textLength=\"71\" x=\"38.5\" y=\"66.3638\">message 1</text><polygon fill=\"#A80036\" points=\"114.5,96.5625,124.5,100.5625,114.5,104.5625,118.5,100.5625\" style=\"stroke:#A80036;stroke-width:1.0;\"/><line style=\"stroke:#A80036;stroke-width:1.0;\" x1=\"31.5\" x2=\"120.5\" y1=\"100.5625\" y2=\"100.5625\"/><text fill=\"#000000\" font-family=\"sans-serif\" font-size=\"13\" lengthAdjust=\"spacing\" textLength=\"71\" x=\"38.5\" y=\"95.4966\">message 2</text><line style=\"stroke:#000000;stroke-width:1.0;stroke-dasharray:2.0,2.0;\" x1=\"0\" x2=\"155\" y1=\"108.5625\" y2=\"108.5625\"/><!--MD5=[f89cd8272d8d308f43bd51ca038406a2]\n",
       "@startuml\n",
       "Alice -> Bob : message 1\n",
       "Alice -> Bob : message 2\n",
       "newpage\n",
       "Alice -> Bob : message 3\n",
       "Alice -> Bob : message 4\n",
       "newpage A title for the\\nlast page\n",
       "Alice -> Bob : message 5\n",
       "Alice -> Bob : message 6\n",
       "@enduml\n",
       "\n",
       "PlantUML version 1.2021.9beta2(Unknown compile time)\n",
       "(GPL source distribution)\n",
       "Java Runtime: Java(TM) SE Runtime Environment\n",
       "JVM: Java HotSpot(TM) 64-Bit Server VM\n",
       "Default Encoding: UTF-8\n",
       "Language: en\n",
       "Country: US\n",
       "--></g></svg>"
      ],
      "text/plain": [
       "<IPython.core.display.SVG object>"
      ]
     },
     "execution_count": 17,
     "metadata": {},
     "output_type": "execute_result"
    }
   ],
   "source": [
    "%%plantuml\n",
    "\n",
    "@startuml\n",
    "Alice -> Bob : message 1\n",
    "Alice -> Bob : message 2\n",
    "newpage\n",
    "Alice -> Bob : message 3\n",
    "Alice -> Bob : message 4\n",
    "newpage A title for the\\nlast page\n",
    "Alice -> Bob : message 5\n",
    "Alice -> Bob : message 6\n",
    "@enduml\n"
   ]
  },
  {
   "cell_type": "code",
   "execution_count": 18,
   "id": "dfb10da3",
   "metadata": {},
   "outputs": [
    {
     "data": {
      "image/svg+xml": [
       "<svg xmlns=\"http://www.w3.org/2000/svg\" xmlns:xlink=\"http://www.w3.org/1999/xlink\" contentScriptType=\"application/ecmascript\" contentStyleType=\"text/css\" height=\"430px\" preserveAspectRatio=\"none\" style=\"width:359px;height:430px;background:#FFFFFF;\" version=\"1.1\" viewBox=\"0 0 359 430\" width=\"359px\" zoomAndPan=\"magnify\"><defs><filter height=\"300%\" id=\"f1u21y8pvov3mj\" width=\"300%\" x=\"-1\" y=\"-1\"><feGaussianBlur result=\"blurOut\" stdDeviation=\"2.0\"/><feColorMatrix in=\"blurOut\" result=\"blurOut2\" type=\"matrix\" values=\"0 0 0 0 0 0 0 0 0 0 0 0 0 0 0 0 0 0 .4 0\"/><feOffset dx=\"4.0\" dy=\"4.0\" in=\"blurOut2\" result=\"blurOut3\"/><feBlend in=\"SourceGraphic\" in2=\"blurOut3\" mode=\"normal\"/></filter></defs><g><rect fill=\"#FFFFFF\" filter=\"url(#f1u21y8pvov3mj)\" height=\"283.8047\" style=\"stroke:#000000;stroke-width:2.0;\" width=\"335\" x=\"10\" y=\"86.4297\"/><rect fill=\"#FFFFFF\" height=\"193.6016\" style=\"stroke:none;stroke-width:1.0;\" width=\"335\" x=\"10\" y=\"132.6953\"/><rect fill=\"#FFFFFF\" filter=\"url(#f1u21y8pvov3mj)\" height=\"135.6641\" style=\"stroke:#000000;stroke-width:2.0;\" width=\"315\" x=\"20\" y=\"183.6328\"/><rect fill=\"#FFFFFF\" filter=\"url(#f1u21y8pvov3mj)\" height=\"46.2656\" style=\"stroke:#000000;stroke-width:2.0;\" width=\"251\" x=\"30\" y=\"236.8984\"/><rect fill=\"#FFFFFF\" height=\"43.9375\" style=\"stroke:none;stroke-width:1.0;\" width=\"335\" x=\"10\" y=\"326.2969\"/><line style=\"stroke:#A80036;stroke-width:1.0;stroke-dasharray:5.0,5.0;\" x1=\"66\" x2=\"66\" y1=\"40.2969\" y2=\"387.2344\"/><line style=\"stroke:#A80036;stroke-width:1.0;stroke-dasharray:5.0,5.0;\" x1=\"247\" x2=\"247\" y1=\"40.2969\" y2=\"387.2344\"/><line style=\"stroke:#A80036;stroke-width:1.0;stroke-dasharray:5.0,5.0;\" x1=\"303\" x2=\"303\" y1=\"40.2969\" y2=\"387.2344\"/><rect fill=\"#FEFECE\" filter=\"url(#f1u21y8pvov3mj)\" height=\"30.2969\" style=\"stroke:#A80036;stroke-width:1.5;\" width=\"49\" x=\"40\" y=\"5\"/><text fill=\"#000000\" font-family=\"sans-serif\" font-size=\"14\" lengthAdjust=\"spacing\" textLength=\"35\" x=\"47\" y=\"24.9951\">Alice</text><rect fill=\"#FEFECE\" filter=\"url(#f1u21y8pvov3mj)\" height=\"30.2969\" style=\"stroke:#A80036;stroke-width:1.5;\" width=\"49\" x=\"40\" y=\"386.2344\"/><text fill=\"#000000\" font-family=\"sans-serif\" font-size=\"14\" lengthAdjust=\"spacing\" textLength=\"35\" x=\"47\" y=\"406.2295\">Alice</text><rect fill=\"#FEFECE\" filter=\"url(#f1u21y8pvov3mj)\" height=\"30.2969\" style=\"stroke:#A80036;stroke-width:1.5;\" width=\"43\" x=\"224\" y=\"5\"/><text fill=\"#000000\" font-family=\"sans-serif\" font-size=\"14\" lengthAdjust=\"spacing\" textLength=\"29\" x=\"231\" y=\"24.9951\">Bob</text><rect fill=\"#FEFECE\" filter=\"url(#f1u21y8pvov3mj)\" height=\"30.2969\" style=\"stroke:#A80036;stroke-width:1.5;\" width=\"43\" x=\"224\" y=\"386.2344\"/><text fill=\"#000000\" font-family=\"sans-serif\" font-size=\"14\" lengthAdjust=\"spacing\" textLength=\"29\" x=\"231\" y=\"406.2295\">Bob</text><rect fill=\"#FEFECE\" filter=\"url(#f1u21y8pvov3mj)\" height=\"30.2969\" style=\"stroke:#A80036;stroke-width:1.5;\" width=\"40\" x=\"281\" y=\"5\"/><text fill=\"#000000\" font-family=\"sans-serif\" font-size=\"14\" lengthAdjust=\"spacing\" textLength=\"26\" x=\"288\" y=\"24.9951\">Log</text><rect fill=\"#FEFECE\" filter=\"url(#f1u21y8pvov3mj)\" height=\"30.2969\" style=\"stroke:#A80036;stroke-width:1.5;\" width=\"40\" x=\"281\" y=\"386.2344\"/><text fill=\"#000000\" font-family=\"sans-serif\" font-size=\"14\" lengthAdjust=\"spacing\" textLength=\"26\" x=\"288\" y=\"406.2295\">Log</text><polygon fill=\"#A80036\" points=\"235.5,67.4297,245.5,71.4297,235.5,75.4297,239.5,71.4297\" style=\"stroke:#A80036;stroke-width:1.0;\"/><line style=\"stroke:#A80036;stroke-width:1.0;\" x1=\"66.5\" x2=\"241.5\" y1=\"71.4297\" y2=\"71.4297\"/><text fill=\"#000000\" font-family=\"sans-serif\" font-size=\"13\" lengthAdjust=\"spacing\" textLength=\"150\" x=\"73.5\" y=\"66.3638\">Authentication Request</text><path d=\"M10,86.4297 L76,86.4297 L76,93.4297 L66,103.4297 L10,103.4297 L10,86.4297 \" fill=\"#EEEEEE\" style=\"stroke:#000000;stroke-width:1.0;\"/><rect fill=\"none\" height=\"283.8047\" style=\"stroke:#000000;stroke-width:2.0;\" width=\"335\" x=\"10\" y=\"86.4297\"/><text fill=\"#000000\" font-family=\"sans-serif\" font-size=\"13\" font-weight=\"bold\" lengthAdjust=\"spacing\" textLength=\"21\" x=\"25\" y=\"99.4966\">alt</text><text fill=\"#000000\" font-family=\"sans-serif\" font-size=\"11\" font-weight=\"bold\" lengthAdjust=\"spacing\" textLength=\"114\" x=\"91\" y=\"98.6401\">[successful case]</text><polygon fill=\"#A80036\" points=\"77.5,120.6953,67.5,124.6953,77.5,128.6953,73.5,124.6953\" style=\"stroke:#A80036;stroke-width:1.0;\"/><line style=\"stroke:#A80036;stroke-width:1.0;\" x1=\"71.5\" x2=\"246.5\" y1=\"124.6953\" y2=\"124.6953\"/><text fill=\"#000000\" font-family=\"sans-serif\" font-size=\"13\" lengthAdjust=\"spacing\" textLength=\"157\" x=\"83.5\" y=\"119.6294\">Authentication Accepted</text><line style=\"stroke:#000000;stroke-width:1.0;stroke-dasharray:2.0,2.0;\" x1=\"10\" x2=\"345\" y1=\"133.6953\" y2=\"133.6953\"/><text fill=\"#000000\" font-family=\"sans-serif\" font-size=\"11\" font-weight=\"bold\" lengthAdjust=\"spacing\" textLength=\"146\" x=\"15\" y=\"143.9058\">[some kind of failure]</text><polygon fill=\"#A80036\" points=\"77.5,164.6328,67.5,168.6328,77.5,172.6328,73.5,168.6328\" style=\"stroke:#A80036;stroke-width:1.0;\"/><line style=\"stroke:#A80036;stroke-width:1.0;\" x1=\"71.5\" x2=\"246.5\" y1=\"168.6328\" y2=\"168.6328\"/><text fill=\"#000000\" font-family=\"sans-serif\" font-size=\"13\" lengthAdjust=\"spacing\" textLength=\"139\" x=\"83.5\" y=\"163.5669\">Authentication Failure</text><path d=\"M20,183.6328 L162,183.6328 L162,190.6328 L152,200.6328 L20,200.6328 L20,183.6328 \" fill=\"#EEEEEE\" style=\"stroke:#000000;stroke-width:1.0;\"/><rect fill=\"none\" height=\"135.6641\" style=\"stroke:#000000;stroke-width:2.0;\" width=\"315\" x=\"20\" y=\"183.6328\"/><text fill=\"#000000\" font-family=\"sans-serif\" font-size=\"13\" font-weight=\"bold\" lengthAdjust=\"spacing\" textLength=\"97\" x=\"35\" y=\"196.6997\">My own label</text><polygon fill=\"#A80036\" points=\"291,217.8984,301,221.8984,291,225.8984,295,221.8984\" style=\"stroke:#A80036;stroke-width:1.0;\"/><line style=\"stroke:#A80036;stroke-width:1.0;\" x1=\"66.5\" x2=\"297\" y1=\"221.8984\" y2=\"221.8984\"/><text fill=\"#000000\" font-family=\"sans-serif\" font-size=\"13\" lengthAdjust=\"spacing\" textLength=\"101\" x=\"73.5\" y=\"216.8325\">Log attack start</text><path d=\"M30,236.8984 L108,236.8984 L108,243.8984 L98,253.8984 L30,253.8984 L30,236.8984 \" fill=\"#EEEEEE\" style=\"stroke:#000000;stroke-width:1.0;\"/><rect fill=\"none\" height=\"46.2656\" style=\"stroke:#000000;stroke-width:2.0;\" width=\"251\" x=\"30\" y=\"236.8984\"/><text fill=\"#000000\" font-family=\"sans-serif\" font-size=\"13\" font-weight=\"bold\" lengthAdjust=\"spacing\" textLength=\"33\" x=\"45\" y=\"249.9653\">loop</text><text fill=\"#000000\" font-family=\"sans-serif\" font-size=\"11\" font-weight=\"bold\" lengthAdjust=\"spacing\" textLength=\"87\" x=\"123\" y=\"249.1089\">[1000 times]</text><polygon fill=\"#A80036\" points=\"235.5,271.1641,245.5,275.1641,235.5,279.1641,239.5,275.1641\" style=\"stroke:#A80036;stroke-width:1.0;\"/><line style=\"stroke:#A80036;stroke-width:1.0;\" x1=\"66.5\" x2=\"241.5\" y1=\"275.1641\" y2=\"275.1641\"/><text fill=\"#000000\" font-family=\"sans-serif\" font-size=\"13\" lengthAdjust=\"spacing\" textLength=\"72\" x=\"73.5\" y=\"270.0981\">DNS Attack</text><polygon fill=\"#A80036\" points=\"291,307.2969,301,311.2969,291,315.2969,295,311.2969\" style=\"stroke:#A80036;stroke-width:1.0;\"/><line style=\"stroke:#A80036;stroke-width:1.0;\" x1=\"66.5\" x2=\"297\" y1=\"311.2969\" y2=\"311.2969\"/><text fill=\"#000000\" font-family=\"sans-serif\" font-size=\"13\" lengthAdjust=\"spacing\" textLength=\"95\" x=\"73.5\" y=\"306.231\">Log attack end</text><line style=\"stroke:#000000;stroke-width:1.0;stroke-dasharray:2.0,2.0;\" x1=\"10\" x2=\"345\" y1=\"327.2969\" y2=\"327.2969\"/><text fill=\"#000000\" font-family=\"sans-serif\" font-size=\"11\" font-weight=\"bold\" lengthAdjust=\"spacing\" textLength=\"168\" x=\"15\" y=\"337.5073\">[Another type of failure]</text><polygon fill=\"#A80036\" points=\"77.5,358.2344,67.5,362.2344,77.5,366.2344,73.5,362.2344\" style=\"stroke:#A80036;stroke-width:1.0;\"/><line style=\"stroke:#A80036;stroke-width:1.0;\" x1=\"71.5\" x2=\"246.5\" y1=\"362.2344\" y2=\"362.2344\"/><text fill=\"#000000\" font-family=\"sans-serif\" font-size=\"13\" lengthAdjust=\"spacing\" textLength=\"88\" x=\"83.5\" y=\"357.1685\">Please repeat</text><!--MD5=[12db84d578d38a5b619c62703a2ab235]\n",
       "@startuml\n",
       "Alice -> Bob: Authentication Request\n",
       "alt successful case\n",
       "Bob -> Alice: Authentication Accepted\n",
       "else some kind of failure\n",
       "Bob -> Alice: Authentication Failure\n",
       "group My own label\n",
       "Alice -> Log : Log attack start\n",
       "loop 1000 times\n",
       "Alice -> Bob: DNS Attack\n",
       "end\n",
       "Alice -> Log : Log attack end\n",
       "end\n",
       "else Another type of failure\n",
       "Bob -> Alice: Please repeat\n",
       "end\n",
       "@enduml\n",
       "\n",
       "PlantUML version 1.2021.9beta2(Unknown compile time)\n",
       "(GPL source distribution)\n",
       "Java Runtime: Java(TM) SE Runtime Environment\n",
       "JVM: Java HotSpot(TM) 64-Bit Server VM\n",
       "Default Encoding: UTF-8\n",
       "Language: en\n",
       "Country: US\n",
       "--></g></svg>"
      ],
      "text/plain": [
       "<IPython.core.display.SVG object>"
      ]
     },
     "execution_count": 18,
     "metadata": {},
     "output_type": "execute_result"
    }
   ],
   "source": [
    "%%plantuml\n",
    "\n",
    "@startuml\n",
    "Alice -> Bob: Authentication Request\n",
    "alt successful case\n",
    "Bob -> Alice: Authentication Accepted\n",
    "else some kind of failure\n",
    "Bob -> Alice: Authentication Failure\n",
    "group My own label\n",
    "Alice -> Log : Log attack start\n",
    "loop 1000 times\n",
    "Alice -> Bob: DNS Attack\n",
    "end\n",
    "Alice -> Log : Log attack end\n",
    "end\n",
    "else Another type of failure\n",
    "Bob -> Alice: Please repeat\n",
    "end\n",
    "@enduml"
   ]
  },
  {
   "cell_type": "code",
   "execution_count": 19,
   "id": "48d89705",
   "metadata": {},
   "outputs": [
    {
     "data": {
      "image/svg+xml": [
       "<svg xmlns=\"http://www.w3.org/2000/svg\" xmlns:xlink=\"http://www.w3.org/1999/xlink\" contentScriptType=\"application/ecmascript\" contentStyleType=\"text/css\" height=\"311px\" preserveAspectRatio=\"none\" style=\"width:332px;height:311px;background:#FFFFFF;\" version=\"1.1\" viewBox=\"0 0 332 311\" width=\"332px\" zoomAndPan=\"magnify\"><defs><filter height=\"300%\" id=\"f1wgjo836s1k7e\" width=\"300%\" x=\"-1\" y=\"-1\"><feGaussianBlur result=\"blurOut\" stdDeviation=\"2.0\"/><feColorMatrix in=\"blurOut\" result=\"blurOut2\" type=\"matrix\" values=\"0 0 0 0 0 0 0 0 0 0 0 0 0 0 0 0 0 0 .4 0\"/><feOffset dx=\"4.0\" dy=\"4.0\" in=\"blurOut2\" result=\"blurOut3\"/><feBlend in=\"SourceGraphic\" in2=\"blurOut3\" mode=\"normal\"/></filter></defs><g><rect fill=\"#FFFFFF\" filter=\"url(#f1wgjo836s1k7e)\" height=\"135.6641\" style=\"stroke:#000000;stroke-width:2.0;\" width=\"308\" x=\"10\" y=\"115.5625\"/><rect fill=\"#FFFFFF\" filter=\"url(#f1wgjo836s1k7e)\" height=\"46.2656\" style=\"stroke:#000000;stroke-width:2.0;\" width=\"244\" x=\"20\" y=\"168.8281\"/><line style=\"stroke:#A80036;stroke-width:1.0;stroke-dasharray:5.0,5.0;\" x1=\"56\" x2=\"56\" y1=\"40.2969\" y2=\"268.2266\"/><line style=\"stroke:#A80036;stroke-width:1.0;stroke-dasharray:5.0,5.0;\" x1=\"230\" x2=\"230\" y1=\"40.2969\" y2=\"268.2266\"/><line style=\"stroke:#A80036;stroke-width:1.0;stroke-dasharray:5.0,5.0;\" x1=\"286\" x2=\"286\" y1=\"40.2969\" y2=\"268.2266\"/><rect fill=\"#FEFECE\" filter=\"url(#f1wgjo836s1k7e)\" height=\"30.2969\" style=\"stroke:#A80036;stroke-width:1.5;\" width=\"49\" x=\"30\" y=\"5\"/><text fill=\"#000000\" font-family=\"sans-serif\" font-size=\"14\" lengthAdjust=\"spacing\" textLength=\"35\" x=\"37\" y=\"24.9951\">Alice</text><rect fill=\"#FEFECE\" filter=\"url(#f1wgjo836s1k7e)\" height=\"30.2969\" style=\"stroke:#A80036;stroke-width:1.5;\" width=\"49\" x=\"30\" y=\"267.2266\"/><text fill=\"#000000\" font-family=\"sans-serif\" font-size=\"14\" lengthAdjust=\"spacing\" textLength=\"35\" x=\"37\" y=\"287.2217\">Alice</text><rect fill=\"#FEFECE\" filter=\"url(#f1wgjo836s1k7e)\" height=\"30.2969\" style=\"stroke:#A80036;stroke-width:1.5;\" width=\"43\" x=\"207\" y=\"5\"/><text fill=\"#000000\" font-family=\"sans-serif\" font-size=\"14\" lengthAdjust=\"spacing\" textLength=\"29\" x=\"214\" y=\"24.9951\">Bob</text><rect fill=\"#FEFECE\" filter=\"url(#f1wgjo836s1k7e)\" height=\"30.2969\" style=\"stroke:#A80036;stroke-width:1.5;\" width=\"43\" x=\"207\" y=\"267.2266\"/><text fill=\"#000000\" font-family=\"sans-serif\" font-size=\"14\" lengthAdjust=\"spacing\" textLength=\"29\" x=\"214\" y=\"287.2217\">Bob</text><rect fill=\"#FEFECE\" filter=\"url(#f1wgjo836s1k7e)\" height=\"30.2969\" style=\"stroke:#A80036;stroke-width:1.5;\" width=\"40\" x=\"264\" y=\"5\"/><text fill=\"#000000\" font-family=\"sans-serif\" font-size=\"14\" lengthAdjust=\"spacing\" textLength=\"26\" x=\"271\" y=\"24.9951\">Log</text><rect fill=\"#FEFECE\" filter=\"url(#f1wgjo836s1k7e)\" height=\"30.2969\" style=\"stroke:#A80036;stroke-width:1.5;\" width=\"40\" x=\"264\" y=\"267.2266\"/><text fill=\"#000000\" font-family=\"sans-serif\" font-size=\"14\" lengthAdjust=\"spacing\" textLength=\"26\" x=\"271\" y=\"287.2217\">Log</text><polygon fill=\"#A80036\" points=\"218.5,67.4297,228.5,71.4297,218.5,75.4297,222.5,71.4297\" style=\"stroke:#A80036;stroke-width:1.0;\"/><line style=\"stroke:#A80036;stroke-width:1.0;\" x1=\"56.5\" x2=\"224.5\" y1=\"71.4297\" y2=\"71.4297\"/><text fill=\"#000000\" font-family=\"sans-serif\" font-size=\"13\" lengthAdjust=\"spacing\" textLength=\"150\" x=\"63.5\" y=\"66.3638\">Authentication Request</text><polygon fill=\"#A80036\" points=\"67.5,96.5625,57.5,100.5625,67.5,104.5625,63.5,100.5625\" style=\"stroke:#A80036;stroke-width:1.0;\"/><line style=\"stroke:#A80036;stroke-width:1.0;\" x1=\"61.5\" x2=\"229.5\" y1=\"100.5625\" y2=\"100.5625\"/><text fill=\"#000000\" font-family=\"sans-serif\" font-size=\"13\" lengthAdjust=\"spacing\" textLength=\"139\" x=\"73.5\" y=\"95.4966\">Authentication Failure</text><path d=\"M10,115.5625 L157,115.5625 L157,122.5625 L147,132.5625 L10,132.5625 L10,115.5625 \" fill=\"#EEEEEE\" style=\"stroke:#000000;stroke-width:1.0;\"/><rect fill=\"none\" height=\"135.6641\" style=\"stroke:#000000;stroke-width:2.0;\" width=\"308\" x=\"10\" y=\"115.5625\"/><text fill=\"#000000\" font-family=\"sans-serif\" font-size=\"13\" font-weight=\"bold\" lengthAdjust=\"spacing\" textLength=\"97\" x=\"25\" y=\"128.6294\">My own label</text><text fill=\"#000000\" font-family=\"sans-serif\" font-size=\"11\" font-weight=\"bold\" lengthAdjust=\"spacing\" textLength=\"107\" x=\"172\" y=\"127.7729\">[My own label 2]</text><polygon fill=\"#A80036\" points=\"274,149.8281,284,153.8281,274,157.8281,278,153.8281\" style=\"stroke:#A80036;stroke-width:1.0;\"/><line style=\"stroke:#A80036;stroke-width:1.0;\" x1=\"56.5\" x2=\"280\" y1=\"153.8281\" y2=\"153.8281\"/><text fill=\"#000000\" font-family=\"sans-serif\" font-size=\"13\" lengthAdjust=\"spacing\" textLength=\"101\" x=\"63.5\" y=\"148.7622\">Log attack start</text><path d=\"M20,168.8281 L98,168.8281 L98,175.8281 L88,185.8281 L20,185.8281 L20,168.8281 \" fill=\"#EEEEEE\" style=\"stroke:#000000;stroke-width:1.0;\"/><rect fill=\"none\" height=\"46.2656\" style=\"stroke:#000000;stroke-width:2.0;\" width=\"244\" x=\"20\" y=\"168.8281\"/><text fill=\"#000000\" font-family=\"sans-serif\" font-size=\"13\" font-weight=\"bold\" lengthAdjust=\"spacing\" textLength=\"33\" x=\"35\" y=\"181.895\">loop</text><text fill=\"#000000\" font-family=\"sans-serif\" font-size=\"11\" font-weight=\"bold\" lengthAdjust=\"spacing\" textLength=\"87\" x=\"113\" y=\"181.0386\">[1000 times]</text><polygon fill=\"#A80036\" points=\"218.5,203.0938,228.5,207.0938,218.5,211.0938,222.5,207.0938\" style=\"stroke:#A80036;stroke-width:1.0;\"/><line style=\"stroke:#A80036;stroke-width:1.0;\" x1=\"56.5\" x2=\"224.5\" y1=\"207.0938\" y2=\"207.0938\"/><text fill=\"#000000\" font-family=\"sans-serif\" font-size=\"13\" lengthAdjust=\"spacing\" textLength=\"72\" x=\"63.5\" y=\"202.0278\">DNS Attack</text><polygon fill=\"#A80036\" points=\"274,239.2266,284,243.2266,274,247.2266,278,243.2266\" style=\"stroke:#A80036;stroke-width:1.0;\"/><line style=\"stroke:#A80036;stroke-width:1.0;\" x1=\"56.5\" x2=\"280\" y1=\"243.2266\" y2=\"243.2266\"/><text fill=\"#000000\" font-family=\"sans-serif\" font-size=\"13\" lengthAdjust=\"spacing\" textLength=\"95\" x=\"63.5\" y=\"238.1606\">Log attack end</text><!--MD5=[c7d2613174a8c819fb2cc87604317c46]\n",
       "@startuml\n",
       "Alice -> Bob: Authentication Request\n",
       "Bob -> Alice: Authentication Failure\n",
       "group My own label [My own label 2]\n",
       "Alice -> Log : Log attack start\n",
       "loop 1000 times\n",
       "Alice -> Bob: DNS Attack\n",
       "end\n",
       "Alice -> Log : Log attack end\n",
       "end\n",
       "@enduml\n",
       "\n",
       "PlantUML version 1.2021.9beta2(Unknown compile time)\n",
       "(GPL source distribution)\n",
       "Java Runtime: Java(TM) SE Runtime Environment\n",
       "JVM: Java HotSpot(TM) 64-Bit Server VM\n",
       "Default Encoding: UTF-8\n",
       "Language: en\n",
       "Country: US\n",
       "--></g></svg>"
      ],
      "text/plain": [
       "<IPython.core.display.SVG object>"
      ]
     },
     "execution_count": 19,
     "metadata": {},
     "output_type": "execute_result"
    }
   ],
   "source": [
    "%%plantuml\n",
    "\n",
    "@startuml\n",
    "Alice -> Bob: Authentication Request\n",
    "Bob -> Alice: Authentication Failure\n",
    "group My own label [My own label 2]\n",
    "Alice -> Log : Log attack start\n",
    "loop 1000 times\n",
    "Alice -> Bob: DNS Attack\n",
    "end\n",
    "Alice -> Log : Log attack end\n",
    "end\n",
    "@enduml"
   ]
  },
  {
   "cell_type": "code",
   "execution_count": 20,
   "id": "d253800c",
   "metadata": {},
   "outputs": [
    {
     "data": {
      "image/svg+xml": [
       "<svg xmlns=\"http://www.w3.org/2000/svg\" xmlns:xlink=\"http://www.w3.org/1999/xlink\" contentScriptType=\"application/ecmascript\" contentStyleType=\"text/css\" height=\"251px\" preserveAspectRatio=\"none\" style=\"width:364px;height:251px;background:#FFFFFF;\" version=\"1.1\" viewBox=\"0 0 364 251\" width=\"364px\" zoomAndPan=\"magnify\"><defs><filter height=\"300%\" id=\"f2smwy3i12jy5\" width=\"300%\" x=\"-1\" y=\"-1\"><feGaussianBlur result=\"blurOut\" stdDeviation=\"2.0\"/><feColorMatrix in=\"blurOut\" result=\"blurOut2\" type=\"matrix\" values=\"0 0 0 0 0 0 0 0 0 0 0 0 0 0 0 0 0 0 .4 0\"/><feOffset dx=\"4.0\" dy=\"4.0\" in=\"blurOut2\" result=\"blurOut3\"/><feBlend in=\"SourceGraphic\" in2=\"blurOut3\" mode=\"normal\"/></filter></defs><g><line style=\"stroke:#A80036;stroke-width:1.0;stroke-dasharray:5.0,5.0;\" x1=\"145\" x2=\"145\" y1=\"40.2969\" y2=\"207.9609\"/><line style=\"stroke:#A80036;stroke-width:1.0;stroke-dasharray:5.0,5.0;\" x1=\"205\" x2=\"205\" y1=\"40.2969\" y2=\"207.9609\"/><rect fill=\"#FEFECE\" filter=\"url(#f2smwy3i12jy5)\" height=\"30.2969\" style=\"stroke:#A80036;stroke-width:1.5;\" width=\"49\" x=\"119\" y=\"5\"/><text fill=\"#000000\" font-family=\"sans-serif\" font-size=\"14\" lengthAdjust=\"spacing\" textLength=\"35\" x=\"126\" y=\"24.9951\">Alice</text><rect fill=\"#FEFECE\" filter=\"url(#f2smwy3i12jy5)\" height=\"30.2969\" style=\"stroke:#A80036;stroke-width:1.5;\" width=\"49\" x=\"119\" y=\"206.9609\"/><text fill=\"#000000\" font-family=\"sans-serif\" font-size=\"14\" lengthAdjust=\"spacing\" textLength=\"35\" x=\"126\" y=\"226.9561\">Alice</text><rect fill=\"#FEFECE\" filter=\"url(#f2smwy3i12jy5)\" height=\"30.2969\" style=\"stroke:#A80036;stroke-width:1.5;\" width=\"43\" x=\"182\" y=\"5\"/><text fill=\"#000000\" font-family=\"sans-serif\" font-size=\"14\" lengthAdjust=\"spacing\" textLength=\"29\" x=\"189\" y=\"24.9951\">Bob</text><rect fill=\"#FEFECE\" filter=\"url(#f2smwy3i12jy5)\" height=\"30.2969\" style=\"stroke:#A80036;stroke-width:1.5;\" width=\"43\" x=\"182\" y=\"206.9609\"/><text fill=\"#000000\" font-family=\"sans-serif\" font-size=\"14\" lengthAdjust=\"spacing\" textLength=\"29\" x=\"189\" y=\"226.9561\">Bob</text><polygon fill=\"#A80036\" points=\"193.5,72.4297,203.5,76.4297,193.5,80.4297,197.5,76.4297\" style=\"stroke:#A80036;stroke-width:1.0;\"/><line style=\"stroke:#A80036;stroke-width:1.0;\" x1=\"145.5\" x2=\"199.5\" y1=\"76.4297\" y2=\"76.4297\"/><text fill=\"#000000\" font-family=\"sans-serif\" font-size=\"13\" lengthAdjust=\"spacing\" textLength=\"30\" x=\"152.5\" y=\"71.3638\">hello</text><path d=\"M5,55.2969 L5,80.2969 L137,80.2969 L137,65.2969 L127,55.2969 L5,55.2969 \" fill=\"#FBFB77\" filter=\"url(#f2smwy3i12jy5)\" style=\"stroke:#A80036;stroke-width:1.0;\"/><path d=\"M127,55.2969 L127,65.2969 L137,65.2969 L127,55.2969 \" fill=\"#FBFB77\" style=\"stroke:#A80036;stroke-width:1.0;\"/><text fill=\"#000000\" font-family=\"sans-serif\" font-size=\"13\" lengthAdjust=\"spacing\" textLength=\"111\" x=\"11\" y=\"72.3638\">this is a first note</text><polygon fill=\"#A80036\" points=\"156.5,111.5625,146.5,115.5625,156.5,119.5625,152.5,115.5625\" style=\"stroke:#A80036;stroke-width:1.0;\"/><line style=\"stroke:#A80036;stroke-width:1.0;\" x1=\"150.5\" x2=\"204.5\" y1=\"115.5625\" y2=\"115.5625\"/><text fill=\"#000000\" font-family=\"sans-serif\" font-size=\"13\" lengthAdjust=\"spacing\" textLength=\"15\" x=\"162.5\" y=\"110.4966\">ok</text><path d=\"M210,94.4297 L210,119.4297 L355,119.4297 L355,104.4297 L345,94.4297 L210,94.4297 \" fill=\"#FBFB77\" filter=\"url(#f2smwy3i12jy5)\" style=\"stroke:#A80036;stroke-width:1.0;\"/><path d=\"M345,94.4297 L345,104.4297 L355,104.4297 L345,94.4297 \" fill=\"#FBFB77\" style=\"stroke:#A80036;stroke-width:1.0;\"/><text fill=\"#000000\" font-family=\"sans-serif\" font-size=\"13\" lengthAdjust=\"spacing\" textLength=\"124\" x=\"216\" y=\"111.4966\">this is another note</text><line style=\"stroke:#A80036;stroke-width:1.0;\" x1=\"205.5\" x2=\"247.5\" y1=\"163.3281\" y2=\"163.3281\"/><line style=\"stroke:#A80036;stroke-width:1.0;\" x1=\"247.5\" x2=\"247.5\" y1=\"163.3281\" y2=\"176.3281\"/><line style=\"stroke:#A80036;stroke-width:1.0;\" x1=\"206.5\" x2=\"247.5\" y1=\"176.3281\" y2=\"176.3281\"/><polygon fill=\"#A80036\" points=\"216.5,172.3281,206.5,176.3281,216.5,180.3281,212.5,176.3281\" style=\"stroke:#A80036;stroke-width:1.0;\"/><text fill=\"#000000\" font-family=\"sans-serif\" font-size=\"13\" lengthAdjust=\"spacing\" textLength=\"82\" x=\"212.5\" y=\"158.2622\">I am thinking</text><path d=\"M50,133.5625 L50,188.5625 L196,188.5625 L196,143.5625 L186,133.5625 L50,133.5625 \" fill=\"#FBFB77\" filter=\"url(#f2smwy3i12jy5)\" style=\"stroke:#A80036;stroke-width:1.0;\"/><path d=\"M186,133.5625 L186,143.5625 L196,143.5625 L186,133.5625 \" fill=\"#FBFB77\" style=\"stroke:#A80036;stroke-width:1.0;\"/><text fill=\"#000000\" font-family=\"sans-serif\" font-size=\"13\" lengthAdjust=\"spacing\" textLength=\"41\" x=\"56\" y=\"150.6294\">a note</text><text fill=\"#000000\" font-family=\"sans-serif\" font-size=\"13\" lengthAdjust=\"spacing\" textLength=\"125\" x=\"56\" y=\"165.7622\">can also be defined</text><text fill=\"#000000\" font-family=\"sans-serif\" font-size=\"13\" lengthAdjust=\"spacing\" textLength=\"100\" x=\"56\" y=\"180.895\">on several lines</text><!--MD5=[aed1b1ba8137a5a85d09e4642eded4d3]\n",
       "@startuml\n",
       "Alice->Bob : hello\n",
       "note left: this is a first note\n",
       "Bob->Alice : ok\n",
       "note right: this is another note\n",
       "Bob->Bob : I am thinking\n",
       "note left\n",
       "a note\n",
       "can also be defined\n",
       "on several lines\n",
       "end note\n",
       "@enduml\n",
       "\n",
       "PlantUML version 1.2021.9beta2(Unknown compile time)\n",
       "(GPL source distribution)\n",
       "Java Runtime: Java(TM) SE Runtime Environment\n",
       "JVM: Java HotSpot(TM) 64-Bit Server VM\n",
       "Default Encoding: UTF-8\n",
       "Language: en\n",
       "Country: US\n",
       "--></g></svg>"
      ],
      "text/plain": [
       "<IPython.core.display.SVG object>"
      ]
     },
     "execution_count": 20,
     "metadata": {},
     "output_type": "execute_result"
    }
   ],
   "source": [
    "%%plantuml\n",
    "\n",
    "@startuml\n",
    "Alice->Bob : hello\n",
    "note left: this is a first note\n",
    "Bob->Alice : ok\n",
    "note right: this is another note\n",
    "Bob->Bob : I am thinking\n",
    "note left\n",
    "a note\n",
    "can also be defined\n",
    "on several lines\n",
    "end note\n",
    "@enduml"
   ]
  },
  {
   "cell_type": "code",
   "execution_count": 21,
   "id": "842435b1",
   "metadata": {},
   "outputs": [
    {
     "data": {
      "image/svg+xml": [
       "<svg xmlns=\"http://www.w3.org/2000/svg\" xmlns:xlink=\"http://www.w3.org/1999/xlink\" contentScriptType=\"application/ecmascript\" contentStyleType=\"text/css\" height=\"359px\" preserveAspectRatio=\"none\" style=\"width:367px;height:359px;background:#FFFFFF;\" version=\"1.1\" viewBox=\"0 0 367 359\" width=\"367px\" zoomAndPan=\"magnify\"><defs><filter height=\"300%\" id=\"f1ryvxqxok19xa\" width=\"300%\" x=\"-1\" y=\"-1\"><feGaussianBlur result=\"blurOut\" stdDeviation=\"2.0\"/><feColorMatrix in=\"blurOut\" result=\"blurOut2\" type=\"matrix\" values=\"0 0 0 0 0 0 0 0 0 0 0 0 0 0 0 0 0 0 .4 0\"/><feOffset dx=\"4.0\" dy=\"4.0\" in=\"blurOut2\" result=\"blurOut3\"/><feBlend in=\"SourceGraphic\" in2=\"blurOut3\" mode=\"normal\"/></filter></defs><g><line style=\"stroke:#A80036;stroke-width:1.0;stroke-dasharray:5.0,5.0;\" x1=\"139\" x2=\"139\" y1=\"40.2969\" y2=\"316.4922\"/><line style=\"stroke:#A80036;stroke-width:1.0;stroke-dasharray:5.0,5.0;\" x1=\"199\" x2=\"199\" y1=\"40.2969\" y2=\"316.4922\"/><rect fill=\"#FEFECE\" filter=\"url(#f1ryvxqxok19xa)\" height=\"30.2969\" style=\"stroke:#A80036;stroke-width:1.5;\" width=\"49\" x=\"113\" y=\"5\"/><text fill=\"#000000\" font-family=\"sans-serif\" font-size=\"14\" lengthAdjust=\"spacing\" textLength=\"35\" x=\"120\" y=\"24.9951\">Alice</text><rect fill=\"#FEFECE\" filter=\"url(#f1ryvxqxok19xa)\" height=\"30.2969\" style=\"stroke:#A80036;stroke-width:1.5;\" width=\"49\" x=\"113\" y=\"315.4922\"/><text fill=\"#000000\" font-family=\"sans-serif\" font-size=\"14\" lengthAdjust=\"spacing\" textLength=\"35\" x=\"120\" y=\"335.4873\">Alice</text><rect fill=\"#FEFECE\" filter=\"url(#f1ryvxqxok19xa)\" height=\"30.2969\" style=\"stroke:#A80036;stroke-width:1.5;\" width=\"43\" x=\"176\" y=\"5\"/><text fill=\"#000000\" font-family=\"sans-serif\" font-size=\"14\" lengthAdjust=\"spacing\" textLength=\"29\" x=\"183\" y=\"24.9951\">Bob</text><rect fill=\"#FEFECE\" filter=\"url(#f1ryvxqxok19xa)\" height=\"30.2969\" style=\"stroke:#A80036;stroke-width:1.5;\" width=\"43\" x=\"176\" y=\"315.4922\"/><text fill=\"#000000\" font-family=\"sans-serif\" font-size=\"14\" lengthAdjust=\"spacing\" textLength=\"29\" x=\"183\" y=\"335.4873\">Bob</text><path d=\"M5,55.2969 L5,95.2969 L131,95.2969 L131,65.2969 L121,55.2969 L5,55.2969 \" fill=\"#00FFFF\" filter=\"url(#f1ryvxqxok19xa)\" style=\"stroke:#A80036;stroke-width:1.0;\"/><path d=\"M121,55.2969 L121,65.2969 L131,65.2969 L121,55.2969 \" fill=\"#00FFFF\" style=\"stroke:#A80036;stroke-width:1.0;\"/><text fill=\"#000000\" font-family=\"sans-serif\" font-size=\"13\" lengthAdjust=\"spacing\" textLength=\"105\" x=\"11\" y=\"72.3638\">This is displayed</text><text fill=\"#000000\" font-family=\"sans-serif\" font-size=\"13\" lengthAdjust=\"spacing\" textLength=\"76\" x=\"11\" y=\"87.4966\">left of Alice.</text><path d=\"M144,109.5625 L144,134.5625 L358,134.5625 L358,119.5625 L348,109.5625 L144,109.5625 \" fill=\"#FBFB77\" filter=\"url(#f1ryvxqxok19xa)\" style=\"stroke:#A80036;stroke-width:1.0;\"/><path d=\"M348,109.5625 L348,119.5625 L358,119.5625 L348,109.5625 \" fill=\"#FBFB77\" style=\"stroke:#A80036;stroke-width:1.0;\"/><text fill=\"#000000\" font-family=\"sans-serif\" font-size=\"13\" lengthAdjust=\"spacing\" textLength=\"193\" x=\"150\" y=\"126.6294\">This is displayed right of Alice.</text><path d=\"M39,148.6953 L39,173.6953 L236,173.6953 L236,158.6953 L226,148.6953 L39,148.6953 \" fill=\"#FBFB77\" filter=\"url(#f1ryvxqxok19xa)\" style=\"stroke:#A80036;stroke-width:1.0;\"/><path d=\"M226,148.6953 L226,158.6953 L236,158.6953 L226,148.6953 \" fill=\"#FBFB77\" style=\"stroke:#A80036;stroke-width:1.0;\"/><text fill=\"#000000\" font-family=\"sans-serif\" font-size=\"13\" lengthAdjust=\"spacing\" textLength=\"176\" x=\"45\" y=\"165.7622\">This is displayed over Alice.</text><path d=\"M93,187.8281 L93,227.8281 L241,227.8281 L241,197.8281 L231,187.8281 L93,187.8281 \" fill=\"#FFAAAA\" filter=\"url(#f1ryvxqxok19xa)\" style=\"stroke:#A80036;stroke-width:1.0;\"/><path d=\"M231,187.8281 L231,197.8281 L241,197.8281 L231,187.8281 \" fill=\"#FFAAAA\" style=\"stroke:#A80036;stroke-width:1.0;\"/><text fill=\"#000000\" font-family=\"sans-serif\" font-size=\"13\" lengthAdjust=\"spacing\" textLength=\"105\" x=\"99\" y=\"204.895\">This is displayed</text><text fill=\"#000000\" font-family=\"sans-serif\" font-size=\"13\" lengthAdjust=\"spacing\" textLength=\"123\" x=\"103\" y=\"220.0278\">over Bob and Alice.</text><path d=\"M97,242.0938 L97,297.0938 L237,297.0938 L237,252.0938 L227,242.0938 L97,242.0938 \" fill=\"#FBFB77\" filter=\"url(#f1ryvxqxok19xa)\" style=\"stroke:#A80036;stroke-width:1.0;\"/><path d=\"M227,242.0938 L227,252.0938 L237,252.0938 L227,242.0938 \" fill=\"#FBFB77\" style=\"stroke:#A80036;stroke-width:1.0;\"/><text fill=\"#000000\" font-family=\"sans-serif\" font-size=\"13\" lengthAdjust=\"spacing\" textLength=\"119\" x=\"103\" y=\"259.1606\">This is yet another</text><text fill=\"#000000\" font-family=\"sans-serif\" font-size=\"13\" lengthAdjust=\"spacing\" textLength=\"73\" x=\"103\" y=\"274.2935\">example of</text><text fill=\"#000000\" font-family=\"sans-serif\" font-size=\"13\" lengthAdjust=\"spacing\" textLength=\"76\" x=\"103\" y=\"289.4263\">a long note.</text><!--MD5=[59b4d746b96e1dfa52b04e970b15df72]\n",
       "@startuml\n",
       "participant Alice\n",
       "participant Bob\n",
       "note left of Alice #aqua\n",
       "This is displayed\n",
       "left of Alice.\n",
       "end note\n",
       "note right of Alice: This is displayed right of Alice.\n",
       "note over Alice: This is displayed over Alice.\n",
       "note over Alice, Bob #FFAAAA: This is displayed\\n over Bob and Alice.\n",
       "note over Bob, Alice\n",
       "This is yet another\n",
       "example of\n",
       "a long note.\n",
       "end note\n",
       "@enduml\n",
       "\n",
       "PlantUML version 1.2021.9beta2(Unknown compile time)\n",
       "(GPL source distribution)\n",
       "Java Runtime: Java(TM) SE Runtime Environment\n",
       "JVM: Java HotSpot(TM) 64-Bit Server VM\n",
       "Default Encoding: UTF-8\n",
       "Language: en\n",
       "Country: US\n",
       "--></g></svg>"
      ],
      "text/plain": [
       "<IPython.core.display.SVG object>"
      ]
     },
     "execution_count": 21,
     "metadata": {},
     "output_type": "execute_result"
    }
   ],
   "source": [
    "%%plantuml\n",
    "\n",
    "@startuml\n",
    "participant Alice\n",
    "participant Bob\n",
    "note left of Alice #aqua\n",
    "This is displayed\n",
    "left of Alice.\n",
    "end note\n",
    "note right of Alice: This is displayed right of Alice.\n",
    "note over Alice: This is displayed over Alice.\n",
    "note over Alice, Bob #FFAAAA: This is displayed\\n over Bob and Alice.\n",
    "note over Bob, Alice\n",
    "This is yet another\n",
    "example of\n",
    "a long note.\n",
    "end note\n",
    "@enduml"
   ]
  },
  {
   "cell_type": "code",
   "execution_count": 22,
   "id": "20f34e1d",
   "metadata": {},
   "outputs": [
    {
     "data": {
      "image/svg+xml": [
       "<svg xmlns=\"http://www.w3.org/2000/svg\" xmlns:xlink=\"http://www.w3.org/1999/xlink\" contentScriptType=\"application/ecmascript\" contentStyleType=\"text/css\" height=\"243px\" preserveAspectRatio=\"none\" style=\"width:172px;height:243px;background:#FFFFFF;\" version=\"1.1\" viewBox=\"0 0 172 243\" width=\"172px\" zoomAndPan=\"magnify\"><defs><filter height=\"300%\" id=\"fsvwkgdew6d8n\" width=\"300%\" x=\"-1\" y=\"-1\"><feGaussianBlur result=\"blurOut\" stdDeviation=\"2.0\"/><feColorMatrix in=\"blurOut\" result=\"blurOut2\" type=\"matrix\" values=\"0 0 0 0 0 0 0 0 0 0 0 0 0 0 0 0 0 0 .4 0\"/><feOffset dx=\"4.0\" dy=\"4.0\" in=\"blurOut2\" result=\"blurOut3\"/><feBlend in=\"SourceGraphic\" in2=\"blurOut3\" mode=\"normal\"/></filter></defs><g><line style=\"stroke:#A80036;stroke-width:1.0;stroke-dasharray:5.0,5.0;\" x1=\"33\" x2=\"33\" y1=\"40.2969\" y2=\"199.9609\"/><line style=\"stroke:#A80036;stroke-width:1.0;stroke-dasharray:5.0,5.0;\" x1=\"110\" x2=\"110\" y1=\"40.2969\" y2=\"199.9609\"/><rect fill=\"#FEFECE\" filter=\"url(#fsvwkgdew6d8n)\" height=\"30.2969\" style=\"stroke:#A80036;stroke-width:1.5;\" width=\"53\" x=\"5\" y=\"5\"/><text fill=\"#000000\" font-family=\"sans-serif\" font-size=\"14\" lengthAdjust=\"spacing\" textLength=\"39\" x=\"12\" y=\"24.9951\">caller</text><rect fill=\"#FEFECE\" filter=\"url(#fsvwkgdew6d8n)\" height=\"30.2969\" style=\"stroke:#A80036;stroke-width:1.5;\" width=\"53\" x=\"5\" y=\"198.9609\"/><text fill=\"#000000\" font-family=\"sans-serif\" font-size=\"14\" lengthAdjust=\"spacing\" textLength=\"39\" x=\"12\" y=\"218.9561\">caller</text><rect fill=\"#FEFECE\" filter=\"url(#fsvwkgdew6d8n)\" height=\"30.2969\" style=\"stroke:#A80036;stroke-width:1.5;\" width=\"59\" x=\"79\" y=\"5\"/><text fill=\"#000000\" font-family=\"sans-serif\" font-size=\"14\" lengthAdjust=\"spacing\" textLength=\"45\" x=\"86\" y=\"24.9951\">server</text><rect fill=\"#FEFECE\" filter=\"url(#fsvwkgdew6d8n)\" height=\"30.2969\" style=\"stroke:#A80036;stroke-width:1.5;\" width=\"59\" x=\"79\" y=\"198.9609\"/><text fill=\"#000000\" font-family=\"sans-serif\" font-size=\"14\" lengthAdjust=\"spacing\" textLength=\"45\" x=\"86\" y=\"218.9561\">server</text><polygon fill=\"#A80036\" points=\"98.5,67.4297,108.5,71.4297,98.5,75.4297,102.5,71.4297\" style=\"stroke:#A80036;stroke-width:1.0;\"/><line style=\"stroke:#A80036;stroke-width:1.0;\" x1=\"33.5\" x2=\"104.5\" y1=\"71.4297\" y2=\"71.4297\"/><text fill=\"#000000\" font-family=\"sans-serif\" font-size=\"13\" lengthAdjust=\"spacing\" textLength=\"48\" x=\"40.5\" y=\"66.3638\">conReq</text><polygon fill=\"#FBFB77\" filter=\"url(#fsvwkgdew6d8n)\" points=\"20,84.4297,46,84.4297,56,95.4297,46,107.4297,20,107.4297,10,95.4297,20,84.4297\" style=\"stroke:#A80036;stroke-width:1.0;\"/><text fill=\"#000000\" font-family=\"sans-serif\" font-size=\"13\" lengthAdjust=\"spacing\" textLength=\"22\" x=\"22\" y=\"100.4966\">idle</text><polygon fill=\"#A80036\" points=\"44.5,129.6953,34.5,133.6953,44.5,137.6953,40.5,133.6953\" style=\"stroke:#A80036;stroke-width:1.0;\"/><line style=\"stroke:#A80036;stroke-width:1.0;\" x1=\"38.5\" x2=\"109.5\" y1=\"133.6953\" y2=\"133.6953\"/><text fill=\"#000000\" font-family=\"sans-serif\" font-size=\"13\" lengthAdjust=\"spacing\" textLength=\"53\" x=\"50.5\" y=\"128.6294\">conConf</text><rect fill=\"#FBFB77\" filter=\"url(#fsvwkgdew6d8n)\" height=\"38\" style=\"stroke:#A80036;stroke-width:1.0;\" width=\"106\" x=\"57\" y=\"146.6953\"/><text fill=\"#000000\" font-family=\"sans-serif\" font-size=\"13\" lengthAdjust=\"spacing\" textLength=\"98\" x=\"61\" y=\"162.7622\">&quot;r&quot; as rectangle</text><text fill=\"#000000\" font-family=\"sans-serif\" font-size=\"13\" lengthAdjust=\"spacing\" textLength=\"97\" x=\"61\" y=\"177.895\">&quot;h&quot; as hexagon</text><!--MD5=[363b5f2adf066935f07f8e2e31795cf6]\n",
       "@startuml\n",
       "caller -> server : conReq\n",
       "hnote over caller : idle\n",
       "caller <- server : conConf\n",
       "rnote over server\n",
       "\"r\" as rectangle\n",
       "\"h\" as hexagon\n",
       "endrnote\n",
       "@enduml\n",
       "\n",
       "PlantUML version 1.2021.9beta2(Unknown compile time)\n",
       "(GPL source distribution)\n",
       "Java Runtime: Java(TM) SE Runtime Environment\n",
       "JVM: Java HotSpot(TM) 64-Bit Server VM\n",
       "Default Encoding: UTF-8\n",
       "Language: en\n",
       "Country: US\n",
       "--></g></svg>"
      ],
      "text/plain": [
       "<IPython.core.display.SVG object>"
      ]
     },
     "execution_count": 22,
     "metadata": {},
     "output_type": "execute_result"
    }
   ],
   "source": [
    "%%plantuml\n",
    "\n",
    "@startuml\n",
    "caller -> server : conReq\n",
    "hnote over caller : idle\n",
    "caller <- server : conConf\n",
    "rnote over server\n",
    "\"r\" as rectangle\n",
    "\"h\" as hexagon\n",
    "endrnote\n",
    "@enduml"
   ]
  },
  {
   "cell_type": "code",
   "execution_count": 23,
   "id": "26661240",
   "metadata": {},
   "outputs": [
    {
     "data": {
      "image/svg+xml": [
       "<svg xmlns=\"http://www.w3.org/2000/svg\" xmlns:xlink=\"http://www.w3.org/1999/xlink\" contentScriptType=\"application/ecmascript\" contentStyleType=\"text/css\" height=\"318px\" preserveAspectRatio=\"none\" style=\"width:286px;height:318px;background:#FFFFFF;\" version=\"1.1\" viewBox=\"0 0 286 318\" width=\"286px\" zoomAndPan=\"magnify\"><defs><filter height=\"300%\" id=\"fwnotzik861kv\" width=\"300%\" x=\"-1\" y=\"-1\"><feGaussianBlur result=\"blurOut\" stdDeviation=\"2.0\"/><feColorMatrix in=\"blurOut\" result=\"blurOut2\" type=\"matrix\" values=\"0 0 0 0 0 0 0 0 0 0 0 0 0 0 0 0 0 0 .4 0\"/><feOffset dx=\"4.0\" dy=\"4.0\" in=\"blurOut2\" result=\"blurOut3\"/><feBlend in=\"SourceGraphic\" in2=\"blurOut3\" mode=\"normal\"/></filter></defs><g><line style=\"stroke:#A80036;stroke-width:1.0;stroke-dasharray:5.0,5.0;\" x1=\"78\" x2=\"78\" y1=\"40.2969\" y2=\"275.161\"/><line style=\"stroke:#A80036;stroke-width:1.0;stroke-dasharray:5.0,5.0;\" x1=\"138\" x2=\"138\" y1=\"40.2969\" y2=\"275.161\"/><line style=\"stroke:#A80036;stroke-width:1.0;stroke-dasharray:5.0,5.0;\" x1=\"206\" x2=\"206\" y1=\"40.2969\" y2=\"275.161\"/><rect fill=\"#FEFECE\" filter=\"url(#fwnotzik861kv)\" height=\"30.2969\" style=\"stroke:#A80036;stroke-width:1.5;\" width=\"49\" x=\"52\" y=\"5\"/><text fill=\"#000000\" font-family=\"sans-serif\" font-size=\"14\" lengthAdjust=\"spacing\" textLength=\"35\" x=\"59\" y=\"24.9951\">Alice</text><rect fill=\"#FEFECE\" filter=\"url(#fwnotzik861kv)\" height=\"30.2969\" style=\"stroke:#A80036;stroke-width:1.5;\" width=\"49\" x=\"52\" y=\"274.161\"/><text fill=\"#000000\" font-family=\"sans-serif\" font-size=\"14\" lengthAdjust=\"spacing\" textLength=\"35\" x=\"59\" y=\"294.1561\">Alice</text><rect fill=\"#FEFECE\" filter=\"url(#fwnotzik861kv)\" height=\"30.2969\" style=\"stroke:#A80036;stroke-width:1.5;\" width=\"43\" x=\"115\" y=\"5\"/><text fill=\"#000000\" font-family=\"sans-serif\" font-size=\"14\" lengthAdjust=\"spacing\" textLength=\"29\" x=\"122\" y=\"24.9951\">Bob</text><rect fill=\"#FEFECE\" filter=\"url(#fwnotzik861kv)\" height=\"30.2969\" style=\"stroke:#A80036;stroke-width:1.5;\" width=\"43\" x=\"115\" y=\"274.161\"/><text fill=\"#000000\" font-family=\"sans-serif\" font-size=\"14\" lengthAdjust=\"spacing\" textLength=\"29\" x=\"122\" y=\"294.1561\">Bob</text><rect fill=\"#FEFECE\" filter=\"url(#fwnotzik861kv)\" height=\"30.2969\" style=\"stroke:#A80036;stroke-width:1.5;\" width=\"64\" x=\"172\" y=\"5\"/><text fill=\"#000000\" font-family=\"sans-serif\" font-size=\"14\" lengthAdjust=\"spacing\" textLength=\"50\" x=\"179\" y=\"24.9951\">Charlie</text><rect fill=\"#FEFECE\" filter=\"url(#fwnotzik861kv)\" height=\"30.2969\" style=\"stroke:#A80036;stroke-width:1.5;\" width=\"64\" x=\"172\" y=\"274.161\"/><text fill=\"#000000\" font-family=\"sans-serif\" font-size=\"14\" lengthAdjust=\"spacing\" textLength=\"50\" x=\"179\" y=\"294.1561\">Charlie</text><polygon fill=\"#A80036\" points=\"126.5,67.4297,136.5,71.4297,126.5,75.4297,130.5,71.4297\" style=\"stroke:#A80036;stroke-width:1.0;\"/><line style=\"stroke:#A80036;stroke-width:1.0;\" x1=\"78.5\" x2=\"132.5\" y1=\"71.4297\" y2=\"71.4297\"/><text fill=\"#000000\" font-family=\"sans-serif\" font-size=\"13\" lengthAdjust=\"spacing\" textLength=\"21\" x=\"85.5\" y=\"66.3638\">m1</text><polygon fill=\"#A80036\" points=\"194,96.5625,204,100.5625,194,104.5625,198,100.5625\" style=\"stroke:#A80036;stroke-width:1.0;\"/><line style=\"stroke:#A80036;stroke-width:1.0;\" x1=\"138.5\" x2=\"200\" y1=\"100.5625\" y2=\"100.5625\"/><text fill=\"#000000\" font-family=\"sans-serif\" font-size=\"13\" lengthAdjust=\"spacing\" textLength=\"21\" x=\"145.5\" y=\"95.4966\">m2</text><path d=\"M5,113.5625 L5,153.5625 L277,153.5625 L277,123.5625 L267,113.5625 L5,113.5625 \" fill=\"#FBFB77\" filter=\"url(#fwnotzik861kv)\" style=\"stroke:#A80036;stroke-width:1.0;\"/><path d=\"M267,113.5625 L267,123.5625 L277,123.5625 L267,113.5625 \" fill=\"#FBFB77\" style=\"stroke:#A80036;stroke-width:1.0;\"/><text fill=\"#000000\" font-family=\"sans-serif\" font-size=\"13\" lengthAdjust=\"spacing\" textLength=\"251\" x=\"11\" y=\"130.6294\">Old method for note over all part. with:</text><text fill=\"#000000\" font-family=\"sans-serif\" font-size=\"13\" lengthAdjust=\"spacing\" textLength=\"0\" x=\"15\" y=\"146.2294\"/><text fill=\"#000000\" font-family=\"monospace\" font-size=\"13\" lengthAdjust=\"spacing\" textLength=\"72\" x=\"15\" y=\"145.7333\">note over</text><text fill=\"#000000\" font-family=\"monospace\" font-size=\"13\" font-style=\"italic\" lengthAdjust=\"spacing\" textLength=\"152\" x=\"95\" y=\"146.2143\">FirstPart, LastPart</text><text fill=\"#000000\" font-family=\"sans-serif\" font-size=\"13\" lengthAdjust=\"spacing\" textLength=\"4\" x=\"247\" y=\"146.2294\">.</text><path d=\"M50,168.2953 L50,208.2953 L233,208.2953 L233,178.2953 L223,168.2953 L50,168.2953 \" fill=\"#FBFB77\" filter=\"url(#fwnotzik861kv)\" style=\"stroke:#A80036;stroke-width:1.0;\"/><path d=\"M223,168.2953 L223,178.2953 L233,178.2953 L223,168.2953 \" fill=\"#FBFB77\" style=\"stroke:#A80036;stroke-width:1.0;\"/><text fill=\"#000000\" font-family=\"sans-serif\" font-size=\"13\" lengthAdjust=\"spacing\" textLength=\"118\" x=\"76\" y=\"185.3622\">New method with:</text><text fill=\"#000000\" font-family=\"monospace\" font-size=\"13\" lengthAdjust=\"spacing\" textLength=\"88\" x=\"76\" y=\"200.4661\">note across</text><polygon fill=\"#A80036\" points=\"89.5,220.0282,79.5,224.0282,89.5,228.0282,85.5,224.0282\" style=\"stroke:#A80036;stroke-width:1.0;\"/><line style=\"stroke:#A80036;stroke-width:1.0;\" x1=\"83.5\" x2=\"137.5\" y1=\"224.0282\" y2=\"224.0282\"/><polygon fill=\"#FBFB77\" filter=\"url(#fwnotzik861kv)\" points=\"60,237.0282,223,237.0282,233,248.0282,223,260.0282,60,260.0282,50,248.0282,60,237.0282\" style=\"stroke:#A80036;stroke-width:1.0;\"/><text fill=\"#000000\" font-family=\"sans-serif\" font-size=\"13\" lengthAdjust=\"spacing\" textLength=\"128\" x=\"77.5\" y=\"253.095\">Note across all part.</text><!--MD5=[8974705d7db7cd675fca5eead1449bcf]\n",
       "@startuml\n",
       "Alice->Bob:m1\n",
       "Bob->Charlie:m2\n",
       "note over Alice, Charlie: Old method for note over all part. with:\\n \"\"note over //FirstPart, LastPart//\"\".\n",
       "note across: New method with:\\n\"\"note across\"\"\n",
       "Bob->Alice\n",
       "hnote across:Note across all part.\n",
       "@enduml\n",
       "\n",
       "PlantUML version 1.2021.9beta2(Unknown compile time)\n",
       "(GPL source distribution)\n",
       "Java Runtime: Java(TM) SE Runtime Environment\n",
       "JVM: Java HotSpot(TM) 64-Bit Server VM\n",
       "Default Encoding: UTF-8\n",
       "Language: en\n",
       "Country: US\n",
       "--></g></svg>"
      ],
      "text/plain": [
       "<IPython.core.display.SVG object>"
      ]
     },
     "execution_count": 23,
     "metadata": {},
     "output_type": "execute_result"
    }
   ],
   "source": [
    "%%plantuml\n",
    "\n",
    "@startuml\n",
    "Alice->Bob:m1\n",
    "Bob->Charlie:m2\n",
    "note over Alice, Charlie: Old method for note over all part. with:\\n \"\"note over //FirstPart, LastPart//\"\".\n",
    "note across: New method with:\\n\"\"note across\"\"\n",
    "Bob->Alice\n",
    "hnote across:Note across all part.\n",
    "@enduml"
   ]
  },
  {
   "cell_type": "code",
   "execution_count": 24,
   "id": "d8502127",
   "metadata": {},
   "outputs": [
    {
     "data": {
      "image/svg+xml": [
       "<svg xmlns=\"http://www.w3.org/2000/svg\" xmlns:xlink=\"http://www.w3.org/1999/xlink\" contentScriptType=\"application/ecmascript\" contentStyleType=\"text/css\" height=\"210px\" preserveAspectRatio=\"none\" style=\"width:212px;height:210px;background:#FFFFFF;\" version=\"1.1\" viewBox=\"0 0 212 210\" width=\"212px\" zoomAndPan=\"magnify\"><defs><filter height=\"300%\" id=\"f4d7ky01zj0wx\" width=\"300%\" x=\"-1\" y=\"-1\"><feGaussianBlur result=\"blurOut\" stdDeviation=\"2.0\"/><feColorMatrix in=\"blurOut\" result=\"blurOut2\" type=\"matrix\" values=\"0 0 0 0 0 0 0 0 0 0 0 0 0 0 0 0 0 0 .4 0\"/><feOffset dx=\"4.0\" dy=\"4.0\" in=\"blurOut2\" result=\"blurOut3\"/><feBlend in=\"SourceGraphic\" in2=\"blurOut3\" mode=\"normal\"/></filter></defs><g><line style=\"stroke:#A80036;stroke-width:1.0;stroke-dasharray:5.0,5.0;\" x1=\"77\" x2=\"77\" y1=\"40.2969\" y2=\"167.6953\"/><line style=\"stroke:#A80036;stroke-width:1.0;stroke-dasharray:5.0,5.0;\" x1=\"137\" x2=\"137\" y1=\"40.2969\" y2=\"167.6953\"/><rect fill=\"#FEFECE\" filter=\"url(#f4d7ky01zj0wx)\" height=\"30.2969\" style=\"stroke:#A80036;stroke-width:1.5;\" width=\"49\" x=\"51\" y=\"5\"/><text fill=\"#000000\" font-family=\"sans-serif\" font-size=\"14\" lengthAdjust=\"spacing\" textLength=\"35\" x=\"58\" y=\"24.9951\">Alice</text><rect fill=\"#FEFECE\" filter=\"url(#f4d7ky01zj0wx)\" height=\"30.2969\" style=\"stroke:#A80036;stroke-width:1.5;\" width=\"49\" x=\"51\" y=\"166.6953\"/><text fill=\"#000000\" font-family=\"sans-serif\" font-size=\"14\" lengthAdjust=\"spacing\" textLength=\"35\" x=\"58\" y=\"186.6904\">Alice</text><rect fill=\"#FEFECE\" filter=\"url(#f4d7ky01zj0wx)\" height=\"30.2969\" style=\"stroke:#A80036;stroke-width:1.5;\" width=\"43\" x=\"114\" y=\"5\"/><text fill=\"#000000\" font-family=\"sans-serif\" font-size=\"14\" lengthAdjust=\"spacing\" textLength=\"29\" x=\"121\" y=\"24.9951\">Bob</text><rect fill=\"#FEFECE\" filter=\"url(#f4d7ky01zj0wx)\" height=\"30.2969\" style=\"stroke:#A80036;stroke-width:1.5;\" width=\"43\" x=\"114\" y=\"166.6953\"/><text fill=\"#000000\" font-family=\"sans-serif\" font-size=\"14\" lengthAdjust=\"spacing\" textLength=\"29\" x=\"121\" y=\"186.6904\">Bob</text><path d=\"M5,55.2969 L5,80.2969 L147,80.2969 L147,65.2969 L137,55.2969 L5,55.2969 \" fill=\"#FBFB77\" filter=\"url(#f4d7ky01zj0wx)\" style=\"stroke:#A80036;stroke-width:1.0;\"/><path d=\"M137,55.2969 L137,65.2969 L147,65.2969 L137,55.2969 \" fill=\"#FBFB77\" style=\"stroke:#A80036;stroke-width:1.0;\"/><text fill=\"#000000\" font-family=\"sans-serif\" font-size=\"13\" lengthAdjust=\"spacing\" textLength=\"121\" x=\"11\" y=\"72.3638\">initial state of Alice</text><path d=\"M67,94.4297 L67,119.4297 L203,119.4297 L203,104.4297 L193,94.4297 L67,94.4297 \" fill=\"#FBFB77\" filter=\"url(#f4d7ky01zj0wx)\" style=\"stroke:#A80036;stroke-width:1.0;\"/><path d=\"M193,94.4297 L193,104.4297 L203,104.4297 L193,94.4297 \" fill=\"#FBFB77\" style=\"stroke:#A80036;stroke-width:1.0;\"/><text fill=\"#000000\" font-family=\"sans-serif\" font-size=\"13\" lengthAdjust=\"spacing\" textLength=\"115\" x=\"73\" y=\"111.4966\">initial state of Bob</text><polygon fill=\"#A80036\" points=\"88.5,145.6953,78.5,149.6953,88.5,153.6953,84.5,149.6953\" style=\"stroke:#A80036;stroke-width:1.0;\"/><line style=\"stroke:#A80036;stroke-width:1.0;\" x1=\"82.5\" x2=\"136.5\" y1=\"149.6953\" y2=\"149.6953\"/><text fill=\"#000000\" font-family=\"sans-serif\" font-size=\"13\" lengthAdjust=\"spacing\" textLength=\"30\" x=\"94.5\" y=\"144.6294\">hello</text><!--MD5=[8eb902e222187faf7faa1c154cf02e21]\n",
       "@startuml\n",
       "note over Alice : initial state of Alice\n",
       "note over Bob : initial state of Bob\n",
       "Bob -> Alice : hello\n",
       "@enduml\n",
       "\n",
       "PlantUML version 1.2021.9beta2(Unknown compile time)\n",
       "(GPL source distribution)\n",
       "Java Runtime: Java(TM) SE Runtime Environment\n",
       "JVM: Java HotSpot(TM) 64-Bit Server VM\n",
       "Default Encoding: UTF-8\n",
       "Language: en\n",
       "Country: US\n",
       "--></g></svg>"
      ],
      "text/plain": [
       "<IPython.core.display.SVG object>"
      ]
     },
     "execution_count": 24,
     "metadata": {},
     "output_type": "execute_result"
    }
   ],
   "source": [
    "%%plantuml\n",
    "\n",
    "@startuml\n",
    "note over Alice : initial state of Alice\n",
    "note over Bob : initial state of Bob\n",
    "Bob -> Alice : hello\n",
    "@enduml"
   ]
  },
  {
   "cell_type": "code",
   "execution_count": 25,
   "id": "c2fe11f7",
   "metadata": {},
   "outputs": [
    {
     "data": {
      "image/svg+xml": [
       "<svg xmlns=\"http://www.w3.org/2000/svg\" xmlns:xlink=\"http://www.w3.org/1999/xlink\" contentScriptType=\"application/ecmascript\" contentStyleType=\"text/css\" height=\"171px\" preserveAspectRatio=\"none\" style=\"width:306px;height:171px;background:#FFFFFF;\" version=\"1.1\" viewBox=\"0 0 306 171\" width=\"306px\" zoomAndPan=\"magnify\"><defs><filter height=\"300%\" id=\"f163i02nw1zfdc\" width=\"300%\" x=\"-1\" y=\"-1\"><feGaussianBlur result=\"blurOut\" stdDeviation=\"2.0\"/><feColorMatrix in=\"blurOut\" result=\"blurOut2\" type=\"matrix\" values=\"0 0 0 0 0 0 0 0 0 0 0 0 0 0 0 0 0 0 .4 0\"/><feOffset dx=\"4.0\" dy=\"4.0\" in=\"blurOut2\" result=\"blurOut3\"/><feBlend in=\"SourceGraphic\" in2=\"blurOut3\" mode=\"normal\"/></filter></defs><g><line style=\"stroke:#A80036;stroke-width:1.0;stroke-dasharray:5.0,5.0;\" x1=\"77.5\" x2=\"77.5\" y1=\"40.2969\" y2=\"128.5625\"/><line style=\"stroke:#A80036;stroke-width:1.0;stroke-dasharray:5.0,5.0;\" x1=\"230.5\" x2=\"230.5\" y1=\"40.2969\" y2=\"128.5625\"/><rect fill=\"#FEFECE\" filter=\"url(#f163i02nw1zfdc)\" height=\"30.2969\" style=\"stroke:#A80036;stroke-width:1.5;\" width=\"49\" x=\"51.5\" y=\"5\"/><text fill=\"#000000\" font-family=\"sans-serif\" font-size=\"14\" lengthAdjust=\"spacing\" textLength=\"35\" x=\"58.5\" y=\"24.9951\">Alice</text><rect fill=\"#FEFECE\" filter=\"url(#f163i02nw1zfdc)\" height=\"30.2969\" style=\"stroke:#A80036;stroke-width:1.5;\" width=\"49\" x=\"51.5\" y=\"127.5625\"/><text fill=\"#000000\" font-family=\"sans-serif\" font-size=\"14\" lengthAdjust=\"spacing\" textLength=\"35\" x=\"58.5\" y=\"147.5576\">Alice</text><rect fill=\"#FEFECE\" filter=\"url(#f163i02nw1zfdc)\" height=\"30.2969\" style=\"stroke:#A80036;stroke-width:1.5;\" width=\"43\" x=\"207.5\" y=\"5\"/><text fill=\"#000000\" font-family=\"sans-serif\" font-size=\"14\" lengthAdjust=\"spacing\" textLength=\"29\" x=\"214.5\" y=\"24.9951\">Bob</text><rect fill=\"#FEFECE\" filter=\"url(#f163i02nw1zfdc)\" height=\"30.2969\" style=\"stroke:#A80036;stroke-width:1.5;\" width=\"43\" x=\"207.5\" y=\"127.5625\"/><text fill=\"#000000\" font-family=\"sans-serif\" font-size=\"14\" lengthAdjust=\"spacing\" textLength=\"29\" x=\"214.5\" y=\"147.5576\">Bob</text><path d=\"M5,55.2969 L5,80.2969 L147,80.2969 L147,65.2969 L137,55.2969 L5,55.2969 \" fill=\"#FBFB77\" filter=\"url(#f163i02nw1zfdc)\" style=\"stroke:#A80036;stroke-width:1.0;\"/><path d=\"M137,55.2969 L137,65.2969 L147,65.2969 L137,55.2969 \" fill=\"#FBFB77\" style=\"stroke:#A80036;stroke-width:1.0;\"/><text fill=\"#000000\" font-family=\"sans-serif\" font-size=\"13\" lengthAdjust=\"spacing\" textLength=\"121\" x=\"11\" y=\"72.3638\">initial state of Alice</text><path d=\"M161,55.2969 L161,80.2969 L297,80.2969 L297,65.2969 L287,55.2969 L161,55.2969 \" fill=\"#FBFB77\" filter=\"url(#f163i02nw1zfdc)\" style=\"stroke:#A80036;stroke-width:1.0;\"/><path d=\"M287,55.2969 L287,65.2969 L297,65.2969 L287,55.2969 \" fill=\"#FBFB77\" style=\"stroke:#A80036;stroke-width:1.0;\"/><text fill=\"#000000\" font-family=\"sans-serif\" font-size=\"13\" lengthAdjust=\"spacing\" textLength=\"115\" x=\"167\" y=\"72.3638\">initial state of Bob</text><polygon fill=\"#A80036\" points=\"89,106.5625,79,110.5625,89,114.5625,85,110.5625\" style=\"stroke:#A80036;stroke-width:1.0;\"/><line style=\"stroke:#A80036;stroke-width:1.0;\" x1=\"83\" x2=\"230\" y1=\"110.5625\" y2=\"110.5625\"/><text fill=\"#000000\" font-family=\"sans-serif\" font-size=\"13\" lengthAdjust=\"spacing\" textLength=\"30\" x=\"95\" y=\"105.4966\">hello</text><!--MD5=[f8b72a9f4d3bc11f976c75e46b9b476c]\n",
       "@startuml\n",
       "note over Alice : initial state of Alice\n",
       "/ note over Bob : initial state of Bob\n",
       "Bob -> Alice : hello\n",
       "@enduml\n",
       "\n",
       "PlantUML version 1.2021.9beta2(Unknown compile time)\n",
       "(GPL source distribution)\n",
       "Java Runtime: Java(TM) SE Runtime Environment\n",
       "JVM: Java HotSpot(TM) 64-Bit Server VM\n",
       "Default Encoding: UTF-8\n",
       "Language: en\n",
       "Country: US\n",
       "--></g></svg>"
      ],
      "text/plain": [
       "<IPython.core.display.SVG object>"
      ]
     },
     "execution_count": 25,
     "metadata": {},
     "output_type": "execute_result"
    }
   ],
   "source": [
    "%%plantuml\n",
    "\n",
    "@startuml\n",
    "note over Alice : initial state of Alice\n",
    "/ note over Bob : initial state of Bob\n",
    "Bob -> Alice : hello\n",
    "@enduml\n"
   ]
  },
  {
   "cell_type": "code",
   "execution_count": 26,
   "id": "e06064c1",
   "metadata": {},
   "outputs": [
    {
     "data": {
      "image/svg+xml": [
       "<svg xmlns=\"http://www.w3.org/2000/svg\" xmlns:xlink=\"http://www.w3.org/1999/xlink\" contentScriptType=\"application/ecmascript\" contentStyleType=\"text/css\" height=\"473px\" preserveAspectRatio=\"none\" style=\"width:437px;height:473px;background:#FFFFFF;\" version=\"1.1\" viewBox=\"0 0 437 473\" width=\"437px\" zoomAndPan=\"magnify\"><defs><filter height=\"300%\" id=\"f1o9tno6hsbyub\" width=\"300%\" x=\"-1\" y=\"-1\"><feGaussianBlur result=\"blurOut\" stdDeviation=\"2.0\"/><feColorMatrix in=\"blurOut\" result=\"blurOut2\" type=\"matrix\" values=\"0 0 0 0 0 0 0 0 0 0 0 0 0 0 0 0 0 0 .4 0\"/><feOffset dx=\"4.0\" dy=\"4.0\" in=\"blurOut2\" result=\"blurOut3\"/><feBlend in=\"SourceGraphic\" in2=\"blurOut3\" mode=\"normal\"/></filter><filter height=\"1\" id=\"b1o9tno6hsbyub0\" width=\"1\" x=\"0\" y=\"0\"><feFlood flood-color=\"#5F9EA0\" result=\"flood\"/><feComposite in=\"SourceGraphic\" in2=\"flood\" operator=\"over\"/></filter></defs><g><line style=\"stroke:#A80036;stroke-width:1.0;\" x1=\"158\" x2=\"158\" y1=\"40.2969\" y2=\"79.4297\"/><line style=\"stroke:#A80036;stroke-width:1.0;stroke-dasharray:1.0,4.0;\" x1=\"158\" x2=\"158\" y1=\"79.4297\" y2=\"120.2344\"/><line style=\"stroke:#A80036;stroke-width:1.0;\" x1=\"158\" x2=\"158\" y1=\"120.2344\" y2=\"429.7828\"/><line style=\"stroke:#A80036;stroke-width:1.0;\" x1=\"354\" x2=\"354\" y1=\"40.2969\" y2=\"79.4297\"/><line style=\"stroke:#A80036;stroke-width:1.0;stroke-dasharray:1.0,4.0;\" x1=\"354\" x2=\"354\" y1=\"79.4297\" y2=\"120.2344\"/><line style=\"stroke:#A80036;stroke-width:1.0;\" x1=\"354\" x2=\"354\" y1=\"120.2344\" y2=\"429.7828\"/><rect fill=\"#FEFECE\" filter=\"url(#f1o9tno6hsbyub)\" height=\"30.2969\" style=\"stroke:#A80036;stroke-width:1.5;\" width=\"49\" x=\"132\" y=\"5\"/><text fill=\"#000000\" font-family=\"sans-serif\" font-size=\"14\" lengthAdjust=\"spacing\" textLength=\"35\" x=\"139\" y=\"24.9951\">Alice</text><rect fill=\"#FEFECE\" filter=\"url(#f1o9tno6hsbyub)\" height=\"30.2969\" style=\"stroke:#A80036;stroke-width:1.5;\" width=\"49\" x=\"132\" y=\"428.7828\"/><text fill=\"#000000\" font-family=\"sans-serif\" font-size=\"14\" lengthAdjust=\"spacing\" textLength=\"35\" x=\"139\" y=\"448.7779\">Alice</text><rect fill=\"#FEFECE\" filter=\"url(#f1o9tno6hsbyub)\" height=\"30.2969\" style=\"stroke:#A80036;stroke-width:1.5;\" width=\"141\" x=\"282\" y=\"5\"/><text fill=\"#000000\" font-family=\"sans-serif\" font-size=\"14\" lengthAdjust=\"spacing\" textLength=\"27\" x=\"289\" y=\"24.9951\">The</text><text fill=\"#000000\" font-family=\"sans-serif\" font-size=\"14\" font-weight=\"bold\" lengthAdjust=\"spacing\" textLength=\"63\" x=\"320\" y=\"24.9951\">Famous</text><text fill=\"#000000\" font-family=\"sans-serif\" font-size=\"14\" lengthAdjust=\"spacing\" textLength=\"29\" x=\"387\" y=\"24.9951\">Bob</text><rect fill=\"#FEFECE\" filter=\"url(#f1o9tno6hsbyub)\" height=\"30.2969\" style=\"stroke:#A80036;stroke-width:1.5;\" width=\"141\" x=\"282\" y=\"428.7828\"/><text fill=\"#000000\" font-family=\"sans-serif\" font-size=\"14\" lengthAdjust=\"spacing\" textLength=\"27\" x=\"289\" y=\"448.7779\">The</text><text fill=\"#000000\" font-family=\"sans-serif\" font-size=\"14\" font-weight=\"bold\" lengthAdjust=\"spacing\" textLength=\"63\" x=\"320\" y=\"448.7779\">Famous</text><text fill=\"#000000\" font-family=\"sans-serif\" font-size=\"14\" lengthAdjust=\"spacing\" textLength=\"29\" x=\"387\" y=\"448.7779\">Bob</text><polygon fill=\"#A80036\" points=\"342.5,67.4297,352.5,71.4297,342.5,75.4297,346.5,71.4297\" style=\"stroke:#A80036;stroke-width:1.0;\"/><line style=\"stroke:#A80036;stroke-width:1.0;\" x1=\"158.5\" x2=\"348.5\" y1=\"71.4297\" y2=\"71.4297\"/><text fill=\"#000000\" font-family=\"sans-serif\" font-size=\"13\" lengthAdjust=\"spacing\" textLength=\"30\" x=\"165.5\" y=\"66.3638\">hello</text><text fill=\"#000000\" font-family=\"sans-serif\" font-size=\"13\" lengthAdjust=\"spacing\" text-decoration=\"line-through\" textLength=\"34\" x=\"199.5\" y=\"66.3638\">there</text><text fill=\"#000000\" font-family=\"sans-serif\" font-size=\"11\" lengthAdjust=\"spacing\" textLength=\"34\" x=\"207.5\" y=\"103.6401\">Some</text><text fill=\"#000000\" font-family=\"sans-serif\" font-size=\"11\" lengthAdjust=\"spacing\" text-decoration=\"wavy underline\" textLength=\"60\" x=\"245.5\" y=\"103.6401\">long delay</text><text fill=\"#000000\" font-family=\"sans-serif\" font-size=\"11\" lengthAdjust=\"spacing\" textLength=\"0\" x=\"309.5\" y=\"103.6401\"/><polygon fill=\"#A80036\" points=\"169.5,180.4328,159.5,184.4328,169.5,188.4328,165.5,184.4328\" style=\"stroke:#A80036;stroke-width:1.0;\"/><line style=\"stroke:#A80036;stroke-width:1.0;\" x1=\"163.5\" x2=\"353.5\" y1=\"184.4328\" y2=\"184.4328\"/><text fill=\"#000000\" font-family=\"sans-serif\" font-size=\"13\" lengthAdjust=\"spacing\" textLength=\"15\" x=\"175.5\" y=\"179.3669\">ok</text><path d=\"M5,125.2344 L5,226.2344 L150,226.2344 L150,135.2344 L140,125.2344 L5,125.2344 \" fill=\"#FBFB77\" filter=\"url(#f1o9tno6hsbyub)\" style=\"stroke:#A80036;stroke-width:1.0;\"/><path d=\"M140,125.2344 L140,135.2344 L150,135.2344 L140,125.2344 \" fill=\"#FBFB77\" style=\"stroke:#A80036;stroke-width:1.0;\"/><text fill=\"#000000\" font-family=\"sans-serif\" font-size=\"13\" lengthAdjust=\"spacing\" textLength=\"40\" x=\"11\" y=\"142.3013\">This is</text><text fill=\"#000000\" font-family=\"sans-serif\" font-size=\"13\" font-weight=\"bold\" lengthAdjust=\"spacing\" textLength=\"32\" x=\"55\" y=\"142.3013\">bold</text><text fill=\"#000000\" font-family=\"sans-serif\" font-size=\"13\" lengthAdjust=\"spacing\" textLength=\"40\" x=\"11\" y=\"157.4341\">This is</text><text fill=\"#000000\" font-family=\"sans-serif\" font-size=\"13\" font-style=\"italic\" lengthAdjust=\"spacing\" textLength=\"39\" x=\"55\" y=\"157.4341\">italics</text><text fill=\"#000000\" font-family=\"sans-serif\" font-size=\"13\" lengthAdjust=\"spacing\" textLength=\"40\" x=\"11\" y=\"173.0341\">This is</text><text fill=\"#000000\" font-family=\"monospace\" font-size=\"13\" lengthAdjust=\"spacing\" textLength=\"80\" x=\"55\" y=\"172.538\">monospaced</text><text fill=\"#000000\" font-family=\"sans-serif\" font-size=\"13\" lengthAdjust=\"spacing\" textLength=\"40\" x=\"11\" y=\"188.1669\">This is</text><text fill=\"#000000\" font-family=\"sans-serif\" font-size=\"13\" lengthAdjust=\"spacing\" text-decoration=\"line-through\" textLength=\"48\" x=\"55\" y=\"188.1669\">stroked</text><text fill=\"#000000\" font-family=\"sans-serif\" font-size=\"13\" lengthAdjust=\"spacing\" textLength=\"40\" x=\"11\" y=\"203.2997\">This is</text><text fill=\"#000000\" font-family=\"sans-serif\" font-size=\"13\" lengthAdjust=\"spacing\" text-decoration=\"underline\" textLength=\"67\" x=\"55\" y=\"203.2997\">underlined</text><text fill=\"#000000\" font-family=\"sans-serif\" font-size=\"13\" lengthAdjust=\"spacing\" textLength=\"40\" x=\"11\" y=\"218.4325\">This is</text><text fill=\"#000000\" font-family=\"sans-serif\" font-size=\"13\" lengthAdjust=\"spacing\" text-decoration=\"wavy underline\" textLength=\"43\" x=\"55\" y=\"218.4325\">waved</text><polygon fill=\"#A80036\" points=\"342.5,252.6313,352.5,256.6313,342.5,260.6313,346.5,256.6313\" style=\"stroke:#A80036;stroke-width:1.0;\"/><line style=\"stroke:#A80036;stroke-width:1.0;\" x1=\"158.5\" x2=\"348.5\" y1=\"256.6313\" y2=\"256.6313\"/><text fill=\"#000000\" font-family=\"sans-serif\" font-size=\"13\" lengthAdjust=\"spacing\" textLength=\"9\" x=\"165.5\" y=\"251.5653\">A</text><text fill=\"#000000\" font-family=\"sans-serif\" font-size=\"13\" font-style=\"italic\" lengthAdjust=\"spacing\" textLength=\"96\" x=\"178.5\" y=\"251.5653\">well formatted</text><text fill=\"#000000\" font-family=\"sans-serif\" font-size=\"13\" lengthAdjust=\"spacing\" textLength=\"59\" x=\"278.5\" y=\"251.5653\">message</text><path d=\"M163,269.6313 L163,315.6313 L315,315.6313 L315,279.6313 L305,269.6313 L163,269.6313 \" fill=\"#FBFB77\" filter=\"url(#f1o9tno6hsbyub)\" style=\"stroke:#A80036;stroke-width:1.0;\"/><path d=\"M305,269.6313 L305,279.6313 L315,279.6313 L305,269.6313 \" fill=\"#FBFB77\" style=\"stroke:#A80036;stroke-width:1.0;\"/><text fill=\"#000000\" font-family=\"sans-serif\" font-size=\"13\" lengthAdjust=\"spacing\" textLength=\"40\" x=\"169\" y=\"292.5185\">This is</text><text fill=\"#000000\" filter=\"url(#b1o9tno6hsbyub0)\" font-family=\"sans-serif\" font-size=\"18\" lengthAdjust=\"spacing\" textLength=\"87\" x=\"213\" y=\"291.3393\">displayed</text><text fill=\"#000000\" font-family=\"sans-serif\" font-size=\"13\" lengthAdjust=\"spacing\" text-decoration=\"underline\" textLength=\"38\" x=\"169\" y=\"307.6513\">left of</text><text fill=\"#000000\" font-family=\"sans-serif\" font-size=\"13\" lengthAdjust=\"spacing\" textLength=\"34\" x=\"211\" y=\"307.6513\">Alice.</text><path d=\"M196,329.7172 L196,369.7172 L345,369.7172 L345,339.7172 L335,329.7172 L196,329.7172 \" fill=\"#FBFB77\" filter=\"url(#f1o9tno6hsbyub)\" style=\"stroke:#A80036;stroke-width:1.0;\"/><path d=\"M335,329.7172 L335,339.7172 L345,339.7172 L335,329.7172 \" fill=\"#FBFB77\" style=\"stroke:#A80036;stroke-width:1.0;\"/><text fill=\"#000000\" font-family=\"sans-serif\" font-size=\"13\" lengthAdjust=\"spacing\" text-decoration=\"underline\" textLength=\"26\" x=\"202\" y=\"346.7841\">This</text><text fill=\"#000000\" font-family=\"sans-serif\" font-size=\"13\" lengthAdjust=\"spacing\" textLength=\"10\" x=\"232\" y=\"346.7841\">is</text><text fill=\"#118888\" font-family=\"sans-serif\" font-size=\"13\" lengthAdjust=\"spacing\" textLength=\"61\" x=\"246\" y=\"346.7841\">displayed</text><text fill=\"#800080\" font-family=\"sans-serif\" font-size=\"13\" font-weight=\"bold\" lengthAdjust=\"spacing\" textLength=\"50\" x=\"202\" y=\"361.9169\">left of</text><text fill=\"#000000\" font-family=\"sans-serif\" font-size=\"13\" font-weight=\"bold\" lengthAdjust=\"spacing\" textLength=\"0\" x=\"257\" y=\"361.9169\"/><text fill=\"#000000\" font-family=\"sans-serif\" font-size=\"13\" font-weight=\"bold\" lengthAdjust=\"spacing\" text-decoration=\"line-through\" textLength=\"35\" x=\"257\" y=\"361.9169\">Alice</text><text fill=\"#000000\" font-family=\"sans-serif\" font-size=\"13\" font-weight=\"bold\" lengthAdjust=\"spacing\" textLength=\"29\" x=\"297\" y=\"361.9169\">Bob</text><text fill=\"#000000\" font-family=\"sans-serif\" font-size=\"13\" lengthAdjust=\"spacing\" textLength=\"4\" x=\"326\" y=\"361.9169\">.</text><path d=\"M111,383.9828 L111,409.9828 L401,409.9828 L401,393.9828 L391,383.9828 L111,383.9828 \" fill=\"#FBFB77\" filter=\"url(#f1o9tno6hsbyub)\" style=\"stroke:#A80036;stroke-width:1.0;\"/><path d=\"M391,383.9828 L391,393.9828 L401,393.9828 L391,383.9828 \" fill=\"#FBFB77\" style=\"stroke:#A80036;stroke-width:1.0;\"/><text fill=\"#000000\" font-family=\"sans-serif\" font-size=\"13\" lengthAdjust=\"spacing\" text-decoration=\"wavy underline\" textLength=\"88\" x=\"133.5\" y=\"402.7168\">This is hosted</text><text fill=\"#000000\" font-family=\"sans-serif\" font-size=\"13\" lengthAdjust=\"spacing\" textLength=\"16\" x=\"225.5\" y=\"402.7168\">by</text><text fill=\"#000000\" font-family=\"monospace\" font-size=\"14\" lengthAdjust=\"spacing\" textLength=\"120\" x=\"245.5\" y=\"401.9468\">(Cannot decode)</text><!--MD5=[b140d9e9c912a755124bed42e766bac6]\n",
       "@startuml\n",
       "participant Alice\n",
       "participant \"The **Famous** Bob\" as Bob\n",
       "Alice -> Bob : hello - -there- -\n",
       "... Some ~~long delay~~ ...\n",
       "Bob -> Alice : ok\n",
       "note left\n",
       "This is **bold**\n",
       "This is //italics//\n",
       "This is \"\"monospaced\"\"\n",
       "This is - -stroked- -\n",
       "This is __underlined__\n",
       "This is ~~waved~~\n",
       "end note\n",
       "Alice -> Bob : A //well formatted// message\n",
       "note right of Alice\n",
       "This is <back:cadetblue><size:18>displayed</size></back>\n",
       "__left of__ Alice.\n",
       "end note\n",
       "note left of Bob\n",
       "<u:red>This</u> is <color #118888>displayed</color>\n",
       "**<color purple>left of</color> <s:red>Alice</strike> Bob**.\n",
       "end note\n",
       "note over Alice, Bob\n",
       "<w:#FF33FF>This is hosted</w> by <img sourceforge.jpg>\n",
       "end note\n",
       "@enduml\n",
       "\n",
       "PlantUML version 1.2021.9beta2(Unknown compile time)\n",
       "(GPL source distribution)\n",
       "Java Runtime: Java(TM) SE Runtime Environment\n",
       "JVM: Java HotSpot(TM) 64-Bit Server VM\n",
       "Default Encoding: UTF-8\n",
       "Language: en\n",
       "Country: US\n",
       "--></g></svg>"
      ],
      "text/plain": [
       "<IPython.core.display.SVG object>"
      ]
     },
     "execution_count": 26,
     "metadata": {},
     "output_type": "execute_result"
    }
   ],
   "source": [
    "%%plantuml\n",
    "\n",
    "@startuml\n",
    "participant Alice\n",
    "participant \"The **Famous** Bob\" as Bob\n",
    "Alice -> Bob : hello --there--\n",
    "... Some ~~long delay~~ ...\n",
    "Bob -> Alice : ok\n",
    "note left\n",
    "This is **bold**\n",
    "This is //italics//\n",
    "This is \"\"monospaced\"\"\n",
    "This is --stroked--\n",
    "This is __underlined__\n",
    "This is ~~waved~~\n",
    "end note\n",
    "Alice -> Bob : A //well formatted// message\n",
    "note right of Alice\n",
    "This is <back:cadetblue><size:18>displayed</size></back>\n",
    "__left of__ Alice.\n",
    "end note\n",
    "note left of Bob\n",
    "<u:red>This</u> is <color #118888>displayed</color>\n",
    "**<color purple>left of</color> <s:red>Alice</strike> Bob**.\n",
    "end note\n",
    "note over Alice, Bob\n",
    "<w:#FF33FF>This is hosted</w> by <img sourceforge.jpg>\n",
    "end note\n",
    "@enduml\n"
   ]
  },
  {
   "cell_type": "code",
   "execution_count": 27,
   "id": "3232e674",
   "metadata": {},
   "outputs": [
    {
     "data": {
      "image/svg+xml": [
       "<svg xmlns=\"http://www.w3.org/2000/svg\" xmlns:xlink=\"http://www.w3.org/1999/xlink\" contentScriptType=\"application/ecmascript\" contentStyleType=\"text/css\" height=\"306px\" preserveAspectRatio=\"none\" style=\"width:304px;height:306px;background:#FFFFFF;\" version=\"1.1\" viewBox=\"0 0 304 306\" width=\"304px\" zoomAndPan=\"magnify\"><defs><filter height=\"300%\" id=\"f1ttmcck799dfr\" width=\"300%\" x=\"-1\" y=\"-1\"><feGaussianBlur result=\"blurOut\" stdDeviation=\"2.0\"/><feColorMatrix in=\"blurOut\" result=\"blurOut2\" type=\"matrix\" values=\"0 0 0 0 0 0 0 0 0 0 0 0 0 0 0 0 0 0 .4 0\"/><feOffset dx=\"4.0\" dy=\"4.0\" in=\"blurOut2\" result=\"blurOut3\"/><feBlend in=\"SourceGraphic\" in2=\"blurOut3\" mode=\"normal\"/></filter></defs><g><line style=\"stroke:#A80036;stroke-width:1.0;stroke-dasharray:5.0,5.0;\" x1=\"31\" x2=\"31\" y1=\"40.2969\" y2=\"263.0938\"/><line style=\"stroke:#A80036;stroke-width:1.0;stroke-dasharray:5.0,5.0;\" x1=\"268\" x2=\"268\" y1=\"40.2969\" y2=\"263.0938\"/><rect fill=\"#FEFECE\" filter=\"url(#f1ttmcck799dfr)\" height=\"30.2969\" style=\"stroke:#A80036;stroke-width:1.5;\" width=\"49\" x=\"5\" y=\"5\"/><text fill=\"#000000\" font-family=\"sans-serif\" font-size=\"14\" lengthAdjust=\"spacing\" textLength=\"35\" x=\"12\" y=\"24.9951\">Alice</text><rect fill=\"#FEFECE\" filter=\"url(#f1ttmcck799dfr)\" height=\"30.2969\" style=\"stroke:#A80036;stroke-width:1.5;\" width=\"49\" x=\"5\" y=\"262.0938\"/><text fill=\"#000000\" font-family=\"sans-serif\" font-size=\"14\" lengthAdjust=\"spacing\" textLength=\"35\" x=\"12\" y=\"282.0889\">Alice</text><rect fill=\"#FEFECE\" filter=\"url(#f1ttmcck799dfr)\" height=\"30.2969\" style=\"stroke:#A80036;stroke-width:1.5;\" width=\"43\" x=\"245\" y=\"5\"/><text fill=\"#000000\" font-family=\"sans-serif\" font-size=\"14\" lengthAdjust=\"spacing\" textLength=\"29\" x=\"252\" y=\"24.9951\">Bob</text><rect fill=\"#FEFECE\" filter=\"url(#f1ttmcck799dfr)\" height=\"30.2969\" style=\"stroke:#A80036;stroke-width:1.5;\" width=\"43\" x=\"245\" y=\"262.0938\"/><text fill=\"#000000\" font-family=\"sans-serif\" font-size=\"14\" lengthAdjust=\"spacing\" textLength=\"29\" x=\"252\" y=\"282.0889\">Bob</text><rect fill=\"#EEEEEE\" filter=\"url(#f1ttmcck799dfr)\" height=\"3\" style=\"stroke:#EEEEEE;stroke-width:1.0;\" width=\"297\" x=\"0\" y=\"70.8633\"/><line style=\"stroke:#000000;stroke-width:1.0;\" x1=\"0\" x2=\"297\" y1=\"70.8633\" y2=\"70.8633\"/><line style=\"stroke:#000000;stroke-width:1.0;\" x1=\"0\" x2=\"297\" y1=\"73.8633\" y2=\"73.8633\"/><rect fill=\"#EEEEEE\" filter=\"url(#f1ttmcck799dfr)\" height=\"23.1328\" style=\"stroke:#000000;stroke-width:2.0;\" width=\"114\" x=\"91.5\" y=\"60.2969\"/><text fill=\"#000000\" font-family=\"sans-serif\" font-size=\"13\" font-weight=\"bold\" lengthAdjust=\"spacing\" textLength=\"95\" x=\"97.5\" y=\"76.3638\">Initialization</text><polygon fill=\"#A80036\" points=\"256.5,110.5625,266.5,114.5625,256.5,118.5625,260.5,114.5625\" style=\"stroke:#A80036;stroke-width:1.0;\"/><line style=\"stroke:#A80036;stroke-width:1.0;\" x1=\"31.5\" x2=\"262.5\" y1=\"114.5625\" y2=\"114.5625\"/><text fill=\"#000000\" font-family=\"sans-serif\" font-size=\"13\" lengthAdjust=\"spacing\" textLength=\"150\" x=\"38.5\" y=\"109.4966\">Authentication Request</text><polygon fill=\"#A80036\" points=\"42.5,139.6953,32.5,143.6953,42.5,147.6953,38.5,143.6953\" style=\"stroke:#A80036;stroke-width:1.0;\"/><line style=\"stroke:#A80036;stroke-width:1.0;stroke-dasharray:2.0,2.0;\" x1=\"36.5\" x2=\"267.5\" y1=\"143.6953\" y2=\"143.6953\"/><text fill=\"#000000\" font-family=\"sans-serif\" font-size=\"13\" lengthAdjust=\"spacing\" textLength=\"160\" x=\"48.5\" y=\"138.6294\">Authentication Response</text><rect fill=\"#EEEEEE\" filter=\"url(#f1ttmcck799dfr)\" height=\"3\" style=\"stroke:#EEEEEE;stroke-width:1.0;\" width=\"297\" x=\"0\" y=\"172.2617\"/><line style=\"stroke:#000000;stroke-width:1.0;\" x1=\"0\" x2=\"297\" y1=\"172.2617\" y2=\"172.2617\"/><line style=\"stroke:#000000;stroke-width:1.0;\" x1=\"0\" x2=\"297\" y1=\"175.2617\" y2=\"175.2617\"/><rect fill=\"#EEEEEE\" filter=\"url(#f1ttmcck799dfr)\" height=\"23.1328\" style=\"stroke:#000000;stroke-width:2.0;\" width=\"99\" x=\"99\" y=\"161.6953\"/><text fill=\"#000000\" font-family=\"sans-serif\" font-size=\"13\" font-weight=\"bold\" lengthAdjust=\"spacing\" textLength=\"80\" x=\"105\" y=\"177.7622\">Repetition</text><polygon fill=\"#A80036\" points=\"256.5,211.9609,266.5,215.9609,256.5,219.9609,260.5,215.9609\" style=\"stroke:#A80036;stroke-width:1.0;\"/><line style=\"stroke:#A80036;stroke-width:1.0;\" x1=\"31.5\" x2=\"262.5\" y1=\"215.9609\" y2=\"215.9609\"/><text fill=\"#000000\" font-family=\"sans-serif\" font-size=\"13\" lengthAdjust=\"spacing\" textLength=\"204\" x=\"38.5\" y=\"210.895\">Another authentication Request</text><polygon fill=\"#A80036\" points=\"42.5,241.0938,32.5,245.0938,42.5,249.0938,38.5,245.0938\" style=\"stroke:#A80036;stroke-width:1.0;\"/><line style=\"stroke:#A80036;stroke-width:1.0;stroke-dasharray:2.0,2.0;\" x1=\"36.5\" x2=\"267.5\" y1=\"245.0938\" y2=\"245.0938\"/><text fill=\"#000000\" font-family=\"sans-serif\" font-size=\"13\" lengthAdjust=\"spacing\" textLength=\"213\" x=\"48.5\" y=\"240.0278\">another authentication Response</text><!--MD5=[1a92c48b61346f6be584c8ebfe05beb2]\n",
       "@startuml\n",
       "== Initialization ==\n",
       "Alice -> Bob: Authentication Request\n",
       "Bob - -> Alice: Authentication Response\n",
       "== Repetition ==\n",
       "Alice -> Bob: Another authentication Request\n",
       "Alice <- - Bob: another authentication Response\n",
       "@enduml\n",
       "\n",
       "PlantUML version 1.2021.9beta2(Unknown compile time)\n",
       "(GPL source distribution)\n",
       "Java Runtime: Java(TM) SE Runtime Environment\n",
       "JVM: Java HotSpot(TM) 64-Bit Server VM\n",
       "Default Encoding: UTF-8\n",
       "Language: en\n",
       "Country: US\n",
       "--></g></svg>"
      ],
      "text/plain": [
       "<IPython.core.display.SVG object>"
      ]
     },
     "execution_count": 27,
     "metadata": {},
     "output_type": "execute_result"
    }
   ],
   "source": [
    "%%plantuml\n",
    "\n",
    "@startuml\n",
    "== Initialization ==\n",
    "Alice -> Bob: Authentication Request\n",
    "Bob --> Alice: Authentication Response\n",
    "== Repetition ==\n",
    "Alice -> Bob: Another authentication Request\n",
    "Alice <-- Bob: another authentication Response\n",
    "@enduml"
   ]
  },
  {
   "cell_type": "code",
   "execution_count": 28,
   "id": "42701cfa",
   "metadata": {},
   "outputs": [
    {
     "data": {
      "image/svg+xml": [
       "<svg xmlns=\"http://www.w3.org/2000/svg\" xmlns:xlink=\"http://www.w3.org/1999/xlink\" contentScriptType=\"application/ecmascript\" contentStyleType=\"text/css\" height=\"327px\" preserveAspectRatio=\"none\" style=\"width:175px;height:327px;background:#FFFFFF;\" version=\"1.1\" viewBox=\"0 0 175 327\" width=\"175px\" zoomAndPan=\"magnify\"><defs><filter height=\"300%\" id=\"f6zkdm10ooxi2\" width=\"300%\" x=\"-1\" y=\"-1\"><feGaussianBlur result=\"blurOut\" stdDeviation=\"2.0\"/><feColorMatrix in=\"blurOut\" result=\"blurOut2\" type=\"matrix\" values=\"0 0 0 0 0 0 0 0 0 0 0 0 0 0 0 0 0 0 .4 0\"/><feOffset dx=\"4.0\" dy=\"4.0\" in=\"blurOut2\" result=\"blurOut3\"/><feBlend in=\"SourceGraphic\" in2=\"blurOut3\" mode=\"normal\"/></filter></defs><g><line style=\"stroke:#A80036;stroke-width:1.0;stroke-dasharray:5.0,5.0;\" x1=\"31\" x2=\"31\" y1=\"88.2969\" y2=\"243.0938\"/><line style=\"stroke:#A80036;stroke-width:1.0;stroke-dasharray:5.0,5.0;\" x1=\"85\" x2=\"85\" y1=\"88.2969\" y2=\"243.0938\"/><rect fill=\"#FEFECE\" filter=\"url(#f6zkdm10ooxi2)\" height=\"30.2969\" style=\"stroke:#A80036;stroke-width:1.5;\" width=\"49\" x=\"5\" y=\"53\"/><text fill=\"#000000\" font-family=\"sans-serif\" font-size=\"14\" lengthAdjust=\"spacing\" textLength=\"35\" x=\"12\" y=\"72.9951\">Alice</text><rect fill=\"#FEFECE\" filter=\"url(#f6zkdm10ooxi2)\" height=\"30.2969\" style=\"stroke:#A80036;stroke-width:1.5;\" width=\"49\" x=\"5\" y=\"242.0938\"/><text fill=\"#000000\" font-family=\"sans-serif\" font-size=\"14\" lengthAdjust=\"spacing\" textLength=\"35\" x=\"12\" y=\"262.0889\">Alice</text><text fill=\"#000000\" font-family=\"sans-serif\" font-size=\"14\" lengthAdjust=\"spacing\" textLength=\"29\" x=\"68\" y=\"84.9951\">Bob</text><ellipse cx=\"85.5\" cy=\"15\" fill=\"#FEFECE\" filter=\"url(#f6zkdm10ooxi2)\" rx=\"8\" ry=\"8\" style=\"stroke:#A80036;stroke-width:2.0;\"/><path d=\"M85.5,23 L85.5,50 M72.5,31 L98.5,31 M85.5,50 L72.5,65 M85.5,50 L98.5,65 \" fill=\"none\" filter=\"url(#f6zkdm10ooxi2)\" style=\"stroke:#A80036;stroke-width:2.0;\"/><text fill=\"#000000\" font-family=\"sans-serif\" font-size=\"14\" lengthAdjust=\"spacing\" textLength=\"29\" x=\"68\" y=\"255.0889\">Bob</text><ellipse cx=\"85.5\" cy=\"268.3906\" fill=\"#FEFECE\" filter=\"url(#f6zkdm10ooxi2)\" rx=\"8\" ry=\"8\" style=\"stroke:#A80036;stroke-width:2.0;\"/><path d=\"M85.5,276.3906 L85.5,303.3906 M72.5,284.3906 L98.5,284.3906 M85.5,303.3906 L72.5,318.3906 M85.5,303.3906 L98.5,318.3906 \" fill=\"none\" filter=\"url(#f6zkdm10ooxi2)\" style=\"stroke:#A80036;stroke-width:2.0;\"/><rect fill=\"#FFFFFF\" filter=\"url(#f6zkdm10ooxi2)\" height=\"40.2656\" style=\"stroke:#000000;stroke-width:2.0;\" width=\"100\" x=\"2\" y=\"98.2969\"/><polygon fill=\"#EEEEEE\" points=\"2,98.2969,70,98.2969,70,105.2969,60,115.2969,2,115.2969,2,98.2969\" style=\"stroke:#000000;stroke-width:2.0;\"/><text fill=\"#000000\" font-family=\"sans-serif\" font-size=\"13\" font-weight=\"bold\" lengthAdjust=\"spacing\" textLength=\"23\" x=\"15\" y=\"112.3638\">ref</text><text fill=\"#000000\" font-family=\"sans-serif\" font-size=\"13\" lengthAdjust=\"spacing\" textLength=\"19\" x=\"44.5\" y=\"131.3638\">init</text><polygon fill=\"#A80036\" points=\"73.5,160.6953,83.5,164.6953,73.5,168.6953,77.5,164.6953\" style=\"stroke:#A80036;stroke-width:1.0;\"/><line style=\"stroke:#A80036;stroke-width:1.0;\" x1=\"31.5\" x2=\"79.5\" y1=\"164.6953\" y2=\"164.6953\"/><text fill=\"#000000\" font-family=\"sans-serif\" font-size=\"13\" lengthAdjust=\"spacing\" textLength=\"30\" x=\"38.5\" y=\"159.6294\">hello</text><rect fill=\"#FFFFFF\" filter=\"url(#f6zkdm10ooxi2)\" height=\"55.3984\" style=\"stroke:#000000;stroke-width:2.0;\" width=\"101\" x=\"65\" y=\"172.6953\"/><polygon fill=\"#EEEEEE\" points=\"65,172.6953,133,172.6953,133,179.6953,123,189.6953,65,189.6953,65,172.6953\" style=\"stroke:#000000;stroke-width:2.0;\"/><text fill=\"#000000\" font-family=\"sans-serif\" font-size=\"13\" font-weight=\"bold\" lengthAdjust=\"spacing\" textLength=\"23\" x=\"78\" y=\"186.7622\">ref</text><text fill=\"#000000\" font-family=\"sans-serif\" font-size=\"13\" lengthAdjust=\"spacing\" textLength=\"93\" x=\"71\" y=\"205.7622\">This can be on</text><text fill=\"#000000\" font-family=\"sans-serif\" font-size=\"13\" lengthAdjust=\"spacing\" textLength=\"80\" x=\"71\" y=\"220.895\">several lines</text><!--MD5=[61a8d0ba70047adea4c01dbe5d81b5ee]\n",
       "@startuml\n",
       "participant Alice\n",
       "actor Bob\n",
       "ref over Alice, Bob : init\n",
       "Alice -> Bob : hello\n",
       "ref over Bob\n",
       "This can be on\n",
       "several lines\n",
       "end ref\n",
       "@enduml\n",
       "\n",
       "PlantUML version 1.2021.9beta2(Unknown compile time)\n",
       "(GPL source distribution)\n",
       "Java Runtime: Java(TM) SE Runtime Environment\n",
       "JVM: Java HotSpot(TM) 64-Bit Server VM\n",
       "Default Encoding: UTF-8\n",
       "Language: en\n",
       "Country: US\n",
       "--></g></svg>"
      ],
      "text/plain": [
       "<IPython.core.display.SVG object>"
      ]
     },
     "execution_count": 28,
     "metadata": {},
     "output_type": "execute_result"
    }
   ],
   "source": [
    "%%plantuml\n",
    "\n",
    "@startuml\n",
    "participant Alice\n",
    "actor Bob\n",
    "ref over Alice, Bob : init\n",
    "Alice -> Bob : hello\n",
    "ref over Bob\n",
    "This can be on\n",
    "several lines\n",
    "end ref\n",
    "@enduml\n"
   ]
  },
  {
   "cell_type": "code",
   "execution_count": 29,
   "id": "54cfe1da",
   "metadata": {},
   "outputs": [
    {
     "data": {
      "image/svg+xml": [
       "<svg xmlns=\"http://www.w3.org/2000/svg\" xmlns:xlink=\"http://www.w3.org/1999/xlink\" contentScriptType=\"application/ecmascript\" contentStyleType=\"text/css\" height=\"259px\" preserveAspectRatio=\"none\" style=\"width:249px;height:259px;background:#FFFFFF;\" version=\"1.1\" viewBox=\"0 0 249 259\" width=\"249px\" zoomAndPan=\"magnify\"><defs><filter height=\"300%\" id=\"fyok41u22oyxk\" width=\"300%\" x=\"-1\" y=\"-1\"><feGaussianBlur result=\"blurOut\" stdDeviation=\"2.0\"/><feColorMatrix in=\"blurOut\" result=\"blurOut2\" type=\"matrix\" values=\"0 0 0 0 0 0 0 0 0 0 0 0 0 0 0 0 0 0 .4 0\"/><feOffset dx=\"4.0\" dy=\"4.0\" in=\"blurOut2\" result=\"blurOut3\"/><feBlend in=\"SourceGraphic\" in2=\"blurOut3\" mode=\"normal\"/></filter></defs><g><line style=\"stroke:#A80036;stroke-width:1.0;\" x1=\"31\" x2=\"31\" y1=\"40.2969\" y2=\"79.4297\"/><line style=\"stroke:#A80036;stroke-width:1.0;stroke-dasharray:1.0,4.0;\" x1=\"31\" x2=\"31\" y1=\"79.4297\" y2=\"107.4297\"/><line style=\"stroke:#A80036;stroke-width:1.0;\" x1=\"31\" x2=\"31\" y1=\"107.4297\" y2=\"136.5625\"/><line style=\"stroke:#A80036;stroke-width:1.0;stroke-dasharray:1.0,4.0;\" x1=\"31\" x2=\"31\" y1=\"136.5625\" y2=\"177.3672\"/><line style=\"stroke:#A80036;stroke-width:1.0;\" x1=\"31\" x2=\"31\" y1=\"177.3672\" y2=\"216.5\"/><line style=\"stroke:#A80036;stroke-width:1.0;\" x1=\"215\" x2=\"215\" y1=\"40.2969\" y2=\"79.4297\"/><line style=\"stroke:#A80036;stroke-width:1.0;stroke-dasharray:1.0,4.0;\" x1=\"215\" x2=\"215\" y1=\"79.4297\" y2=\"107.4297\"/><line style=\"stroke:#A80036;stroke-width:1.0;\" x1=\"215\" x2=\"215\" y1=\"107.4297\" y2=\"136.5625\"/><line style=\"stroke:#A80036;stroke-width:1.0;stroke-dasharray:1.0,4.0;\" x1=\"215\" x2=\"215\" y1=\"136.5625\" y2=\"177.3672\"/><line style=\"stroke:#A80036;stroke-width:1.0;\" x1=\"215\" x2=\"215\" y1=\"177.3672\" y2=\"216.5\"/><rect fill=\"#FEFECE\" filter=\"url(#fyok41u22oyxk)\" height=\"30.2969\" style=\"stroke:#A80036;stroke-width:1.5;\" width=\"49\" x=\"5\" y=\"5\"/><text fill=\"#000000\" font-family=\"sans-serif\" font-size=\"14\" lengthAdjust=\"spacing\" textLength=\"35\" x=\"12\" y=\"24.9951\">Alice</text><rect fill=\"#FEFECE\" filter=\"url(#fyok41u22oyxk)\" height=\"30.2969\" style=\"stroke:#A80036;stroke-width:1.5;\" width=\"49\" x=\"5\" y=\"215.5\"/><text fill=\"#000000\" font-family=\"sans-serif\" font-size=\"14\" lengthAdjust=\"spacing\" textLength=\"35\" x=\"12\" y=\"235.4951\">Alice</text><rect fill=\"#FEFECE\" filter=\"url(#fyok41u22oyxk)\" height=\"30.2969\" style=\"stroke:#A80036;stroke-width:1.5;\" width=\"43\" x=\"192\" y=\"5\"/><text fill=\"#000000\" font-family=\"sans-serif\" font-size=\"14\" lengthAdjust=\"spacing\" textLength=\"29\" x=\"199\" y=\"24.9951\">Bob</text><rect fill=\"#FEFECE\" filter=\"url(#fyok41u22oyxk)\" height=\"30.2969\" style=\"stroke:#A80036;stroke-width:1.5;\" width=\"43\" x=\"192\" y=\"215.5\"/><text fill=\"#000000\" font-family=\"sans-serif\" font-size=\"14\" lengthAdjust=\"spacing\" textLength=\"29\" x=\"199\" y=\"235.4951\">Bob</text><polygon fill=\"#A80036\" points=\"203.5,67.4297,213.5,71.4297,203.5,75.4297,207.5,71.4297\" style=\"stroke:#A80036;stroke-width:1.0;\"/><line style=\"stroke:#A80036;stroke-width:1.0;\" x1=\"31.5\" x2=\"209.5\" y1=\"71.4297\" y2=\"71.4297\"/><text fill=\"#000000\" font-family=\"sans-serif\" font-size=\"13\" lengthAdjust=\"spacing\" textLength=\"150\" x=\"38.5\" y=\"66.3638\">Authentication Request</text><polygon fill=\"#A80036\" points=\"42.5,124.5625,32.5,128.5625,42.5,132.5625,38.5,128.5625\" style=\"stroke:#A80036;stroke-width:1.0;\"/><line style=\"stroke:#A80036;stroke-width:1.0;stroke-dasharray:2.0,2.0;\" x1=\"36.5\" x2=\"214.5\" y1=\"128.5625\" y2=\"128.5625\"/><text fill=\"#000000\" font-family=\"sans-serif\" font-size=\"13\" lengthAdjust=\"spacing\" textLength=\"160\" x=\"48.5\" y=\"123.4966\">Authentication Response</text><text fill=\"#000000\" font-family=\"sans-serif\" font-size=\"11\" lengthAdjust=\"spacing\" textLength=\"87\" x=\"80\" y=\"160.7729\">5 minutes later</text><polygon fill=\"#A80036\" points=\"42.5,194.5,32.5,198.5,42.5,202.5,38.5,198.5\" style=\"stroke:#A80036;stroke-width:1.0;\"/><line style=\"stroke:#A80036;stroke-width:1.0;stroke-dasharray:2.0,2.0;\" x1=\"36.5\" x2=\"214.5\" y1=\"198.5\" y2=\"198.5\"/><text fill=\"#000000\" font-family=\"sans-serif\" font-size=\"13\" lengthAdjust=\"spacing\" textLength=\"33\" x=\"48.5\" y=\"193.4341\">Bye !</text><!--MD5=[c1a7f6513ace97dd290acaf4b2909538]\n",
       "@startuml\n",
       "Alice -> Bob: Authentication Request\n",
       "...\n",
       "Bob - -> Alice: Authentication Response\n",
       "...5 minutes later...\n",
       "Bob - -> Alice: Bye !\n",
       "@enduml\n",
       "\n",
       "PlantUML version 1.2021.9beta2(Unknown compile time)\n",
       "(GPL source distribution)\n",
       "Java Runtime: Java(TM) SE Runtime Environment\n",
       "JVM: Java HotSpot(TM) 64-Bit Server VM\n",
       "Default Encoding: UTF-8\n",
       "Language: en\n",
       "Country: US\n",
       "--></g></svg>"
      ],
      "text/plain": [
       "<IPython.core.display.SVG object>"
      ]
     },
     "execution_count": 29,
     "metadata": {},
     "output_type": "execute_result"
    }
   ],
   "source": [
    "%%plantuml\n",
    "\n",
    "@startuml\n",
    "Alice -> Bob: Authentication Request\n",
    "...\n",
    "Bob --> Alice: Authentication Response\n",
    "...5 minutes later...\n",
    "Bob --> Alice: Bye !\n",
    "@enduml\n"
   ]
  },
  {
   "cell_type": "code",
   "execution_count": 30,
   "id": "eccc2d08",
   "metadata": {},
   "outputs": [
    {
     "data": {
      "image/svg+xml": [
       "<svg xmlns=\"http://www.w3.org/2000/svg\" xmlns:xlink=\"http://www.w3.org/1999/xlink\" contentScriptType=\"application/ecmascript\" contentStyleType=\"text/css\" height=\"298px\" preserveAspectRatio=\"none\" style=\"width:125px;height:298px;background:#FFFFFF;\" version=\"1.1\" viewBox=\"0 0 125 298\" width=\"125px\" zoomAndPan=\"magnify\"><defs><filter height=\"300%\" id=\"f1xl9co87depqs\" width=\"300%\" x=\"-1\" y=\"-1\"><feGaussianBlur result=\"blurOut\" stdDeviation=\"2.0\"/><feColorMatrix in=\"blurOut\" result=\"blurOut2\" type=\"matrix\" values=\"0 0 0 0 0 0 0 0 0 0 0 0 0 0 0 0 0 0 .4 0\"/><feOffset dx=\"4.0\" dy=\"4.0\" in=\"blurOut2\" result=\"blurOut3\"/><feBlend in=\"SourceGraphic\" in2=\"blurOut3\" mode=\"normal\"/></filter></defs><g><line style=\"stroke:#A80036;stroke-width:1.0;stroke-dasharray:5.0,5.0;\" x1=\"18\" x2=\"18\" y1=\"40.2969\" y2=\"254.7578\"/><line style=\"stroke:#A80036;stroke-width:1.0;stroke-dasharray:5.0,5.0;\" x1=\"101\" x2=\"101\" y1=\"40.2969\" y2=\"254.7578\"/><rect fill=\"#FEFECE\" filter=\"url(#f1xl9co87depqs)\" height=\"30.2969\" style=\"stroke:#A80036;stroke-width:1.5;\" width=\"22\" x=\"5\" y=\"5\"/><text fill=\"#000000\" font-family=\"sans-serif\" font-size=\"14\" lengthAdjust=\"spacing\" textLength=\"8\" x=\"12\" y=\"24.9951\">a</text><rect fill=\"#FEFECE\" filter=\"url(#f1xl9co87depqs)\" height=\"30.2969\" style=\"stroke:#A80036;stroke-width:1.5;\" width=\"22\" x=\"5\" y=\"253.7578\"/><text fill=\"#000000\" font-family=\"sans-serif\" font-size=\"14\" lengthAdjust=\"spacing\" textLength=\"8\" x=\"12\" y=\"273.7529\">a</text><rect fill=\"#FEFECE\" filter=\"url(#f1xl9co87depqs)\" height=\"30.2969\" style=\"stroke:#A80036;stroke-width:1.5;\" width=\"24\" x=\"87\" y=\"5\"/><text fill=\"#000000\" font-family=\"sans-serif\" font-size=\"14\" lengthAdjust=\"spacing\" textLength=\"10\" x=\"94\" y=\"24.9951\">b</text><rect fill=\"#FEFECE\" filter=\"url(#f1xl9co87depqs)\" height=\"30.2969\" style=\"stroke:#A80036;stroke-width:1.5;\" width=\"24\" x=\"87\" y=\"253.7578\"/><text fill=\"#000000\" font-family=\"sans-serif\" font-size=\"14\" lengthAdjust=\"spacing\" textLength=\"10\" x=\"94\" y=\"273.7529\">b</text><polygon fill=\"#A80036\" points=\"89,112.8281,99,116.8281,89,120.8281,93,116.8281\" style=\"stroke:#A80036;stroke-width:1.0;\"/><line style=\"stroke:#A80036;stroke-width:1.0;\" x1=\"18\" x2=\"95\" y1=\"116.8281\" y2=\"116.8281\"/><text fill=\"#000000\" font-family=\"sans-serif\" font-size=\"13\" lengthAdjust=\"spacing\" textLength=\"23\" x=\"25\" y=\"66.3638\">this</text><text fill=\"#000000\" font-family=\"sans-serif\" font-size=\"13\" lengthAdjust=\"spacing\" textLength=\"10\" x=\"25\" y=\"81.4966\">is</text><text fill=\"#000000\" font-family=\"sans-serif\" font-size=\"13\" lengthAdjust=\"spacing\" textLength=\"59\" x=\"25\" y=\"96.6294\">manually</text><text fill=\"#000000\" font-family=\"sans-serif\" font-size=\"13\" lengthAdjust=\"spacing\" textLength=\"32\" x=\"25\" y=\"111.7622\">done</text><polygon fill=\"#A80036\" points=\"89,232.7578,99,236.7578,89,240.7578,93,236.7578\" style=\"stroke:#A80036;stroke-width:1.0;\"/><line style=\"stroke:#A80036;stroke-width:1.0;\" x1=\"18\" x2=\"95\" y1=\"236.7578\" y2=\"236.7578\"/><text fill=\"#000000\" font-family=\"sans-serif\" font-size=\"13\" lengthAdjust=\"spacing\" textLength=\"49\" x=\"25\" y=\"140.895\">this is a</text><text fill=\"#000000\" font-family=\"sans-serif\" font-size=\"13\" lengthAdjust=\"spacing\" textLength=\"29\" x=\"25\" y=\"156.0278\">very</text><text fill=\"#000000\" font-family=\"sans-serif\" font-size=\"13\" lengthAdjust=\"spacing\" textLength=\"27\" x=\"25\" y=\"171.1606\">long</text><text fill=\"#000000\" font-family=\"sans-serif\" font-size=\"13\" lengthAdjust=\"spacing\" textLength=\"59\" x=\"25\" y=\"186.2935\">message</text><text fill=\"#000000\" font-family=\"sans-serif\" font-size=\"13\" lengthAdjust=\"spacing\" textLength=\"16\" x=\"25\" y=\"201.4263\">on</text><text fill=\"#000000\" font-family=\"sans-serif\" font-size=\"13\" lengthAdjust=\"spacing\" textLength=\"47\" x=\"25\" y=\"216.5591\">several</text><text fill=\"#000000\" font-family=\"sans-serif\" font-size=\"13\" lengthAdjust=\"spacing\" textLength=\"39\" x=\"25\" y=\"231.6919\">words</text><!--MD5=[daff7eaee2cb468acb60c41ae9445075]\n",
       "@startuml\n",
       "skinparam maxMessageSize 50\n",
       "participant a\n",
       "participant b\n",
       "a -> b :this\\nis\\nmanually\\ndone\n",
       "a -> b :this is a very long message on several words\n",
       "@enduml\n",
       "\n",
       "PlantUML version 1.2021.9beta2(Unknown compile time)\n",
       "(GPL source distribution)\n",
       "Java Runtime: Java(TM) SE Runtime Environment\n",
       "JVM: Java HotSpot(TM) 64-Bit Server VM\n",
       "Default Encoding: UTF-8\n",
       "Language: en\n",
       "Country: US\n",
       "--></g></svg>"
      ],
      "text/plain": [
       "<IPython.core.display.SVG object>"
      ]
     },
     "execution_count": 30,
     "metadata": {},
     "output_type": "execute_result"
    }
   ],
   "source": [
    "%%plantuml\n",
    "\n",
    "@startuml\n",
    "skinparam maxMessageSize 50\n",
    "participant a\n",
    "participant b\n",
    "a -> b :this\\nis\\nmanually\\ndone\n",
    "a -> b :this is a very long message on several words\n",
    "@enduml"
   ]
  },
  {
   "cell_type": "code",
   "execution_count": 31,
   "id": "6bf2ffce",
   "metadata": {},
   "outputs": [
    {
     "data": {
      "image/svg+xml": [
       "<svg xmlns=\"http://www.w3.org/2000/svg\" xmlns:xlink=\"http://www.w3.org/1999/xlink\" contentScriptType=\"application/ecmascript\" contentStyleType=\"text/css\" height=\"348px\" preserveAspectRatio=\"none\" style=\"width:160px;height:348px;background:#FFFFFF;\" version=\"1.1\" viewBox=\"0 0 160 348\" width=\"160px\" zoomAndPan=\"magnify\"><defs><filter height=\"300%\" id=\"f1e7zje0ms07y5\" width=\"300%\" x=\"-1\" y=\"-1\"><feGaussianBlur result=\"blurOut\" stdDeviation=\"2.0\"/><feColorMatrix in=\"blurOut\" result=\"blurOut2\" type=\"matrix\" values=\"0 0 0 0 0 0 0 0 0 0 0 0 0 0 0 0 0 0 .4 0\"/><feOffset dx=\"4.0\" dy=\"4.0\" in=\"blurOut2\" result=\"blurOut3\"/><feBlend in=\"SourceGraphic\" in2=\"blurOut3\" mode=\"normal\"/></filter></defs><g><line style=\"stroke:#A80036;stroke-width:1.0;stroke-dasharray:5.0,5.0;\" x1=\"31\" x2=\"31\" y1=\"40.2969\" y2=\"305.0938\"/><line style=\"stroke:#A80036;stroke-width:1.0;stroke-dasharray:5.0,5.0;\" x1=\"126\" x2=\"126\" y1=\"40.2969\" y2=\"305.0938\"/><rect fill=\"#FEFECE\" filter=\"url(#f1e7zje0ms07y5)\" height=\"30.2969\" style=\"stroke:#A80036;stroke-width:1.5;\" width=\"49\" x=\"5\" y=\"5\"/><text fill=\"#000000\" font-family=\"sans-serif\" font-size=\"14\" lengthAdjust=\"spacing\" textLength=\"35\" x=\"12\" y=\"24.9951\">Alice</text><rect fill=\"#FEFECE\" filter=\"url(#f1e7zje0ms07y5)\" height=\"30.2969\" style=\"stroke:#A80036;stroke-width:1.5;\" width=\"49\" x=\"5\" y=\"304.0938\"/><text fill=\"#000000\" font-family=\"sans-serif\" font-size=\"14\" lengthAdjust=\"spacing\" textLength=\"35\" x=\"12\" y=\"324.0889\">Alice</text><rect fill=\"#FEFECE\" filter=\"url(#f1e7zje0ms07y5)\" height=\"30.2969\" style=\"stroke:#A80036;stroke-width:1.5;\" width=\"43\" x=\"103\" y=\"5\"/><text fill=\"#000000\" font-family=\"sans-serif\" font-size=\"14\" lengthAdjust=\"spacing\" textLength=\"29\" x=\"110\" y=\"24.9951\">Bob</text><rect fill=\"#FEFECE\" filter=\"url(#f1e7zje0ms07y5)\" height=\"30.2969\" style=\"stroke:#A80036;stroke-width:1.5;\" width=\"43\" x=\"103\" y=\"304.0938\"/><text fill=\"#000000\" font-family=\"sans-serif\" font-size=\"14\" lengthAdjust=\"spacing\" textLength=\"29\" x=\"110\" y=\"324.0889\">Bob</text><polygon fill=\"#A80036\" points=\"114.5,67.4297,124.5,71.4297,114.5,75.4297,118.5,71.4297\" style=\"stroke:#A80036;stroke-width:1.0;\"/><line style=\"stroke:#A80036;stroke-width:1.0;\" x1=\"31.5\" x2=\"120.5\" y1=\"71.4297\" y2=\"71.4297\"/><text fill=\"#000000\" font-family=\"sans-serif\" font-size=\"13\" lengthAdjust=\"spacing\" textLength=\"71\" x=\"38.5\" y=\"66.3638\">message 1</text><polygon fill=\"#A80036\" points=\"42.5,96.5625,32.5,100.5625,42.5,104.5625,38.5,100.5625\" style=\"stroke:#A80036;stroke-width:1.0;\"/><line style=\"stroke:#A80036;stroke-width:1.0;stroke-dasharray:2.0,2.0;\" x1=\"36.5\" x2=\"125.5\" y1=\"100.5625\" y2=\"100.5625\"/><text fill=\"#000000\" font-family=\"sans-serif\" font-size=\"13\" lengthAdjust=\"spacing\" textLength=\"15\" x=\"48.5\" y=\"95.4966\">ok</text><polygon fill=\"#A80036\" points=\"114.5,150.6953,124.5,154.6953,114.5,158.6953,118.5,154.6953\" style=\"stroke:#A80036;stroke-width:1.0;\"/><line style=\"stroke:#A80036;stroke-width:1.0;\" x1=\"31.5\" x2=\"120.5\" y1=\"154.6953\" y2=\"154.6953\"/><text fill=\"#000000\" font-family=\"sans-serif\" font-size=\"13\" lengthAdjust=\"spacing\" textLength=\"71\" x=\"38.5\" y=\"149.6294\">message 2</text><polygon fill=\"#A80036\" points=\"42.5,179.8281,32.5,183.8281,42.5,187.8281,38.5,183.8281\" style=\"stroke:#A80036;stroke-width:1.0;\"/><line style=\"stroke:#A80036;stroke-width:1.0;stroke-dasharray:2.0,2.0;\" x1=\"36.5\" x2=\"125.5\" y1=\"183.8281\" y2=\"183.8281\"/><text fill=\"#000000\" font-family=\"sans-serif\" font-size=\"13\" lengthAdjust=\"spacing\" textLength=\"15\" x=\"48.5\" y=\"178.7622\">ok</text><polygon fill=\"#A80036\" points=\"114.5,253.9609,124.5,257.9609,114.5,261.9609,118.5,257.9609\" style=\"stroke:#A80036;stroke-width:1.0;\"/><line style=\"stroke:#A80036;stroke-width:1.0;\" x1=\"31.5\" x2=\"120.5\" y1=\"257.9609\" y2=\"257.9609\"/><text fill=\"#000000\" font-family=\"sans-serif\" font-size=\"13\" lengthAdjust=\"spacing\" textLength=\"71\" x=\"38.5\" y=\"252.895\">message 3</text><polygon fill=\"#A80036\" points=\"42.5,283.0938,32.5,287.0938,42.5,291.0938,38.5,287.0938\" style=\"stroke:#A80036;stroke-width:1.0;\"/><line style=\"stroke:#A80036;stroke-width:1.0;stroke-dasharray:2.0,2.0;\" x1=\"36.5\" x2=\"125.5\" y1=\"287.0938\" y2=\"287.0938\"/><text fill=\"#000000\" font-family=\"sans-serif\" font-size=\"13\" lengthAdjust=\"spacing\" textLength=\"15\" x=\"48.5\" y=\"282.0278\">ok</text><!--MD5=[1fd70ea9de7be6730f2eed808f613946]\n",
       "@startuml\n",
       "Alice -> Bob: message 1\n",
       "Bob - -> Alice: ok\n",
       "|||\n",
       "Alice -> Bob: message 2\n",
       "Bob - -> Alice: ok\n",
       "||45||\n",
       "Alice -> Bob: message 3\n",
       "Bob - -> Alice: ok\n",
       "@enduml\n",
       "\n",
       "PlantUML version 1.2021.9beta2(Unknown compile time)\n",
       "(GPL source distribution)\n",
       "Java Runtime: Java(TM) SE Runtime Environment\n",
       "JVM: Java HotSpot(TM) 64-Bit Server VM\n",
       "Default Encoding: UTF-8\n",
       "Language: en\n",
       "Country: US\n",
       "--></g></svg>"
      ],
      "text/plain": [
       "<IPython.core.display.SVG object>"
      ]
     },
     "execution_count": 31,
     "metadata": {},
     "output_type": "execute_result"
    }
   ],
   "source": [
    "%%plantuml\n",
    "\n",
    "@startuml\n",
    "Alice -> Bob: message 1\n",
    "Bob --> Alice: ok\n",
    "|||\n",
    "Alice -> Bob: message 2\n",
    "Bob --> Alice: ok\n",
    "||45||\n",
    "Alice -> Bob: message 3\n",
    "Bob --> Alice: ok\n",
    "@enduml"
   ]
  },
  {
   "cell_type": "code",
   "execution_count": 32,
   "id": "2a4cbda2",
   "metadata": {},
   "outputs": [
    {
     "data": {
      "image/svg+xml": [
       "<svg xmlns=\"http://www.w3.org/2000/svg\" xmlns:xlink=\"http://www.w3.org/1999/xlink\" contentScriptType=\"application/ecmascript\" contentStyleType=\"text/css\" height=\"278px\" preserveAspectRatio=\"none\" style=\"width:400px;height:278px;background:#FFFFFF;\" version=\"1.1\" viewBox=\"0 0 400 278\" width=\"400px\" zoomAndPan=\"magnify\"><defs><filter height=\"300%\" id=\"f5v0q4ws2y4xv\" width=\"300%\" x=\"-1\" y=\"-1\"><feGaussianBlur result=\"blurOut\" stdDeviation=\"2.0\"/><feColorMatrix in=\"blurOut\" result=\"blurOut2\" type=\"matrix\" values=\"0 0 0 0 0 0 0 0 0 0 0 0 0 0 0 0 0 0 .4 0\"/><feOffset dx=\"4.0\" dy=\"4.0\" in=\"blurOut2\" result=\"blurOut3\"/><feBlend in=\"SourceGraphic\" in2=\"blurOut3\" mode=\"normal\"/></filter></defs><g><rect fill=\"#FFFFFF\" filter=\"url(#f5v0q4ws2y4xv)\" height=\"145.6641\" style=\"stroke:#A80036;stroke-width:1.0;\" width=\"10\" x=\"99.5\" y=\"71.4297\"/><rect fill=\"#FFFFFF\" filter=\"url(#f5v0q4ws2y4xv)\" height=\"87.3984\" style=\"stroke:#A80036;stroke-width:1.0;\" width=\"10\" x=\"270.5\" y=\"100.5625\"/><rect fill=\"#FFFFFF\" filter=\"url(#f5v0q4ws2y4xv)\" height=\"29.1328\" style=\"stroke:#A80036;stroke-width:1.0;\" width=\"10\" x=\"371.5\" y=\"129.6953\"/><line style=\"stroke:#A80036;stroke-width:1.0;stroke-dasharray:5.0,5.0;\" x1=\"29\" x2=\"29\" y1=\"40.2969\" y2=\"235.0938\"/><line style=\"stroke:#A80036;stroke-width:1.0;stroke-dasharray:5.0,5.0;\" x1=\"104.5\" x2=\"104.5\" y1=\"40.2969\" y2=\"235.0938\"/><line style=\"stroke:#A80036;stroke-width:1.0;stroke-dasharray:5.0,5.0;\" x1=\"275.5\" x2=\"275.5\" y1=\"40.2969\" y2=\"235.0938\"/><line style=\"stroke:#A80036;stroke-width:1.0;stroke-dasharray:5.0,5.0;\" x1=\"376.5\" x2=\"376.5\" y1=\"40.2969\" y2=\"235.0938\"/><rect fill=\"#FEFECE\" filter=\"url(#f5v0q4ws2y4xv)\" height=\"30.2969\" style=\"stroke:#A80036;stroke-width:1.5;\" width=\"45\" x=\"5\" y=\"5\"/><text fill=\"#000000\" font-family=\"sans-serif\" font-size=\"14\" lengthAdjust=\"spacing\" textLength=\"31\" x=\"12\" y=\"24.9951\">User</text><rect fill=\"#FEFECE\" filter=\"url(#f5v0q4ws2y4xv)\" height=\"30.2969\" style=\"stroke:#A80036;stroke-width:1.5;\" width=\"45\" x=\"5\" y=\"234.0938\"/><text fill=\"#000000\" font-family=\"sans-serif\" font-size=\"14\" lengthAdjust=\"spacing\" textLength=\"31\" x=\"12\" y=\"254.0889\">User</text><rect fill=\"#FEFECE\" filter=\"url(#f5v0q4ws2y4xv)\" height=\"30.2969\" style=\"stroke:#A80036;stroke-width:1.5;\" width=\"24\" x=\"90.5\" y=\"5\"/><text fill=\"#000000\" font-family=\"sans-serif\" font-size=\"14\" lengthAdjust=\"spacing\" textLength=\"10\" x=\"97.5\" y=\"24.9951\">A</text><rect fill=\"#FEFECE\" filter=\"url(#f5v0q4ws2y4xv)\" height=\"30.2969\" style=\"stroke:#A80036;stroke-width:1.5;\" width=\"24\" x=\"90.5\" y=\"234.0938\"/><text fill=\"#000000\" font-family=\"sans-serif\" font-size=\"14\" lengthAdjust=\"spacing\" textLength=\"10\" x=\"97.5\" y=\"254.0889\">A</text><rect fill=\"#FEFECE\" filter=\"url(#f5v0q4ws2y4xv)\" height=\"30.2969\" style=\"stroke:#A80036;stroke-width:1.5;\" width=\"24\" x=\"261.5\" y=\"5\"/><text fill=\"#000000\" font-family=\"sans-serif\" font-size=\"14\" lengthAdjust=\"spacing\" textLength=\"10\" x=\"268.5\" y=\"24.9951\">B</text><rect fill=\"#FEFECE\" filter=\"url(#f5v0q4ws2y4xv)\" height=\"30.2969\" style=\"stroke:#A80036;stroke-width:1.5;\" width=\"24\" x=\"261.5\" y=\"234.0938\"/><text fill=\"#000000\" font-family=\"sans-serif\" font-size=\"14\" lengthAdjust=\"spacing\" textLength=\"10\" x=\"268.5\" y=\"254.0889\">B</text><rect fill=\"#FEFECE\" filter=\"url(#f5v0q4ws2y4xv)\" height=\"30.2969\" style=\"stroke:#A80036;stroke-width:1.5;\" width=\"24\" x=\"362.5\" y=\"5\"/><text fill=\"#000000\" font-family=\"sans-serif\" font-size=\"14\" lengthAdjust=\"spacing\" textLength=\"10\" x=\"369.5\" y=\"24.9951\">C</text><rect fill=\"#FEFECE\" filter=\"url(#f5v0q4ws2y4xv)\" height=\"30.2969\" style=\"stroke:#A80036;stroke-width:1.5;\" width=\"24\" x=\"362.5\" y=\"234.0938\"/><text fill=\"#000000\" font-family=\"sans-serif\" font-size=\"14\" lengthAdjust=\"spacing\" textLength=\"10\" x=\"369.5\" y=\"254.0889\">C</text><rect fill=\"#FFFFFF\" filter=\"url(#f5v0q4ws2y4xv)\" height=\"145.6641\" style=\"stroke:#A80036;stroke-width:1.0;\" width=\"10\" x=\"99.5\" y=\"71.4297\"/><rect fill=\"#FFFFFF\" filter=\"url(#f5v0q4ws2y4xv)\" height=\"87.3984\" style=\"stroke:#A80036;stroke-width:1.0;\" width=\"10\" x=\"270.5\" y=\"100.5625\"/><rect fill=\"#FFFFFF\" filter=\"url(#f5v0q4ws2y4xv)\" height=\"29.1328\" style=\"stroke:#A80036;stroke-width:1.0;\" width=\"10\" x=\"371.5\" y=\"129.6953\"/><polygon fill=\"#A80036\" points=\"87.5,67.4297,97.5,71.4297,87.5,75.4297,91.5,71.4297\" style=\"stroke:#A80036;stroke-width:1.0;\"/><line style=\"stroke:#A80036;stroke-width:1.0;\" x1=\"29.5\" x2=\"93.5\" y1=\"71.4297\" y2=\"71.4297\"/><text fill=\"#000000\" font-family=\"sans-serif\" font-size=\"13\" lengthAdjust=\"spacing\" textLength=\"51\" x=\"36.5\" y=\"66.3638\">DoWork</text><polygon fill=\"#A80036\" points=\"258.5,96.5625,268.5,100.5625,258.5,104.5625,262.5,100.5625\" style=\"stroke:#A80036;stroke-width:1.0;\"/><line style=\"stroke:#A80036;stroke-width:1.0;\" x1=\"109.5\" x2=\"264.5\" y1=\"100.5625\" y2=\"100.5625\"/><text fill=\"#000000\" font-family=\"sans-serif\" font-size=\"13\" lengthAdjust=\"spacing\" textLength=\"142\" x=\"116.5\" y=\"95.4966\">&lt;&lt; createRequest &gt;&gt;</text><polygon fill=\"#A80036\" points=\"359.5,125.6953,369.5,129.6953,359.5,133.6953,363.5,129.6953\" style=\"stroke:#A80036;stroke-width:1.0;\"/><line style=\"stroke:#A80036;stroke-width:1.0;\" x1=\"280.5\" x2=\"365.5\" y1=\"129.6953\" y2=\"129.6953\"/><text fill=\"#000000\" font-family=\"sans-serif\" font-size=\"13\" lengthAdjust=\"spacing\" textLength=\"51\" x=\"287.5\" y=\"124.6294\">DoWork</text><polygon fill=\"#A80036\" points=\"291.5,154.8281,281.5,158.8281,291.5,162.8281,287.5,158.8281\" style=\"stroke:#A80036;stroke-width:1.0;\"/><line style=\"stroke:#A80036;stroke-width:1.0;stroke-dasharray:2.0,2.0;\" x1=\"285.5\" x2=\"375.5\" y1=\"158.8281\" y2=\"158.8281\"/><text fill=\"#000000\" font-family=\"sans-serif\" font-size=\"13\" lengthAdjust=\"spacing\" textLength=\"67\" x=\"297.5\" y=\"153.7622\">WorkDone</text><line style=\"stroke:#A80036;stroke-width:2.0;\" x1=\"367.5\" x2=\"385.5\" y1=\"149.8281\" y2=\"167.8281\"/><line style=\"stroke:#A80036;stroke-width:2.0;\" x1=\"367.5\" x2=\"385.5\" y1=\"167.8281\" y2=\"149.8281\"/><polygon fill=\"#A80036\" points=\"120.5,183.9609,110.5,187.9609,120.5,191.9609,116.5,187.9609\" style=\"stroke:#A80036;stroke-width:1.0;\"/><line style=\"stroke:#A80036;stroke-width:1.0;stroke-dasharray:2.0,2.0;\" x1=\"114.5\" x2=\"274.5\" y1=\"187.9609\" y2=\"187.9609\"/><text fill=\"#000000\" font-family=\"sans-serif\" font-size=\"13\" lengthAdjust=\"spacing\" textLength=\"104\" x=\"126.5\" y=\"182.895\">RequestCreated</text><polygon fill=\"#A80036\" points=\"40.5,213.0938,30.5,217.0938,40.5,221.0938,36.5,217.0938\" style=\"stroke:#A80036;stroke-width:1.0;\"/><line style=\"stroke:#A80036;stroke-width:1.0;\" x1=\"34.5\" x2=\"103.5\" y1=\"217.0938\" y2=\"217.0938\"/><text fill=\"#000000\" font-family=\"sans-serif\" font-size=\"13\" lengthAdjust=\"spacing\" textLength=\"34\" x=\"46.5\" y=\"212.0278\">Done</text><!--MD5=[e9023260cd3f6a34d620292e01cd1e39]\n",
       "@startuml\n",
       "participant User\n",
       "User -> A: DoWork\n",
       "activate A\n",
       "A -> B: << createRequest >>\n",
       "activate B\n",
       "B -> C: DoWork\n",
       "activate C\n",
       "C - -> B: WorkDone\n",
       "destroy C\n",
       "B - -> A: RequestCreated\n",
       "deactivate B\n",
       "A -> User: Done\n",
       "deactivate A\n",
       "@enduml\n",
       "\n",
       "PlantUML version 1.2021.9beta2(Unknown compile time)\n",
       "(GPL source distribution)\n",
       "Java Runtime: Java(TM) SE Runtime Environment\n",
       "JVM: Java HotSpot(TM) 64-Bit Server VM\n",
       "Default Encoding: UTF-8\n",
       "Language: en\n",
       "Country: US\n",
       "--></g></svg>"
      ],
      "text/plain": [
       "<IPython.core.display.SVG object>"
      ]
     },
     "execution_count": 32,
     "metadata": {},
     "output_type": "execute_result"
    }
   ],
   "source": [
    "%%plantuml\n",
    "\n",
    "@startuml\n",
    "participant User\n",
    "User -> A: DoWork\n",
    "activate A\n",
    "A -> B: << createRequest >>\n",
    "activate B\n",
    "B -> C: DoWork\n",
    "activate C\n",
    "C --> B: WorkDone\n",
    "destroy C\n",
    "B --> A: RequestCreated\n",
    "deactivate B\n",
    "A -> User: Done\n",
    "deactivate A\n",
    "@enduml"
   ]
  },
  {
   "cell_type": "code",
   "execution_count": 33,
   "id": "db33b5e1",
   "metadata": {},
   "outputs": [
    {
     "data": {
      "image/svg+xml": [
       "<svg xmlns=\"http://www.w3.org/2000/svg\" xmlns:xlink=\"http://www.w3.org/1999/xlink\" contentScriptType=\"application/ecmascript\" contentStyleType=\"text/css\" height=\"262px\" preserveAspectRatio=\"none\" style=\"width:304px;height:262px;background:#FFFFFF;\" version=\"1.1\" viewBox=\"0 0 304 262\" width=\"304px\" zoomAndPan=\"magnify\"><defs><filter height=\"300%\" id=\"foj5swpx6gw3e\" width=\"300%\" x=\"-1\" y=\"-1\"><feGaussianBlur result=\"blurOut\" stdDeviation=\"2.0\"/><feColorMatrix in=\"blurOut\" result=\"blurOut2\" type=\"matrix\" values=\"0 0 0 0 0 0 0 0 0 0 0 0 0 0 0 0 0 0 .4 0\"/><feOffset dx=\"4.0\" dy=\"4.0\" in=\"blurOut2\" result=\"blurOut3\"/><feBlend in=\"SourceGraphic\" in2=\"blurOut3\" mode=\"normal\"/></filter></defs><g><rect fill=\"#FFBBBB\" filter=\"url(#foj5swpx6gw3e)\" height=\"129.5313\" style=\"stroke:#A80036;stroke-width:1.0;\" width=\"10\" x=\"99.5\" y=\"71.4297\"/><rect fill=\"#E9967A\" filter=\"url(#foj5swpx6gw3e)\" height=\"63.2656\" style=\"stroke:#A80036;stroke-width:1.0;\" width=\"10\" x=\"104.5\" y=\"108.5625\"/><rect fill=\"#FFFFFF\" filter=\"url(#foj5swpx6gw3e)\" height=\"29.1328\" style=\"stroke:#A80036;stroke-width:1.0;\" width=\"10\" x=\"275.5\" y=\"142.6953\"/><line style=\"stroke:#A80036;stroke-width:1.0;stroke-dasharray:5.0,5.0;\" x1=\"29\" x2=\"29\" y1=\"40.2969\" y2=\"218.9609\"/><line style=\"stroke:#A80036;stroke-width:1.0;stroke-dasharray:5.0,5.0;\" x1=\"104.5\" x2=\"104.5\" y1=\"40.2969\" y2=\"218.9609\"/><line style=\"stroke:#A80036;stroke-width:1.0;stroke-dasharray:5.0,5.0;\" x1=\"280.5\" x2=\"280.5\" y1=\"40.2969\" y2=\"218.9609\"/><rect fill=\"#FEFECE\" filter=\"url(#foj5swpx6gw3e)\" height=\"30.2969\" style=\"stroke:#A80036;stroke-width:1.5;\" width=\"45\" x=\"5\" y=\"5\"/><text fill=\"#000000\" font-family=\"sans-serif\" font-size=\"14\" lengthAdjust=\"spacing\" textLength=\"31\" x=\"12\" y=\"24.9951\">User</text><rect fill=\"#FEFECE\" filter=\"url(#foj5swpx6gw3e)\" height=\"30.2969\" style=\"stroke:#A80036;stroke-width:1.5;\" width=\"45\" x=\"5\" y=\"217.9609\"/><text fill=\"#000000\" font-family=\"sans-serif\" font-size=\"14\" lengthAdjust=\"spacing\" textLength=\"31\" x=\"12\" y=\"237.9561\">User</text><rect fill=\"#FEFECE\" filter=\"url(#foj5swpx6gw3e)\" height=\"30.2969\" style=\"stroke:#A80036;stroke-width:1.5;\" width=\"24\" x=\"90.5\" y=\"5\"/><text fill=\"#000000\" font-family=\"sans-serif\" font-size=\"14\" lengthAdjust=\"spacing\" textLength=\"10\" x=\"97.5\" y=\"24.9951\">A</text><rect fill=\"#FEFECE\" filter=\"url(#foj5swpx6gw3e)\" height=\"30.2969\" style=\"stroke:#A80036;stroke-width:1.5;\" width=\"24\" x=\"90.5\" y=\"217.9609\"/><text fill=\"#000000\" font-family=\"sans-serif\" font-size=\"14\" lengthAdjust=\"spacing\" textLength=\"10\" x=\"97.5\" y=\"237.9561\">A</text><rect fill=\"#FEFECE\" filter=\"url(#foj5swpx6gw3e)\" height=\"30.2969\" style=\"stroke:#A80036;stroke-width:1.5;\" width=\"24\" x=\"266.5\" y=\"5\"/><text fill=\"#000000\" font-family=\"sans-serif\" font-size=\"14\" lengthAdjust=\"spacing\" textLength=\"10\" x=\"273.5\" y=\"24.9951\">B</text><rect fill=\"#FEFECE\" filter=\"url(#foj5swpx6gw3e)\" height=\"30.2969\" style=\"stroke:#A80036;stroke-width:1.5;\" width=\"24\" x=\"266.5\" y=\"217.9609\"/><text fill=\"#000000\" font-family=\"sans-serif\" font-size=\"14\" lengthAdjust=\"spacing\" textLength=\"10\" x=\"273.5\" y=\"237.9561\">B</text><rect fill=\"#FFBBBB\" filter=\"url(#foj5swpx6gw3e)\" height=\"129.5313\" style=\"stroke:#A80036;stroke-width:1.0;\" width=\"10\" x=\"99.5\" y=\"71.4297\"/><rect fill=\"#E9967A\" filter=\"url(#foj5swpx6gw3e)\" height=\"63.2656\" style=\"stroke:#A80036;stroke-width:1.0;\" width=\"10\" x=\"104.5\" y=\"108.5625\"/><rect fill=\"#FFFFFF\" filter=\"url(#foj5swpx6gw3e)\" height=\"29.1328\" style=\"stroke:#A80036;stroke-width:1.0;\" width=\"10\" x=\"275.5\" y=\"142.6953\"/><polygon fill=\"#A80036\" points=\"87.5,67.4297,97.5,71.4297,87.5,75.4297,91.5,71.4297\" style=\"stroke:#A80036;stroke-width:1.0;\"/><line style=\"stroke:#A80036;stroke-width:1.0;\" x1=\"29.5\" x2=\"93.5\" y1=\"71.4297\" y2=\"71.4297\"/><text fill=\"#000000\" font-family=\"sans-serif\" font-size=\"13\" lengthAdjust=\"spacing\" textLength=\"51\" x=\"36.5\" y=\"66.3638\">DoWork</text><line style=\"stroke:#A80036;stroke-width:1.0;\" x1=\"109.5\" x2=\"156.5\" y1=\"95.5625\" y2=\"95.5625\"/><line style=\"stroke:#A80036;stroke-width:1.0;\" x1=\"156.5\" x2=\"156.5\" y1=\"95.5625\" y2=\"108.5625\"/><line style=\"stroke:#A80036;stroke-width:1.0;\" x1=\"115.5\" x2=\"156.5\" y1=\"108.5625\" y2=\"108.5625\"/><polygon fill=\"#A80036\" points=\"125.5,104.5625,115.5,108.5625,125.5,112.5625,121.5,108.5625\" style=\"stroke:#A80036;stroke-width:1.0;\"/><text fill=\"#000000\" font-family=\"sans-serif\" font-size=\"13\" lengthAdjust=\"spacing\" textLength=\"73\" x=\"121.5\" y=\"90.4966\">Internal call</text><polygon fill=\"#A80036\" points=\"263.5,138.6953,273.5,142.6953,263.5,146.6953,267.5,142.6953\" style=\"stroke:#A80036;stroke-width:1.0;\"/><line style=\"stroke:#A80036;stroke-width:1.0;\" x1=\"114.5\" x2=\"269.5\" y1=\"142.6953\" y2=\"142.6953\"/><text fill=\"#000000\" font-family=\"sans-serif\" font-size=\"13\" lengthAdjust=\"spacing\" textLength=\"142\" x=\"121.5\" y=\"137.6294\">&lt;&lt; createRequest &gt;&gt;</text><polygon fill=\"#A80036\" points=\"120.5,167.8281,110.5,171.8281,120.5,175.8281,116.5,171.8281\" style=\"stroke:#A80036;stroke-width:1.0;\"/><line style=\"stroke:#A80036;stroke-width:1.0;stroke-dasharray:2.0,2.0;\" x1=\"114.5\" x2=\"279.5\" y1=\"171.8281\" y2=\"171.8281\"/><text fill=\"#000000\" font-family=\"sans-serif\" font-size=\"13\" lengthAdjust=\"spacing\" textLength=\"104\" x=\"126.5\" y=\"166.7622\">RequestCreated</text><polygon fill=\"#A80036\" points=\"40.5,196.9609,30.5,200.9609,40.5,204.9609,36.5,200.9609\" style=\"stroke:#A80036;stroke-width:1.0;\"/><line style=\"stroke:#A80036;stroke-width:1.0;\" x1=\"34.5\" x2=\"103.5\" y1=\"200.9609\" y2=\"200.9609\"/><text fill=\"#000000\" font-family=\"sans-serif\" font-size=\"13\" lengthAdjust=\"spacing\" textLength=\"34\" x=\"46.5\" y=\"195.895\">Done</text><!--MD5=[8a26fe61beaadce6f705d4e345cce695]\n",
       "@startuml\n",
       "participant User\n",
       "User -> A: DoWork\n",
       "activate A #FFBBBB\n",
       "A -> A: Internal call\n",
       "activate A #DarkSalmon\n",
       "A -> B: << createRequest >>\n",
       "activate B\n",
       "B - -> A: RequestCreated\n",
       "deactivate B\n",
       "deactivate A\n",
       "A -> User: Done\n",
       "deactivate A\n",
       "@enduml\n",
       "\n",
       "PlantUML version 1.2021.9beta2(Unknown compile time)\n",
       "(GPL source distribution)\n",
       "Java Runtime: Java(TM) SE Runtime Environment\n",
       "JVM: Java HotSpot(TM) 64-Bit Server VM\n",
       "Default Encoding: UTF-8\n",
       "Language: en\n",
       "Country: US\n",
       "--></g></svg>"
      ],
      "text/plain": [
       "<IPython.core.display.SVG object>"
      ]
     },
     "execution_count": 33,
     "metadata": {},
     "output_type": "execute_result"
    }
   ],
   "source": [
    "%%plantuml\n",
    "\n",
    "@startuml\n",
    "participant User\n",
    "User -> A: DoWork\n",
    "activate A #FFBBBB\n",
    "A -> A: Internal call\n",
    "activate A #DarkSalmon\n",
    "A -> B: << createRequest >>\n",
    "activate B\n",
    "B --> A: RequestCreated\n",
    "deactivate B\n",
    "deactivate A\n",
    "A -> User: Done\n",
    "deactivate A\n",
    "@enduml"
   ]
  },
  {
   "cell_type": "code",
   "execution_count": 34,
   "id": "20d14f81",
   "metadata": {},
   "outputs": [
    {
     "data": {
      "image/svg+xml": [
       "<svg xmlns=\"http://www.w3.org/2000/svg\" xmlns:xlink=\"http://www.w3.org/1999/xlink\" contentScriptType=\"application/ecmascript\" contentStyleType=\"text/css\" height=\"203px\" preserveAspectRatio=\"none\" style=\"width:186px;height:203px;background:#FFFFFF;\" version=\"1.1\" viewBox=\"0 0 186 203\" width=\"186px\" zoomAndPan=\"magnify\"><defs><filter height=\"300%\" id=\"f5294gynfn44u\" width=\"300%\" x=\"-1\" y=\"-1\"><feGaussianBlur result=\"blurOut\" stdDeviation=\"2.0\"/><feColorMatrix in=\"blurOut\" result=\"blurOut2\" type=\"matrix\" values=\"0 0 0 0 0 0 0 0 0 0 0 0 0 0 0 0 0 0 .4 0\"/><feOffset dx=\"4.0\" dy=\"4.0\" in=\"blurOut2\" result=\"blurOut3\"/><feBlend in=\"SourceGraphic\" in2=\"blurOut3\" mode=\"normal\"/></filter></defs><g><rect fill=\"#FFFFFF\" filter=\"url(#f5294gynfn44u)\" height=\"71.2656\" style=\"stroke:#A80036;stroke-width:1.0;\" width=\"10\" x=\"83.5\" y=\"71.4297\"/><line style=\"stroke:#A80036;stroke-width:1.0;stroke-dasharray:5.0,5.0;\" x1=\"28\" x2=\"28\" y1=\"40.2969\" y2=\"160.6953\"/><line style=\"stroke:#A80036;stroke-width:1.0;stroke-dasharray:5.0,5.0;\" x1=\"88\" x2=\"88\" y1=\"40.2969\" y2=\"160.6953\"/><rect fill=\"#FEFECE\" filter=\"url(#f5294gynfn44u)\" height=\"30.2969\" style=\"stroke:#A80036;stroke-width:1.5;\" width=\"43\" x=\"5\" y=\"5\"/><text fill=\"#000000\" font-family=\"sans-serif\" font-size=\"14\" lengthAdjust=\"spacing\" textLength=\"29\" x=\"12\" y=\"24.9951\">Bob</text><rect fill=\"#FEFECE\" filter=\"url(#f5294gynfn44u)\" height=\"30.2969\" style=\"stroke:#A80036;stroke-width:1.5;\" width=\"43\" x=\"5\" y=\"159.6953\"/><text fill=\"#000000\" font-family=\"sans-serif\" font-size=\"14\" lengthAdjust=\"spacing\" textLength=\"29\" x=\"12\" y=\"179.6904\">Bob</text><rect fill=\"#FEFECE\" filter=\"url(#f5294gynfn44u)\" height=\"30.2969\" style=\"stroke:#A80036;stroke-width:1.5;\" width=\"49\" x=\"62\" y=\"5\"/><text fill=\"#000000\" font-family=\"sans-serif\" font-size=\"14\" lengthAdjust=\"spacing\" textLength=\"35\" x=\"69\" y=\"24.9951\">Alice</text><rect fill=\"#FEFECE\" filter=\"url(#f5294gynfn44u)\" height=\"30.2969\" style=\"stroke:#A80036;stroke-width:1.5;\" width=\"49\" x=\"62\" y=\"159.6953\"/><text fill=\"#000000\" font-family=\"sans-serif\" font-size=\"14\" lengthAdjust=\"spacing\" textLength=\"35\" x=\"69\" y=\"179.6904\">Alice</text><rect fill=\"#FFFFFF\" filter=\"url(#f5294gynfn44u)\" height=\"71.2656\" style=\"stroke:#A80036;stroke-width:1.0;\" width=\"10\" x=\"83.5\" y=\"71.4297\"/><polygon fill=\"#A80036\" points=\"71.5,67.4297,81.5,71.4297,71.5,75.4297,75.5,71.4297\" style=\"stroke:#A80036;stroke-width:1.0;\"/><line style=\"stroke:#A80036;stroke-width:1.0;\" x1=\"28.5\" x2=\"77.5\" y1=\"71.4297\" y2=\"71.4297\"/><text fill=\"#000000\" font-family=\"sans-serif\" font-size=\"13\" lengthAdjust=\"spacing\" textLength=\"30\" x=\"35.5\" y=\"66.3638\">hello</text><line style=\"stroke:#A80036;stroke-width:1.0;\" x1=\"93.5\" x2=\"135.5\" y1=\"100.5625\" y2=\"100.5625\"/><line style=\"stroke:#A80036;stroke-width:1.0;\" x1=\"135.5\" x2=\"135.5\" y1=\"100.5625\" y2=\"113.5625\"/><line style=\"stroke:#A80036;stroke-width:1.0;\" x1=\"94.5\" x2=\"135.5\" y1=\"113.5625\" y2=\"113.5625\"/><polygon fill=\"#A80036\" points=\"104.5,109.5625,94.5,113.5625,104.5,117.5625,100.5,113.5625\" style=\"stroke:#A80036;stroke-width:1.0;\"/><text fill=\"#000000\" font-family=\"sans-serif\" font-size=\"13\" lengthAdjust=\"spacing\" textLength=\"79\" x=\"100.5\" y=\"95.4966\">some action</text><polygon fill=\"#A80036\" points=\"39.5,138.6953,29.5,142.6953,39.5,146.6953,35.5,142.6953\" style=\"stroke:#A80036;stroke-width:1.0;\"/><line style=\"stroke:#A80036;stroke-width:1.0;stroke-dasharray:2.0,2.0;\" x1=\"33.5\" x2=\"87.5\" y1=\"142.6953\" y2=\"142.6953\"/><text fill=\"#000000\" font-family=\"sans-serif\" font-size=\"13\" lengthAdjust=\"spacing\" textLength=\"24\" x=\"45.5\" y=\"137.6294\">bye</text><!--MD5=[d63616e74e15f0cc0d9ede938047cde2]\n",
       "@startuml\n",
       "Bob -> Alice : hello\n",
       "activate Alice\n",
       "Alice -> Alice : some action\n",
       "return bye\n",
       "@enduml\n",
       "\n",
       "PlantUML version 1.2021.9beta2(Unknown compile time)\n",
       "(GPL source distribution)\n",
       "Java Runtime: Java(TM) SE Runtime Environment\n",
       "JVM: Java HotSpot(TM) 64-Bit Server VM\n",
       "Default Encoding: UTF-8\n",
       "Language: en\n",
       "Country: US\n",
       "--></g></svg>"
      ],
      "text/plain": [
       "<IPython.core.display.SVG object>"
      ]
     },
     "execution_count": 34,
     "metadata": {},
     "output_type": "execute_result"
    }
   ],
   "source": [
    "%%plantuml\n",
    "\n",
    "@startuml\n",
    "Bob -> Alice : hello\n",
    "activate Alice\n",
    "Alice -> Alice : some action\n",
    "return bye\n",
    "@enduml    "
   ]
  },
  {
   "cell_type": "code",
   "execution_count": 35,
   "id": "218248ab",
   "metadata": {},
   "outputs": [
    {
     "data": {
      "image/svg+xml": [
       "<svg xmlns=\"http://www.w3.org/2000/svg\" xmlns:xlink=\"http://www.w3.org/1999/xlink\" contentScriptType=\"application/ecmascript\" contentStyleType=\"text/css\" height=\"207px\" preserveAspectRatio=\"none\" style=\"width:531px;height:207px;background:#FFFFFF;\" version=\"1.1\" viewBox=\"0 0 531 207\" width=\"531px\" zoomAndPan=\"magnify\"><defs><linearGradient id=\"g12lzrdeiil9rq0\" x1=\"0%\" x2=\"100%\" y1=\"0%\" y2=\"100%\"><stop offset=\"0%\" stop-color=\"#FF0000\"/><stop offset=\"100%\" stop-color=\"#FFFF00\"/></linearGradient><filter height=\"300%\" id=\"f12lzrdeiil9rq\" width=\"300%\" x=\"-1\" y=\"-1\"><feGaussianBlur result=\"blurOut\" stdDeviation=\"2.0\"/><feColorMatrix in=\"blurOut\" result=\"blurOut2\" type=\"matrix\" values=\"0 0 0 0 0 0 0 0 0 0 0 0 0 0 0 0 0 0 .4 0\"/><feOffset dx=\"4.0\" dy=\"4.0\" in=\"blurOut2\" result=\"blurOut3\"/><feBlend in=\"SourceGraphic\" in2=\"blurOut3\" mode=\"normal\"/></filter><linearGradient id=\"g12lzrdeiil9rq1\" x1=\"0%\" x2=\"100%\" y1=\"0%\" y2=\"100%\"><stop offset=\"0%\" stop-color=\"#FFFF00\"/><stop offset=\"100%\" stop-color=\"#008000\"/></linearGradient></defs><g><ellipse cx=\"51.1374\" cy=\"65.705\" fill=\"url(#g12lzrdeiil9rq0)\" filter=\"url(#f12lzrdeiil9rq)\" rx=\"45.1374\" ry=\"14.6391\" style=\"stroke:#2F4F4F;stroke-width:1.5;\"/><text fill=\"#000000\" font-family=\"sans-serif\" font-size=\"14\" lengthAdjust=\"spacing\" textLength=\"47\" x=\"24.6374\" y=\"69.4526\">Server</text><ellipse cx=\"314.9626\" cy=\"65.7584\" fill=\"#0000FF\" filter=\"url(#f12lzrdeiil9rq)\" rx=\"66.4626\" ry=\"15.6925\" style=\"stroke:#2F4F4F;stroke-width:1.5;\"/><text fill=\"#000000\" font-family=\"sans-serif\" font-size=\"14\" lengthAdjust=\"spacing\" textLength=\"83\" x=\"270.4626\" y=\"69.506\">Application</text><ellipse cx=\"457.9072\" cy=\"65.657\" fill=\"#FFC0CB\" filter=\"url(#f12lzrdeiil9rq)\" rx=\"41.4072\" ry=\"14.5911\" style=\"stroke:#2F4F4F;stroke-width:1.5;\"/><text fill=\"#000000\" font-family=\"sans-serif\" font-size=\"14\" lengthAdjust=\"spacing\" textLength=\"42\" x=\"433.982\" y=\"69.3865\">MySql</text><ellipse cx=\"328.9074\" cy=\"178.0902\" fill=\"url(#g12lzrdeiil9rq1)\" filter=\"url(#f12lzrdeiil9rq)\" rx=\"33.4074\" ry=\"14.5243\" style=\"stroke:#2F4F4F;stroke-width:1.5;\"/><text fill=\"#000000\" font-family=\"sans-serif\" font-size=\"14\" lengthAdjust=\"spacing\" textLength=\"31\" x=\"313.1738\" y=\"181.0254\">User</text><path d=\"M397.5,158.0659 L397.5,174.0659 L362.82,178.0659 L397.5,182.0659 L397.5,198.3315 A0,0 0 0 0 397.5,198.3315 L482.5,198.3315 A0,0 0 0 0 482.5,198.3315 L482.5,168.0659 L472.5,158.0659 L397.5,158.0659 A0,0 0 0 0 397.5,158.0659 \" fill=\"#FBFB77\" filter=\"url(#f12lzrdeiil9rq)\" style=\"stroke:#A80036;stroke-width:1.0;\"/><path d=\"M472.5,158.0659 L472.5,168.0659 L482.5,168.0659 L472.5,158.0659 \" fill=\"#FBFB77\" style=\"stroke:#A80036;stroke-width:1.0;\"/><text fill=\"#000000\" font-family=\"sans-serif\" font-size=\"13\" lengthAdjust=\"spacing\" textLength=\"64\" x=\"403.5\" y=\"175.1328\">city:string</text><text fill=\"#000000\" font-family=\"sans-serif\" font-size=\"13\" lengthAdjust=\"spacing\" textLength=\"63\" x=\"403.5\" y=\"190.2656\">year:date</text><!--MD5=[e7f563d87bd3742829f1486f2f38b448]\n",
       "link Server to Application--><path d=\"M96.0833,65.5659 C136.437,65.5659 196.301,65.5659 243.233,65.5659 \" fill=\"none\" id=\"Server-to-Application\" style=\"stroke:#808000;stroke-width:1.0;\"/><polygon fill=\"#808000\" points=\"248.31,65.5659,239.31,61.5659,243.31,65.5659,239.31,69.5659,248.31,65.5659\" style=\"stroke:#808000;stroke-width:1.0;\"/><text fill=\"#000000\" font-family=\"sans-serif\" font-size=\"13\" lengthAdjust=\"spacing\" textLength=\"116\" x=\"114.25\" y=\"19.6328\">HAS_APPLICATION</text><path d=\"M126.25,28.6987 L126.25,53.6987 L214.25,53.6987 L214.25,38.6987 L204.25,28.6987 L126.25,28.6987 \" fill=\"#FBFB77\" filter=\"url(#f12lzrdeiil9rq)\" style=\"stroke:#A80036;stroke-width:1.0;\"/><path d=\"M204.25,28.6987 L204.25,38.6987 L214.25,38.6987 L204.25,28.6987 \" fill=\"#FBFB77\" style=\"stroke:#A80036;stroke-width:1.0;\"/><text fill=\"#000000\" font-family=\"sans-serif\" font-size=\"13\" lengthAdjust=\"spacing\" textLength=\"67\" x=\"132.25\" y=\"45.7656\">date: time</text><!--MD5=[6f8d120119496d6f96c11b73b40e4081]\n",
       "link Server to User--><path d=\"M77.9084,77.2619 C130.553,98.1867 246.715,144.3591 300.563,165.7628 \" fill=\"none\" id=\"Server-to-User\" style=\"stroke:#808000;stroke-width:1.0;\"/><polygon fill=\"#808000\" points=\"305.265,167.6317,298.3793,160.5899,300.6187,165.7846,295.424,168.024,305.265,167.6317\" style=\"stroke:#808000;stroke-width:1.0;\"/><text fill=\"#000000\" font-family=\"sans-serif\" font-size=\"13\" lengthAdjust=\"spacing\" textLength=\"67\" x=\"200\" y=\"124.1328\">HAS_USER</text><!--MD5=[86c7165e51b82b731f10fd9d001540fa]\n",
       "link MySql to User--><path d=\"M443.202,79.2419 C419.456,99.5819 372.907,139.4559 347.176,161.4962 \" fill=\"none\" id=\"MySql-to-User\" style=\"stroke:#808000;stroke-width:1.0;\"/><polygon fill=\"#808000\" points=\"343.232,164.8747,352.6694,162.0576,347.0293,161.622,347.465,155.9819,343.232,164.8747\" style=\"stroke:#808000;stroke-width:1.0;\"/><text fill=\"#000000\" font-family=\"sans-serif\" font-size=\"13\" lengthAdjust=\"spacing\" textLength=\"116\" x=\"407\" y=\"124.1328\">HAS_APPLICATION</text><!--MD5=[42072f202bbb9f2477675504f07d842e]\n",
       "@startuml\n",
       "skinparam usecase {\n",
       "BackgroundColor DarkSeaGreen\n",
       "BorderColor DarkSlateGray\n",
       "\n",
       "ArrowColor Olive\n",
       "}\n",
       "\n",
       "(Server) #Red/Yellow\n",
       "(Application) #Blue\n",
       "(MySql) #Pink\n",
       "(User) #Yellow/Green\n",
       "\n",
       "(Server) -> (Application) : HAS_APPLICATION\n",
       "note on link\n",
       "  date: time\n",
       "end note\n",
       "(Server) - -> (User) : HAS_USER\n",
       "(MySql) - -> (User) : HAS_APPLICATION\n",
       "\n",
       "\n",
       "\n",
       "note right of (User)\n",
       "  city:string\n",
       "  year:date\n",
       "end note\n",
       "@enduml\n",
       "\n",
       "PlantUML version 1.2021.9beta2(Unknown compile time)\n",
       "(GPL source distribution)\n",
       "Java Runtime: Java(TM) SE Runtime Environment\n",
       "JVM: Java HotSpot(TM) 64-Bit Server VM\n",
       "Default Encoding: UTF-8\n",
       "Language: en\n",
       "Country: US\n",
       "--></g></svg>"
      ],
      "text/plain": [
       "<IPython.core.display.SVG object>"
      ]
     },
     "execution_count": 35,
     "metadata": {},
     "output_type": "execute_result"
    }
   ],
   "source": [
    "%%plantuml\n",
    "\n",
    "@startuml\n",
    "\n",
    "skinparam usecase {\n",
    "BackgroundColor DarkSeaGreen\n",
    "BorderColor DarkSlateGray\n",
    "\n",
    "ArrowColor Olive\n",
    "}\n",
    "\n",
    "(Server) #Red/Yellow\n",
    "(Application) #Blue\n",
    "(MySql) #Pink\n",
    "(User) #Yellow/Green\n",
    "\n",
    "(Server) -> (Application) : HAS_APPLICATION\n",
    "note on link\n",
    "  date: time\n",
    "end note\n",
    "(Server) --> (User) : HAS_USER\n",
    "(MySql) --> (User) : HAS_APPLICATION\n",
    "\n",
    "\n",
    "\n",
    "note right of (User)\n",
    "  city:string\n",
    "  year:date\n",
    "end note\n",
    "\n",
    "@enduml"
   ]
  },
  {
   "cell_type": "code",
   "execution_count": 36,
   "id": "afd27c51",
   "metadata": {},
   "outputs": [
    {
     "data": {
      "image/svg+xml": [
       "<svg xmlns=\"http://www.w3.org/2000/svg\" xmlns:xlink=\"http://www.w3.org/1999/xlink\" contentScriptType=\"application/ecmascript\" contentStyleType=\"text/css\" height=\"292px\" preserveAspectRatio=\"none\" style=\"width:445px;height:292px;background:#FFFFFF;\" version=\"1.1\" viewBox=\"0 0 445 292\" width=\"445px\" zoomAndPan=\"magnify\"><defs><filter height=\"300%\" id=\"f1r3yf0qrpx3xo\" width=\"300%\" x=\"-1\" y=\"-1\"><feGaussianBlur result=\"blurOut\" stdDeviation=\"2.0\"/><feColorMatrix in=\"blurOut\" result=\"blurOut2\" type=\"matrix\" values=\"0 0 0 0 0 0 0 0 0 0 0 0 0 0 0 0 0 0 .4 0\"/><feOffset dx=\"4.0\" dy=\"4.0\" in=\"blurOut2\" result=\"blurOut3\"/><feBlend in=\"SourceGraphic\" in2=\"blurOut3\" mode=\"normal\"/></filter></defs><g><line style=\"stroke:#A80036;stroke-width:1.0;stroke-dasharray:5.0,5.0;\" x1=\"28\" x2=\"28\" y1=\"53.2969\" y2=\"235.1563\"/><line style=\"stroke:#A80036;stroke-width:1.0;stroke-dasharray:5.0,5.0;\" x1=\"88\" x2=\"88\" y1=\"53.2969\" y2=\"235.1563\"/><line style=\"stroke:#A80036;stroke-width:1.0;stroke-dasharray:5.0,5.0;\" x1=\"169.5\" x2=\"169.5\" y1=\"125.0781\" y2=\"235.1563\"/><line style=\"stroke:#A80036;stroke-width:1.0;stroke-dasharray:5.0,5.0;\" x1=\"234.5\" x2=\"234.5\" y1=\"176.875\" y2=\"235.1563\"/><rect fill=\"#FEFECE\" filter=\"url(#f1r3yf0qrpx3xo)\" height=\"30.2969\" style=\"stroke:#A80036;stroke-width:1.5;\" width=\"43\" x=\"5\" y=\"18\"/><text fill=\"#000000\" font-family=\"sans-serif\" font-size=\"14\" lengthAdjust=\"spacing\" textLength=\"29\" x=\"12\" y=\"37.9951\">Bob</text><rect fill=\"#FEFECE\" filter=\"url(#f1r3yf0qrpx3xo)\" height=\"30.2969\" style=\"stroke:#A80036;stroke-width:1.5;\" width=\"43\" x=\"5\" y=\"234.1563\"/><text fill=\"#000000\" font-family=\"sans-serif\" font-size=\"14\" lengthAdjust=\"spacing\" textLength=\"29\" x=\"12\" y=\"254.1514\">Bob</text><rect fill=\"#FEFECE\" filter=\"url(#f1r3yf0qrpx3xo)\" height=\"30.2969\" style=\"stroke:#A80036;stroke-width:1.5;\" width=\"49\" x=\"62\" y=\"18\"/><text fill=\"#000000\" font-family=\"sans-serif\" font-size=\"14\" lengthAdjust=\"spacing\" textLength=\"35\" x=\"69\" y=\"37.9951\">Alice</text><rect fill=\"#FEFECE\" filter=\"url(#f1r3yf0qrpx3xo)\" height=\"30.2969\" style=\"stroke:#A80036;stroke-width:1.5;\" width=\"49\" x=\"62\" y=\"234.1563\"/><text fill=\"#000000\" font-family=\"sans-serif\" font-size=\"14\" lengthAdjust=\"spacing\" textLength=\"35\" x=\"69\" y=\"254.1514\">Alice</text><rect fill=\"#FEFECE\" filter=\"url(#f1r3yf0qrpx3xo)\" height=\"30.2969\" style=\"stroke:#A80036;stroke-width:1.5;\" width=\"56\" x=\"139.5\" y=\"234.1563\"/><text fill=\"#000000\" font-family=\"sans-serif\" font-size=\"14\" lengthAdjust=\"spacing\" textLength=\"42\" x=\"146.5\" y=\"254.1514\">Other</text><text fill=\"#000000\" font-family=\"sans-serif\" font-size=\"14\" lengthAdjust=\"spacing\" textLength=\"44\" x=\"209.5\" y=\"247.1514\">String</text><ellipse cx=\"234.5\" cy=\"266.4531\" fill=\"#FEFECE\" filter=\"url(#f1r3yf0qrpx3xo)\" rx=\"12\" ry=\"12\" style=\"stroke:#A80036;stroke-width:2.0;\"/><polygon fill=\"#A80036\" points=\"230.5,254.4531,236.5,249.4531,234.5,254.4531,236.5,259.4531,230.5,254.4531\" style=\"stroke:#A80036;stroke-width:1.0;\"/><polygon fill=\"#A80036\" points=\"76.5,80.4297,86.5,84.4297,76.5,88.4297,80.5,84.4297\" style=\"stroke:#A80036;stroke-width:1.0;\"/><line style=\"stroke:#A80036;stroke-width:1.0;\" x1=\"28.5\" x2=\"82.5\" y1=\"84.4297\" y2=\"84.4297\"/><text fill=\"#000000\" font-family=\"sans-serif\" font-size=\"13\" lengthAdjust=\"spacing\" textLength=\"30\" x=\"35.5\" y=\"79.3638\">hello</text><polygon fill=\"#A80036\" points=\"127.5,109.5625,137.5,113.5625,127.5,117.5625,131.5,113.5625\" style=\"stroke:#A80036;stroke-width:1.0;\"/><line style=\"stroke:#A80036;stroke-width:1.0;\" x1=\"88.5\" x2=\"133.5\" y1=\"113.5625\" y2=\"113.5625\"/><text fill=\"#000000\" font-family=\"sans-serif\" font-size=\"13\" lengthAdjust=\"spacing\" textLength=\"27\" x=\"95.5\" y=\"108.4966\">new</text><rect fill=\"#FEFECE\" filter=\"url(#f1r3yf0qrpx3xo)\" height=\"30.2969\" style=\"stroke:#A80036;stroke-width:1.5;\" width=\"56\" x=\"139.5\" y=\"92.4297\"/><text fill=\"#000000\" font-family=\"sans-serif\" font-size=\"14\" lengthAdjust=\"spacing\" textLength=\"42\" x=\"146.5\" y=\"112.4248\">Other</text><polygon fill=\"#A80036\" points=\"197.5,139.7266,207.5,143.7266,197.5,147.7266,201.5,143.7266\" style=\"stroke:#A80036;stroke-width:1.0;\"/><line style=\"stroke:#A80036;stroke-width:1.0;\" x1=\"88.5\" x2=\"203.5\" y1=\"143.7266\" y2=\"143.7266\"/><text fill=\"#000000\" font-family=\"sans-serif\" font-size=\"14\" lengthAdjust=\"spacing\" textLength=\"44\" x=\"209.5\" y=\"182.7217\">String</text><ellipse cx=\"234.5\" cy=\"153.7266\" fill=\"#FEFECE\" filter=\"url(#f1r3yf0qrpx3xo)\" rx=\"12\" ry=\"12\" style=\"stroke:#A80036;stroke-width:2.0;\"/><polygon fill=\"#A80036\" points=\"230.5,141.7266,236.5,136.7266,234.5,141.7266,236.5,146.7266,230.5,141.7266\" style=\"stroke:#A80036;stroke-width:1.0;\"/><path d=\"M264,152.3086 L264,177.3086 L436,177.3086 L436,162.3086 L426,152.3086 L264,152.3086 \" fill=\"#FBFB77\" filter=\"url(#f1r3yf0qrpx3xo)\" style=\"stroke:#A80036;stroke-width:1.0;\"/><path d=\"M426,152.3086 L426,162.3086 L436,162.3086 L426,152.3086 \" fill=\"#FBFB77\" style=\"stroke:#A80036;stroke-width:1.0;\"/><text fill=\"#000000\" font-family=\"sans-serif\" font-size=\"13\" lengthAdjust=\"spacing\" textLength=\"151\" x=\"270\" y=\"169.3755\">You can also put notes!</text><polygon fill=\"#A80036\" points=\"39.5,213.1563,29.5,217.1563,39.5,221.1563,35.5,217.1563\" style=\"stroke:#A80036;stroke-width:1.0;\"/><line style=\"stroke:#A80036;stroke-width:1.0;stroke-dasharray:2.0,2.0;\" x1=\"33.5\" x2=\"87.5\" y1=\"217.1563\" y2=\"217.1563\"/><text fill=\"#000000\" font-family=\"sans-serif\" font-size=\"13\" lengthAdjust=\"spacing\" textLength=\"15\" x=\"45.5\" y=\"212.0903\">ok</text><!--MD5=[72cfe306bd3c3e18e6ffc2e693df0312]\n",
       "@startuml\n",
       "Bob -> Alice : hello\n",
       "create Other\n",
       "Alice -> Other : new\n",
       "create control String\n",
       "Alice -> String\n",
       "note right : You can also put notes!\n",
       "Alice - -> Bob : ok\n",
       "@enduml\n",
       "\n",
       "PlantUML version 1.2021.9beta2(Unknown compile time)\n",
       "(GPL source distribution)\n",
       "Java Runtime: Java(TM) SE Runtime Environment\n",
       "JVM: Java HotSpot(TM) 64-Bit Server VM\n",
       "Default Encoding: UTF-8\n",
       "Language: en\n",
       "Country: US\n",
       "--></g></svg>"
      ],
      "text/plain": [
       "<IPython.core.display.SVG object>"
      ]
     },
     "execution_count": 36,
     "metadata": {},
     "output_type": "execute_result"
    }
   ],
   "source": [
    "%%plantuml\n",
    "\n",
    "@startuml\n",
    "Bob -> Alice : hello\n",
    "create Other\n",
    "Alice -> Other : new\n",
    "create control String\n",
    "Alice -> String\n",
    "note right : You can also put notes!\n",
    "Alice --> Bob : ok\n",
    "@enduml"
   ]
  },
  {
   "cell_type": "code",
   "execution_count": 37,
   "id": "0a1dfc7d",
   "metadata": {},
   "outputs": [
    {
     "data": {
      "image/svg+xml": [
       "<svg xmlns=\"http://www.w3.org/2000/svg\" xmlns:xlink=\"http://www.w3.org/1999/xlink\" contentScriptType=\"application/ecmascript\" contentStyleType=\"text/css\" height=\"378px\" preserveAspectRatio=\"none\" style=\"width:292px;height:378px;background:#FFFFFF;\" version=\"1.1\" viewBox=\"0 0 292 378\" width=\"292px\" zoomAndPan=\"magnify\"><defs><filter height=\"300%\" id=\"f1ozgw30ve7dg0\" width=\"300%\" x=\"-1\" y=\"-1\"><feGaussianBlur result=\"blurOut\" stdDeviation=\"2.0\"/><feColorMatrix in=\"blurOut\" result=\"blurOut2\" type=\"matrix\" values=\"0 0 0 0 0 0 0 0 0 0 0 0 0 0 0 0 0 0 .4 0\"/><feOffset dx=\"4.0\" dy=\"4.0\" in=\"blurOut2\" result=\"blurOut3\"/><feBlend in=\"SourceGraphic\" in2=\"blurOut3\" mode=\"normal\"/></filter></defs><g><rect fill=\"#FFFFFF\" filter=\"url(#f1ozgw30ve7dg0)\" height=\"246.0938\" style=\"stroke:#A80036;stroke-width:1.0;\" width=\"10\" x=\"105.5\" y=\"71.4297\"/><rect fill=\"#FFFFFF\" filter=\"url(#f1ozgw30ve7dg0)\" height=\"143.6953\" style=\"stroke:#A80036;stroke-width:1.0;\" width=\"10\" x=\"110.5\" y=\"108.5625\"/><rect fill=\"#005500\" filter=\"url(#f1ozgw30ve7dg0)\" height=\"74.4297\" style=\"stroke:#A80036;stroke-width:1.0;\" width=\"10\" x=\"177.5\" y=\"142.6953\"/><line style=\"stroke:#A80036;stroke-width:1.0;stroke-dasharray:5.0,5.0;\" x1=\"30\" x2=\"30\" y1=\"40.2969\" y2=\"335.5234\"/><line style=\"stroke:#A80036;stroke-width:1.0;stroke-dasharray:5.0,5.0;\" x1=\"110\" x2=\"110\" y1=\"40.2969\" y2=\"335.5234\"/><line style=\"stroke:#A80036;stroke-width:1.0;stroke-dasharray:5.0,5.0;\" x1=\"182.5\" x2=\"182.5\" y1=\"40.2969\" y2=\"335.5234\"/><line style=\"stroke:#A80036;stroke-width:1.0;stroke-dasharray:5.0,5.0;\" x1=\"247.5\" x2=\"247.5\" y1=\"183.3438\" y2=\"335.5234\"/><rect fill=\"#FEFECE\" filter=\"url(#f1ozgw30ve7dg0)\" height=\"30.2969\" style=\"stroke:#A80036;stroke-width:1.5;\" width=\"47\" x=\"5\" y=\"5\"/><text fill=\"#000000\" font-family=\"sans-serif\" font-size=\"14\" lengthAdjust=\"spacing\" textLength=\"33\" x=\"12\" y=\"24.9951\">alice</text><rect fill=\"#FEFECE\" filter=\"url(#f1ozgw30ve7dg0)\" height=\"30.2969\" style=\"stroke:#A80036;stroke-width:1.5;\" width=\"47\" x=\"5\" y=\"334.5234\"/><text fill=\"#000000\" font-family=\"sans-serif\" font-size=\"14\" lengthAdjust=\"spacing\" textLength=\"33\" x=\"12\" y=\"354.5186\">alice</text><rect fill=\"#FEFECE\" filter=\"url(#f1ozgw30ve7dg0)\" height=\"30.2969\" style=\"stroke:#A80036;stroke-width:1.5;\" width=\"43\" x=\"87\" y=\"5\"/><text fill=\"#000000\" font-family=\"sans-serif\" font-size=\"14\" lengthAdjust=\"spacing\" textLength=\"29\" x=\"94\" y=\"24.9951\">bob</text><rect fill=\"#FEFECE\" filter=\"url(#f1ozgw30ve7dg0)\" height=\"30.2969\" style=\"stroke:#A80036;stroke-width:1.5;\" width=\"43\" x=\"87\" y=\"334.5234\"/><text fill=\"#000000\" font-family=\"sans-serif\" font-size=\"14\" lengthAdjust=\"spacing\" textLength=\"29\" x=\"94\" y=\"354.5186\">bob</text><rect fill=\"#FEFECE\" filter=\"url(#f1ozgw30ve7dg0)\" height=\"30.2969\" style=\"stroke:#A80036;stroke-width:1.5;\" width=\"38\" x=\"161.5\" y=\"5\"/><text fill=\"#000000\" font-family=\"sans-serif\" font-size=\"14\" lengthAdjust=\"spacing\" textLength=\"24\" x=\"168.5\" y=\"24.9951\">bib</text><rect fill=\"#FEFECE\" filter=\"url(#f1ozgw30ve7dg0)\" height=\"30.2969\" style=\"stroke:#A80036;stroke-width:1.5;\" width=\"38\" x=\"161.5\" y=\"334.5234\"/><text fill=\"#000000\" font-family=\"sans-serif\" font-size=\"14\" lengthAdjust=\"spacing\" textLength=\"24\" x=\"168.5\" y=\"354.5186\">bib</text><rect fill=\"#FEFECE\" filter=\"url(#f1ozgw30ve7dg0)\" height=\"30.2969\" style=\"stroke:#A80036;stroke-width:1.5;\" width=\"65\" x=\"213.5\" y=\"334.5234\"/><text fill=\"#000000\" font-family=\"sans-serif\" font-size=\"14\" lengthAdjust=\"spacing\" textLength=\"51\" x=\"220.5\" y=\"354.5186\">george</text><rect fill=\"#FFFFFF\" filter=\"url(#f1ozgw30ve7dg0)\" height=\"246.0938\" style=\"stroke:#A80036;stroke-width:1.0;\" width=\"10\" x=\"105.5\" y=\"71.4297\"/><rect fill=\"#FFFFFF\" filter=\"url(#f1ozgw30ve7dg0)\" height=\"143.6953\" style=\"stroke:#A80036;stroke-width:1.0;\" width=\"10\" x=\"110.5\" y=\"108.5625\"/><rect fill=\"#005500\" filter=\"url(#f1ozgw30ve7dg0)\" height=\"74.4297\" style=\"stroke:#A80036;stroke-width:1.0;\" width=\"10\" x=\"177.5\" y=\"142.6953\"/><polygon fill=\"#A80036\" points=\"93.5,67.4297,103.5,71.4297,93.5,75.4297,97.5,71.4297\" style=\"stroke:#A80036;stroke-width:1.0;\"/><line style=\"stroke:#A80036;stroke-width:1.0;\" x1=\"30.5\" x2=\"99.5\" y1=\"71.4297\" y2=\"71.4297\"/><text fill=\"#000000\" font-family=\"sans-serif\" font-size=\"13\" lengthAdjust=\"spacing\" textLength=\"30\" x=\"37.5\" y=\"66.3638\">hello</text><line style=\"stroke:#A80036;stroke-width:1.0;\" x1=\"115.5\" x2=\"162.5\" y1=\"95.5625\" y2=\"95.5625\"/><line style=\"stroke:#A80036;stroke-width:1.0;\" x1=\"162.5\" x2=\"162.5\" y1=\"95.5625\" y2=\"108.5625\"/><line style=\"stroke:#A80036;stroke-width:1.0;\" x1=\"121.5\" x2=\"162.5\" y1=\"108.5625\" y2=\"108.5625\"/><polygon fill=\"#A80036\" points=\"131.5,104.5625,121.5,108.5625,131.5,112.5625,127.5,108.5625\" style=\"stroke:#A80036;stroke-width:1.0;\"/><text fill=\"#000000\" font-family=\"sans-serif\" font-size=\"13\" lengthAdjust=\"spacing\" textLength=\"48\" x=\"127.5\" y=\"90.4966\">self call</text><polygon fill=\"#A80036\" points=\"165.5,138.6953,175.5,142.6953,165.5,146.6953,169.5,142.6953\" style=\"stroke:#A80036;stroke-width:1.0;\"/><line style=\"stroke:#A80036;stroke-width:1.0;\" x1=\"120.5\" x2=\"171.5\" y1=\"142.6953\" y2=\"142.6953\"/><text fill=\"#000000\" font-family=\"sans-serif\" font-size=\"13\" lengthAdjust=\"spacing\" textLength=\"30\" x=\"127.5\" y=\"137.6294\">hello</text><polygon fill=\"#A80036\" points=\"201.5,167.8281,211.5,171.8281,201.5,175.8281,205.5,171.8281\" style=\"stroke:#A80036;stroke-width:1.0;\"/><line style=\"stroke:#A80036;stroke-width:1.0;\" x1=\"120.5\" x2=\"207.5\" y1=\"171.8281\" y2=\"171.8281\"/><text fill=\"#000000\" font-family=\"sans-serif\" font-size=\"13\" lengthAdjust=\"spacing\" textLength=\"41\" x=\"127.5\" y=\"166.7622\">create</text><rect fill=\"#FEFECE\" filter=\"url(#f1ozgw30ve7dg0)\" height=\"30.2969\" style=\"stroke:#A80036;stroke-width:1.5;\" width=\"65\" x=\"213.5\" y=\"150.6953\"/><text fill=\"#000000\" font-family=\"sans-serif\" font-size=\"14\" lengthAdjust=\"spacing\" textLength=\"51\" x=\"220.5\" y=\"170.6904\">george</text><polygon fill=\"#A80036\" points=\"131.5,213.125,121.5,217.125,131.5,221.125,127.5,217.125\" style=\"stroke:#A80036;stroke-width:1.0;\"/><line style=\"stroke:#A80036;stroke-width:1.0;stroke-dasharray:2.0,2.0;\" x1=\"125.5\" x2=\"181.5\" y1=\"217.125\" y2=\"217.125\"/><text fill=\"#000000\" font-family=\"sans-serif\" font-size=\"13\" lengthAdjust=\"spacing\" textLength=\"32\" x=\"137.5\" y=\"212.0591\">done</text><line style=\"stroke:#A80036;stroke-width:1.0;stroke-dasharray:2.0,2.0;\" x1=\"120.5\" x2=\"162.5\" y1=\"251.2578\" y2=\"251.2578\"/><line style=\"stroke:#A80036;stroke-width:1.0;stroke-dasharray:2.0,2.0;\" x1=\"162.5\" x2=\"162.5\" y1=\"251.2578\" y2=\"264.2578\"/><line style=\"stroke:#A80036;stroke-width:1.0;stroke-dasharray:2.0,2.0;\" x1=\"115.5\" x2=\"162.5\" y1=\"264.2578\" y2=\"264.2578\"/><polygon fill=\"#A80036\" points=\"125.5,260.2578,115.5,264.2578,125.5,268.2578,121.5,264.2578\" style=\"stroke:#A80036;stroke-width:1.0;\"/><text fill=\"#000000\" font-family=\"sans-serif\" font-size=\"13\" lengthAdjust=\"spacing\" textLength=\"12\" x=\"127.5\" y=\"246.1919\">rc</text><polygon fill=\"#A80036\" points=\"236,284.3906,246,288.3906,236,292.3906,240,288.3906\" style=\"stroke:#A80036;stroke-width:1.0;\"/><line style=\"stroke:#A80036;stroke-width:1.0;\" x1=\"115.5\" x2=\"242\" y1=\"288.3906\" y2=\"288.3906\"/><text fill=\"#000000\" font-family=\"sans-serif\" font-size=\"13\" lengthAdjust=\"spacing\" textLength=\"40\" x=\"122.5\" y=\"283.3247\">delete</text><line style=\"stroke:#A80036;stroke-width:2.0;\" x1=\"239\" x2=\"257\" y1=\"279.3906\" y2=\"297.3906\"/><line style=\"stroke:#A80036;stroke-width:2.0;\" x1=\"239\" x2=\"257\" y1=\"297.3906\" y2=\"279.3906\"/><polygon fill=\"#A80036\" points=\"41.5,313.5234,31.5,317.5234,41.5,321.5234,37.5,317.5234\" style=\"stroke:#A80036;stroke-width:1.0;\"/><line style=\"stroke:#A80036;stroke-width:1.0;stroke-dasharray:2.0,2.0;\" x1=\"35.5\" x2=\"109.5\" y1=\"317.5234\" y2=\"317.5234\"/><text fill=\"#000000\" font-family=\"sans-serif\" font-size=\"13\" lengthAdjust=\"spacing\" textLength=\"51\" x=\"47.5\" y=\"312.4575\">success</text><!--MD5=[a7ebb9a938b8132cfb5c74aec584f2b4]\n",
       "@startuml\n",
       "alice -> bob ++ : hello\n",
       "bob -> bob ++ : self call\n",
       "bob -> bib ++ #005500 : hello\n",
       "bob -> george ** : create\n",
       "return done\n",
       "return rc\n",
       "bob -> george !! : delete\n",
       "return success\n",
       "@enduml\n",
       "\n",
       "PlantUML version 1.2021.9beta2(Unknown compile time)\n",
       "(GPL source distribution)\n",
       "Java Runtime: Java(TM) SE Runtime Environment\n",
       "JVM: Java HotSpot(TM) 64-Bit Server VM\n",
       "Default Encoding: UTF-8\n",
       "Language: en\n",
       "Country: US\n",
       "--></g></svg>"
      ],
      "text/plain": [
       "<IPython.core.display.SVG object>"
      ]
     },
     "execution_count": 37,
     "metadata": {},
     "output_type": "execute_result"
    }
   ],
   "source": [
    "%%plantuml\n",
    "\n",
    "@startuml\n",
    "alice -> bob ++ : hello\n",
    "bob -> bob ++ : self call\n",
    "bob -> bib ++ #005500 : hello\n",
    "bob -> george ** : create\n",
    "return done\n",
    "return rc\n",
    "bob -> george !! : delete\n",
    "return success\n",
    "@enduml"
   ]
  },
  {
   "cell_type": "code",
   "execution_count": 38,
   "id": "dfad59b1",
   "metadata": {},
   "outputs": [
    {
     "data": {
      "image/svg+xml": [
       "<svg xmlns=\"http://www.w3.org/2000/svg\" xmlns:xlink=\"http://www.w3.org/1999/xlink\" contentScriptType=\"application/ecmascript\" contentStyleType=\"text/css\" height=\"190px\" preserveAspectRatio=\"none\" style=\"width:202px;height:190px;background:#FFFFFF;\" version=\"1.1\" viewBox=\"0 0 202 190\" width=\"202px\" zoomAndPan=\"magnify\"><defs><filter height=\"300%\" id=\"f1vkv7pe7wxbrq\" width=\"300%\" x=\"-1\" y=\"-1\"><feGaussianBlur result=\"blurOut\" stdDeviation=\"2.0\"/><feColorMatrix in=\"blurOut\" result=\"blurOut2\" type=\"matrix\" values=\"0 0 0 0 0 0 0 0 0 0 0 0 0 0 0 0 0 0 .4 0\"/><feOffset dx=\"4.0\" dy=\"4.0\" in=\"blurOut2\" result=\"blurOut3\"/><feBlend in=\"SourceGraphic\" in2=\"blurOut3\" mode=\"normal\"/></filter></defs><g><rect fill=\"#FFFFFF\" filter=\"url(#f1vkv7pe7wxbrq)\" height=\"29.1328\" style=\"stroke:#A80036;stroke-width:1.0;\" width=\"10\" x=\"87.5\" y=\"71.4297\"/><rect fill=\"#FFFFFF\" filter=\"url(#f1vkv7pe7wxbrq)\" height=\"29.1328\" style=\"stroke:#A80036;stroke-width:1.0;\" width=\"10\" x=\"154.5\" y=\"100.5625\"/><line style=\"stroke:#A80036;stroke-width:1.0;stroke-dasharray:5.0,5.0;\" x1=\"30\" x2=\"30\" y1=\"40.2969\" y2=\"147.6953\"/><line style=\"stroke:#A80036;stroke-width:1.0;stroke-dasharray:5.0,5.0;\" x1=\"92\" x2=\"92\" y1=\"40.2969\" y2=\"147.6953\"/><line style=\"stroke:#A80036;stroke-width:1.0;stroke-dasharray:5.0,5.0;\" x1=\"159.5\" x2=\"159.5\" y1=\"40.2969\" y2=\"147.6953\"/><rect fill=\"#FEFECE\" filter=\"url(#f1vkv7pe7wxbrq)\" height=\"30.2969\" style=\"stroke:#A80036;stroke-width:1.5;\" width=\"47\" x=\"5\" y=\"5\"/><text fill=\"#000000\" font-family=\"sans-serif\" font-size=\"14\" lengthAdjust=\"spacing\" textLength=\"33\" x=\"12\" y=\"24.9951\">alice</text><rect fill=\"#FEFECE\" filter=\"url(#f1vkv7pe7wxbrq)\" height=\"30.2969\" style=\"stroke:#A80036;stroke-width:1.5;\" width=\"47\" x=\"5\" y=\"146.6953\"/><text fill=\"#000000\" font-family=\"sans-serif\" font-size=\"14\" lengthAdjust=\"spacing\" textLength=\"33\" x=\"12\" y=\"166.6904\">alice</text><rect fill=\"#FEFECE\" filter=\"url(#f1vkv7pe7wxbrq)\" height=\"30.2969\" style=\"stroke:#A80036;stroke-width:1.5;\" width=\"43\" x=\"69\" y=\"5\"/><text fill=\"#000000\" font-family=\"sans-serif\" font-size=\"14\" lengthAdjust=\"spacing\" textLength=\"29\" x=\"76\" y=\"24.9951\">bob</text><rect fill=\"#FEFECE\" filter=\"url(#f1vkv7pe7wxbrq)\" height=\"30.2969\" style=\"stroke:#A80036;stroke-width:1.5;\" width=\"43\" x=\"69\" y=\"146.6953\"/><text fill=\"#000000\" font-family=\"sans-serif\" font-size=\"14\" lengthAdjust=\"spacing\" textLength=\"29\" x=\"76\" y=\"166.6904\">bob</text><rect fill=\"#FEFECE\" filter=\"url(#f1vkv7pe7wxbrq)\" height=\"30.2969\" style=\"stroke:#A80036;stroke-width:1.5;\" width=\"62\" x=\"126.5\" y=\"5\"/><text fill=\"#000000\" font-family=\"sans-serif\" font-size=\"14\" lengthAdjust=\"spacing\" textLength=\"48\" x=\"133.5\" y=\"24.9951\">charlie</text><rect fill=\"#FEFECE\" filter=\"url(#f1vkv7pe7wxbrq)\" height=\"30.2969\" style=\"stroke:#A80036;stroke-width:1.5;\" width=\"62\" x=\"126.5\" y=\"146.6953\"/><text fill=\"#000000\" font-family=\"sans-serif\" font-size=\"14\" lengthAdjust=\"spacing\" textLength=\"48\" x=\"133.5\" y=\"166.6904\">charlie</text><rect fill=\"#FFFFFF\" filter=\"url(#f1vkv7pe7wxbrq)\" height=\"29.1328\" style=\"stroke:#A80036;stroke-width:1.0;\" width=\"10\" x=\"87.5\" y=\"71.4297\"/><rect fill=\"#FFFFFF\" filter=\"url(#f1vkv7pe7wxbrq)\" height=\"29.1328\" style=\"stroke:#A80036;stroke-width:1.0;\" width=\"10\" x=\"154.5\" y=\"100.5625\"/><polygon fill=\"#A80036\" points=\"75.5,67.4297,85.5,71.4297,75.5,75.4297,79.5,71.4297\" style=\"stroke:#A80036;stroke-width:1.0;\"/><line style=\"stroke:#A80036;stroke-width:1.0;\" x1=\"30.5\" x2=\"81.5\" y1=\"71.4297\" y2=\"71.4297\"/><text fill=\"#000000\" font-family=\"sans-serif\" font-size=\"13\" lengthAdjust=\"spacing\" textLength=\"38\" x=\"37.5\" y=\"66.3638\">hello1</text><polygon fill=\"#A80036\" points=\"142.5,96.5625,152.5,100.5625,142.5,104.5625,146.5,100.5625\" style=\"stroke:#A80036;stroke-width:1.0;\"/><line style=\"stroke:#A80036;stroke-width:1.0;\" x1=\"92.5\" x2=\"148.5\" y1=\"100.5625\" y2=\"100.5625\"/><text fill=\"#000000\" font-family=\"sans-serif\" font-size=\"13\" lengthAdjust=\"spacing\" textLength=\"38\" x=\"99.5\" y=\"95.4966\">hello2</text><polygon fill=\"#A80036\" points=\"41.5,125.6953,31.5,129.6953,41.5,133.6953,37.5,129.6953\" style=\"stroke:#A80036;stroke-width:1.0;\"/><line style=\"stroke:#A80036;stroke-width:1.0;stroke-dasharray:2.0,2.0;\" x1=\"35.5\" x2=\"158.5\" y1=\"129.6953\" y2=\"129.6953\"/><text fill=\"#000000\" font-family=\"sans-serif\" font-size=\"13\" lengthAdjust=\"spacing\" textLength=\"15\" x=\"47.5\" y=\"124.6294\">ok</text><!--MD5=[89534af13f6b0121bf0e17d56b9bd30b]\n",
       "@startuml\n",
       "alice -> bob ++ : hello1\n",
       "bob -> charlie - -++ : hello2\n",
       "charlie - -> alice - - : ok\n",
       "@enduml\n",
       "\n",
       "PlantUML version 1.2021.9beta2(Unknown compile time)\n",
       "(GPL source distribution)\n",
       "Java Runtime: Java(TM) SE Runtime Environment\n",
       "JVM: Java HotSpot(TM) 64-Bit Server VM\n",
       "Default Encoding: UTF-8\n",
       "Language: en\n",
       "Country: US\n",
       "--></g></svg>"
      ],
      "text/plain": [
       "<IPython.core.display.SVG object>"
      ]
     },
     "execution_count": 38,
     "metadata": {},
     "output_type": "execute_result"
    }
   ],
   "source": [
    "%%plantuml\n",
    "\n",
    "@startuml\n",
    "alice -> bob ++ : hello1\n",
    "bob -> charlie --++ : hello2\n",
    "charlie --> alice -- : ok\n",
    "@enduml"
   ]
  },
  {
   "cell_type": "code",
   "execution_count": 39,
   "id": "c7e9bcc8",
   "metadata": {},
   "outputs": [
    {
     "data": {
      "image/svg+xml": [
       "<svg xmlns=\"http://www.w3.org/2000/svg\" xmlns:xlink=\"http://www.w3.org/1999/xlink\" contentScriptType=\"application/ecmascript\" contentStyleType=\"text/css\" height=\"220px\" preserveAspectRatio=\"none\" style=\"width:142px;height:220px;background:#FFFFFF;\" version=\"1.1\" viewBox=\"0 0 142 220\" width=\"142px\" zoomAndPan=\"magnify\"><defs><filter height=\"300%\" id=\"fdgzesd0mx0s8\" width=\"300%\" x=\"-1\" y=\"-1\"><feGaussianBlur result=\"blurOut\" stdDeviation=\"2.0\"/><feColorMatrix in=\"blurOut\" result=\"blurOut2\" type=\"matrix\" values=\"0 0 0 0 0 0 0 0 0 0 0 0 0 0 0 0 0 0 .4 0\"/><feOffset dx=\"4.0\" dy=\"4.0\" in=\"blurOut2\" result=\"blurOut3\"/><feBlend in=\"SourceGraphic\" in2=\"blurOut3\" mode=\"normal\"/></filter></defs><g><rect fill=\"#FFD700\" filter=\"url(#fdgzesd0mx0s8)\" height=\"29.1328\" style=\"stroke:#A80036;stroke-width:1.0;\" width=\"10\" x=\"25.5\" y=\"100.5625\"/><rect fill=\"#FFD700\" filter=\"url(#fdgzesd0mx0s8)\" height=\"29.1328\" style=\"stroke:#A80036;stroke-width:1.0;\" width=\"10\" x=\"103.5\" y=\"71.4297\"/><line style=\"stroke:#A80036;stroke-width:1.0;stroke-dasharray:5.0,5.0;\" x1=\"30\" x2=\"30\" y1=\"40.2969\" y2=\"176.8281\"/><line style=\"stroke:#A80036;stroke-width:1.0;stroke-dasharray:5.0,5.0;\" x1=\"108\" x2=\"108\" y1=\"40.2969\" y2=\"176.8281\"/><rect fill=\"#FEFECE\" filter=\"url(#fdgzesd0mx0s8)\" height=\"30.2969\" style=\"stroke:#A80036;stroke-width:1.5;\" width=\"47\" x=\"5\" y=\"5\"/><text fill=\"#000000\" font-family=\"sans-serif\" font-size=\"14\" lengthAdjust=\"spacing\" textLength=\"33\" x=\"12\" y=\"24.9951\">alice</text><rect fill=\"#FEFECE\" filter=\"url(#fdgzesd0mx0s8)\" height=\"30.2969\" style=\"stroke:#A80036;stroke-width:1.5;\" width=\"47\" x=\"5\" y=\"175.8281\"/><text fill=\"#000000\" font-family=\"sans-serif\" font-size=\"14\" lengthAdjust=\"spacing\" textLength=\"33\" x=\"12\" y=\"195.8232\">alice</text><rect fill=\"#FEFECE\" filter=\"url(#fdgzesd0mx0s8)\" height=\"30.2969\" style=\"stroke:#A80036;stroke-width:1.5;\" width=\"43\" x=\"85\" y=\"5\"/><text fill=\"#000000\" font-family=\"sans-serif\" font-size=\"14\" lengthAdjust=\"spacing\" textLength=\"29\" x=\"92\" y=\"24.9951\">bob</text><rect fill=\"#FEFECE\" filter=\"url(#fdgzesd0mx0s8)\" height=\"30.2969\" style=\"stroke:#A80036;stroke-width:1.5;\" width=\"43\" x=\"85\" y=\"175.8281\"/><text fill=\"#000000\" font-family=\"sans-serif\" font-size=\"14\" lengthAdjust=\"spacing\" textLength=\"29\" x=\"92\" y=\"195.8232\">bob</text><rect fill=\"#FFD700\" filter=\"url(#fdgzesd0mx0s8)\" height=\"29.1328\" style=\"stroke:#A80036;stroke-width:1.0;\" width=\"10\" x=\"25.5\" y=\"100.5625\"/><rect fill=\"#FFD700\" filter=\"url(#fdgzesd0mx0s8)\" height=\"29.1328\" style=\"stroke:#A80036;stroke-width:1.0;\" width=\"10\" x=\"103.5\" y=\"71.4297\"/><polygon fill=\"#A80036\" points=\"91.5,67.4297,101.5,71.4297,91.5,75.4297,95.5,71.4297\" style=\"stroke:#A80036;stroke-width:1.0;\"/><line style=\"stroke:#A80036;stroke-width:1.0;\" x1=\"30.5\" x2=\"97.5\" y1=\"71.4297\" y2=\"71.4297\"/><text fill=\"#000000\" font-family=\"sans-serif\" font-size=\"13\" lengthAdjust=\"spacing\" textLength=\"30\" x=\"37.5\" y=\"66.3638\">hello</text><polygon fill=\"#A80036\" points=\"46.5,96.5625,36.5,100.5625,46.5,104.5625,42.5,100.5625\" style=\"stroke:#A80036;stroke-width:1.0;\"/><line style=\"stroke:#A80036;stroke-width:1.0;\" x1=\"40.5\" x2=\"107.5\" y1=\"100.5625\" y2=\"100.5625\"/><text fill=\"#000000\" font-family=\"sans-serif\" font-size=\"13\" lengthAdjust=\"spacing\" textLength=\"49\" x=\"52.5\" y=\"95.4966\">you too</text><polygon fill=\"#A80036\" points=\"96.5,125.6953,106.5,129.6953,96.5,133.6953,100.5,129.6953\" style=\"stroke:#A80036;stroke-width:1.0;\"/><line style=\"stroke:#A80036;stroke-width:1.0;\" x1=\"30.5\" x2=\"102.5\" y1=\"129.6953\" y2=\"129.6953\"/><text fill=\"#000000\" font-family=\"sans-serif\" font-size=\"13\" lengthAdjust=\"spacing\" textLength=\"36\" x=\"37.5\" y=\"124.6294\">step1</text><polygon fill=\"#A80036\" points=\"96.5,154.8281,106.5,158.8281,96.5,162.8281,100.5,158.8281\" style=\"stroke:#A80036;stroke-width:1.0;\"/><line style=\"stroke:#A80036;stroke-width:1.0;\" x1=\"30.5\" x2=\"102.5\" y1=\"158.8281\" y2=\"158.8281\"/><text fill=\"#000000\" font-family=\"sans-serif\" font-size=\"13\" lengthAdjust=\"spacing\" textLength=\"36\" x=\"37.5\" y=\"153.7622\">step2</text><!--MD5=[3d230d41cacccb8fc5f3a7980cfc1ee0]\n",
       "@startuml\n",
       "alice -> bob - -++ #gold: hello\n",
       "bob -> alice - -++ #gold: you too\n",
       "alice -> bob - -: step1\n",
       "alice -> bob : step2\n",
       "@enduml\n",
       "\n",
       "PlantUML version 1.2021.9beta2(Unknown compile time)\n",
       "(GPL source distribution)\n",
       "Java Runtime: Java(TM) SE Runtime Environment\n",
       "JVM: Java HotSpot(TM) 64-Bit Server VM\n",
       "Default Encoding: UTF-8\n",
       "Language: en\n",
       "Country: US\n",
       "--></g></svg>"
      ],
      "text/plain": [
       "<IPython.core.display.SVG object>"
      ]
     },
     "execution_count": 39,
     "metadata": {},
     "output_type": "execute_result"
    }
   ],
   "source": [
    "%%plantuml\n",
    "\n",
    "@startuml\n",
    "@startuml\n",
    "alice -> bob --++ #gold: hello\n",
    "bob -> alice --++ #gold: you too\n",
    "alice -> bob --: step1\n",
    "alice -> bob : step2\n",
    "@enduml\n",
    "@enduml"
   ]
  },
  {
   "cell_type": "code",
   "execution_count": 40,
   "id": "6dcda296",
   "metadata": {},
   "outputs": [
    {
     "data": {
      "image/svg+xml": [
       "<svg xmlns=\"http://www.w3.org/2000/svg\" xmlns:xlink=\"http://www.w3.org/1999/xlink\" contentScriptType=\"application/ecmascript\" contentStyleType=\"text/css\" height=\"262px\" preserveAspectRatio=\"none\" style=\"width:257px;height:262px;background:#FFFFFF;\" version=\"1.1\" viewBox=\"0 0 257 262\" width=\"257px\" zoomAndPan=\"magnify\"><defs><filter height=\"300%\" id=\"f12aalg2kgfpg6\" width=\"300%\" x=\"-1\" y=\"-1\"><feGaussianBlur result=\"blurOut\" stdDeviation=\"2.0\"/><feColorMatrix in=\"blurOut\" result=\"blurOut2\" type=\"matrix\" values=\"0 0 0 0 0 0 0 0 0 0 0 0 0 0 0 0 0 0 .4 0\"/><feOffset dx=\"4.0\" dy=\"4.0\" in=\"blurOut2\" result=\"blurOut3\"/><feBlend in=\"SourceGraphic\" in2=\"blurOut3\" mode=\"normal\"/></filter></defs><g><rect fill=\"#FFFFFF\" filter=\"url(#f12aalg2kgfpg6)\" height=\"129.5313\" style=\"stroke:#A80036;stroke-width:1.0;\" width=\"10\" x=\"70\" y=\"71.4297\"/><rect fill=\"#FFFFFF\" filter=\"url(#f12aalg2kgfpg6)\" height=\"63.2656\" style=\"stroke:#A80036;stroke-width:1.0;\" width=\"10\" x=\"75\" y=\"108.5625\"/><line style=\"stroke:#A80036;stroke-width:1.0;stroke-dasharray:5.0,5.0;\" x1=\"75\" x2=\"75\" y1=\"40.2969\" y2=\"218.9609\"/><rect fill=\"#FEFECE\" filter=\"url(#f12aalg2kgfpg6)\" height=\"30.2969\" style=\"stroke:#A80036;stroke-width:1.5;\" width=\"24\" x=\"61\" y=\"5\"/><text fill=\"#000000\" font-family=\"sans-serif\" font-size=\"14\" lengthAdjust=\"spacing\" textLength=\"10\" x=\"68\" y=\"24.9951\">A</text><rect fill=\"#FEFECE\" filter=\"url(#f12aalg2kgfpg6)\" height=\"30.2969\" style=\"stroke:#A80036;stroke-width:1.5;\" width=\"24\" x=\"61\" y=\"217.9609\"/><text fill=\"#000000\" font-family=\"sans-serif\" font-size=\"14\" lengthAdjust=\"spacing\" textLength=\"10\" x=\"68\" y=\"237.9561\">A</text><rect fill=\"#FFFFFF\" filter=\"url(#f12aalg2kgfpg6)\" height=\"129.5313\" style=\"stroke:#A80036;stroke-width:1.0;\" width=\"10\" x=\"70\" y=\"71.4297\"/><rect fill=\"#FFFFFF\" filter=\"url(#f12aalg2kgfpg6)\" height=\"63.2656\" style=\"stroke:#A80036;stroke-width:1.0;\" width=\"10\" x=\"75\" y=\"108.5625\"/><polygon fill=\"#A80036\" points=\"58,67.4297,68,71.4297,58,75.4297,62,71.4297\" style=\"stroke:#A80036;stroke-width:1.0;\"/><line style=\"stroke:#A80036;stroke-width:1.0;\" x1=\"0\" x2=\"64\" y1=\"71.4297\" y2=\"71.4297\"/><text fill=\"#000000\" font-family=\"sans-serif\" font-size=\"13\" lengthAdjust=\"spacing\" textLength=\"51\" x=\"7\" y=\"66.3638\">DoWork</text><line style=\"stroke:#A80036;stroke-width:1.0;\" x1=\"80\" x2=\"127\" y1=\"95.5625\" y2=\"95.5625\"/><line style=\"stroke:#A80036;stroke-width:1.0;\" x1=\"127\" x2=\"127\" y1=\"95.5625\" y2=\"108.5625\"/><line style=\"stroke:#A80036;stroke-width:1.0;\" x1=\"86\" x2=\"127\" y1=\"108.5625\" y2=\"108.5625\"/><polygon fill=\"#A80036\" points=\"96,104.5625,86,108.5625,96,112.5625,92,108.5625\" style=\"stroke:#A80036;stroke-width:1.0;\"/><text fill=\"#000000\" font-family=\"sans-serif\" font-size=\"13\" lengthAdjust=\"spacing\" textLength=\"73\" x=\"92\" y=\"90.4966\">Internal call</text><polygon fill=\"#A80036\" points=\"239,138.6953,249,142.6953,239,146.6953,243,142.6953\" style=\"stroke:#A80036;stroke-width:1.0;\"/><line style=\"stroke:#A80036;stroke-width:1.0;\" x1=\"85\" x2=\"245\" y1=\"142.6953\" y2=\"142.6953\"/><text fill=\"#000000\" font-family=\"sans-serif\" font-size=\"13\" lengthAdjust=\"spacing\" textLength=\"142\" x=\"92\" y=\"137.6294\">&lt;&lt; createRequest &gt;&gt;</text><polygon fill=\"#A80036\" points=\"91,167.8281,81,171.8281,91,175.8281,87,171.8281\" style=\"stroke:#A80036;stroke-width:1.0;\"/><line style=\"stroke:#A80036;stroke-width:1.0;stroke-dasharray:2.0,2.0;\" x1=\"85\" x2=\"250\" y1=\"171.8281\" y2=\"171.8281\"/><text fill=\"#000000\" font-family=\"sans-serif\" font-size=\"13\" lengthAdjust=\"spacing\" textLength=\"104\" x=\"97\" y=\"166.7622\">RequestCreated</text><polygon fill=\"#A80036\" points=\"11,196.9609,1,200.9609,11,204.9609,7,200.9609\" style=\"stroke:#A80036;stroke-width:1.0;\"/><line style=\"stroke:#A80036;stroke-width:1.0;\" x1=\"5\" x2=\"74\" y1=\"200.9609\" y2=\"200.9609\"/><text fill=\"#000000\" font-family=\"sans-serif\" font-size=\"13\" lengthAdjust=\"spacing\" textLength=\"34\" x=\"17\" y=\"195.895\">Done</text><!--MD5=[4432a42a7b2d5300caa2236cd9e2a685]\n",
       "@startuml\n",
       "[-> A: DoWork\n",
       "activate A\n",
       "A -> A: Internal call\n",
       "activate A\n",
       "A ->] : << createRequest >>\n",
       "A<- -] : RequestCreated\n",
       "deactivate A\n",
       "[<- A: Done\n",
       "deactivate A\n",
       "@enduml\n",
       "\n",
       "PlantUML version 1.2021.9beta2(Unknown compile time)\n",
       "(GPL source distribution)\n",
       "Java Runtime: Java(TM) SE Runtime Environment\n",
       "JVM: Java HotSpot(TM) 64-Bit Server VM\n",
       "Default Encoding: UTF-8\n",
       "Language: en\n",
       "Country: US\n",
       "--></g></svg>"
      ],
      "text/plain": [
       "<IPython.core.display.SVG object>"
      ]
     },
     "execution_count": 40,
     "metadata": {},
     "output_type": "execute_result"
    }
   ],
   "source": [
    "%%plantuml\n",
    "\n",
    "@startuml\n",
    "[-> A: DoWork\n",
    "activate A\n",
    "A -> A: Internal call\n",
    "activate A\n",
    "A ->] : << createRequest >>\n",
    "A<--] : RequestCreated\n",
    "deactivate A\n",
    "[<- A: Done\n",
    "deactivate A\n",
    "@enduml\n"
   ]
  },
  {
   "cell_type": "code",
   "execution_count": 41,
   "id": "2e41992b",
   "metadata": {},
   "outputs": [
    {
     "data": {
      "image/svg+xml": [
       "<svg xmlns=\"http://www.w3.org/2000/svg\" xmlns:xlink=\"http://www.w3.org/1999/xlink\" contentScriptType=\"application/ecmascript\" contentStyleType=\"text/css\" height=\"271px\" preserveAspectRatio=\"none\" style=\"width:70px;height:271px;background:#FFFFFF;\" version=\"1.1\" viewBox=\"0 0 70 271\" width=\"70px\" zoomAndPan=\"magnify\"><defs><filter height=\"300%\" id=\"f1rqeiu71dcv7m\" width=\"300%\" x=\"-1\" y=\"-1\"><feGaussianBlur result=\"blurOut\" stdDeviation=\"2.0\"/><feColorMatrix in=\"blurOut\" result=\"blurOut2\" type=\"matrix\" values=\"0 0 0 0 0 0 0 0 0 0 0 0 0 0 0 0 0 0 .4 0\"/><feOffset dx=\"4.0\" dy=\"4.0\" in=\"blurOut2\" result=\"blurOut3\"/><feBlend in=\"SourceGraphic\" in2=\"blurOut3\" mode=\"normal\"/></filter></defs><g><line style=\"stroke:#A80036;stroke-width:1.0;stroke-dasharray:5.0,5.0;\" x1=\"31.5\" x2=\"31.5\" y1=\"40.2969\" y2=\"228.2969\"/><rect fill=\"#FEFECE\" filter=\"url(#f1rqeiu71dcv7m)\" height=\"30.2969\" style=\"stroke:#A80036;stroke-width:1.5;\" width=\"43\" x=\"8.5\" y=\"5\"/><text fill=\"#000000\" font-family=\"sans-serif\" font-size=\"14\" lengthAdjust=\"spacing\" textLength=\"29\" x=\"15.5\" y=\"24.9951\">Bob</text><rect fill=\"#FEFECE\" filter=\"url(#f1rqeiu71dcv7m)\" height=\"30.2969\" style=\"stroke:#A80036;stroke-width:1.5;\" width=\"43\" x=\"8.5\" y=\"227.2969\"/><text fill=\"#000000\" font-family=\"sans-serif\" font-size=\"14\" lengthAdjust=\"spacing\" textLength=\"29\" x=\"15.5\" y=\"247.292\">Bob</text><polygon fill=\"#A80036\" points=\"20,52.2969,30,56.2969,20,60.2969,24,56.2969\" style=\"stroke:#A80036;stroke-width:1.0;\"/><line style=\"stroke:#A80036;stroke-width:1.0;\" x1=\"0\" x2=\"26\" y1=\"56.2969\" y2=\"56.2969\"/><ellipse cx=\"7.5\" cy=\"69.5469\" rx=\"4\" ry=\"4\" style=\"stroke:#A80036;stroke-width:1.5;fill:none;\"/><polygon fill=\"#A80036\" points=\"20,66.2969,30,70.2969,20,74.2969,24,70.2969\" style=\"stroke:#A80036;stroke-width:1.0;\"/><line style=\"stroke:#A80036;stroke-width:1.0;\" x1=\"12\" x2=\"26\" y1=\"70.2969\" y2=\"70.2969\"/><ellipse cx=\"7.5\" cy=\"83.5469\" rx=\"4\" ry=\"4\" style=\"stroke:#A80036;stroke-width:1.5;fill:none;\"/><ellipse cx=\"31.5\" cy=\"83.5469\" rx=\"4\" ry=\"4\" style=\"stroke:#A80036;stroke-width:1.5;fill:none;\"/><polygon fill=\"#A80036\" points=\"14.5,80.2969,24.5,84.2969,14.5,88.2969,18.5,84.2969\" style=\"stroke:#A80036;stroke-width:1.0;\"/><line style=\"stroke:#A80036;stroke-width:1.0;\" x1=\"12\" x2=\"20.5\" y1=\"84.2969\" y2=\"84.2969\"/><line style=\"stroke:#A80036;stroke-width:2.0;\" x1=\"14\" x2=\"24\" y1=\"93.2969\" y2=\"103.2969\"/><line style=\"stroke:#A80036;stroke-width:2.0;\" x1=\"14\" x2=\"24\" y1=\"103.2969\" y2=\"93.2969\"/><line style=\"stroke:#A80036;stroke-width:1.0;\" x1=\"0\" x2=\"19\" y1=\"98.2969\" y2=\"98.2969\"/><polygon fill=\"#A80036\" points=\"11,108.2969,1,112.2969,11,116.2969,7,112.2969\" style=\"stroke:#A80036;stroke-width:1.0;\"/><line style=\"stroke:#A80036;stroke-width:1.0;\" x1=\"5\" x2=\"31\" y1=\"112.2969\" y2=\"112.2969\"/><line style=\"stroke:#A80036;stroke-width:2.0;\" x1=\"6\" x2=\"16\" y1=\"121.2969\" y2=\"131.2969\"/><line style=\"stroke:#A80036;stroke-width:2.0;\" x1=\"6\" x2=\"16\" y1=\"131.2969\" y2=\"121.2969\"/><line style=\"stroke:#A80036;stroke-width:1.0;\" x1=\"12\" x2=\"31\" y1=\"126.2969\" y2=\"126.2969\"/><polygon fill=\"#A80036\" points=\"52,136.2969,62,140.2969,52,144.2969,56,140.2969\" style=\"stroke:#A80036;stroke-width:1.0;\"/><line style=\"stroke:#A80036;stroke-width:1.0;\" x1=\"32\" x2=\"58\" y1=\"140.2969\" y2=\"140.2969\"/><ellipse cx=\"55.5\" cy=\"153.5469\" rx=\"4\" ry=\"4\" style=\"stroke:#A80036;stroke-width:1.5;fill:none;\"/><polygon fill=\"#A80036\" points=\"38.5,150.2969,48.5,154.2969,38.5,158.2969,42.5,154.2969\" style=\"stroke:#A80036;stroke-width:1.0;\"/><line style=\"stroke:#A80036;stroke-width:1.0;\" x1=\"32\" x2=\"44.5\" y1=\"154.2969\" y2=\"154.2969\"/><ellipse cx=\"31.5\" cy=\"167.5469\" rx=\"4\" ry=\"4\" style=\"stroke:#A80036;stroke-width:1.5;fill:none;\"/><ellipse cx=\"55.5\" cy=\"167.5469\" rx=\"4\" ry=\"4\" style=\"stroke:#A80036;stroke-width:1.5;fill:none;\"/><polygon fill=\"#A80036\" points=\"38.5,164.2969,48.5,168.2969,38.5,172.2969,42.5,168.2969\" style=\"stroke:#A80036;stroke-width:1.0;\"/><line style=\"stroke:#A80036;stroke-width:1.0;\" x1=\"36\" x2=\"44.5\" y1=\"168.2969\" y2=\"168.2969\"/><line style=\"stroke:#A80036;stroke-width:2.0;\" x1=\"46\" x2=\"56\" y1=\"177.2969\" y2=\"187.2969\"/><line style=\"stroke:#A80036;stroke-width:2.0;\" x1=\"46\" x2=\"56\" y1=\"187.2969\" y2=\"177.2969\"/><line style=\"stroke:#A80036;stroke-width:1.0;\" x1=\"32\" x2=\"51\" y1=\"182.2969\" y2=\"182.2969\"/><polygon fill=\"#A80036\" points=\"43,192.2969,33,196.2969,43,200.2969,39,196.2969\" style=\"stroke:#A80036;stroke-width:1.0;\"/><line style=\"stroke:#A80036;stroke-width:1.0;\" x1=\"37\" x2=\"63\" y1=\"196.2969\" y2=\"196.2969\"/><line style=\"stroke:#A80036;stroke-width:2.0;\" x1=\"38\" x2=\"48\" y1=\"205.2969\" y2=\"215.2969\"/><line style=\"stroke:#A80036;stroke-width:2.0;\" x1=\"38\" x2=\"48\" y1=\"215.2969\" y2=\"205.2969\"/><line style=\"stroke:#A80036;stroke-width:1.0;\" x1=\"44\" x2=\"63\" y1=\"210.2969\" y2=\"210.2969\"/><!--MD5=[90020ba484c82bc066723b7a3fa873d0]\n",
       "@startuml\n",
       "[-> Bob\n",
       "[o-> Bob\n",
       "[o->o Bob\n",
       "[x-> Bob\n",
       "[<- Bob\n",
       "[x<- Bob\n",
       "Bob ->]\n",
       "Bob ->o]\n",
       "Bob o->o]\n",
       "Bob ->x]\n",
       "Bob <-]\n",
       "Bob x<-]\n",
       "@enduml\n",
       "\n",
       "PlantUML version 1.2021.9beta2(Unknown compile time)\n",
       "(GPL source distribution)\n",
       "Java Runtime: Java(TM) SE Runtime Environment\n",
       "JVM: Java HotSpot(TM) 64-Bit Server VM\n",
       "Default Encoding: UTF-8\n",
       "Language: en\n",
       "Country: US\n",
       "--></g></svg>"
      ],
      "text/plain": [
       "<IPython.core.display.SVG object>"
      ]
     },
     "execution_count": 41,
     "metadata": {},
     "output_type": "execute_result"
    }
   ],
   "source": [
    "%%plantuml\n",
    "\n",
    "@startuml\n",
    "[-> Bob\n",
    "[o-> Bob\n",
    "[o->o Bob\n",
    "[x-> Bob\n",
    "[<- Bob\n",
    "[x<- Bob\n",
    "Bob ->]\n",
    "Bob ->o]\n",
    "Bob o->o]\n",
    "Bob ->x]\n",
    "Bob <-]\n",
    "Bob x<-]\n",
    "@enduml "
   ]
  },
  {
   "cell_type": "code",
   "execution_count": 42,
   "id": "54cea9d0",
   "metadata": {},
   "outputs": [
    {
     "data": {
      "image/svg+xml": [
       "<svg xmlns=\"http://www.w3.org/2000/svg\" xmlns:xlink=\"http://www.w3.org/1999/xlink\" contentScriptType=\"application/ecmascript\" contentStyleType=\"text/css\" height=\"416px\" preserveAspectRatio=\"none\" style=\"width:364px;height:416px;background:#FFFFFF;\" version=\"1.1\" viewBox=\"0 0 364 416\" width=\"364px\" zoomAndPan=\"magnify\"><defs><filter height=\"300%\" id=\"f1ak2yiyy8n2ii\" width=\"300%\" x=\"-1\" y=\"-1\"><feGaussianBlur result=\"blurOut\" stdDeviation=\"2.0\"/><feColorMatrix in=\"blurOut\" result=\"blurOut2\" type=\"matrix\" values=\"0 0 0 0 0 0 0 0 0 0 0 0 0 0 0 0 0 0 .4 0\"/><feOffset dx=\"4.0\" dy=\"4.0\" in=\"blurOut2\" result=\"blurOut3\"/><feBlend in=\"SourceGraphic\" in2=\"blurOut3\" mode=\"normal\"/></filter></defs><g><line style=\"stroke:#A80036;stroke-width:1.0;stroke-dasharray:5.0,5.0;\" x1=\"168.5\" x2=\"168.5\" y1=\"40.2969\" y2=\"373.4267\"/><line style=\"stroke:#A80036;stroke-width:1.0;stroke-dasharray:5.0,5.0;\" x1=\"330.5\" x2=\"330.5\" y1=\"40.2969\" y2=\"373.4267\"/><rect fill=\"#FEFECE\" filter=\"url(#f1ak2yiyy8n2ii)\" height=\"30.2969\" style=\"stroke:#A80036;stroke-width:1.5;\" width=\"49\" x=\"142.5\" y=\"5\"/><text fill=\"#000000\" font-family=\"sans-serif\" font-size=\"14\" lengthAdjust=\"spacing\" textLength=\"35\" x=\"149.5\" y=\"24.9951\">Alice</text><rect fill=\"#FEFECE\" filter=\"url(#f1ak2yiyy8n2ii)\" height=\"30.2969\" style=\"stroke:#A80036;stroke-width:1.5;\" width=\"49\" x=\"142.5\" y=\"372.4267\"/><text fill=\"#000000\" font-family=\"sans-serif\" font-size=\"14\" lengthAdjust=\"spacing\" textLength=\"35\" x=\"149.5\" y=\"392.4218\">Alice</text><rect fill=\"#FEFECE\" filter=\"url(#f1ak2yiyy8n2ii)\" height=\"30.2969\" style=\"stroke:#A80036;stroke-width:1.5;\" width=\"43\" x=\"307.5\" y=\"5\"/><text fill=\"#000000\" font-family=\"sans-serif\" font-size=\"14\" lengthAdjust=\"spacing\" textLength=\"29\" x=\"314.5\" y=\"24.9951\">Bob</text><rect fill=\"#FEFECE\" filter=\"url(#f1ak2yiyy8n2ii)\" height=\"30.2969\" style=\"stroke:#A80036;stroke-width:1.5;\" width=\"43\" x=\"307.5\" y=\"372.4267\"/><text fill=\"#000000\" font-family=\"sans-serif\" font-size=\"14\" lengthAdjust=\"spacing\" textLength=\"29\" x=\"314.5\" y=\"392.4218\">Bob</text><polygon fill=\"#A80036\" points=\"157,83.0297,167,87.0297,157,91.0297,161,87.0297\" style=\"stroke:#A80036;stroke-width:1.0;\"/><line style=\"stroke:#A80036;stroke-width:1.0;\" x1=\"41\" x2=\"163\" y1=\"87.0297\" y2=\"87.0297\"/><text fill=\"#000000\" font-family=\"monospace\" font-size=\"13\" lengthAdjust=\"spacing\" textLength=\"24\" x=\"48\" y=\"66.3349\">?-&gt;</text><text fill=\"#000000\" font-family=\"sans-serif\" font-size=\"13\" font-weight=\"bold\" lengthAdjust=\"spacing\" textLength=\"42\" x=\"48\" y=\"81.9638\">short</text><text fill=\"#000000\" font-family=\"sans-serif\" font-size=\"13\" lengthAdjust=\"spacing\" textLength=\"58\" x=\"94\" y=\"81.9638\">to actor1</text><polygon fill=\"#A80036\" points=\"157,127.7625,167,131.7625,157,135.7625,161,131.7625\" style=\"stroke:#A80036;stroke-width:1.0;\"/><line style=\"stroke:#A80036;stroke-width:1.0;\" x1=\"0\" x2=\"163\" y1=\"131.7625\" y2=\"131.7625\"/><text fill=\"#000000\" font-family=\"monospace\" font-size=\"13\" lengthAdjust=\"spacing\" textLength=\"24\" x=\"7\" y=\"111.0677\">[-&gt;</text><text fill=\"#000000\" font-family=\"sans-serif\" font-size=\"13\" font-weight=\"bold\" lengthAdjust=\"spacing\" textLength=\"83\" x=\"7\" y=\"126.6966\">from start</text><text fill=\"#000000\" font-family=\"sans-serif\" font-size=\"13\" lengthAdjust=\"spacing\" textLength=\"58\" x=\"94\" y=\"126.6966\">to actor1</text><polygon fill=\"#A80036\" points=\"319,172.4954,329,176.4954,319,180.4954,323,176.4954\" style=\"stroke:#A80036;stroke-width:1.0;\"/><line style=\"stroke:#A80036;stroke-width:1.0;\" x1=\"0\" x2=\"325\" y1=\"176.4954\" y2=\"176.4954\"/><text fill=\"#000000\" font-family=\"monospace\" font-size=\"13\" lengthAdjust=\"spacing\" textLength=\"24\" x=\"7\" y=\"155.8005\">[-&gt;</text><text fill=\"#000000\" font-family=\"sans-serif\" font-size=\"13\" font-weight=\"bold\" lengthAdjust=\"spacing\" textLength=\"83\" x=\"7\" y=\"171.4294\">from start</text><text fill=\"#000000\" font-family=\"sans-serif\" font-size=\"13\" lengthAdjust=\"spacing\" textLength=\"58\" x=\"94\" y=\"171.4294\">to actor2</text><polygon fill=\"#A80036\" points=\"319,217.2282,329,221.2282,319,225.2282,323,221.2282\" style=\"stroke:#A80036;stroke-width:1.0;\"/><line style=\"stroke:#A80036;stroke-width:1.0;\" x1=\"203\" x2=\"325\" y1=\"221.2282\" y2=\"221.2282\"/><text fill=\"#000000\" font-family=\"monospace\" font-size=\"13\" lengthAdjust=\"spacing\" textLength=\"24\" x=\"210\" y=\"200.5334\">?-&gt;</text><text fill=\"#000000\" font-family=\"sans-serif\" font-size=\"13\" font-weight=\"bold\" lengthAdjust=\"spacing\" textLength=\"42\" x=\"210\" y=\"216.1623\">short</text><text fill=\"#000000\" font-family=\"sans-serif\" font-size=\"13\" lengthAdjust=\"spacing\" textLength=\"58\" x=\"256\" y=\"216.1623\">to actor2</text><polygon fill=\"#A80036\" points=\"347.5,261.961,357.5,265.961,347.5,269.961,351.5,265.961\" style=\"stroke:#A80036;stroke-width:1.0;\"/><line style=\"stroke:#A80036;stroke-width:1.0;\" x1=\"169\" x2=\"353.5\" y1=\"265.961\" y2=\"265.961\"/><text fill=\"#000000\" font-family=\"monospace\" font-size=\"13\" lengthAdjust=\"spacing\" textLength=\"24\" x=\"176\" y=\"245.2662\">-&gt;]</text><text fill=\"#000000\" font-family=\"sans-serif\" font-size=\"13\" lengthAdjust=\"spacing\" textLength=\"76\" x=\"176\" y=\"260.8951\">from actor1</text><text fill=\"#000000\" font-family=\"sans-serif\" font-size=\"13\" font-weight=\"bold\" lengthAdjust=\"spacing\" textLength=\"50\" x=\"256\" y=\"260.8951\">to end</text><polygon fill=\"#A80036\" points=\"303,306.6938,313,310.6938,303,314.6938,307,310.6938\" style=\"stroke:#A80036;stroke-width:1.0;\"/><line style=\"stroke:#A80036;stroke-width:1.0;\" x1=\"169\" x2=\"309\" y1=\"310.6938\" y2=\"310.6938\"/><text fill=\"#000000\" font-family=\"monospace\" font-size=\"13\" lengthAdjust=\"spacing\" textLength=\"24\" x=\"176\" y=\"289.999\">-&gt;?</text><text fill=\"#000000\" font-family=\"sans-serif\" font-size=\"13\" font-weight=\"bold\" lengthAdjust=\"spacing\" textLength=\"42\" x=\"176\" y=\"305.6279\">short</text><text fill=\"#000000\" font-family=\"sans-serif\" font-size=\"13\" lengthAdjust=\"spacing\" textLength=\"76\" x=\"222\" y=\"305.6279\">from actor1</text><polygon fill=\"#A80036\" points=\"319,351.4267,329,355.4267,319,359.4267,323,355.4267\" style=\"stroke:#A80036;stroke-width:1.0;\"/><line style=\"stroke:#A80036;stroke-width:1.0;\" x1=\"169\" x2=\"325\" y1=\"355.4267\" y2=\"355.4267\"/><text fill=\"#000000\" font-family=\"monospace\" font-size=\"13\" lengthAdjust=\"spacing\" textLength=\"16\" x=\"176\" y=\"334.7318\">-&gt;</text><text fill=\"#000000\" font-family=\"sans-serif\" font-size=\"13\" lengthAdjust=\"spacing\" textLength=\"0\" x=\"196\" y=\"335.2279\"/><text fill=\"#000000\" font-family=\"sans-serif\" font-size=\"13\" lengthAdjust=\"spacing\" textLength=\"138\" x=\"176\" y=\"350.3607\">from actor1 to actor2</text><!--MD5=[caa945c979b5c6aa24db78fef40aa6b3]\n",
       "@startuml\n",
       "?-> Alice : \"\"?->\"\"\\n**short** to actor1\n",
       "[-> Alice : \"\"[->\"\"\\n**from start** to actor1\n",
       "[-> Bob : \"\"[->\"\"\\n**from start** to actor2\n",
       "?-> Bob : \"\"?->\"\"\\n**short** to actor2\n",
       "Alice ->] : \"\"->]\"\"\\nfrom actor1 **to end**\n",
       "Alice ->? : \"\"->?\"\"\\n**short** from actor1\n",
       "Alice -> Bob : \"\"->\"\" \\nfrom actor1 to actor2\n",
       "@enduml\n",
       "\n",
       "PlantUML version 1.2021.9beta2(Unknown compile time)\n",
       "(GPL source distribution)\n",
       "Java Runtime: Java(TM) SE Runtime Environment\n",
       "JVM: Java HotSpot(TM) 64-Bit Server VM\n",
       "Default Encoding: UTF-8\n",
       "Language: en\n",
       "Country: US\n",
       "--></g></svg>"
      ],
      "text/plain": [
       "<IPython.core.display.SVG object>"
      ]
     },
     "execution_count": 42,
     "metadata": {},
     "output_type": "execute_result"
    }
   ],
   "source": [
    "%%plantuml\n",
    "\n",
    "@startuml\n",
    "?-> Alice : \"\"?->\"\"\\n**short** to actor1\n",
    "[-> Alice : \"\"[->\"\"\\n**from start** to actor1\n",
    "[-> Bob : \"\"[->\"\"\\n**from start** to actor2\n",
    "?-> Bob : \"\"?->\"\"\\n**short** to actor2\n",
    "Alice ->] : \"\"->]\"\"\\nfrom actor1 **to end**\n",
    "Alice ->? : \"\"->?\"\"\\n**short** from actor1\n",
    "Alice -> Bob : \"\"->\"\" \\nfrom actor1 to actor2\n",
    "@enduml"
   ]
  },
  {
   "cell_type": "code",
   "execution_count": 43,
   "id": "04b8c848",
   "metadata": {},
   "outputs": [
    {
     "data": {
      "image/svg+xml": [
       "<svg xmlns=\"http://www.w3.org/2000/svg\" xmlns:xlink=\"http://www.w3.org/1999/xlink\" contentScriptType=\"application/ecmascript\" contentStyleType=\"text/css\" height=\"219px\" preserveAspectRatio=\"none\" style=\"width:423px;height:219px;background:#FFFFFF;\" version=\"1.1\" viewBox=\"0 0 423 219\" width=\"423px\" zoomAndPan=\"magnify\"><defs><filter height=\"300%\" id=\"f1ilbq1rd8r3wi\" width=\"300%\" x=\"-1\" y=\"-1\"><feGaussianBlur result=\"blurOut\" stdDeviation=\"2.0\"/><feColorMatrix in=\"blurOut\" result=\"blurOut2\" type=\"matrix\" values=\"0 0 0 0 0 0 0 0 0 0 0 0 0 0 0 0 0 0 .4 0\"/><feOffset dx=\"4.0\" dy=\"4.0\" in=\"blurOut2\" result=\"blurOut3\"/><feBlend in=\"SourceGraphic\" in2=\"blurOut3\" mode=\"normal\"/></filter></defs><g><line style=\"stroke:#A80036;stroke-width:1.5;\" x1=\"150\" x2=\"150\" y1=\"71.4297\" y2=\"154.8281\"/><polygon fill=\"#A80036\" points=\"146,81.4297,150,71.4297,154,81.4297,150,77.4297\" style=\"stroke:#A80036;stroke-width:1.0;\"/><polygon fill=\"#A80036\" points=\"146,144.8281,150,154.8281,154,144.8281,150,148.8281\" style=\"stroke:#A80036;stroke-width:1.0;\"/><text fill=\"#000000\" font-family=\"sans-serif\" font-size=\"13\" lengthAdjust=\"spacing\" textLength=\"69\" x=\"154\" y=\"117.6294\">some time</text><line style=\"stroke:#A80036;stroke-width:1.0;stroke-dasharray:5.0,5.0;\" x1=\"31.5\" x2=\"31.5\" y1=\"40.2969\" y2=\"174.8281\"/><line style=\"stroke:#A80036;stroke-width:1.0;stroke-dasharray:5.0,5.0;\" x1=\"268.5\" x2=\"268.5\" y1=\"40.2969\" y2=\"174.8281\"/><line style=\"stroke:#A80036;stroke-width:1.0;stroke-dasharray:5.0,5.0;\" x1=\"390.5\" x2=\"390.5\" y1=\"40.2969\" y2=\"174.8281\"/><rect fill=\"#FEFECE\" filter=\"url(#f1ilbq1rd8r3wi)\" height=\"30.2969\" style=\"stroke:#A80036;stroke-width:1.5;\" width=\"49\" x=\"5\" y=\"5\"/><text fill=\"#000000\" font-family=\"sans-serif\" font-size=\"14\" lengthAdjust=\"spacing\" textLength=\"35\" x=\"12\" y=\"24.9951\">Alice</text><rect fill=\"#FEFECE\" filter=\"url(#f1ilbq1rd8r3wi)\" height=\"30.2969\" style=\"stroke:#A80036;stroke-width:1.5;\" width=\"43\" x=\"245\" y=\"5\"/><text fill=\"#000000\" font-family=\"sans-serif\" font-size=\"14\" lengthAdjust=\"spacing\" textLength=\"29\" x=\"252\" y=\"24.9951\">Bob</text><rect fill=\"#FEFECE\" filter=\"url(#f1ilbq1rd8r3wi)\" height=\"30.2969\" style=\"stroke:#A80036;stroke-width:1.5;\" width=\"42\" x=\"367.5\" y=\"5\"/><text fill=\"#000000\" font-family=\"sans-serif\" font-size=\"14\" lengthAdjust=\"spacing\" textLength=\"28\" x=\"374.5\" y=\"24.9951\">Max</text><rect fill=\"#FEFECE\" filter=\"url(#f1ilbq1rd8r3wi)\" height=\"30.2969\" style=\"stroke:#A80036;stroke-width:1.5;\" width=\"49\" x=\"5\" y=\"174.8281\"/><text fill=\"#000000\" font-family=\"sans-serif\" font-size=\"14\" lengthAdjust=\"spacing\" textLength=\"35\" x=\"12\" y=\"194.8232\">Alice</text><rect fill=\"#FEFECE\" filter=\"url(#f1ilbq1rd8r3wi)\" height=\"30.2969\" style=\"stroke:#A80036;stroke-width:1.5;\" width=\"43\" x=\"245\" y=\"174.8281\"/><text fill=\"#000000\" font-family=\"sans-serif\" font-size=\"14\" lengthAdjust=\"spacing\" textLength=\"29\" x=\"252\" y=\"194.8232\">Bob</text><rect fill=\"#FEFECE\" filter=\"url(#f1ilbq1rd8r3wi)\" height=\"30.2969\" style=\"stroke:#A80036;stroke-width:1.5;\" width=\"42\" x=\"367.5\" y=\"174.8281\"/><text fill=\"#000000\" font-family=\"sans-serif\" font-size=\"14\" lengthAdjust=\"spacing\" textLength=\"28\" x=\"374.5\" y=\"194.8232\">Max</text><polygon fill=\"#A80036\" points=\"256.5,65.4297,266.5,69.4297,256.5,73.4297,260.5,69.4297\" style=\"stroke:#A80036;stroke-width:1.0;\"/><line style=\"stroke:#A80036;stroke-width:1.0;\" x1=\"31.5\" x2=\"262.5\" y1=\"69.4297\" y2=\"69.4297\"/><text fill=\"#000000\" font-family=\"sans-serif\" font-size=\"13\" lengthAdjust=\"spacing\" textLength=\"213\" x=\"38.5\" y=\"64.3638\">start doing things during duration</text><polygon fill=\"#A80036\" points=\"378.5,94.5625,388.5,98.5625,378.5,102.5625,382.5,98.5625\" style=\"stroke:#A80036;stroke-width:1.0;\"/><line style=\"stroke:#A80036;stroke-width:1.0;\" x1=\"268.5\" x2=\"384.5\" y1=\"98.5625\" y2=\"98.5625\"/><text fill=\"#000000\" font-family=\"sans-serif\" font-size=\"13\" lengthAdjust=\"spacing\" textLength=\"68\" x=\"275.5\" y=\"93.4966\">something</text><polygon fill=\"#A80036\" points=\"279.5,123.6953,269.5,127.6953,279.5,131.6953,275.5,127.6953\" style=\"stroke:#A80036;stroke-width:1.0;\"/><line style=\"stroke:#A80036;stroke-width:1.0;\" x1=\"273.5\" x2=\"389.5\" y1=\"127.6953\" y2=\"127.6953\"/><text fill=\"#000000\" font-family=\"sans-serif\" font-size=\"13\" lengthAdjust=\"spacing\" textLength=\"98\" x=\"285.5\" y=\"122.6294\">something else</text><polygon fill=\"#A80036\" points=\"42.5,152.8281,32.5,156.8281,42.5,160.8281,38.5,156.8281\" style=\"stroke:#A80036;stroke-width:1.0;\"/><line style=\"stroke:#A80036;stroke-width:1.0;\" x1=\"36.5\" x2=\"267.5\" y1=\"156.8281\" y2=\"156.8281\"/><text fill=\"#000000\" font-family=\"sans-serif\" font-size=\"13\" lengthAdjust=\"spacing\" textLength=\"34\" x=\"48.5\" y=\"151.7622\">finish</text><line style=\"stroke:#A80036;stroke-width:1.5;\" x1=\"150\" x2=\"150\" y1=\"71.4297\" y2=\"154.8281\"/><polygon fill=\"#A80036\" points=\"146,81.4297,150,71.4297,154,81.4297,150,77.4297\" style=\"stroke:#A80036;stroke-width:1.0;\"/><polygon fill=\"#A80036\" points=\"146,144.8281,150,154.8281,154,144.8281,150,148.8281\" style=\"stroke:#A80036;stroke-width:1.0;\"/><text fill=\"#000000\" font-family=\"sans-serif\" font-size=\"13\" lengthAdjust=\"spacing\" textLength=\"69\" x=\"154\" y=\"117.6294\">some time</text><!--MD5=[b83ea72abc696fe2b7262f8e0ea3363b]\n",
       "@startuml\n",
       "!pragma teoz true\n",
       "{start} Alice -> Bob : start doing things during duration\n",
       "Bob -> Max : something\n",
       "Max -> Bob : something else\n",
       "{end} Bob -> Alice : finish\n",
       "{start} <-> {end} : some time\n",
       "@enduml\n",
       "\n",
       "PlantUML version 1.2021.9beta2(Unknown compile time)\n",
       "(GPL source distribution)\n",
       "Java Runtime: Java(TM) SE Runtime Environment\n",
       "JVM: Java HotSpot(TM) 64-Bit Server VM\n",
       "Default Encoding: UTF-8\n",
       "Language: en\n",
       "Country: US\n",
       "--></g></svg>"
      ],
      "text/plain": [
       "<IPython.core.display.SVG object>"
      ]
     },
     "execution_count": 43,
     "metadata": {},
     "output_type": "execute_result"
    }
   ],
   "source": [
    "%%plantuml\n",
    "\n",
    "@startuml\n",
    "!pragma teoz true\n",
    "{start} Alice -> Bob : start doing things during duration\n",
    "Bob -> Max : something\n",
    "Max -> Bob : something else\n",
    "{end} Bob -> Alice : finish\n",
    "{start} <-> {end} : some time\n",
    "@enduml"
   ]
  },
  {
   "cell_type": "code",
   "execution_count": 44,
   "id": "1a615733",
   "metadata": {},
   "outputs": [
    {
     "data": {
      "image/svg+xml": [
       "<svg xmlns=\"http://www.w3.org/2000/svg\" xmlns:xlink=\"http://www.w3.org/1999/xlink\" contentScriptType=\"application/ecmascript\" contentStyleType=\"text/css\" height=\"165px\" preserveAspectRatio=\"none\" style=\"width:262px;height:165px;background:#FFFFFF;\" version=\"1.1\" viewBox=\"0 0 262 165\" width=\"262px\" zoomAndPan=\"magnify\"><defs><filter height=\"300%\" id=\"fpti0zumu4eo5\" width=\"300%\" x=\"-1\" y=\"-1\"><feGaussianBlur result=\"blurOut\" stdDeviation=\"2.0\"/><feColorMatrix in=\"blurOut\" result=\"blurOut2\" type=\"matrix\" values=\"0 0 0 0 0 0 0 0 0 0 0 0 0 0 0 0 0 0 .4 0\"/><feOffset dx=\"4.0\" dy=\"4.0\" in=\"blurOut2\" result=\"blurOut3\"/><feBlend in=\"SourceGraphic\" in2=\"blurOut3\" mode=\"normal\"/></filter></defs><g><line style=\"stroke:#A80036;stroke-width:1.0;stroke-dasharray:5.0,5.0;\" x1=\"61\" x2=\"61\" y1=\"56.5938\" y2=\"105.7266\"/><line style=\"stroke:#A80036;stroke-width:1.0;stroke-dasharray:5.0,5.0;\" x1=\"189\" x2=\"189\" y1=\"56.5938\" y2=\"105.7266\"/><rect fill=\"#FEFECE\" filter=\"url(#fpti0zumu4eo5)\" height=\"46.5938\" style=\"stroke:#A80036;stroke-width:1.5;\" width=\"108\" x=\"5\" y=\"5\"/><text fill=\"#000000\" font-family=\"sans-serif\" font-size=\"14\" font-style=\"italic\" lengthAdjust=\"spacing\" textLength=\"94\" x=\"12\" y=\"24.9951\">«Generated»</text><text fill=\"#000000\" font-family=\"sans-serif\" font-size=\"14\" lengthAdjust=\"spacing\" textLength=\"87\" x=\"15.5\" y=\"41.292\">Famous Bob</text><rect fill=\"#FEFECE\" filter=\"url(#fpti0zumu4eo5)\" height=\"46.5938\" style=\"stroke:#A80036;stroke-width:1.5;\" width=\"108\" x=\"5\" y=\"104.7266\"/><text fill=\"#000000\" font-family=\"sans-serif\" font-size=\"14\" font-style=\"italic\" lengthAdjust=\"spacing\" textLength=\"94\" x=\"12\" y=\"124.7217\">«Generated»</text><text fill=\"#000000\" font-family=\"sans-serif\" font-size=\"14\" lengthAdjust=\"spacing\" textLength=\"87\" x=\"15.5\" y=\"141.0186\">Famous Bob</text><rect fill=\"#FEFECE\" filter=\"url(#fpti0zumu4eo5)\" height=\"46.5938\" style=\"stroke:#A80036;stroke-width:1.5;\" width=\"121\" x=\"127\" y=\"5\"/><ellipse cx=\"145\" cy=\"23\" fill=\"#ADD1B2\" rx=\"11\" ry=\"11\" style=\"stroke:#A80036;stroke-width:1.0;\"/><path d=\"M147.3438,18.6719 C146.4063,18.2344 145.8125,18.0938 144.9375,18.0938 C142.3125,18.0938 140.3125,20.1719 140.3125,22.8906 L140.3125,24.0156 C140.3125,26.5938 142.4219,28.4844 145.3125,28.4844 C146.5313,28.4844 147.6875,28.1875 148.4375,27.6406 C149.0156,27.2344 149.3438,26.7813 149.3438,26.3906 C149.3438,25.9375 148.9531,25.5469 148.4844,25.5469 C148.2656,25.5469 148.0625,25.625 147.875,25.8125 C147.4219,26.2969 147.4219,26.2969 147.2344,26.3906 C146.8125,26.6563 146.125,26.7813 145.3594,26.7813 C143.3125,26.7813 142.0156,25.6875 142.0156,23.9844 L142.0156,22.8906 C142.0156,21.1094 143.2656,19.7969 145,19.7969 C145.5781,19.7969 146.1875,19.9531 146.6563,20.2031 C147.1406,20.4844 147.3125,20.7031 147.4063,21.1094 C147.4688,21.5156 147.5,21.6406 147.6406,21.7656 C147.7813,21.9063 148.0156,22.0156 148.2344,22.0156 C148.5,22.0156 148.7656,21.875 148.9375,21.6563 C149.0469,21.5 149.0781,21.3125 149.0781,20.8906 L149.0781,19.4688 C149.0781,19.0313 149.0625,18.9063 148.9688,18.75 C148.8125,18.4844 148.5313,18.3438 148.2344,18.3438 C147.9375,18.3438 147.7344,18.4375 147.5156,18.75 L147.3438,18.6719 Z \" fill=\"#000000\"/><text fill=\"#000000\" font-family=\"sans-serif\" font-size=\"14\" font-style=\"italic\" lengthAdjust=\"spacing\" textLength=\"79\" x=\"162\" y=\"24.9951\">«Testable»</text><text fill=\"#000000\" font-family=\"sans-serif\" font-size=\"14\" lengthAdjust=\"spacing\" textLength=\"35\" x=\"184\" y=\"41.292\">Alice</text><rect fill=\"#FEFECE\" filter=\"url(#fpti0zumu4eo5)\" height=\"46.5938\" style=\"stroke:#A80036;stroke-width:1.5;\" width=\"121\" x=\"127\" y=\"104.7266\"/><ellipse cx=\"145\" cy=\"122.7266\" fill=\"#ADD1B2\" rx=\"11\" ry=\"11\" style=\"stroke:#A80036;stroke-width:1.0;\"/><path d=\"M147.3438,118.3984 C146.4063,117.9609 145.8125,117.8203 144.9375,117.8203 C142.3125,117.8203 140.3125,119.8984 140.3125,122.6172 L140.3125,123.7422 C140.3125,126.3203 142.4219,128.2109 145.3125,128.2109 C146.5313,128.2109 147.6875,127.9141 148.4375,127.3672 C149.0156,126.9609 149.3438,126.5078 149.3438,126.1172 C149.3438,125.6641 148.9531,125.2734 148.4844,125.2734 C148.2656,125.2734 148.0625,125.3516 147.875,125.5391 C147.4219,126.0234 147.4219,126.0234 147.2344,126.1172 C146.8125,126.3828 146.125,126.5078 145.3594,126.5078 C143.3125,126.5078 142.0156,125.4141 142.0156,123.7109 L142.0156,122.6172 C142.0156,120.8359 143.2656,119.5234 145,119.5234 C145.5781,119.5234 146.1875,119.6797 146.6563,119.9297 C147.1406,120.2109 147.3125,120.4297 147.4063,120.8359 C147.4688,121.2422 147.5,121.3672 147.6406,121.4922 C147.7813,121.6328 148.0156,121.7422 148.2344,121.7422 C148.5,121.7422 148.7656,121.6016 148.9375,121.3828 C149.0469,121.2266 149.0781,121.0391 149.0781,120.6172 L149.0781,119.1953 C149.0781,118.7578 149.0625,118.6328 148.9688,118.4766 C148.8125,118.2109 148.5313,118.0703 148.2344,118.0703 C147.9375,118.0703 147.7344,118.1641 147.5156,118.4766 L147.3438,118.3984 Z \" fill=\"#000000\"/><text fill=\"#000000\" font-family=\"sans-serif\" font-size=\"14\" font-style=\"italic\" lengthAdjust=\"spacing\" textLength=\"79\" x=\"162\" y=\"124.7217\">«Testable»</text><text fill=\"#000000\" font-family=\"sans-serif\" font-size=\"14\" lengthAdjust=\"spacing\" textLength=\"35\" x=\"184\" y=\"141.0186\">Alice</text><polygon fill=\"#A80036\" points=\"177.5,83.7266,187.5,87.7266,177.5,91.7266,181.5,87.7266\" style=\"stroke:#A80036;stroke-width:1.0;\"/><line style=\"stroke:#A80036;stroke-width:1.0;\" x1=\"61\" x2=\"183.5\" y1=\"87.7266\" y2=\"87.7266\"/><text fill=\"#000000\" font-family=\"sans-serif\" font-size=\"13\" lengthAdjust=\"spacing\" textLength=\"90\" x=\"68\" y=\"82.6606\">First message</text><!--MD5=[9b02e87d95f0dec8bd1f7fca93c6a9b8]\n",
       "@startuml\n",
       "participant \"Famous Bob\" as Bob << Generated >>\n",
       "participant Alice << (C,#ADD1B2) Testable >>\n",
       "Bob->Alice: First message\n",
       "@enduml\n",
       "\n",
       "PlantUML version 1.2021.9beta2(Unknown compile time)\n",
       "(GPL source distribution)\n",
       "Java Runtime: Java(TM) SE Runtime Environment\n",
       "JVM: Java HotSpot(TM) 64-Bit Server VM\n",
       "Default Encoding: UTF-8\n",
       "Language: en\n",
       "Country: US\n",
       "--></g></svg>"
      ],
      "text/plain": [
       "<IPython.core.display.SVG object>"
      ]
     },
     "execution_count": 44,
     "metadata": {},
     "output_type": "execute_result"
    }
   ],
   "source": [
    "%%plantuml\n",
    "\n",
    "@startuml\n",
    "participant \"Famous Bob\" as Bob << Generated >>\n",
    "participant Alice << (C,#ADD1B2) Testable >>\n",
    "Bob->Alice: First message\n",
    "@enduml"
   ]
  },
  {
   "cell_type": "code",
   "execution_count": 45,
   "id": "ad45ac4a",
   "metadata": {},
   "outputs": [
    {
     "data": {
      "image/svg+xml": [
       "<svg xmlns=\"http://www.w3.org/2000/svg\" xmlns:xlink=\"http://www.w3.org/1999/xlink\" contentScriptType=\"application/ecmascript\" contentStyleType=\"text/css\" height=\"165px\" preserveAspectRatio=\"none\" style=\"width:338px;height:165px;background:#FFFFFF;\" version=\"1.1\" viewBox=\"0 0 338 165\" width=\"338px\" zoomAndPan=\"magnify\"><defs><filter height=\"300%\" id=\"fz5k2ymrr8d0p\" width=\"300%\" x=\"-1\" y=\"-1\"><feGaussianBlur result=\"blurOut\" stdDeviation=\"2.0\"/><feColorMatrix in=\"blurOut\" result=\"blurOut2\" type=\"matrix\" values=\"0 0 0 0 0 0 0 0 0 0 0 0 0 0 0 0 0 0 .4 0\"/><feOffset dx=\"4.0\" dy=\"4.0\" in=\"blurOut2\" result=\"blurOut3\"/><feBlend in=\"SourceGraphic\" in2=\"blurOut3\" mode=\"normal\"/></filter></defs><g><line style=\"stroke:#A80036;stroke-width:1.0;stroke-dasharray:5.0,5.0;\" x1=\"80\" x2=\"80\" y1=\"56.5938\" y2=\"105.7266\"/><line style=\"stroke:#A80036;stroke-width:1.0;stroke-dasharray:5.0,5.0;\" x1=\"246\" x2=\"246\" y1=\"56.5938\" y2=\"105.7266\"/><rect fill=\"#FEFECE\" filter=\"url(#fz5k2ymrr8d0p)\" height=\"46.5938\" style=\"stroke:#A80036;stroke-width:1.5;\" width=\"146\" x=\"5\" y=\"5\"/><text fill=\"#000000\" font-family=\"sans-serif\" font-size=\"14\" font-style=\"italic\" lengthAdjust=\"spacing\" textLength=\"132\" x=\"12\" y=\"24.9951\">&lt;&lt; Generated &gt;&gt;</text><text fill=\"#000000\" font-family=\"sans-serif\" font-size=\"14\" lengthAdjust=\"spacing\" textLength=\"87\" x=\"34.5\" y=\"41.292\">Famous Bob</text><rect fill=\"#FEFECE\" filter=\"url(#fz5k2ymrr8d0p)\" height=\"46.5938\" style=\"stroke:#A80036;stroke-width:1.5;\" width=\"146\" x=\"5\" y=\"104.7266\"/><text fill=\"#000000\" font-family=\"sans-serif\" font-size=\"14\" font-style=\"italic\" lengthAdjust=\"spacing\" textLength=\"132\" x=\"12\" y=\"124.7217\">&lt;&lt; Generated &gt;&gt;</text><text fill=\"#000000\" font-family=\"sans-serif\" font-size=\"14\" lengthAdjust=\"spacing\" textLength=\"87\" x=\"34.5\" y=\"141.0186\">Famous Bob</text><rect fill=\"#FEFECE\" filter=\"url(#fz5k2ymrr8d0p)\" height=\"46.5938\" style=\"stroke:#A80036;stroke-width:1.5;\" width=\"159\" x=\"165\" y=\"5\"/><ellipse cx=\"183\" cy=\"23\" fill=\"#ADD1B2\" rx=\"11\" ry=\"11\" style=\"stroke:#A80036;stroke-width:1.0;\"/><path d=\"M185.3438,18.6719 C184.4063,18.2344 183.8125,18.0938 182.9375,18.0938 C180.3125,18.0938 178.3125,20.1719 178.3125,22.8906 L178.3125,24.0156 C178.3125,26.5938 180.4219,28.4844 183.3125,28.4844 C184.5313,28.4844 185.6875,28.1875 186.4375,27.6406 C187.0156,27.2344 187.3438,26.7813 187.3438,26.3906 C187.3438,25.9375 186.9531,25.5469 186.4844,25.5469 C186.2656,25.5469 186.0625,25.625 185.875,25.8125 C185.4219,26.2969 185.4219,26.2969 185.2344,26.3906 C184.8125,26.6563 184.125,26.7813 183.3594,26.7813 C181.3125,26.7813 180.0156,25.6875 180.0156,23.9844 L180.0156,22.8906 C180.0156,21.1094 181.2656,19.7969 183,19.7969 C183.5781,19.7969 184.1875,19.9531 184.6563,20.2031 C185.1406,20.4844 185.3125,20.7031 185.4063,21.1094 C185.4688,21.5156 185.5,21.6406 185.6406,21.7656 C185.7813,21.9063 186.0156,22.0156 186.2344,22.0156 C186.5,22.0156 186.7656,21.875 186.9375,21.6563 C187.0469,21.5 187.0781,21.3125 187.0781,20.8906 L187.0781,19.4688 C187.0781,19.0313 187.0625,18.9063 186.9688,18.75 C186.8125,18.4844 186.5313,18.3438 186.2344,18.3438 C185.9375,18.3438 185.7344,18.4375 185.5156,18.75 L185.3438,18.6719 Z \" fill=\"#000000\"/><text fill=\"#000000\" font-family=\"sans-serif\" font-size=\"14\" font-style=\"italic\" lengthAdjust=\"spacing\" textLength=\"117\" x=\"200\" y=\"24.9951\">&lt;&lt; Testable &gt;&gt;</text><text fill=\"#000000\" font-family=\"sans-serif\" font-size=\"14\" lengthAdjust=\"spacing\" textLength=\"35\" x=\"241\" y=\"41.292\">Alice</text><rect fill=\"#FEFECE\" filter=\"url(#fz5k2ymrr8d0p)\" height=\"46.5938\" style=\"stroke:#A80036;stroke-width:1.5;\" width=\"159\" x=\"165\" y=\"104.7266\"/><ellipse cx=\"183\" cy=\"122.7266\" fill=\"#ADD1B2\" rx=\"11\" ry=\"11\" style=\"stroke:#A80036;stroke-width:1.0;\"/><path d=\"M185.3438,118.3984 C184.4063,117.9609 183.8125,117.8203 182.9375,117.8203 C180.3125,117.8203 178.3125,119.8984 178.3125,122.6172 L178.3125,123.7422 C178.3125,126.3203 180.4219,128.2109 183.3125,128.2109 C184.5313,128.2109 185.6875,127.9141 186.4375,127.3672 C187.0156,126.9609 187.3438,126.5078 187.3438,126.1172 C187.3438,125.6641 186.9531,125.2734 186.4844,125.2734 C186.2656,125.2734 186.0625,125.3516 185.875,125.5391 C185.4219,126.0234 185.4219,126.0234 185.2344,126.1172 C184.8125,126.3828 184.125,126.5078 183.3594,126.5078 C181.3125,126.5078 180.0156,125.4141 180.0156,123.7109 L180.0156,122.6172 C180.0156,120.8359 181.2656,119.5234 183,119.5234 C183.5781,119.5234 184.1875,119.6797 184.6563,119.9297 C185.1406,120.2109 185.3125,120.4297 185.4063,120.8359 C185.4688,121.2422 185.5,121.3672 185.6406,121.4922 C185.7813,121.6328 186.0156,121.7422 186.2344,121.7422 C186.5,121.7422 186.7656,121.6016 186.9375,121.3828 C187.0469,121.2266 187.0781,121.0391 187.0781,120.6172 L187.0781,119.1953 C187.0781,118.7578 187.0625,118.6328 186.9688,118.4766 C186.8125,118.2109 186.5313,118.0703 186.2344,118.0703 C185.9375,118.0703 185.7344,118.1641 185.5156,118.4766 L185.3438,118.3984 Z \" fill=\"#000000\"/><text fill=\"#000000\" font-family=\"sans-serif\" font-size=\"14\" font-style=\"italic\" lengthAdjust=\"spacing\" textLength=\"117\" x=\"200\" y=\"124.7217\">&lt;&lt; Testable &gt;&gt;</text><text fill=\"#000000\" font-family=\"sans-serif\" font-size=\"14\" lengthAdjust=\"spacing\" textLength=\"35\" x=\"241\" y=\"141.0186\">Alice</text><polygon fill=\"#A80036\" points=\"234.5,83.7266,244.5,87.7266,234.5,91.7266,238.5,87.7266\" style=\"stroke:#A80036;stroke-width:1.0;\"/><line style=\"stroke:#A80036;stroke-width:1.0;\" x1=\"80\" x2=\"240.5\" y1=\"87.7266\" y2=\"87.7266\"/><text fill=\"#000000\" font-family=\"sans-serif\" font-size=\"13\" lengthAdjust=\"spacing\" textLength=\"90\" x=\"87\" y=\"82.6606\">First message</text><!--MD5=[05729f835a233a2f06be7ced930b6a56]\n",
       "@startuml\n",
       "skinparam guillemet false\n",
       "participant \"Famous Bob\" as Bob << Generated >>\n",
       "participant Alice << (C,#ADD1B2) Testable >>\n",
       "Bob->Alice: First message\n",
       "@enduml\n",
       "\n",
       "PlantUML version 1.2021.9beta2(Unknown compile time)\n",
       "(GPL source distribution)\n",
       "Java Runtime: Java(TM) SE Runtime Environment\n",
       "JVM: Java HotSpot(TM) 64-Bit Server VM\n",
       "Default Encoding: UTF-8\n",
       "Language: en\n",
       "Country: US\n",
       "--></g></svg>"
      ],
      "text/plain": [
       "<IPython.core.display.SVG object>"
      ]
     },
     "execution_count": 45,
     "metadata": {},
     "output_type": "execute_result"
    }
   ],
   "source": [
    "%%plantuml\n",
    "\n",
    "@startuml\n",
    "skinparam guillemet false\n",
    "participant \"Famous Bob\" as Bob << Generated >>\n",
    "participant Alice << (C,#ADD1B2) Testable >>\n",
    "Bob->Alice: First message\n",
    "@enduml"
   ]
  },
  {
   "cell_type": "code",
   "execution_count": 46,
   "id": "c6ba1a48",
   "metadata": {},
   "outputs": [
    {
     "data": {
      "image/svg+xml": [
       "<svg xmlns=\"http://www.w3.org/2000/svg\" xmlns:xlink=\"http://www.w3.org/1999/xlink\" contentScriptType=\"application/ecmascript\" contentStyleType=\"text/css\" height=\"144px\" preserveAspectRatio=\"none\" style=\"width:207px;height:144px;background:#FFFFFF;\" version=\"1.1\" viewBox=\"0 0 207 144\" width=\"207px\" zoomAndPan=\"magnify\"><defs><filter height=\"300%\" id=\"f1phhbrvwkkz61\" width=\"300%\" x=\"-1\" y=\"-1\"><feGaussianBlur result=\"blurOut\" stdDeviation=\"2.0\"/><feColorMatrix in=\"blurOut\" result=\"blurOut2\" type=\"matrix\" values=\"0 0 0 0 0 0 0 0 0 0 0 0 0 0 0 0 0 0 .4 0\"/><feOffset dx=\"4.0\" dy=\"4.0\" in=\"blurOut2\" result=\"blurOut3\"/><feBlend in=\"SourceGraphic\" in2=\"blurOut3\" mode=\"normal\"/></filter></defs><g><line style=\"stroke:#A80036;stroke-width:1.0;stroke-dasharray:5.0,5.0;\" x1=\"42\" x2=\"42\" y1=\"46\" y2=\"95.1328\"/><line style=\"stroke:#A80036;stroke-width:1.0;stroke-dasharray:5.0,5.0;\" x1=\"156\" x2=\"156\" y1=\"46\" y2=\"95.1328\"/><rect fill=\"#FEFECE\" filter=\"url(#f1phhbrvwkkz61)\" height=\"36\" style=\"stroke:#A80036;stroke-width:1.5;\" width=\"71\" x=\"5\" y=\"5\"/><ellipse cx=\"23\" cy=\"23\" fill=\"#ADD1B2\" rx=\"11\" ry=\"11\" style=\"stroke:#A80036;stroke-width:1.0;\"/><path d=\"M25.3438,18.6719 C24.4063,18.2344 23.8125,18.0938 22.9375,18.0938 C20.3125,18.0938 18.3125,20.1719 18.3125,22.8906 L18.3125,24.0156 C18.3125,26.5938 20.4219,28.4844 23.3125,28.4844 C24.5313,28.4844 25.6875,28.1875 26.4375,27.6406 C27.0156,27.2344 27.3438,26.7813 27.3438,26.3906 C27.3438,25.9375 26.9531,25.5469 26.4844,25.5469 C26.2656,25.5469 26.0625,25.625 25.875,25.8125 C25.4219,26.2969 25.4219,26.2969 25.2344,26.3906 C24.8125,26.6563 24.125,26.7813 23.3594,26.7813 C21.3125,26.7813 20.0156,25.6875 20.0156,23.9844 L20.0156,22.8906 C20.0156,21.1094 21.2656,19.7969 23,19.7969 C23.5781,19.7969 24.1875,19.9531 24.6563,20.2031 C25.1406,20.4844 25.3125,20.7031 25.4063,21.1094 C25.4688,21.5156 25.5,21.6406 25.6406,21.7656 C25.7813,21.9063 26.0156,22.0156 26.2344,22.0156 C26.5,22.0156 26.7656,21.875 26.9375,21.6563 C27.0469,21.5 27.0781,21.3125 27.0781,20.8906 L27.0781,19.4688 C27.0781,19.0313 27.0625,18.9063 26.9688,18.75 C26.8125,18.4844 26.5313,18.3438 26.2344,18.3438 C25.9375,18.3438 25.7344,18.4375 25.5156,18.75 L25.3438,18.6719 Z \" fill=\"#000000\"/><text fill=\"#000000\" font-family=\"sans-serif\" font-size=\"14\" lengthAdjust=\"spacing\" textLength=\"29\" x=\"40\" y=\"24.9951\">Bob</text><rect fill=\"#FEFECE\" filter=\"url(#f1phhbrvwkkz61)\" height=\"36\" style=\"stroke:#A80036;stroke-width:1.5;\" width=\"71\" x=\"5\" y=\"94.1328\"/><ellipse cx=\"23\" cy=\"112.1328\" fill=\"#ADD1B2\" rx=\"11\" ry=\"11\" style=\"stroke:#A80036;stroke-width:1.0;\"/><path d=\"M25.3438,107.8047 C24.4063,107.3672 23.8125,107.2266 22.9375,107.2266 C20.3125,107.2266 18.3125,109.3047 18.3125,112.0234 L18.3125,113.1484 C18.3125,115.7266 20.4219,117.6172 23.3125,117.6172 C24.5313,117.6172 25.6875,117.3203 26.4375,116.7734 C27.0156,116.3672 27.3438,115.9141 27.3438,115.5234 C27.3438,115.0703 26.9531,114.6797 26.4844,114.6797 C26.2656,114.6797 26.0625,114.7578 25.875,114.9453 C25.4219,115.4297 25.4219,115.4297 25.2344,115.5234 C24.8125,115.7891 24.125,115.9141 23.3594,115.9141 C21.3125,115.9141 20.0156,114.8203 20.0156,113.1172 L20.0156,112.0234 C20.0156,110.2422 21.2656,108.9297 23,108.9297 C23.5781,108.9297 24.1875,109.0859 24.6563,109.3359 C25.1406,109.6172 25.3125,109.8359 25.4063,110.2422 C25.4688,110.6484 25.5,110.7734 25.6406,110.8984 C25.7813,111.0391 26.0156,111.1484 26.2344,111.1484 C26.5,111.1484 26.7656,111.0078 26.9375,110.7891 C27.0469,110.6328 27.0781,110.4453 27.0781,110.0234 L27.0781,108.6016 C27.0781,108.1641 27.0625,108.0391 26.9688,107.8828 C26.8125,107.6172 26.5313,107.4766 26.2344,107.4766 C25.9375,107.4766 25.7344,107.5703 25.5156,107.8828 L25.3438,107.8047 Z \" fill=\"#000000\"/><text fill=\"#000000\" font-family=\"sans-serif\" font-size=\"14\" lengthAdjust=\"spacing\" textLength=\"29\" x=\"40\" y=\"114.1279\">Bob</text><rect fill=\"#FEFECE\" filter=\"url(#f1phhbrvwkkz61)\" height=\"36\" style=\"stroke:#A80036;stroke-width:1.5;\" width=\"77\" x=\"116\" y=\"5\"/><ellipse cx=\"134\" cy=\"23\" fill=\"#ADD1B2\" rx=\"11\" ry=\"11\" style=\"stroke:#A80036;stroke-width:1.0;\"/><path d=\"M136.3438,18.6719 C135.4063,18.2344 134.8125,18.0938 133.9375,18.0938 C131.3125,18.0938 129.3125,20.1719 129.3125,22.8906 L129.3125,24.0156 C129.3125,26.5938 131.4219,28.4844 134.3125,28.4844 C135.5313,28.4844 136.6875,28.1875 137.4375,27.6406 C138.0156,27.2344 138.3438,26.7813 138.3438,26.3906 C138.3438,25.9375 137.9531,25.5469 137.4844,25.5469 C137.2656,25.5469 137.0625,25.625 136.875,25.8125 C136.4219,26.2969 136.4219,26.2969 136.2344,26.3906 C135.8125,26.6563 135.125,26.7813 134.3594,26.7813 C132.3125,26.7813 131.0156,25.6875 131.0156,23.9844 L131.0156,22.8906 C131.0156,21.1094 132.2656,19.7969 134,19.7969 C134.5781,19.7969 135.1875,19.9531 135.6563,20.2031 C136.1406,20.4844 136.3125,20.7031 136.4063,21.1094 C136.4688,21.5156 136.5,21.6406 136.6406,21.7656 C136.7813,21.9063 137.0156,22.0156 137.2344,22.0156 C137.5,22.0156 137.7656,21.875 137.9375,21.6563 C138.0469,21.5 138.0781,21.3125 138.0781,20.8906 L138.0781,19.4688 C138.0781,19.0313 138.0625,18.9063 137.9688,18.75 C137.8125,18.4844 137.5313,18.3438 137.2344,18.3438 C136.9375,18.3438 136.7344,18.4375 136.5156,18.75 L136.3438,18.6719 Z \" fill=\"#000000\"/><text fill=\"#000000\" font-family=\"sans-serif\" font-size=\"14\" lengthAdjust=\"spacing\" textLength=\"35\" x=\"151\" y=\"24.9951\">Alice</text><rect fill=\"#FEFECE\" filter=\"url(#f1phhbrvwkkz61)\" height=\"36\" style=\"stroke:#A80036;stroke-width:1.5;\" width=\"77\" x=\"116\" y=\"94.1328\"/><ellipse cx=\"134\" cy=\"112.1328\" fill=\"#ADD1B2\" rx=\"11\" ry=\"11\" style=\"stroke:#A80036;stroke-width:1.0;\"/><path d=\"M136.3438,107.8047 C135.4063,107.3672 134.8125,107.2266 133.9375,107.2266 C131.3125,107.2266 129.3125,109.3047 129.3125,112.0234 L129.3125,113.1484 C129.3125,115.7266 131.4219,117.6172 134.3125,117.6172 C135.5313,117.6172 136.6875,117.3203 137.4375,116.7734 C138.0156,116.3672 138.3438,115.9141 138.3438,115.5234 C138.3438,115.0703 137.9531,114.6797 137.4844,114.6797 C137.2656,114.6797 137.0625,114.7578 136.875,114.9453 C136.4219,115.4297 136.4219,115.4297 136.2344,115.5234 C135.8125,115.7891 135.125,115.9141 134.3594,115.9141 C132.3125,115.9141 131.0156,114.8203 131.0156,113.1172 L131.0156,112.0234 C131.0156,110.2422 132.2656,108.9297 134,108.9297 C134.5781,108.9297 135.1875,109.0859 135.6563,109.3359 C136.1406,109.6172 136.3125,109.8359 136.4063,110.2422 C136.4688,110.6484 136.5,110.7734 136.6406,110.8984 C136.7813,111.0391 137.0156,111.1484 137.2344,111.1484 C137.5,111.1484 137.7656,111.0078 137.9375,110.7891 C138.0469,110.6328 138.0781,110.4453 138.0781,110.0234 L138.0781,108.6016 C138.0781,108.1641 138.0625,108.0391 137.9688,107.8828 C137.8125,107.6172 137.5313,107.4766 137.2344,107.4766 C136.9375,107.4766 136.7344,107.5703 136.5156,107.8828 L136.3438,107.8047 Z \" fill=\"#000000\"/><text fill=\"#000000\" font-family=\"sans-serif\" font-size=\"14\" lengthAdjust=\"spacing\" textLength=\"35\" x=\"151\" y=\"114.1279\">Alice</text><polygon fill=\"#A80036\" points=\"144.5,73.1328,154.5,77.1328,144.5,81.1328,148.5,77.1328\" style=\"stroke:#A80036;stroke-width:1.0;\"/><line style=\"stroke:#A80036;stroke-width:1.0;\" x1=\"42.5\" x2=\"150.5\" y1=\"77.1328\" y2=\"77.1328\"/><text fill=\"#000000\" font-family=\"sans-serif\" font-size=\"13\" lengthAdjust=\"spacing\" textLength=\"90\" x=\"49.5\" y=\"72.0669\">First message</text><!--MD5=[6e50d28e8c1042f2c9007e417b106af3]\n",
       "@startuml\n",
       "participant Bob << (C,#ADD1B2) >>\n",
       "participant Alice << (C,#ADD1B2) >>\n",
       "Bob->Alice: First message\n",
       "@enduml\n",
       "\n",
       "PlantUML version 1.2021.9beta2(Unknown compile time)\n",
       "(GPL source distribution)\n",
       "Java Runtime: Java(TM) SE Runtime Environment\n",
       "JVM: Java HotSpot(TM) 64-Bit Server VM\n",
       "Default Encoding: UTF-8\n",
       "Language: en\n",
       "Country: US\n",
       "--></g></svg>"
      ],
      "text/plain": [
       "<IPython.core.display.SVG object>"
      ]
     },
     "execution_count": 46,
     "metadata": {},
     "output_type": "execute_result"
    }
   ],
   "source": [
    "%%plantuml\n",
    "\n",
    "@startuml\n",
    "participant Bob << (C,#ADD1B2) >>\n",
    "participant Alice << (C,#ADD1B2) >>\n",
    "Bob->Alice: First message\n",
    "@enduml"
   ]
  },
  {
   "cell_type": "code",
   "execution_count": 47,
   "id": "4237e0fe",
   "metadata": {},
   "outputs": [
    {
     "data": {
      "image/svg+xml": [
       "<svg xmlns=\"http://www.w3.org/2000/svg\" xmlns:xlink=\"http://www.w3.org/1999/xlink\" contentScriptType=\"application/ecmascript\" contentStyleType=\"text/css\" height=\"196px\" preserveAspectRatio=\"none\" style=\"width:337px;height:196px;background:#FFFFFF;\" version=\"1.1\" viewBox=\"0 0 337 196\" width=\"337px\" zoomAndPan=\"magnify\"><defs><filter height=\"300%\" id=\"fr42mqu0qafr1\" width=\"300%\" x=\"-1\" y=\"-1\"><feGaussianBlur result=\"blurOut\" stdDeviation=\"2.0\"/><feColorMatrix in=\"blurOut\" result=\"blurOut2\" type=\"matrix\" values=\"0 0 0 0 0 0 0 0 0 0 0 0 0 0 0 0 0 0 .4 0\"/><feOffset dx=\"4.0\" dy=\"4.0\" in=\"blurOut2\" result=\"blurOut3\"/><feBlend in=\"SourceGraphic\" in2=\"blurOut3\" mode=\"normal\"/></filter></defs><g><text fill=\"#000000\" font-family=\"sans-serif\" font-size=\"18\" lengthAdjust=\"spacing\" text-decoration=\"underline\" textLength=\"62\" x=\"9\" y=\"28.708\">Simple</text><text fill=\"#000000\" font-family=\"sans-serif\" font-size=\"18\" lengthAdjust=\"spacing\" textLength=\"0\" x=\"77\" y=\"28.708\"/><text fill=\"#000000\" font-family=\"sans-serif\" font-size=\"18\" font-weight=\"bold\" lengthAdjust=\"spacing\" textLength=\"159\" x=\"77\" y=\"28.708\">communication</text><text fill=\"#000000\" font-family=\"sans-serif\" font-size=\"18\" lengthAdjust=\"spacing\" textLength=\"79\" x=\"242\" y=\"28.708\">example</text><line style=\"stroke:#A80036;stroke-width:1.0;stroke-dasharray:5.0,5.0;\" x1=\"74\" x2=\"74\" y1=\"75.25\" y2=\"153.5156\"/><line style=\"stroke:#A80036;stroke-width:1.0;stroke-dasharray:5.0,5.0;\" x1=\"258\" x2=\"258\" y1=\"75.25\" y2=\"153.5156\"/><rect fill=\"#FEFECE\" filter=\"url(#fr42mqu0qafr1)\" height=\"30.2969\" style=\"stroke:#A80036;stroke-width:1.5;\" width=\"49\" x=\"48\" y=\"39.9531\"/><text fill=\"#000000\" font-family=\"sans-serif\" font-size=\"14\" lengthAdjust=\"spacing\" textLength=\"35\" x=\"55\" y=\"59.9482\">Alice</text><rect fill=\"#FEFECE\" filter=\"url(#fr42mqu0qafr1)\" height=\"30.2969\" style=\"stroke:#A80036;stroke-width:1.5;\" width=\"49\" x=\"48\" y=\"152.5156\"/><text fill=\"#000000\" font-family=\"sans-serif\" font-size=\"14\" lengthAdjust=\"spacing\" textLength=\"35\" x=\"55\" y=\"172.5107\">Alice</text><rect fill=\"#FEFECE\" filter=\"url(#fr42mqu0qafr1)\" height=\"30.2969\" style=\"stroke:#A80036;stroke-width:1.5;\" width=\"43\" x=\"235\" y=\"39.9531\"/><text fill=\"#000000\" font-family=\"sans-serif\" font-size=\"14\" lengthAdjust=\"spacing\" textLength=\"29\" x=\"242\" y=\"59.9482\">Bob</text><rect fill=\"#FEFECE\" filter=\"url(#fr42mqu0qafr1)\" height=\"30.2969\" style=\"stroke:#A80036;stroke-width:1.5;\" width=\"43\" x=\"235\" y=\"152.5156\"/><text fill=\"#000000\" font-family=\"sans-serif\" font-size=\"14\" lengthAdjust=\"spacing\" textLength=\"29\" x=\"242\" y=\"172.5107\">Bob</text><polygon fill=\"#A80036\" points=\"246.5,102.3828,256.5,106.3828,246.5,110.3828,250.5,106.3828\" style=\"stroke:#A80036;stroke-width:1.0;\"/><line style=\"stroke:#A80036;stroke-width:1.0;\" x1=\"74.5\" x2=\"252.5\" y1=\"106.3828\" y2=\"106.3828\"/><text fill=\"#000000\" font-family=\"sans-serif\" font-size=\"13\" lengthAdjust=\"spacing\" textLength=\"150\" x=\"81.5\" y=\"101.3169\">Authentication Request</text><polygon fill=\"#A80036\" points=\"85.5,131.5156,75.5,135.5156,85.5,139.5156,81.5,135.5156\" style=\"stroke:#A80036;stroke-width:1.0;\"/><line style=\"stroke:#A80036;stroke-width:1.0;\" x1=\"79.5\" x2=\"257.5\" y1=\"135.5156\" y2=\"135.5156\"/><text fill=\"#000000\" font-family=\"sans-serif\" font-size=\"13\" lengthAdjust=\"spacing\" textLength=\"160\" x=\"91.5\" y=\"130.4497\">Authentication Response</text><!--MD5=[ca4f42a7c40d19dd370bbaf62d542ca5]\n",
       "@startuml\n",
       "title __Simple__ **communication** example\n",
       "Alice -> Bob: Authentication Request\n",
       "Bob -> Alice: Authentication Response\n",
       "@enduml\n",
       "\n",
       "PlantUML version 1.2021.9beta2(Unknown compile time)\n",
       "(GPL source distribution)\n",
       "Java Runtime: Java(TM) SE Runtime Environment\n",
       "JVM: Java HotSpot(TM) 64-Bit Server VM\n",
       "Default Encoding: UTF-8\n",
       "Language: en\n",
       "Country: US\n",
       "--></g></svg>"
      ],
      "text/plain": [
       "<IPython.core.display.SVG object>"
      ]
     },
     "execution_count": 47,
     "metadata": {},
     "output_type": "execute_result"
    }
   ],
   "source": [
    "%%plantuml\n",
    "\n",
    "@startuml\n",
    "title __Simple__ **communication** example\n",
    "Alice -> Bob: Authentication Request\n",
    "Bob -> Alice: Authentication Response\n",
    "@enduml"
   ]
  },
  {
   "cell_type": "code",
   "execution_count": 48,
   "id": "9b534178",
   "metadata": {},
   "outputs": [
    {
     "data": {
      "image/svg+xml": [
       "<svg xmlns=\"http://www.w3.org/2000/svg\" xmlns:xlink=\"http://www.w3.org/1999/xlink\" contentScriptType=\"application/ecmascript\" contentStyleType=\"text/css\" height=\"217px\" preserveAspectRatio=\"none\" style=\"width:321px;height:217px;background:#FFFFFF;\" version=\"1.1\" viewBox=\"0 0 321 217\" width=\"321px\" zoomAndPan=\"magnify\"><defs><filter height=\"300%\" id=\"f1tp9culgttl1t\" width=\"300%\" x=\"-1\" y=\"-1\"><feGaussianBlur result=\"blurOut\" stdDeviation=\"2.0\"/><feColorMatrix in=\"blurOut\" result=\"blurOut2\" type=\"matrix\" values=\"0 0 0 0 0 0 0 0 0 0 0 0 0 0 0 0 0 0 .4 0\"/><feOffset dx=\"4.0\" dy=\"4.0\" in=\"blurOut2\" result=\"blurOut3\"/><feBlend in=\"SourceGraphic\" in2=\"blurOut3\" mode=\"normal\"/></filter></defs><g><text fill=\"#000000\" font-family=\"sans-serif\" font-size=\"18\" lengthAdjust=\"spacing\" text-decoration=\"underline\" textLength=\"62\" x=\"9\" y=\"28.708\">Simple</text><text fill=\"#000000\" font-family=\"sans-serif\" font-size=\"18\" lengthAdjust=\"spacing\" textLength=\"228\" x=\"77\" y=\"28.708\">communication example</text><text fill=\"#000000\" font-family=\"sans-serif\" font-size=\"18\" lengthAdjust=\"spacing\" textLength=\"146\" x=\"84\" y=\"49.6611\">on several lines</text><line style=\"stroke:#A80036;stroke-width:1.0;stroke-dasharray:5.0,5.0;\" x1=\"66\" x2=\"66\" y1=\"96.2031\" y2=\"174.4688\"/><line style=\"stroke:#A80036;stroke-width:1.0;stroke-dasharray:5.0,5.0;\" x1=\"250\" x2=\"250\" y1=\"96.2031\" y2=\"174.4688\"/><rect fill=\"#FEFECE\" filter=\"url(#f1tp9culgttl1t)\" height=\"30.2969\" style=\"stroke:#A80036;stroke-width:1.5;\" width=\"49\" x=\"40\" y=\"60.9063\"/><text fill=\"#000000\" font-family=\"sans-serif\" font-size=\"14\" lengthAdjust=\"spacing\" textLength=\"35\" x=\"47\" y=\"80.9014\">Alice</text><rect fill=\"#FEFECE\" filter=\"url(#f1tp9culgttl1t)\" height=\"30.2969\" style=\"stroke:#A80036;stroke-width:1.5;\" width=\"49\" x=\"40\" y=\"173.4688\"/><text fill=\"#000000\" font-family=\"sans-serif\" font-size=\"14\" lengthAdjust=\"spacing\" textLength=\"35\" x=\"47\" y=\"193.4639\">Alice</text><rect fill=\"#FEFECE\" filter=\"url(#f1tp9culgttl1t)\" height=\"30.2969\" style=\"stroke:#A80036;stroke-width:1.5;\" width=\"43\" x=\"227\" y=\"60.9063\"/><text fill=\"#000000\" font-family=\"sans-serif\" font-size=\"14\" lengthAdjust=\"spacing\" textLength=\"29\" x=\"234\" y=\"80.9014\">Bob</text><rect fill=\"#FEFECE\" filter=\"url(#f1tp9culgttl1t)\" height=\"30.2969\" style=\"stroke:#A80036;stroke-width:1.5;\" width=\"43\" x=\"227\" y=\"173.4688\"/><text fill=\"#000000\" font-family=\"sans-serif\" font-size=\"14\" lengthAdjust=\"spacing\" textLength=\"29\" x=\"234\" y=\"193.4639\">Bob</text><polygon fill=\"#A80036\" points=\"238.5,123.3359,248.5,127.3359,238.5,131.3359,242.5,127.3359\" style=\"stroke:#A80036;stroke-width:1.0;\"/><line style=\"stroke:#A80036;stroke-width:1.0;\" x1=\"66.5\" x2=\"244.5\" y1=\"127.3359\" y2=\"127.3359\"/><text fill=\"#000000\" font-family=\"sans-serif\" font-size=\"13\" lengthAdjust=\"spacing\" textLength=\"150\" x=\"73.5\" y=\"122.27\">Authentication Request</text><polygon fill=\"#A80036\" points=\"77.5,152.4688,67.5,156.4688,77.5,160.4688,73.5,156.4688\" style=\"stroke:#A80036;stroke-width:1.0;\"/><line style=\"stroke:#A80036;stroke-width:1.0;\" x1=\"71.5\" x2=\"249.5\" y1=\"156.4688\" y2=\"156.4688\"/><text fill=\"#000000\" font-family=\"sans-serif\" font-size=\"13\" lengthAdjust=\"spacing\" textLength=\"160\" x=\"83.5\" y=\"151.4028\">Authentication Response</text><!--MD5=[ed81db48f73d82a2adbb9accdafae167]\n",
       "@startuml\n",
       "title __Simple__ communication example\\non several lines\n",
       "Alice -> Bob: Authentication Request\n",
       "Bob -> Alice: Authentication Response\n",
       "@enduml\n",
       "\n",
       "PlantUML version 1.2021.9beta2(Unknown compile time)\n",
       "(GPL source distribution)\n",
       "Java Runtime: Java(TM) SE Runtime Environment\n",
       "JVM: Java HotSpot(TM) 64-Bit Server VM\n",
       "Default Encoding: UTF-8\n",
       "Language: en\n",
       "Country: US\n",
       "--></g></svg>"
      ],
      "text/plain": [
       "<IPython.core.display.SVG object>"
      ]
     },
     "execution_count": 48,
     "metadata": {},
     "output_type": "execute_result"
    }
   ],
   "source": [
    "%%plantuml\n",
    "\n",
    "@startuml\n",
    "title __Simple__ communication example\\non several lines\n",
    "Alice -> Bob: Authentication Request\n",
    "Bob -> Alice: Authentication Response\n",
    "@enduml"
   ]
  },
  {
   "cell_type": "code",
   "execution_count": 49,
   "id": "3727858b",
   "metadata": {},
   "outputs": [
    {
     "data": {
      "image/svg+xml": [
       "<svg xmlns=\"http://www.w3.org/2000/svg\" xmlns:xlink=\"http://www.w3.org/1999/xlink\" contentScriptType=\"application/ecmascript\" contentStyleType=\"text/css\" height=\"238px\" preserveAspectRatio=\"none\" style=\"width:321px;height:238px;background:#FFFFFF;\" version=\"1.1\" viewBox=\"0 0 321 238\" width=\"321px\" zoomAndPan=\"magnify\"><defs><filter height=\"300%\" id=\"f1mrlsc5e30xwe\" width=\"300%\" x=\"-1\" y=\"-1\"><feGaussianBlur result=\"blurOut\" stdDeviation=\"2.0\"/><feColorMatrix in=\"blurOut\" result=\"blurOut2\" type=\"matrix\" values=\"0 0 0 0 0 0 0 0 0 0 0 0 0 0 0 0 0 0 .4 0\"/><feOffset dx=\"4.0\" dy=\"4.0\" in=\"blurOut2\" result=\"blurOut3\"/><feBlend in=\"SourceGraphic\" in2=\"blurOut3\" mode=\"normal\"/></filter></defs><g><text fill=\"#000000\" font-family=\"sans-serif\" font-size=\"18\" lengthAdjust=\"spacing\" text-decoration=\"underline\" textLength=\"62\" x=\"9\" y=\"28.708\">Simple</text><text fill=\"#000000\" font-family=\"sans-serif\" font-size=\"18\" lengthAdjust=\"spacing\" textLength=\"228\" x=\"77\" y=\"28.708\">communication example</text><text fill=\"#000000\" font-family=\"sans-serif\" font-size=\"18\" lengthAdjust=\"spacing\" textLength=\"23\" x=\"13\" y=\"49.6611\">on</text><text fill=\"#000000\" font-family=\"sans-serif\" font-size=\"18\" font-style=\"italic\" lengthAdjust=\"spacing\" textLength=\"65\" x=\"42\" y=\"49.6611\">several</text><text fill=\"#000000\" font-family=\"sans-serif\" font-size=\"18\" lengthAdjust=\"spacing\" textLength=\"139\" x=\"113\" y=\"49.6611\">lines and using</text><text fill=\"#FF0000\" font-family=\"sans-serif\" font-size=\"18\" lengthAdjust=\"spacing\" textLength=\"43\" x=\"258\" y=\"49.6611\">html</text><text fill=\"#000000\" font-family=\"sans-serif\" font-size=\"18\" lengthAdjust=\"spacing\" textLength=\"157\" x=\"15.5\" y=\"70.6143\">This is hosted by</text><text fill=\"#000000\" font-family=\"monospace\" font-size=\"14\" lengthAdjust=\"spacing\" textLength=\"120\" x=\"178.5\" y=\"71.0234\">(Cannot decode)</text><line style=\"stroke:#A80036;stroke-width:1.0;stroke-dasharray:5.0,5.0;\" x1=\"66\" x2=\"66\" y1=\"117.1563\" y2=\"195.4219\"/><line style=\"stroke:#A80036;stroke-width:1.0;stroke-dasharray:5.0,5.0;\" x1=\"250\" x2=\"250\" y1=\"117.1563\" y2=\"195.4219\"/><rect fill=\"#FEFECE\" filter=\"url(#f1mrlsc5e30xwe)\" height=\"30.2969\" style=\"stroke:#A80036;stroke-width:1.5;\" width=\"49\" x=\"40\" y=\"81.8594\"/><text fill=\"#000000\" font-family=\"sans-serif\" font-size=\"14\" lengthAdjust=\"spacing\" textLength=\"35\" x=\"47\" y=\"101.8545\">Alice</text><rect fill=\"#FEFECE\" filter=\"url(#f1mrlsc5e30xwe)\" height=\"30.2969\" style=\"stroke:#A80036;stroke-width:1.5;\" width=\"49\" x=\"40\" y=\"194.4219\"/><text fill=\"#000000\" font-family=\"sans-serif\" font-size=\"14\" lengthAdjust=\"spacing\" textLength=\"35\" x=\"47\" y=\"214.417\">Alice</text><rect fill=\"#FEFECE\" filter=\"url(#f1mrlsc5e30xwe)\" height=\"30.2969\" style=\"stroke:#A80036;stroke-width:1.5;\" width=\"43\" x=\"227\" y=\"81.8594\"/><text fill=\"#000000\" font-family=\"sans-serif\" font-size=\"14\" lengthAdjust=\"spacing\" textLength=\"29\" x=\"234\" y=\"101.8545\">Bob</text><rect fill=\"#FEFECE\" filter=\"url(#f1mrlsc5e30xwe)\" height=\"30.2969\" style=\"stroke:#A80036;stroke-width:1.5;\" width=\"43\" x=\"227\" y=\"194.4219\"/><text fill=\"#000000\" font-family=\"sans-serif\" font-size=\"14\" lengthAdjust=\"spacing\" textLength=\"29\" x=\"234\" y=\"214.417\">Bob</text><polygon fill=\"#A80036\" points=\"238.5,144.2891,248.5,148.2891,238.5,152.2891,242.5,148.2891\" style=\"stroke:#A80036;stroke-width:1.0;\"/><line style=\"stroke:#A80036;stroke-width:1.0;\" x1=\"66.5\" x2=\"244.5\" y1=\"148.2891\" y2=\"148.2891\"/><text fill=\"#000000\" font-family=\"sans-serif\" font-size=\"13\" lengthAdjust=\"spacing\" textLength=\"150\" x=\"73.5\" y=\"143.2231\">Authentication Request</text><polygon fill=\"#A80036\" points=\"77.5,173.4219,67.5,177.4219,77.5,181.4219,73.5,177.4219\" style=\"stroke:#A80036;stroke-width:1.0;\"/><line style=\"stroke:#A80036;stroke-width:1.0;\" x1=\"71.5\" x2=\"249.5\" y1=\"177.4219\" y2=\"177.4219\"/><text fill=\"#000000\" font-family=\"sans-serif\" font-size=\"13\" lengthAdjust=\"spacing\" textLength=\"160\" x=\"83.5\" y=\"172.356\">Authentication Response</text><!--MD5=[34adbf632e308726c4e507ecf9f89c48]\n",
       "@startuml\n",
       "title\n",
       "<u>Simple</u> communication example\n",
       "on <i>several</i> lines and using <font color=red>html</font>\n",
       "This is hosted by <img:sourceforge.jpg>\n",
       "end title\n",
       "Alice -> Bob: Authentication Request\n",
       "Bob -> Alice: Authentication Response\n",
       "@enduml\n",
       "\n",
       "PlantUML version 1.2021.9beta2(Unknown compile time)\n",
       "(GPL source distribution)\n",
       "Java Runtime: Java(TM) SE Runtime Environment\n",
       "JVM: Java HotSpot(TM) 64-Bit Server VM\n",
       "Default Encoding: UTF-8\n",
       "Language: en\n",
       "Country: US\n",
       "--></g></svg>"
      ],
      "text/plain": [
       "<IPython.core.display.SVG object>"
      ]
     },
     "execution_count": 49,
     "metadata": {},
     "output_type": "execute_result"
    }
   ],
   "source": [
    "%%plantuml\n",
    "\n",
    "@startuml\n",
    "title\n",
    "<u>Simple</u> communication example\n",
    "on <i>several</i> lines and using <font color=red>html</font>\n",
    "This is hosted by <img:sourceforge.jpg>\n",
    "end title\n",
    "Alice -> Bob: Authentication Request\n",
    "Bob -> Alice: Authentication Response\n",
    "@enduml"
   ]
  },
  {
   "cell_type": "code",
   "execution_count": 50,
   "id": "304d7cca",
   "metadata": {},
   "outputs": [
    {
     "data": {
      "image/svg+xml": [
       "<svg xmlns=\"http://www.w3.org/2000/svg\" xmlns:xlink=\"http://www.w3.org/1999/xlink\" contentScriptType=\"application/ecmascript\" contentStyleType=\"text/css\" height=\"182px\" preserveAspectRatio=\"none\" style=\"width:202px;height:182px;background:#FFFFFF;\" version=\"1.1\" viewBox=\"0 0 202 182\" width=\"202px\" zoomAndPan=\"magnify\"><defs><filter height=\"300%\" id=\"f1466sum57pqxu\" width=\"300%\" x=\"-1\" y=\"-1\"><feGaussianBlur result=\"blurOut\" stdDeviation=\"2.0\"/><feColorMatrix in=\"blurOut\" result=\"blurOut2\" type=\"matrix\" values=\"0 0 0 0 0 0 0 0 0 0 0 0 0 0 0 0 0 0 .4 0\"/><feOffset dx=\"4.0\" dy=\"4.0\" in=\"blurOut2\" result=\"blurOut3\"/><feBlend in=\"SourceGraphic\" in2=\"blurOut3\" mode=\"normal\"/></filter></defs><g><rect fill=\"#ADD8E6\" height=\"170.9922\" style=\"stroke:#A80036;stroke-width:1.0;\" width=\"125\" x=\"1\" y=\"6\"/><text fill=\"#000000\" font-family=\"sans-serif\" font-size=\"13\" font-weight=\"bold\" lengthAdjust=\"spacing\" textLength=\"119\" x=\"4\" y=\"18.0669\">Internal Service</text><line style=\"stroke:#A80036;stroke-width:1.0;stroke-dasharray:5.0,5.0;\" x1=\"31.5\" x2=\"31.5\" y1=\"60.4297\" y2=\"138.6953\"/><line style=\"stroke:#A80036;stroke-width:1.0;stroke-dasharray:5.0,5.0;\" x1=\"91.5\" x2=\"91.5\" y1=\"60.4297\" y2=\"138.6953\"/><line style=\"stroke:#A80036;stroke-width:1.0;stroke-dasharray:5.0,5.0;\" x1=\"162\" x2=\"162\" y1=\"60.4297\" y2=\"138.6953\"/><rect fill=\"#FEFECE\" filter=\"url(#f1466sum57pqxu)\" height=\"30.2969\" style=\"stroke:#A80036;stroke-width:1.5;\" width=\"43\" x=\"8.5\" y=\"25.1328\"/><text fill=\"#000000\" font-family=\"sans-serif\" font-size=\"14\" lengthAdjust=\"spacing\" textLength=\"29\" x=\"15.5\" y=\"45.1279\">Bob</text><rect fill=\"#FEFECE\" filter=\"url(#f1466sum57pqxu)\" height=\"30.2969\" style=\"stroke:#A80036;stroke-width:1.5;\" width=\"43\" x=\"8.5\" y=\"137.6953\"/><text fill=\"#000000\" font-family=\"sans-serif\" font-size=\"14\" lengthAdjust=\"spacing\" textLength=\"29\" x=\"15.5\" y=\"157.6904\">Bob</text><rect fill=\"#FEFECE\" filter=\"url(#f1466sum57pqxu)\" height=\"30.2969\" style=\"stroke:#A80036;stroke-width:1.5;\" width=\"49\" x=\"65.5\" y=\"25.1328\"/><text fill=\"#000000\" font-family=\"sans-serif\" font-size=\"14\" lengthAdjust=\"spacing\" textLength=\"35\" x=\"72.5\" y=\"45.1279\">Alice</text><rect fill=\"#FEFECE\" filter=\"url(#f1466sum57pqxu)\" height=\"30.2969\" style=\"stroke:#A80036;stroke-width:1.5;\" width=\"49\" x=\"65.5\" y=\"137.6953\"/><text fill=\"#000000\" font-family=\"sans-serif\" font-size=\"14\" lengthAdjust=\"spacing\" textLength=\"35\" x=\"72.5\" y=\"157.6904\">Alice</text><rect fill=\"#FEFECE\" filter=\"url(#f1466sum57pqxu)\" height=\"30.2969\" style=\"stroke:#A80036;stroke-width:1.5;\" width=\"56\" x=\"132\" y=\"25.1328\"/><text fill=\"#000000\" font-family=\"sans-serif\" font-size=\"14\" lengthAdjust=\"spacing\" textLength=\"42\" x=\"139\" y=\"45.1279\">Other</text><rect fill=\"#FEFECE\" filter=\"url(#f1466sum57pqxu)\" height=\"30.2969\" style=\"stroke:#A80036;stroke-width:1.5;\" width=\"56\" x=\"132\" y=\"137.6953\"/><text fill=\"#000000\" font-family=\"sans-serif\" font-size=\"14\" lengthAdjust=\"spacing\" textLength=\"42\" x=\"139\" y=\"157.6904\">Other</text><polygon fill=\"#A80036\" points=\"80,87.5625,90,91.5625,80,95.5625,84,91.5625\" style=\"stroke:#A80036;stroke-width:1.0;\"/><line style=\"stroke:#A80036;stroke-width:1.0;\" x1=\"32\" x2=\"86\" y1=\"91.5625\" y2=\"91.5625\"/><text fill=\"#000000\" font-family=\"sans-serif\" font-size=\"13\" lengthAdjust=\"spacing\" textLength=\"30\" x=\"39\" y=\"86.4966\">hello</text><polygon fill=\"#A80036\" points=\"150,116.6953,160,120.6953,150,124.6953,154,120.6953\" style=\"stroke:#A80036;stroke-width:1.0;\"/><line style=\"stroke:#A80036;stroke-width:1.0;\" x1=\"92\" x2=\"156\" y1=\"120.6953\" y2=\"120.6953\"/><text fill=\"#000000\" font-family=\"sans-serif\" font-size=\"13\" lengthAdjust=\"spacing\" textLength=\"30\" x=\"99\" y=\"115.6294\">hello</text><!--MD5=[bfd70f41838800ff13aab9eaa07fc8c1]\n",
       "@startuml\n",
       "box \"Internal Service\" #LightBlue\n",
       "participant Bob\n",
       "participant Alice\n",
       "end box\n",
       "participant Other\n",
       "Bob -> Alice : hello\n",
       "Alice -> Other : hello\n",
       "@enduml\n",
       "\n",
       "PlantUML version 1.2021.9beta2(Unknown compile time)\n",
       "(GPL source distribution)\n",
       "Java Runtime: Java(TM) SE Runtime Environment\n",
       "JVM: Java HotSpot(TM) 64-Bit Server VM\n",
       "Default Encoding: UTF-8\n",
       "Language: en\n",
       "Country: US\n",
       "--></g></svg>"
      ],
      "text/plain": [
       "<IPython.core.display.SVG object>"
      ]
     },
     "execution_count": 50,
     "metadata": {},
     "output_type": "execute_result"
    }
   ],
   "source": [
    "%%plantuml\n",
    "\n",
    "@startuml\n",
    "box \"Internal Service\" #LightBlue\n",
    "participant Bob\n",
    "participant Alice\n",
    "end box\n",
    "participant Other\n",
    "Bob -> Alice : hello\n",
    "Alice -> Other : hello\n",
    "@enduml"
   ]
  },
  {
   "cell_type": "code",
   "execution_count": 51,
   "id": "6993af6a",
   "metadata": {},
   "outputs": [
    {
     "data": {
      "image/svg+xml": [
       "<svg xmlns=\"http://www.w3.org/2000/svg\" xmlns:xlink=\"http://www.w3.org/1999/xlink\" contentScriptType=\"application/ecmascript\" contentStyleType=\"text/css\" height=\"160px\" preserveAspectRatio=\"none\" style=\"width:249px;height:160px;background:#FFFFFF;\" version=\"1.1\" viewBox=\"0 0 249 160\" width=\"249px\" zoomAndPan=\"magnify\"><defs><filter height=\"300%\" id=\"f1vs76677z7oml\" width=\"300%\" x=\"-1\" y=\"-1\"><feGaussianBlur result=\"blurOut\" stdDeviation=\"2.0\"/><feColorMatrix in=\"blurOut\" result=\"blurOut2\" type=\"matrix\" values=\"0 0 0 0 0 0 0 0 0 0 0 0 0 0 0 0 0 0 .4 0\"/><feOffset dx=\"4.0\" dy=\"4.0\" in=\"blurOut2\" result=\"blurOut3\"/><feBlend in=\"SourceGraphic\" in2=\"blurOut3\" mode=\"normal\"/></filter></defs><g><text fill=\"#000000\" font-family=\"sans-serif\" font-size=\"18\" lengthAdjust=\"spacing\" textLength=\"149\" x=\"47.5\" y=\"28.708\">Footer removed</text><line style=\"stroke:#A80036;stroke-width:1.0;stroke-dasharray:5.0,5.0;\" x1=\"31\" x2=\"31\" y1=\"75.25\" y2=\"153.5156\"/><line style=\"stroke:#A80036;stroke-width:1.0;stroke-dasharray:5.0,5.0;\" x1=\"215\" x2=\"215\" y1=\"75.25\" y2=\"153.5156\"/><rect fill=\"#FEFECE\" filter=\"url(#f1vs76677z7oml)\" height=\"30.2969\" style=\"stroke:#A80036;stroke-width:1.5;\" width=\"49\" x=\"5\" y=\"39.9531\"/><text fill=\"#000000\" font-family=\"sans-serif\" font-size=\"14\" lengthAdjust=\"spacing\" textLength=\"35\" x=\"12\" y=\"59.9482\">Alice</text><rect fill=\"#FEFECE\" filter=\"url(#f1vs76677z7oml)\" height=\"30.2969\" style=\"stroke:#A80036;stroke-width:1.5;\" width=\"43\" x=\"192\" y=\"39.9531\"/><text fill=\"#000000\" font-family=\"sans-serif\" font-size=\"14\" lengthAdjust=\"spacing\" textLength=\"29\" x=\"199\" y=\"59.9482\">Bob</text><polygon fill=\"#A80036\" points=\"203.5,102.3828,213.5,106.3828,203.5,110.3828,207.5,106.3828\" style=\"stroke:#A80036;stroke-width:1.0;\"/><line style=\"stroke:#A80036;stroke-width:1.0;\" x1=\"31.5\" x2=\"209.5\" y1=\"106.3828\" y2=\"106.3828\"/><text fill=\"#000000\" font-family=\"sans-serif\" font-size=\"13\" lengthAdjust=\"spacing\" textLength=\"150\" x=\"38.5\" y=\"101.3169\">Authentication Request</text><polygon fill=\"#A80036\" points=\"42.5,131.5156,32.5,135.5156,42.5,139.5156,38.5,135.5156\" style=\"stroke:#A80036;stroke-width:1.0;\"/><line style=\"stroke:#A80036;stroke-width:1.0;stroke-dasharray:2.0,2.0;\" x1=\"36.5\" x2=\"214.5\" y1=\"135.5156\" y2=\"135.5156\"/><text fill=\"#000000\" font-family=\"sans-serif\" font-size=\"13\" lengthAdjust=\"spacing\" textLength=\"160\" x=\"48.5\" y=\"130.4497\">Authentication Response</text><!--MD5=[7091f3ab47541adf0593730316236437]\n",
       "@startuml\n",
       "hide footbox\n",
       "title Footer removed\n",
       "Alice -> Bob: Authentication Request\n",
       "Bob - -> Alice: Authentication Response\n",
       "@enduml\n",
       "\n",
       "PlantUML version 1.2021.9beta2(Unknown compile time)\n",
       "(GPL source distribution)\n",
       "Java Runtime: Java(TM) SE Runtime Environment\n",
       "JVM: Java HotSpot(TM) 64-Bit Server VM\n",
       "Default Encoding: UTF-8\n",
       "Language: en\n",
       "Country: US\n",
       "--></g></svg>"
      ],
      "text/plain": [
       "<IPython.core.display.SVG object>"
      ]
     },
     "execution_count": 51,
     "metadata": {},
     "output_type": "execute_result"
    }
   ],
   "source": [
    "%%plantuml\n",
    "\n",
    "@startuml\n",
    "hide footbox\n",
    "title Footer removed\n",
    "Alice -> Bob: Authentication Request\n",
    "Bob --> Alice: Authentication Response\n",
    "@enduml"
   ]
  },
  {
   "cell_type": "code",
   "execution_count": 52,
   "id": "6d4baa36",
   "metadata": {},
   "outputs": [
    {
     "data": {
      "image/svg+xml": [
       "<svg xmlns=\"http://www.w3.org/2000/svg\" xmlns:xlink=\"http://www.w3.org/1999/xlink\" contentScriptType=\"application/ecmascript\" contentStyleType=\"text/css\" height=\"397px\" preserveAspectRatio=\"none\" style=\"width:372px;height:397px;background:#FFFFFF;\" version=\"1.1\" viewBox=\"0 0 372 397\" width=\"372px\" zoomAndPan=\"magnify\"><defs><filter height=\"300%\" id=\"f5kav4auutcfz\" width=\"300%\" x=\"-1\" y=\"-1\"><feGaussianBlur result=\"blurOut\" stdDeviation=\"2.0\"/><feColorMatrix in=\"blurOut\" result=\"blurOut2\" type=\"matrix\" values=\"0 0 0 0 0 0 0 0 0 0 0 0 0 0 0 0 0 0 .4 0\"/><feOffset dx=\"4.0\" dy=\"4.0\" in=\"blurOut2\" result=\"blurOut3\"/><feBlend in=\"SourceGraphic\" in2=\"blurOut3\" mode=\"normal\"/></filter></defs><g><rect fill=\"#FFFFFF\" filter=\"url(#f5kav4auutcfz)\" height=\"175.9297\" style=\"stroke:#A80036;stroke-width:1.0;\" width=\"10\" x=\"93.5\" y=\"119.4297\"/><rect fill=\"#FFFFFF\" filter=\"url(#f5kav4auutcfz)\" height=\"102.5313\" style=\"stroke:#A80036;stroke-width:1.0;\" width=\"10\" x=\"204\" y=\"163.6953\"/><rect fill=\"#FFFFFF\" filter=\"url(#f5kav4auutcfz)\" height=\"29.1328\" style=\"stroke:#A80036;stroke-width:1.0;\" width=\"10\" x=\"313.5\" y=\"192.8281\"/><line style=\"stroke:#A80036;stroke-width:1.0;stroke-dasharray:5.0,5.0;\" x1=\"23\" x2=\"23\" y1=\"88.2969\" y2=\"313.3594\"/><line style=\"stroke:#A80036;stroke-width:1.0;stroke-dasharray:5.0,5.0;\" x1=\"98.5\" x2=\"98.5\" y1=\"88.2969\" y2=\"313.3594\"/><line style=\"stroke:#A80036;stroke-width:1.0;stroke-dasharray:5.0,5.0;\" x1=\"208.5\" x2=\"208.5\" y1=\"88.2969\" y2=\"313.3594\"/><line style=\"stroke:#A80036;stroke-width:1.0;stroke-dasharray:5.0,5.0;\" x1=\"318.5\" x2=\"318.5\" y1=\"88.2969\" y2=\"313.3594\"/><text fill=\"#000000\" font-family=\"sans-serif\" font-size=\"14\" lengthAdjust=\"spacing\" text-decoration=\"underline\" textLength=\"31\" x=\"5\" y=\"84.9951\">User</text><ellipse cx=\"23.5\" cy=\"15\" fill=\"#FEFECE\" filter=\"url(#f5kav4auutcfz)\" rx=\"8\" ry=\"8\" style=\"stroke:#A80036;stroke-width:2.0;\"/><path d=\"M23.5,23 L23.5,50 M10.5,31 L36.5,31 M23.5,50 L10.5,65 M23.5,50 L36.5,65 \" fill=\"none\" filter=\"url(#f5kav4auutcfz)\" style=\"stroke:#A80036;stroke-width:2.0;\"/><text fill=\"#000000\" font-family=\"sans-serif\" font-size=\"14\" lengthAdjust=\"spacing\" text-decoration=\"underline\" textLength=\"31\" x=\"5\" y=\"325.3545\">User</text><ellipse cx=\"23.5\" cy=\"338.6563\" fill=\"#FEFECE\" filter=\"url(#f5kav4auutcfz)\" rx=\"8\" ry=\"8\" style=\"stroke:#A80036;stroke-width:2.0;\"/><path d=\"M23.5,346.6563 L23.5,373.6563 M10.5,354.6563 L36.5,354.6563 M23.5,373.6563 L10.5,388.6563 M23.5,373.6563 L36.5,388.6563 \" fill=\"none\" filter=\"url(#f5kav4auutcfz)\" style=\"stroke:#A80036;stroke-width:2.0;\"/><rect fill=\"#FEFECE\" filter=\"url(#f5kav4auutcfz)\" height=\"30.2969\" rx=\"10\" ry=\"10\" style=\"stroke:#A80036;stroke-width:1.5;\" width=\"86\" x=\"53.5\" y=\"53\"/><text fill=\"#000000\" font-family=\"sans-serif\" font-size=\"14\" lengthAdjust=\"spacing\" text-decoration=\"underline\" textLength=\"72\" x=\"60.5\" y=\"72.9951\">First Class</text><rect fill=\"#FEFECE\" filter=\"url(#f5kav4auutcfz)\" height=\"30.2969\" rx=\"10\" ry=\"10\" style=\"stroke:#A80036;stroke-width:1.5;\" width=\"86\" x=\"53.5\" y=\"312.3594\"/><text fill=\"#000000\" font-family=\"sans-serif\" font-size=\"14\" lengthAdjust=\"spacing\" text-decoration=\"underline\" textLength=\"72\" x=\"60.5\" y=\"332.3545\">First Class</text><rect fill=\"#FEFECE\" filter=\"url(#f5kav4auutcfz)\" height=\"30.2969\" rx=\"10\" ry=\"10\" style=\"stroke:#A80036;stroke-width:1.5;\" width=\"107\" x=\"153.5\" y=\"53\"/><text fill=\"#000000\" font-family=\"sans-serif\" font-size=\"14\" lengthAdjust=\"spacing\" text-decoration=\"underline\" textLength=\"93\" x=\"160.5\" y=\"72.9951\">Second Class</text><rect fill=\"#FEFECE\" filter=\"url(#f5kav4auutcfz)\" height=\"30.2969\" rx=\"10\" ry=\"10\" style=\"stroke:#A80036;stroke-width:1.5;\" width=\"107\" x=\"153.5\" y=\"312.3594\"/><text fill=\"#000000\" font-family=\"sans-serif\" font-size=\"14\" lengthAdjust=\"spacing\" text-decoration=\"underline\" textLength=\"93\" x=\"160.5\" y=\"332.3545\">Second Class</text><rect fill=\"#FEFECE\" filter=\"url(#f5kav4auutcfz)\" height=\"30.2969\" rx=\"10\" ry=\"10\" style=\"stroke:#A80036;stroke-width:1.5;\" width=\"84\" x=\"274.5\" y=\"53\"/><text fill=\"#000000\" font-family=\"sans-serif\" font-size=\"14\" lengthAdjust=\"spacing\" text-decoration=\"underline\" textLength=\"70\" x=\"281.5\" y=\"72.9951\">Last Class</text><rect fill=\"#FEFECE\" filter=\"url(#f5kav4auutcfz)\" height=\"30.2969\" rx=\"10\" ry=\"10\" style=\"stroke:#A80036;stroke-width:1.5;\" width=\"84\" x=\"274.5\" y=\"312.3594\"/><text fill=\"#000000\" font-family=\"sans-serif\" font-size=\"14\" lengthAdjust=\"spacing\" text-decoration=\"underline\" textLength=\"70\" x=\"281.5\" y=\"332.3545\">Last Class</text><rect fill=\"#FFFFFF\" filter=\"url(#f5kav4auutcfz)\" height=\"175.9297\" style=\"stroke:#A80036;stroke-width:1.0;\" width=\"10\" x=\"93.5\" y=\"119.4297\"/><rect fill=\"#FFFFFF\" filter=\"url(#f5kav4auutcfz)\" height=\"102.5313\" style=\"stroke:#A80036;stroke-width:1.0;\" width=\"10\" x=\"204\" y=\"163.6953\"/><rect fill=\"#FFFFFF\" filter=\"url(#f5kav4auutcfz)\" height=\"29.1328\" style=\"stroke:#A80036;stroke-width:1.0;\" width=\"10\" x=\"313.5\" y=\"192.8281\"/><polygon fill=\"#A80036\" points=\"81.5,115.4297,91.5,119.4297,81.5,123.4297,85.5,119.4297\" style=\"stroke:#A80036;stroke-width:1.0;\"/><line style=\"stroke:#A80036;stroke-width:2.0;\" x1=\"23.5\" x2=\"87.5\" y1=\"119.4297\" y2=\"119.4297\"/><text fill=\"#000000\" font-family=\"sans-serif\" font-size=\"13\" lengthAdjust=\"spacing\" textLength=\"51\" x=\"30.5\" y=\"114.3638\">DoWork</text><polygon fill=\"#A80036\" points=\"192,159.6953,202,163.6953,192,167.6953,196,163.6953\" style=\"stroke:#A80036;stroke-width:1.0;\"/><line style=\"stroke:#A80036;stroke-width:2.0;\" x1=\"103.5\" x2=\"198\" y1=\"163.6953\" y2=\"163.6953\"/><text fill=\"#000000\" font-family=\"sans-serif\" font-size=\"13\" lengthAdjust=\"spacing\" textLength=\"43\" x=\"110.5\" y=\"143.4966\">Create</text><text fill=\"#000000\" font-family=\"sans-serif\" font-size=\"13\" lengthAdjust=\"spacing\" textLength=\"53\" x=\"110.5\" y=\"158.6294\">Request</text><polygon fill=\"#A80036\" points=\"301.5,188.8281,311.5,192.8281,301.5,196.8281,305.5,192.8281\" style=\"stroke:#A80036;stroke-width:1.0;\"/><line style=\"stroke:#A80036;stroke-width:2.0;\" x1=\"214\" x2=\"307.5\" y1=\"192.8281\" y2=\"192.8281\"/><text fill=\"#000000\" font-family=\"sans-serif\" font-size=\"13\" lengthAdjust=\"spacing\" textLength=\"51\" x=\"221\" y=\"187.7622\">DoWork</text><polygon fill=\"#A80036\" points=\"225,217.9609,215,221.9609,225,225.9609,221,221.9609\" style=\"stroke:#A80036;stroke-width:1.0;\"/><line style=\"stroke:#A80036;stroke-width:2.0;stroke-dasharray:2.0,2.0;\" x1=\"219\" x2=\"317.5\" y1=\"221.9609\" y2=\"221.9609\"/><text fill=\"#000000\" font-family=\"sans-serif\" font-size=\"13\" lengthAdjust=\"spacing\" textLength=\"67\" x=\"231\" y=\"216.895\">WorkDone</text><line style=\"stroke:#A80036;stroke-width:2.0;\" x1=\"309.5\" x2=\"327.5\" y1=\"212.9609\" y2=\"230.9609\"/><line style=\"stroke:#A80036;stroke-width:2.0;\" x1=\"309.5\" x2=\"327.5\" y1=\"230.9609\" y2=\"212.9609\"/><polygon fill=\"#A80036\" points=\"114.5,262.2266,104.5,266.2266,114.5,270.2266,110.5,266.2266\" style=\"stroke:#A80036;stroke-width:1.0;\"/><line style=\"stroke:#A80036;stroke-width:2.0;stroke-dasharray:2.0,2.0;\" x1=\"108.5\" x2=\"208\" y1=\"266.2266\" y2=\"266.2266\"/><text fill=\"#000000\" font-family=\"sans-serif\" font-size=\"13\" lengthAdjust=\"spacing\" textLength=\"53\" x=\"120.5\" y=\"246.0278\">Request</text><text fill=\"#000000\" font-family=\"sans-serif\" font-size=\"13\" lengthAdjust=\"spacing\" textLength=\"51\" x=\"120.5\" y=\"261.1606\">Created</text><polygon fill=\"#A80036\" points=\"34.5,291.3594,24.5,295.3594,34.5,299.3594,30.5,295.3594\" style=\"stroke:#A80036;stroke-width:1.0;\"/><line style=\"stroke:#A80036;stroke-width:2.0;stroke-dasharray:2.0,2.0;\" x1=\"28.5\" x2=\"97.5\" y1=\"295.3594\" y2=\"295.3594\"/><text fill=\"#000000\" font-family=\"sans-serif\" font-size=\"13\" lengthAdjust=\"spacing\" textLength=\"34\" x=\"40.5\" y=\"290.2935\">Done</text><!--MD5=[59be9f5dc3db2d0966c9117d550a1ea0]\n",
       "@startuml\n",
       "skinparam sequenceArrowThickness 2\n",
       "skinparam roundcorner 20\n",
       "skinparam maxmessagesize 60\n",
       "skinparam sequenceParticipant underline\n",
       "actor User\n",
       "participant \"First Class\" as A\n",
       "participant \"Second Class\" as B\n",
       "participant \"Last Class\" as C\n",
       "User -> A: DoWork\n",
       "activate A\n",
       "A -> B: Create Request\n",
       "activate B\n",
       "B -> C: DoWork\n",
       "activate C\n",
       "C - -> B: WorkDone\n",
       "destroy C\n",
       "B - -> A: Request Created\n",
       "deactivate B\n",
       "A - -> User: Done\n",
       "deactivate A\n",
       "@enduml\n",
       "\n",
       "PlantUML version 1.2021.9beta2(Unknown compile time)\n",
       "(GPL source distribution)\n",
       "Java Runtime: Java(TM) SE Runtime Environment\n",
       "JVM: Java HotSpot(TM) 64-Bit Server VM\n",
       "Default Encoding: UTF-8\n",
       "Language: en\n",
       "Country: US\n",
       "--></g></svg>"
      ],
      "text/plain": [
       "<IPython.core.display.SVG object>"
      ]
     },
     "execution_count": 52,
     "metadata": {},
     "output_type": "execute_result"
    }
   ],
   "source": [
    "%%plantuml\n",
    "\n",
    "@startuml\n",
    "skinparam sequenceArrowThickness 2\n",
    "skinparam roundcorner 20\n",
    "skinparam maxmessagesize 60\n",
    "skinparam sequenceParticipant underline\n",
    "actor User\n",
    "participant \"First Class\" as A\n",
    "participant \"Second Class\" as B\n",
    "participant \"Last Class\" as C\n",
    "User -> A: DoWork\n",
    "activate A\n",
    "A -> B: Create Request\n",
    "activate B\n",
    "B -> C: DoWork\n",
    "activate C\n",
    "C --> B: WorkDone\n",
    "destroy C\n",
    "B --> A: Request Created\n",
    "deactivate B\n",
    "A --> User: Done\n",
    "deactivate A\n",
    "@enduml"
   ]
  },
  {
   "cell_type": "code",
   "execution_count": 54,
   "id": "b51081d6",
   "metadata": {},
   "outputs": [
    {
     "data": {
      "image/svg+xml": [
       "<svg xmlns=\"http://www.w3.org/2000/svg\" xmlns:xlink=\"http://www.w3.org/1999/xlink\" contentScriptType=\"application/ecmascript\" contentStyleType=\"text/css\" height=\"374px\" preserveAspectRatio=\"none\" style=\"width:451px;height:374px;background:#EEEBDC;\" version=\"1.1\" viewBox=\"0 0 451 374\" width=\"451px\" zoomAndPan=\"magnify\"><defs><filter height=\"300%\" id=\"f1jgetn4nq2eps\" width=\"300%\" x=\"-1\" y=\"-1\"><feGaussianBlur result=\"blurOut\" stdDeviation=\"2.0\"/><feColorMatrix in=\"blurOut\" result=\"blurOut2\" type=\"matrix\" values=\"0 0 0 0 0 0 0 0 0 0 0 0 0 0 0 0 0 0 .4 0\"/><feOffset dx=\"4.0\" dy=\"4.0\" in=\"blurOut2\" result=\"blurOut3\"/><feBlend in=\"SourceGraphic\" in2=\"blurOut3\" mode=\"normal\"/></filter></defs><g><polygon fill=\"#A9DCDF\" filter=\"url(#f1jgetn4nq2eps)\" points=\"110.5,122.9219,110.5,122.9919,112.5,122.7838,114.5,122.9863,116.5,123.0551,118.5,122.6841,120.5,122.9219,120.4223,122.9219,120.0735,132.6328,120.1165,142.3438,120.4318,152.0547,119.8086,161.7656,121.0536,171.4766,119.8697,181.1875,120.3022,190.8984,120.9319,200.6094,120.4142,210.3203,120.5682,220.0313,120.4681,229.7422,120.6785,239.4531,120.7391,249.1641,121.0857,258.875,120.5,268.5859,120.5,268.8096,118.5,268.8124,116.5,268.6708,114.5,268.7405,112.5,268.82,110.5,268.5859,109.7788,268.5859,111.1785,258.875,110.2035,249.1641,111.0338,239.4531,110.005,229.7422,110.4315,220.0313,111.2416,210.3203,110.4513,200.6094,110.6053,190.8984,110.8386,181.1875,110.9162,171.4766,110.4961,161.7656,110.7872,152.0547,109.9276,142.3438,110.7844,132.6328,110.5,122.9219\" style=\"stroke:#0000FF;stroke-width:1.0;\"/><polygon fill=\"#A9DCDF\" filter=\"url(#f1jgetn4nq2eps)\" points=\"252.5,152.0547,252.5,152.1247,254.5,151.9166,256.5,152.1191,258.5,152.1879,260.5,151.8169,262.5,152.0547,262.4223,152.0547,262.0735,161.7656,262.1165,171.4766,262.4318,181.1875,261.8086,190.8984,263.0536,200.6094,261.8697,210.3203,262.3022,220.0313,262.9319,229.7422,262.5,239.4531,262.5,239.4245,260.5,239.4759,258.5,239.4425,256.5,239.5126,254.5,239.5328,252.5,239.4531,253.0857,239.4531,253.1711,229.7422,253.1793,220.0313,252.7546,210.3203,252.9636,200.6094,253.2022,190.8984,251.7788,181.1875,253.1785,171.4766,252.2035,161.7656,252.5,152.0547\" style=\"stroke:#0000FF;stroke-width:1.0;\"/><polygon fill=\"#A9DCDF\" filter=\"url(#f1jgetn4nq2eps)\" points=\"383,181.1875,383,181.2576,385,181.0494,387,181.2519,389,181.3207,391,180.9497,393,181.1875,392.9741,181.1875,392.8578,187.0141,392.8722,192.8406,392.9773,198.6672,392.7695,204.4938,393,210.3203,393,210.5049,391,210.1102,389,210.2544,387,210.4643,385,210.2917,383,210.3203,383.0227,210.3203,382.9894,204.4938,383.0595,198.6672,383.0797,192.8406,383.1952,187.0141,383,181.1875\" style=\"stroke:#0000FF;stroke-width:1.0;\"/><path d=\"M28,91.7891 L28.2802,91.7891 L27.4476,102.0415 L28.2577,112.294 L28.5329,122.5465 L27.0488,132.7989 L27.8964,143.0514 L27.4313,153.3039 L27.4887,163.5563 L27.9091,173.8088 L27.0782,184.0613 L28.7382,194.3137 L27.1596,204.5662 L27.7363,214.8187 L28.5759,225.0711 L27.8856,235.3236 L28.091,245.5761 L27.9574,255.8285 L28.238,266.081 L28.3188,276.3335 L28,286.5859 \" fill=\"none\" style=\"stroke:#0000FF;stroke-width:1.0;stroke-dasharray:5.0,5.0;\"/><path d=\"M115,91.7891 L115.2802,91.7891 L114.4476,102.0415 L115.2577,112.294 L115.5329,122.5465 L114.0488,132.7989 L114.8964,143.0514 L114.4313,153.3039 L114.4887,163.5563 L114.9091,173.8088 L114.0782,184.0613 L115.7382,194.3137 L114.1596,204.5662 L114.7363,214.8187 L115.5759,225.0711 L114.8856,235.3236 L115.091,245.5761 L114.9574,255.8285 L115.238,266.081 L115.3188,276.3335 L115,286.5859 \" fill=\"none\" style=\"stroke:#0000FF;stroke-width:1.0;stroke-dasharray:5.0,5.0;\"/><path d=\"M257.5,91.7891 L257.7802,91.7891 L256.9476,102.0415 L257.7577,112.294 L258.0329,122.5465 L256.5488,132.7989 L257.3964,143.0514 L256.9313,153.3039 L256.9887,163.5563 L257.4091,173.8088 L256.5782,184.0613 L258.2382,194.3137 L256.6596,204.5662 L257.2363,214.8187 L258.0759,225.0711 L257.3856,235.3236 L257.591,245.5761 L257.4574,255.8285 L257.738,266.081 L257.8188,276.3335 L257.5,286.5859 \" fill=\"none\" style=\"stroke:#0000FF;stroke-width:1.0;stroke-dasharray:5.0,5.0;\"/><path d=\"M387.5,91.7891 L387.7802,91.7891 L386.9476,102.0415 L387.7577,112.294 L388.0329,122.5465 L386.5488,132.7989 L387.3964,143.0514 L386.9313,153.3039 L386.9887,163.5563 L387.4091,173.8088 L386.5782,184.0613 L388.2382,194.3137 L386.6596,204.5662 L387.2363,214.8187 L388.0759,225.0711 L387.3856,235.3236 L387.591,245.5761 L387.4574,255.8285 L387.738,266.081 L387.8188,276.3335 L387.5,286.5859 \" fill=\"none\" style=\"stroke:#0000FF;stroke-width:1.0;stroke-dasharray:5.0,5.0;\"/><text fill=\"#00BFFF\" font-family=\"Aapex\" font-size=\"17\" lengthAdjust=\"spacing\" textLength=\"40\" x=\"5\" y=\"87.7798\">User</text><polygon fill=\"#00FFFF\" filter=\"url(#f1jgetn4nq2eps)\" points=\"36.0442,16.9459,34.8715,18.5482,33.4845,20.8951,31.5008,22.4767,29.4163,23.3415,27.7542,23.4166,25.618,22.3349,23.6023,21.6283,22.0724,20.1936,21.2699,18.5511,20.7939,17.2433,20.3277,15.5351,19.5709,14.0651,20.1525,12.6298,20.662,11.0576,22.574,9.8142,23.9192,8.2008,25.5843,7.665,27.5637,7.2037,30.1021,7.4778,31.4924,8.1335,33.1089,8.4307,35.0743,10.4443,35.7595,12.5701,36.0571,14.0206,35.72,16.4108\" style=\"stroke:#00BFFF;stroke-width:2.0;\"/><path d=\"M28,23 L28.1868,23 L27.6317,28.4 L28.1718,33.8 L28.3553,39.2 L27.3659,44.6 L28,50 M15,31 L15,30.9309 L20.2,30.6209 L25.4,30.6591 L30.6,30.9394 L35.8,30.3854 L41,31 M28,50 L28.3719,50.3223 L24.9766,52.6331 L22.6672,55.8849 L20.4901,59.2515 L17.5424,61.9501 L15,65 M28,50 L28.0458,50.0397 L30.5785,52.9814 L33.3199,56.1039 L35.9606,59.1392 L38.7934,62.341 L41,65 \" fill=\"none\" filter=\"url(#f1jgetn4nq2eps)\" style=\"stroke:#00BFFF;stroke-width:2.0;\"/><text fill=\"#00BFFF\" font-family=\"Aapex\" font-size=\"17\" lengthAdjust=\"spacing\" textLength=\"40\" x=\"5\" y=\"301.3657\">User</text><polygon fill=\"#00FFFF\" filter=\"url(#f1jgetn4nq2eps)\" points=\"36.0442,317.3209,34.8715,318.9232,33.4845,321.2701,31.5008,322.8517,29.4163,323.7165,27.7542,323.7916,25.618,322.7099,23.6023,322.0033,22.0724,320.5686,21.2699,318.9261,20.7939,317.6183,20.3277,315.9101,19.5709,314.4401,20.1525,313.0048,20.662,311.4326,22.574,310.1892,23.9192,308.5758,25.5843,308.04,27.5637,307.5787,30.1021,307.8528,31.4924,308.5085,33.1089,308.8057,35.0743,310.8193,35.7595,312.9451,36.0571,314.3956,35.72,316.7858\" style=\"stroke:#00BFFF;stroke-width:2.0;\"/><path d=\"M28,323.375 L28.1868,323.375 L27.6317,328.775 L28.1718,334.175 L28.3553,339.575 L27.3659,344.975 L28,350.375 M15,331.375 L15,331.3059 L20.2,330.9959 L25.4,331.0341 L30.6,331.3144 L35.8,330.7604 L41,331.375 M28,350.375 L28.3719,350.6973 L24.9766,353.0081 L22.6672,356.2599 L20.4901,359.6265 L17.5424,362.3251 L15,365.375 M28,350.375 L28.0458,350.4147 L30.5785,353.3564 L33.3199,356.4789 L35.9606,359.5142 L38.7934,362.716 L41,365.375 \" fill=\"none\" filter=\"url(#f1jgetn4nq2eps)\" style=\"stroke:#00BFFF;stroke-width:2.0;\"/><polygon fill=\"#1E90FF\" filter=\"url(#f1jgetn4nq2eps)\" points=\"61,53,61,53.2102,70.5455,52.5857,80.0909,53.1933,89.6364,53.3997,99.1818,52.2866,108.7273,52.9223,118.2727,52.5735,127.8182,52.6165,137.3636,52.9318,146.9091,52.3086,156.4545,53.5536,166,53,165.7899,53,165.9341,59.7578,166.144,66.5156,165.9714,73.2734,166.0227,80.0313,166,86.7891,166,86.7571,156.4545,86.9676,146.9091,87.0282,137.3636,87.3748,127.8182,87.4601,118.2727,87.4683,108.7273,87.0437,99.1818,87.2526,89.6364,87.4913,80.0909,86.0679,70.5455,87.4676,61,86.7891,60.9012,86.7891,61.1779,80.0313,60.835,73.2734,60.9772,66.5156,61.2472,59.7578,61,53\" style=\"stroke:#00BFFF;stroke-width:1.5;\"/><text fill=\"#A9DCDF\" font-family=\"Impact\" font-size=\"17\" lengthAdjust=\"spacing\" textLength=\"91\" x=\"68\" y=\"75.7798\">First Class</text><polygon fill=\"#1E90FF\" filter=\"url(#f1jgetn4nq2eps)\" points=\"61,285.5859,61,285.7961,70.5455,285.1716,80.0909,285.7792,89.6364,285.9856,99.1818,284.8725,108.7273,285.5082,118.2727,285.1594,127.8182,285.2024,137.3636,285.5178,146.9091,284.8946,156.4545,286.1396,166,285.5859,165.7899,285.5859,165.9341,292.3438,166.144,299.1016,165.9714,305.8594,166.0227,312.6172,166,319.375,166,319.3431,156.4545,319.5535,146.9091,319.6141,137.3636,319.9607,127.8182,320.0461,118.2727,320.0543,108.7273,319.6296,99.1818,319.8386,89.6364,320.0772,80.0909,318.6538,70.5455,320.0535,61,319.375,60.9012,319.375,61.1779,312.6172,60.835,305.8594,60.9772,299.1016,61.2472,292.3438,61,285.5859\" style=\"stroke:#00BFFF;stroke-width:1.5;\"/><text fill=\"#A9DCDF\" font-family=\"Impact\" font-size=\"17\" lengthAdjust=\"spacing\" textLength=\"91\" x=\"68\" y=\"308.3657\">First Class</text><polygon fill=\"#1E90FF\" filter=\"url(#f1jgetn4nq2eps)\" points=\"190.5,53,190.5,53.2102,200.5,52.5857,210.5,53.1933,220.5,53.3997,230.5,52.2866,240.5,52.9223,250.5,52.5735,260.5,52.6165,270.5,52.9318,280.5,52.3086,290.5,53.5536,300.5,52.3697,310.5,52.8022,320.5,53,320.644,53,320.4714,59.7578,320.5227,66.5156,320.4894,73.2734,320.5595,80.0313,320.5,86.7891,320.5,87.0282,310.5,87.3748,300.5,87.4601,290.5,87.4683,280.5,87.0437,270.5,87.2526,260.5,87.4913,250.5,86.0679,240.5,87.4676,230.5,86.4926,220.5,87.3229,210.5,86.294,200.5,86.7206,190.5,86.7891,190.7472,86.7891,190.4838,80.0313,190.5351,73.2734,190.6129,66.5156,190.6387,59.7578,190.5,53\" style=\"stroke:#00BFFF;stroke-width:1.5;\"/><text fill=\"#A9DCDF\" font-family=\"Impact\" font-size=\"17\" lengthAdjust=\"spacing\" textLength=\"116\" x=\"197.5\" y=\"75.7798\">Second Class</text><polygon fill=\"#1E90FF\" filter=\"url(#f1jgetn4nq2eps)\" points=\"190.5,285.5859,190.5,285.7961,200.5,285.1716,210.5,285.7792,220.5,285.9856,230.5,284.8725,240.5,285.5082,250.5,285.1594,260.5,285.2024,270.5,285.5178,280.5,284.8946,290.5,286.1396,300.5,284.9557,310.5,285.3882,320.5,285.5859,320.644,285.5859,320.4714,292.3438,320.5227,299.1016,320.4894,305.8594,320.5595,312.6172,320.5,319.375,320.5,319.6141,310.5,319.9607,300.5,320.0461,290.5,320.0543,280.5,319.6296,270.5,319.8386,260.5,320.0772,250.5,318.6538,240.5,320.0535,230.5,319.0785,220.5,319.9088,210.5,318.88,200.5,319.3065,190.5,319.375,190.7472,319.375,190.4838,312.6172,190.5351,305.8594,190.6129,299.1016,190.6387,292.3438,190.5,285.5859\" style=\"stroke:#00BFFF;stroke-width:1.5;\"/><text fill=\"#A9DCDF\" font-family=\"Impact\" font-size=\"17\" lengthAdjust=\"spacing\" textLength=\"116\" x=\"197.5\" y=\"308.3657\">Second Class</text><polygon fill=\"#1E90FF\" filter=\"url(#f1jgetn4nq2eps)\" points=\"334.5,53,334.5,53.2102,344.8,52.5857,355.1,53.1933,365.4,53.3997,375.7,52.2866,386,52.9223,396.3,52.5735,406.6,52.6165,416.9,52.9318,427.2,52.3086,437.5,53,437.6845,53,437.2899,59.7578,437.4341,66.5156,437.644,73.2734,437.4714,80.0313,437.5,86.7891,437.5,86.8573,427.2,86.7571,416.9,86.9676,406.6,87.0282,396.3,87.3748,386,87.4601,375.7,87.4683,365.4,87.0437,355.1,87.2526,344.8,87.4913,334.5,86.7891,334.2596,86.7891,334.7262,80.0313,334.4012,73.2734,334.6779,66.5156,334.335,59.7578,334.5,53\" style=\"stroke:#00BFFF;stroke-width:1.5;\"/><text fill=\"#A9DCDF\" font-family=\"Impact\" font-size=\"17\" lengthAdjust=\"spacing\" textLength=\"89\" x=\"341.5\" y=\"75.7798\">Last Class</text><polygon fill=\"#1E90FF\" filter=\"url(#f1jgetn4nq2eps)\" points=\"334.5,285.5859,334.5,285.7961,344.8,285.1716,355.1,285.7792,365.4,285.9856,375.7,284.8725,386,285.5082,396.3,285.1594,406.6,285.2024,416.9,285.5178,427.2,284.8946,437.5,285.5859,437.6845,285.5859,437.2899,292.3438,437.4341,299.1016,437.644,305.8594,437.4714,312.6172,437.5,319.375,437.5,319.4432,427.2,319.3431,416.9,319.5535,406.6,319.6141,396.3,319.9607,386,320.0461,375.7,320.0543,365.4,319.6296,355.1,319.8386,344.8,320.0772,334.5,319.375,334.2596,319.375,334.7262,312.6172,334.4012,305.8594,334.6779,299.1016,334.335,292.3438,334.5,285.5859\" style=\"stroke:#00BFFF;stroke-width:1.5;\"/><text fill=\"#A9DCDF\" font-family=\"Impact\" font-size=\"17\" lengthAdjust=\"spacing\" textLength=\"89\" x=\"341.5\" y=\"308.3657\">Last Class</text><polygon fill=\"#A9DCDF\" filter=\"url(#f1jgetn4nq2eps)\" points=\"110.5,122.9219,110.5,122.9919,112.5,122.7838,114.5,122.9863,116.5,123.0551,118.5,122.6841,120.5,122.9219,120.4223,122.9219,120.0735,132.6328,120.1165,142.3438,120.4318,152.0547,119.8086,161.7656,121.0536,171.4766,119.8697,181.1875,120.3022,190.8984,120.9319,200.6094,120.4142,210.3203,120.5682,220.0313,120.4681,229.7422,120.6785,239.4531,120.7391,249.1641,121.0857,258.875,120.5,268.5859,120.5,268.8096,118.5,268.8124,116.5,268.6708,114.5,268.7405,112.5,268.82,110.5,268.5859,109.7788,268.5859,111.1785,258.875,110.2035,249.1641,111.0338,239.4531,110.005,229.7422,110.4315,220.0313,111.2416,210.3203,110.4513,200.6094,110.6053,190.8984,110.8386,181.1875,110.9162,171.4766,110.4961,161.7656,110.7872,152.0547,109.9276,142.3438,110.7844,132.6328,110.5,122.9219\" style=\"stroke:#0000FF;stroke-width:1.0;\"/><polygon fill=\"#A9DCDF\" filter=\"url(#f1jgetn4nq2eps)\" points=\"252.5,152.0547,252.5,152.1247,254.5,151.9166,256.5,152.1191,258.5,152.1879,260.5,151.8169,262.5,152.0547,262.4223,152.0547,262.0735,161.7656,262.1165,171.4766,262.4318,181.1875,261.8086,190.8984,263.0536,200.6094,261.8697,210.3203,262.3022,220.0313,262.9319,229.7422,262.5,239.4531,262.5,239.4245,260.5,239.4759,258.5,239.4425,256.5,239.5126,254.5,239.5328,252.5,239.4531,253.0857,239.4531,253.1711,229.7422,253.1793,220.0313,252.7546,210.3203,252.9636,200.6094,253.2022,190.8984,251.7788,181.1875,253.1785,171.4766,252.2035,161.7656,252.5,152.0547\" style=\"stroke:#0000FF;stroke-width:1.0;\"/><polygon fill=\"#A9DCDF\" filter=\"url(#f1jgetn4nq2eps)\" points=\"383,181.1875,383,181.2576,385,181.0494,387,181.2519,389,181.3207,391,180.9497,393,181.1875,392.9741,181.1875,392.8578,187.0141,392.8722,192.8406,392.9773,198.6672,392.7695,204.4938,393,210.3203,393,210.5049,391,210.1102,389,210.2544,387,210.4643,385,210.2917,383,210.3203,383.0227,210.3203,382.9894,204.4938,383.0595,198.6672,383.0797,192.8406,383.1952,187.0141,383,181.1875\" style=\"stroke:#0000FF;stroke-width:1.0;\"/><polygon fill=\"#00BFFF\" points=\"98.5,118.9219,98.526,118.9869,100.4487,119.5936,102.5239,120.5817,104.5495,121.4456,106.4117,121.9011,108.5,122.9219,108.4904,122.8978,106.4472,123.5899,104.4525,124.4032,102.4916,125.3008,100.4144,125.9079,98.5,126.9219,98.6305,127.0524,99.1514,125.9733,100.0534,125.2753,101.0018,124.6237,101.6798,123.7017,102.5,122.9219,102.5161,122.938,101.6925,122.1143,100.9421,121.364,100.1564,120.5782,99.438,119.8599,98.5,118.9219\" style=\"stroke:#00BFFF;stroke-width:1.0;\"/><path d=\"M28,122.9219 L28,123.2021 L37.5625,122.3694 L47.125,123.1796 L56.6875,123.4548 L66.25,121.9707 L75.8125,122.8183 L85.375,122.3532 L94.9375,122.4105 L104.5,122.9219 \" fill=\"none\" style=\"stroke:#00BFFF;stroke-width:1.0;\"/><text fill=\"#000000\" font-family=\"sans-serif\" font-size=\"13\" lengthAdjust=\"spacing\" textLength=\"51\" x=\"35\" y=\"117.856\">DoWork</text><polygon fill=\"#00BFFF\" points=\"240.5,148.0547,240.526,148.1197,242.4487,148.7265,244.5239,149.7145,246.5495,150.5784,248.4117,151.0339,250.5,152.0547,250.4904,152.0306,248.4472,152.7227,246.4525,153.536,244.4916,154.4336,242.4144,155.0407,240.5,156.0547,240.6305,156.1852,241.1514,155.1061,242.0534,154.4081,243.0018,153.7565,243.6798,152.8345,244.5,152.0547,244.5161,152.0708,243.6925,151.2472,242.9421,150.4968,242.1564,149.7111,241.438,148.9927,240.5,148.0547\" style=\"stroke:#00BFFF;stroke-width:1.0;\"/><path d=\"M120.5,152.0547 L120.5,152.3349 L130.1923,151.5023 L139.8846,152.3124 L149.5769,152.5876 L159.2692,151.1035 L168.9615,151.9511 L178.6538,151.486 L188.3462,151.5434 L198.0385,151.9638 L207.7308,151.1329 L217.4231,152.7929 L227.1154,151.2143 L236.8077,151.791 L246.5,152.0547 \" fill=\"none\" style=\"stroke:#00BFFF;stroke-width:1.0;\"/><text fill=\"#000000\" font-family=\"sans-serif\" font-size=\"13\" lengthAdjust=\"spacing\" textLength=\"100\" x=\"127.5\" y=\"146.9888\">Create Request</text><polygon fill=\"#00BFFF\" points=\"371,177.1875,371.026,177.2525,372.9487,177.8593,375.0239,178.8473,377.0495,179.7112,378.9117,180.1667,381,181.1875,380.9904,181.1634,378.9472,181.8555,376.9525,182.6688,374.9916,183.5664,372.9144,184.1735,371,185.1875,371.1305,185.318,371.6514,184.2389,372.5534,183.5409,373.5018,182.8893,374.1798,181.9673,375,181.1875,375.0161,181.2036,374.1925,180.38,373.4421,179.6296,372.6564,178.8439,371.938,178.1255,371,177.1875\" style=\"stroke:#00BFFF;stroke-width:1.0;\"/><path d=\"M262.5,181.1875 L262.5,181.4677 L272.9091,180.6351 L283.3182,181.4452 L293.7273,181.7204 L304.1364,180.2363 L314.5455,181.0839 L324.9545,180.6188 L335.3636,180.6762 L345.7727,181.0966 L356.1818,180.2657 L366.5909,181.9257 L377,181.1875 \" fill=\"none\" style=\"stroke:#00BFFF;stroke-width:1.0;\"/><text fill=\"#000000\" font-family=\"sans-serif\" font-size=\"13\" lengthAdjust=\"spacing\" textLength=\"51\" x=\"269.5\" y=\"176.1216\">DoWork</text><polygon fill=\"#00BFFF\" points=\"273.5,206.3203,273.526,206.3854,271.4487,206.9921,269.5239,207.9801,267.5495,208.844,265.4117,209.2995,263.5,210.3203,263.4904,210.2963,265.4472,210.9883,267.4525,211.8016,269.4916,212.6992,271.4144,213.3063,273.5,214.3203,273.6305,214.4508,272.5514,213.3718,271.8534,212.6737,271.2018,212.0221,270.2798,211.1001,269.5,210.3203,269.5161,210.3364,270.2925,209.5128,271.1421,208.7624,271.9564,207.9767,272.838,207.2584,273.5,206.3203\" style=\"stroke:#00BFFF;stroke-width:1.0;\"/><path d=\"M267.5,210.3203 L267.5,210.6006 L277.4583,209.7679 L287.4167,210.578 L297.375,210.8532 L307.3333,209.3691 L317.2917,210.2167 L327.25,209.7517 L337.2083,209.809 L347.1667,210.2294 L357.125,209.3985 L367.0833,211.0585 L377.0417,209.4799 L387,210.3203 \" fill=\"none\" style=\"stroke:#00BFFF;stroke-width:1.0;stroke-dasharray:2.0,2.0;\"/><text fill=\"#000000\" font-family=\"sans-serif\" font-size=\"13\" lengthAdjust=\"spacing\" textLength=\"67\" x=\"279.5\" y=\"205.2544\">WorkDone</text><path d=\"M379,201.3203 L379.0661,201.3864 L382.4698,204.7901 L386.2607,208.5811 L389.9256,212.2459 L393.1758,215.4961 L397,219.3203 \" fill=\"none\" style=\"stroke:#0000FF;stroke-width:2.0;\"/><path d=\"M379,219.3203 L379.0661,219.3864 L382.4698,215.5901 L386.2607,212.1811 L389.9256,208.6459 L393.1758,204.6961 L397,201.3203 \" fill=\"none\" style=\"stroke:#0000FF;stroke-width:2.0;\"/><polygon fill=\"#00BFFF\" points=\"131.5,235.4531,131.526,235.5182,129.4487,236.1249,127.5239,237.1129,125.5495,237.9768,123.4117,238.4323,121.5,239.4531,121.4904,239.4291,123.4472,240.1211,125.4525,240.9344,127.4916,241.832,129.4144,242.4392,131.5,243.4531,131.6305,243.5836,130.5514,242.5046,129.8534,241.8065,129.2018,241.1549,128.2798,240.2329,127.5,239.4531,127.5161,239.4692,128.2925,238.6456,129.1421,237.8952,129.9564,237.1095,130.838,236.3912,131.5,235.4531\" style=\"stroke:#00BFFF;stroke-width:1.0;\"/><path d=\"M125.5,239.4531 L125.5,239.7334 L135.5769,238.9007 L145.6538,239.7108 L155.7308,239.986 L165.8077,238.5019 L175.8846,239.3495 L185.9615,238.8845 L196.0385,238.9418 L206.1154,239.3622 L216.1923,238.5313 L226.2692,240.1913 L236.3462,238.6128 L246.4231,239.1894 L256.5,239.4531 \" fill=\"none\" style=\"stroke:#00BFFF;stroke-width:1.0;stroke-dasharray:2.0,2.0;\"/><text fill=\"#000000\" font-family=\"sans-serif\" font-size=\"13\" lengthAdjust=\"spacing\" textLength=\"108\" x=\"137.5\" y=\"234.3872\">Request Created</text><polygon fill=\"#00BFFF\" points=\"39,264.5859,39.026,264.651,36.9487,265.2577,35.0239,266.2458,33.0495,267.1096,30.9117,267.5651,29,268.5859,28.9904,268.5619,30.9472,269.2539,32.9525,270.0672,34.9916,270.9648,36.9144,271.572,39,272.5859,39.1305,272.7164,38.0514,271.6374,37.3534,270.9393,36.7018,270.2877,35.7798,269.3657,35,268.5859,35.0161,268.602,35.7925,267.7784,36.6421,267.028,37.4564,266.2423,38.338,265.524,39,264.5859\" style=\"stroke:#00BFFF;stroke-width:1.0;\"/><path d=\"M33,268.5859 L33,268.8662 L43.1875,268.0335 L53.375,268.8437 L63.5625,269.1188 L73.75,267.6347 L83.9375,268.4823 L94.125,268.0173 L104.3125,268.0746 L114.5,268.5859 \" fill=\"none\" style=\"stroke:#00BFFF;stroke-width:1.0;stroke-dasharray:2.0,2.0;\"/><text fill=\"#000000\" font-family=\"sans-serif\" font-size=\"13\" lengthAdjust=\"spacing\" textLength=\"34\" x=\"45\" y=\"263.52\">Done</text><!--MD5=[c09ef048218bca5f05e4062bb37dae49]\n",
       "@startuml\n",
       "skinparam backgroundColor #EEEBDC\n",
       "skinparam handwritten true\n",
       "skinparam sequence {\n",
       "ArrowColor DeepSkyBlue\n",
       "ActorBorderColor DeepSkyBlue\n",
       "LifeLineBorderColor blue\n",
       "LifeLineBackgroundColor #A9DCDF\n",
       "ParticipantBorderColor DeepSkyBlue\n",
       "ParticipantBackgroundColor DodgerBlue\n",
       "ParticipantFontName Impact\n",
       "ParticipantFontSize 17\n",
       "ParticipantFontColor #A9DCDF\n",
       "ActorBackgroundColor aqua\n",
       "ActorFontColor DeepSkyBlue\n",
       "ActorFontSize 17\n",
       "ActorFontName Aapex\n",
       "}\n",
       "actor User\n",
       "participant \"First Class\" as A\n",
       "participant \"Second Class\" as B\n",
       "participant \"Last Class\" as C\n",
       "User -> A: DoWork\n",
       "activate A\n",
       "A -> B: Create Request\n",
       "activate B\n",
       "B -> C: DoWork\n",
       "activate C\n",
       "C - -> B: WorkDone\n",
       "destroy C\n",
       "B - -> A: Request Created\n",
       "deactivate B\n",
       "A - -> User: Done\n",
       "deactivate A\n",
       "@enduml\n",
       "\n",
       "PlantUML version 1.2021.9beta2(Unknown compile time)\n",
       "(GPL source distribution)\n",
       "Java Runtime: Java(TM) SE Runtime Environment\n",
       "JVM: Java HotSpot(TM) 64-Bit Server VM\n",
       "Default Encoding: UTF-8\n",
       "Language: en\n",
       "Country: US\n",
       "--></g></svg>"
      ],
      "text/plain": [
       "<IPython.core.display.SVG object>"
      ]
     },
     "execution_count": 54,
     "metadata": {},
     "output_type": "execute_result"
    }
   ],
   "source": [
    "%%plantuml\n",
    "\n",
    "@startuml\n",
    "skinparam backgroundColor #EEEBDC\n",
    "skinparam handwritten true\n",
    "skinparam sequence {\n",
    "ArrowColor DeepSkyBlue\n",
    "ActorBorderColor DeepSkyBlue\n",
    "LifeLineBorderColor blue\n",
    "LifeLineBackgroundColor #A9DCDF\n",
    "ParticipantBorderColor DeepSkyBlue\n",
    "ParticipantBackgroundColor DodgerBlue\n",
    "ParticipantFontName Impact\n",
    "ParticipantFontSize 17\n",
    "ParticipantFontColor #A9DCDF\n",
    "ActorBackgroundColor aqua\n",
    "ActorFontColor DeepSkyBlue\n",
    "ActorFontSize 17\n",
    "ActorFontName Aapex\n",
    "}\n",
    "actor User\n",
    "participant \"First Class\" as A\n",
    "participant \"Second Class\" as B\n",
    "participant \"Last Class\" as C\n",
    "User -> A: DoWork\n",
    "activate A\n",
    "A -> B: Create Request\n",
    "activate B\n",
    "B -> C: DoWork\n",
    "activate C\n",
    "C --> B: WorkDone\n",
    "destroy C\n",
    "B --> A: Request Created\n",
    "deactivate B\n",
    "A --> User: Done\n",
    "deactivate A\n",
    "@enduml"
   ]
  },
  {
   "cell_type": "code",
   "execution_count": 55,
   "id": "fca254e9",
   "metadata": {},
   "outputs": [
    {
     "data": {
      "image/svg+xml": [
       "<svg xmlns=\"http://www.w3.org/2000/svg\" xmlns:xlink=\"http://www.w3.org/1999/xlink\" contentScriptType=\"application/ecmascript\" contentStyleType=\"text/css\" height=\"182px\" preserveAspectRatio=\"none\" style=\"width:553px;height:182px;background:#FFFFFF;\" version=\"1.1\" viewBox=\"0 0 553 182\" width=\"553px\" zoomAndPan=\"magnify\"><defs><filter height=\"300%\" id=\"fo3ejyeeyufai\" width=\"300%\" x=\"-1\" y=\"-1\"><feGaussianBlur result=\"blurOut\" stdDeviation=\"2.0\"/><feColorMatrix in=\"blurOut\" result=\"blurOut2\" type=\"matrix\" values=\"0 0 0 0 0 0 0 0 0 0 0 0 0 0 0 0 0 0 .4 0\"/><feOffset dx=\"4.0\" dy=\"4.0\" in=\"blurOut2\" result=\"blurOut3\"/><feBlend in=\"SourceGraphic\" in2=\"blurOut3\" mode=\"normal\"/></filter></defs><g><rect fill=\"#DDDDDD\" height=\"170.9922\" style=\"stroke:#A80036;stroke-width:1.0;\" width=\"221\" x=\"11\" y=\"6\"/><text fill=\"#000000\" font-family=\"sans-serif\" font-size=\"13\" font-weight=\"bold\" lengthAdjust=\"spacing\" textLength=\"38\" x=\"102.5\" y=\"18.0669\">Foo1</text><rect fill=\"#DDDDDD\" height=\"170.9922\" style=\"stroke:#A80036;stroke-width:1.0;\" width=\"209\" x=\"254\" y=\"6\"/><text fill=\"#000000\" font-family=\"sans-serif\" font-size=\"13\" font-weight=\"bold\" lengthAdjust=\"spacing\" textLength=\"38\" x=\"339.5\" y=\"18.0669\">Foo2</text><line style=\"stroke:#A80036;stroke-width:1.0;stroke-dasharray:5.0,5.0;\" x1=\"66\" x2=\"66\" y1=\"60.4297\" y2=\"138.6953\"/><line style=\"stroke:#A80036;stroke-width:1.0;stroke-dasharray:5.0,5.0;\" x1=\"177\" x2=\"177\" y1=\"60.4297\" y2=\"138.6953\"/><line style=\"stroke:#A80036;stroke-width:1.0;stroke-dasharray:5.0,5.0;\" x1=\"306\" x2=\"306\" y1=\"60.4297\" y2=\"138.6953\"/><line style=\"stroke:#A80036;stroke-width:1.0;stroke-dasharray:5.0,5.0;\" x1=\"411\" x2=\"411\" y1=\"60.4297\" y2=\"138.6953\"/><line style=\"stroke:#A80036;stroke-width:1.0;stroke-dasharray:5.0,5.0;\" x1=\"521\" x2=\"521\" y1=\"60.4297\" y2=\"138.6953\"/><rect fill=\"#FEFECE\" filter=\"url(#fo3ejyeeyufai)\" height=\"30.2969\" style=\"stroke:#A80036;stroke-width:1.5;\" width=\"58\" x=\"35\" y=\"25.1328\"/><text fill=\"#000000\" font-family=\"sans-serif\" font-size=\"14\" lengthAdjust=\"spacing\" textLength=\"44\" x=\"42\" y=\"45.1279\">Alice1</text><rect fill=\"#FEFECE\" filter=\"url(#fo3ejyeeyufai)\" height=\"30.2969\" style=\"stroke:#A80036;stroke-width:1.5;\" width=\"58\" x=\"35\" y=\"137.6953\"/><text fill=\"#000000\" font-family=\"sans-serif\" font-size=\"14\" lengthAdjust=\"spacing\" textLength=\"44\" x=\"42\" y=\"157.6904\">Alice1</text><rect fill=\"#FEFECE\" filter=\"url(#fo3ejyeeyufai)\" height=\"30.2969\" style=\"stroke:#A80036;stroke-width:1.5;\" width=\"57\" x=\"147\" y=\"25.1328\"/><text fill=\"#000000\" font-family=\"sans-serif\" font-size=\"14\" lengthAdjust=\"spacing\" textLength=\"43\" x=\"154\" y=\"45.1279\">Alice2</text><rect fill=\"#FEFECE\" filter=\"url(#fo3ejyeeyufai)\" height=\"30.2969\" style=\"stroke:#A80036;stroke-width:1.5;\" width=\"57\" x=\"147\" y=\"137.6953\"/><text fill=\"#000000\" font-family=\"sans-serif\" font-size=\"14\" lengthAdjust=\"spacing\" textLength=\"43\" x=\"154\" y=\"157.6904\">Alice2</text><rect fill=\"#FEFECE\" filter=\"url(#fo3ejyeeyufai)\" height=\"30.2969\" style=\"stroke:#A80036;stroke-width:1.5;\" width=\"52\" x=\"278\" y=\"25.1328\"/><text fill=\"#000000\" font-family=\"sans-serif\" font-size=\"14\" lengthAdjust=\"spacing\" textLength=\"38\" x=\"285\" y=\"45.1279\">Bob1</text><rect fill=\"#FEFECE\" filter=\"url(#fo3ejyeeyufai)\" height=\"30.2969\" style=\"stroke:#A80036;stroke-width:1.5;\" width=\"52\" x=\"278\" y=\"137.6953\"/><text fill=\"#000000\" font-family=\"sans-serif\" font-size=\"14\" lengthAdjust=\"spacing\" textLength=\"38\" x=\"285\" y=\"157.6904\">Bob1</text><rect fill=\"#FEFECE\" filter=\"url(#fo3ejyeeyufai)\" height=\"30.2969\" style=\"stroke:#A80036;stroke-width:1.5;\" width=\"51\" x=\"384\" y=\"25.1328\"/><text fill=\"#000000\" font-family=\"sans-serif\" font-size=\"14\" lengthAdjust=\"spacing\" textLength=\"37\" x=\"391\" y=\"45.1279\">Bob2</text><rect fill=\"#FEFECE\" filter=\"url(#fo3ejyeeyufai)\" height=\"30.2969\" style=\"stroke:#A80036;stroke-width:1.5;\" width=\"51\" x=\"384\" y=\"137.6953\"/><text fill=\"#000000\" font-family=\"sans-serif\" font-size=\"14\" lengthAdjust=\"spacing\" textLength=\"37\" x=\"391\" y=\"157.6904\">Bob2</text><rect fill=\"#FEFECE\" filter=\"url(#fo3ejyeeyufai)\" height=\"30.2969\" style=\"stroke:#A80036;stroke-width:1.5;\" width=\"40\" x=\"499\" y=\"25.1328\"/><text fill=\"#000000\" font-family=\"sans-serif\" font-size=\"14\" lengthAdjust=\"spacing\" textLength=\"26\" x=\"506\" y=\"45.1279\">Out</text><rect fill=\"#FEFECE\" filter=\"url(#fo3ejyeeyufai)\" height=\"30.2969\" style=\"stroke:#A80036;stroke-width:1.5;\" width=\"40\" x=\"499\" y=\"137.6953\"/><text fill=\"#000000\" font-family=\"sans-serif\" font-size=\"14\" lengthAdjust=\"spacing\" textLength=\"26\" x=\"506\" y=\"157.6904\">Out</text><polygon fill=\"#A80036\" points=\"294,87.5625,304,91.5625,294,95.5625,298,91.5625\" style=\"stroke:#A80036;stroke-width:1.0;\"/><line style=\"stroke:#A80036;stroke-width:1.0;\" x1=\"66\" x2=\"300\" y1=\"91.5625\" y2=\"91.5625\"/><text fill=\"#000000\" font-family=\"sans-serif\" font-size=\"13\" lengthAdjust=\"spacing\" textLength=\"30\" x=\"73\" y=\"86.4966\">hello</text><polygon fill=\"#A80036\" points=\"509,116.6953,519,120.6953,509,124.6953,513,120.6953\" style=\"stroke:#A80036;stroke-width:1.0;\"/><line style=\"stroke:#A80036;stroke-width:1.0;\" x1=\"66\" x2=\"515\" y1=\"120.6953\" y2=\"120.6953\"/><text fill=\"#000000\" font-family=\"sans-serif\" font-size=\"13\" lengthAdjust=\"spacing\" textLength=\"21\" x=\"73\" y=\"115.6294\">out</text><!--MD5=[bc524afea92ab8955ac122032c6107e5]\n",
       "@startuml\n",
       "skinparam ParticipantPadding 20\n",
       "skinparam BoxPadding 10\n",
       "box \"Foo1\"\n",
       "participant Alice1\n",
       "participant Alice2\n",
       "end box\n",
       "box \"Foo2\"\n",
       "participant Bob1\n",
       "participant Bob2\n",
       "end box\n",
       "Alice1 -> Bob1 : hello\n",
       "Alice1 -> Out : out\n",
       "@enduml\n",
       "\n",
       "PlantUML version 1.2021.9beta2(Unknown compile time)\n",
       "(GPL source distribution)\n",
       "Java Runtime: Java(TM) SE Runtime Environment\n",
       "JVM: Java HotSpot(TM) 64-Bit Server VM\n",
       "Default Encoding: UTF-8\n",
       "Language: en\n",
       "Country: US\n",
       "--></g></svg>"
      ],
      "text/plain": [
       "<IPython.core.display.SVG object>"
      ]
     },
     "execution_count": 55,
     "metadata": {},
     "output_type": "execute_result"
    }
   ],
   "source": [
    "%%plantuml\n",
    "\n",
    "@startuml\n",
    "skinparam ParticipantPadding 20\n",
    "skinparam BoxPadding 10\n",
    "box \"Foo1\"\n",
    "participant Alice1\n",
    "participant Alice2\n",
    "end box\n",
    "box \"Foo2\"\n",
    "participant Bob1\n",
    "participant Bob2\n",
    "end box\n",
    "Alice1 -> Bob1 : hello\n",
    "Alice1 -> Out : out\n",
    "@enduml\n"
   ]
  },
  {
   "cell_type": "code",
   "execution_count": 56,
   "id": "134270dd",
   "metadata": {},
   "outputs": [
    {
     "data": {
      "image/svg+xml": [
       "<svg xmlns=\"http://www.w3.org/2000/svg\" xmlns:xlink=\"http://www.w3.org/1999/xlink\" contentScriptType=\"application/ecmascript\" contentStyleType=\"text/css\" height=\"695px\" preserveAspectRatio=\"none\" style=\"width:129px;height:695px;background:#FFFFFF;\" version=\"1.1\" viewBox=\"0 0 129 695\" width=\"129px\" zoomAndPan=\"magnify\"><defs><filter height=\"300%\" id=\"fgaxwjn1sr6bc\" width=\"300%\" x=\"-1\" y=\"-1\"><feGaussianBlur result=\"blurOut\" stdDeviation=\"2.0\"/><feColorMatrix in=\"blurOut\" result=\"blurOut2\" type=\"matrix\" values=\"0 0 0 0 0 0 0 0 0 0 0 0 0 0 0 0 0 0 .4 0\"/><feOffset dx=\"4.0\" dy=\"4.0\" in=\"blurOut2\" result=\"blurOut3\"/><feBlend in=\"SourceGraphic\" in2=\"blurOut3\" mode=\"normal\"/></filter></defs><g><line style=\"stroke:#A80036;stroke-width:1.0;stroke-dasharray:5.0,5.0;\" x1=\"31\" x2=\"31\" y1=\"40.2969\" y2=\"652.2971\"/><line style=\"stroke:#A80036;stroke-width:1.0;stroke-dasharray:5.0,5.0;\" x1=\"95\" x2=\"95\" y1=\"40.2969\" y2=\"652.2971\"/><rect fill=\"#FEFECE\" filter=\"url(#fgaxwjn1sr6bc)\" height=\"30.2969\" style=\"stroke:#A80036;stroke-width:1.5;\" width=\"49\" x=\"5\" y=\"5\"/><text fill=\"#000000\" font-family=\"sans-serif\" font-size=\"14\" lengthAdjust=\"spacing\" textLength=\"35\" x=\"12\" y=\"24.9951\">Alice</text><rect fill=\"#FEFECE\" filter=\"url(#fgaxwjn1sr6bc)\" height=\"30.2969\" style=\"stroke:#A80036;stroke-width:1.5;\" width=\"49\" x=\"5\" y=\"651.2971\"/><text fill=\"#000000\" font-family=\"sans-serif\" font-size=\"14\" lengthAdjust=\"spacing\" textLength=\"35\" x=\"12\" y=\"671.2923\">Alice</text><rect fill=\"#FEFECE\" filter=\"url(#fgaxwjn1sr6bc)\" height=\"30.2969\" style=\"stroke:#A80036;stroke-width:1.5;\" width=\"43\" x=\"72\" y=\"5\"/><text fill=\"#000000\" font-family=\"sans-serif\" font-size=\"14\" lengthAdjust=\"spacing\" textLength=\"29\" x=\"79\" y=\"24.9951\">Bob</text><rect fill=\"#FEFECE\" filter=\"url(#fgaxwjn1sr6bc)\" height=\"30.2969\" style=\"stroke:#A80036;stroke-width:1.5;\" width=\"43\" x=\"72\" y=\"651.2971\"/><text fill=\"#000000\" font-family=\"sans-serif\" font-size=\"14\" lengthAdjust=\"spacing\" textLength=\"29\" x=\"79\" y=\"671.2923\">Bob</text><polygon fill=\"#A80036\" points=\"83.5,67.8969,93.5,71.8969,83.5,75.8969,87.5,71.8969\" style=\"stroke:#A80036;stroke-width:1.0;\"/><line style=\"stroke:#A80036;stroke-width:1.0;\" x1=\"31.5\" x2=\"89.5\" y1=\"71.8969\" y2=\"71.8969\"/><text fill=\"#000000\" font-family=\"monospace\" font-size=\"13\" lengthAdjust=\"spacing\" textLength=\"16\" x=\"38.5\" y=\"66.3349\">-&gt;</text><line style=\"stroke:#A80036;stroke-width:1.0;\" x1=\"93.5\" x2=\"83.5\" y1=\"101.4969\" y2=\"97.4969\"/><line style=\"stroke:#A80036;stroke-width:1.0;\" x1=\"93.5\" x2=\"83.5\" y1=\"101.4969\" y2=\"105.4969\"/><line style=\"stroke:#A80036;stroke-width:1.0;\" x1=\"31.5\" x2=\"94.5\" y1=\"101.4969\" y2=\"101.4969\"/><text fill=\"#000000\" font-family=\"monospace\" font-size=\"13\" lengthAdjust=\"spacing\" textLength=\"24\" x=\"38.5\" y=\"95.9349\">-&gt;&gt;</text><polygon fill=\"#A80036\" points=\"83.5,127.0969,93.5,131.0969,83.5,131.0969\" style=\"stroke:#A80036;stroke-width:1.0;\"/><line style=\"stroke:#A80036;stroke-width:1.0;\" x1=\"31.5\" x2=\"94.5\" y1=\"131.0969\" y2=\"131.0969\"/><text fill=\"#000000\" font-family=\"monospace\" font-size=\"13\" lengthAdjust=\"spacing\" textLength=\"16\" x=\"38.5\" y=\"125.5349\">-\\</text><line style=\"stroke:#A80036;stroke-width:1.0;\" x1=\"93.5\" x2=\"83.5\" y1=\"160.6969\" y2=\"156.6969\"/><line style=\"stroke:#A80036;stroke-width:1.0;\" x1=\"31.5\" x2=\"94.5\" y1=\"160.6969\" y2=\"160.6969\"/><text fill=\"#000000\" font-family=\"monospace\" font-size=\"13\" lengthAdjust=\"spacing\" textLength=\"24\" x=\"38.5\" y=\"155.1349\">-\\\\</text><polygon fill=\"#A80036\" points=\"83.5,191.2969,93.5,191.2969,83.5,195.2969\" style=\"stroke:#A80036;stroke-width:1.0;\"/><line style=\"stroke:#A80036;stroke-width:1.0;\" x1=\"31.5\" x2=\"94.5\" y1=\"190.2969\" y2=\"190.2969\"/><text fill=\"#000000\" font-family=\"monospace\" font-size=\"13\" lengthAdjust=\"spacing\" textLength=\"16\" x=\"38.5\" y=\"184.7349\">-/</text><line style=\"stroke:#A80036;stroke-width:1.0;\" x1=\"93.5\" x2=\"83.5\" y1=\"219.897\" y2=\"223.897\"/><line style=\"stroke:#A80036;stroke-width:1.0;\" x1=\"31.5\" x2=\"94.5\" y1=\"219.897\" y2=\"219.897\"/><text fill=\"#000000\" font-family=\"monospace\" font-size=\"13\" lengthAdjust=\"spacing\" textLength=\"24\" x=\"38.5\" y=\"214.335\">-//</text><line style=\"stroke:#A80036;stroke-width:2.0;\" x1=\"77.5\" x2=\"87.5\" y1=\"244.497\" y2=\"254.497\"/><line style=\"stroke:#A80036;stroke-width:2.0;\" x1=\"77.5\" x2=\"87.5\" y1=\"254.497\" y2=\"244.497\"/><line style=\"stroke:#A80036;stroke-width:1.0;\" x1=\"31.5\" x2=\"82.5\" y1=\"249.497\" y2=\"249.497\"/><text fill=\"#000000\" font-family=\"monospace\" font-size=\"13\" lengthAdjust=\"spacing\" textLength=\"24\" x=\"38.5\" y=\"243.935\">-&gt;x</text><line style=\"stroke:#A80036;stroke-width:2.0;\" x1=\"37.5\" x2=\"47.5\" y1=\"274.097\" y2=\"284.097\"/><line style=\"stroke:#A80036;stroke-width:2.0;\" x1=\"37.5\" x2=\"47.5\" y1=\"284.097\" y2=\"274.097\"/><polygon fill=\"#A80036\" points=\"83.5,275.097,93.5,279.097,83.5,283.097,87.5,279.097\" style=\"stroke:#A80036;stroke-width:1.0;\"/><line style=\"stroke:#A80036;stroke-width:1.0;\" x1=\"43.5\" x2=\"89.5\" y1=\"279.097\" y2=\"279.097\"/><text fill=\"#000000\" font-family=\"monospace\" font-size=\"13\" lengthAdjust=\"spacing\" textLength=\"24\" x=\"48.5\" y=\"273.535\">x-&gt;</text><ellipse cx=\"31\" cy=\"307.947\" rx=\"4\" ry=\"4\" style=\"stroke:#A80036;stroke-width:1.5;fill:none;\"/><polygon fill=\"#A80036\" points=\"83.5,304.697,93.5,308.697,83.5,312.697,87.5,308.697\" style=\"stroke:#A80036;stroke-width:1.0;\"/><line style=\"stroke:#A80036;stroke-width:1.0;\" x1=\"35.5\" x2=\"89.5\" y1=\"308.697\" y2=\"308.697\"/><text fill=\"#000000\" font-family=\"monospace\" font-size=\"13\" lengthAdjust=\"spacing\" textLength=\"24\" x=\"38.5\" y=\"303.135\">o-&gt;</text><ellipse cx=\"95\" cy=\"337.547\" rx=\"4\" ry=\"4\" style=\"stroke:#A80036;stroke-width:1.5;fill:none;\"/><polygon fill=\"#A80036\" points=\"78,334.297,88,338.297,78,342.297,82,338.297\" style=\"stroke:#A80036;stroke-width:1.0;\"/><line style=\"stroke:#A80036;stroke-width:1.0;\" x1=\"31.5\" x2=\"84\" y1=\"338.297\" y2=\"338.297\"/><text fill=\"#000000\" font-family=\"monospace\" font-size=\"13\" lengthAdjust=\"spacing\" textLength=\"24\" x=\"38.5\" y=\"332.735\">-&gt;o</text><ellipse cx=\"31\" cy=\"367.147\" rx=\"4\" ry=\"4\" style=\"stroke:#A80036;stroke-width:1.5;fill:none;\"/><ellipse cx=\"95\" cy=\"367.147\" rx=\"4\" ry=\"4\" style=\"stroke:#A80036;stroke-width:1.5;fill:none;\"/><polygon fill=\"#A80036\" points=\"78,363.897,88,367.897,78,371.897,82,367.897\" style=\"stroke:#A80036;stroke-width:1.0;\"/><line style=\"stroke:#A80036;stroke-width:1.0;\" x1=\"35.5\" x2=\"84\" y1=\"367.897\" y2=\"367.897\"/><text fill=\"#000000\" font-family=\"monospace\" font-size=\"13\" lengthAdjust=\"spacing\" textLength=\"32\" x=\"38.5\" y=\"362.335\">o-&gt;o</text><polygon fill=\"#A80036\" points=\"42.5,393.497,32.5,397.497,42.5,401.497,38.5,397.497\" style=\"stroke:#A80036;stroke-width:1.0;\"/><polygon fill=\"#A80036\" points=\"83.5,393.497,93.5,397.497,83.5,401.497,87.5,397.497\" style=\"stroke:#A80036;stroke-width:1.0;\"/><line style=\"stroke:#A80036;stroke-width:1.0;\" x1=\"36.5\" x2=\"89.5\" y1=\"397.497\" y2=\"397.497\"/><text fill=\"#000000\" font-family=\"monospace\" font-size=\"13\" lengthAdjust=\"spacing\" textLength=\"24\" x=\"48.5\" y=\"391.935\">&lt;-&gt;</text><ellipse cx=\"31\" cy=\"426.3471\" rx=\"4\" ry=\"4\" style=\"stroke:#A80036;stroke-width:1.5;fill:none;\"/><polygon fill=\"#A80036\" points=\"48,423.0971,38,427.0971,48,431.0971,44,427.0971\" style=\"stroke:#A80036;stroke-width:1.0;\"/><ellipse cx=\"95\" cy=\"426.3471\" rx=\"4\" ry=\"4\" style=\"stroke:#A80036;stroke-width:1.5;fill:none;\"/><polygon fill=\"#A80036\" points=\"78,423.0971,88,427.0971,78,431.0971,82,427.0971\" style=\"stroke:#A80036;stroke-width:1.0;\"/><line style=\"stroke:#A80036;stroke-width:1.0;\" x1=\"46\" x2=\"84\" y1=\"427.0971\" y2=\"427.0971\"/><text fill=\"#000000\" font-family=\"monospace\" font-size=\"13\" lengthAdjust=\"spacing\" textLength=\"40\" x=\"48.5\" y=\"421.5351\">o&lt;-&gt;o</text><line style=\"stroke:#A80036;stroke-width:2.0;\" x1=\"37.5\" x2=\"47.5\" y1=\"451.6971\" y2=\"461.6971\"/><line style=\"stroke:#A80036;stroke-width:2.0;\" x1=\"37.5\" x2=\"47.5\" y1=\"461.6971\" y2=\"451.6971\"/><line style=\"stroke:#A80036;stroke-width:2.0;\" x1=\"77.5\" x2=\"87.5\" y1=\"451.6971\" y2=\"461.6971\"/><line style=\"stroke:#A80036;stroke-width:2.0;\" x1=\"77.5\" x2=\"87.5\" y1=\"461.6971\" y2=\"451.6971\"/><line style=\"stroke:#A80036;stroke-width:1.0;\" x1=\"43.5\" x2=\"82.5\" y1=\"456.6971\" y2=\"456.6971\"/><text fill=\"#000000\" font-family=\"monospace\" font-size=\"13\" lengthAdjust=\"spacing\" textLength=\"40\" x=\"48.5\" y=\"451.1351\">x&lt;-&gt;x</text><ellipse cx=\"95\" cy=\"485.5471\" rx=\"4\" ry=\"4\" style=\"stroke:#A80036;stroke-width:1.5;fill:none;\"/><line style=\"stroke:#A80036;stroke-width:1.0;fill:none;\" x1=\"88\" x2=\"78\" y1=\"486.2971\" y2=\"482.2971\"/><line style=\"stroke:#A80036;stroke-width:1.0;fill:none;\" x1=\"88\" x2=\"78\" y1=\"486.2971\" y2=\"490.2971\"/><line style=\"stroke:#A80036;stroke-width:1.0;fill:none;\" x1=\"31.5\" x2=\"89\" y1=\"486.2971\" y2=\"486.2971\"/><text fill=\"#000000\" font-family=\"monospace\" font-size=\"13\" lengthAdjust=\"spacing\" textLength=\"32\" x=\"38.5\" y=\"480.7351\">-&gt;&gt;o</text><ellipse cx=\"95\" cy=\"515.1471\" rx=\"4\" ry=\"4\" style=\"stroke:#A80036;stroke-width:1.5;fill:none;\"/><polygon fill=\"#A80036\" points=\"78,511.8971,88,515.8971,78,515.8971\" style=\"stroke:#A80036;stroke-width:1.0;\"/><line style=\"stroke:#A80036;stroke-width:1.0;\" x1=\"31.5\" x2=\"89\" y1=\"515.8971\" y2=\"515.8971\"/><text fill=\"#000000\" font-family=\"monospace\" font-size=\"13\" lengthAdjust=\"spacing\" textLength=\"24\" x=\"38.5\" y=\"510.3351\">-\\o</text><ellipse cx=\"95\" cy=\"544.7471\" rx=\"4\" ry=\"4\" style=\"stroke:#A80036;stroke-width:1.5;fill:none;\"/><line style=\"stroke:#A80036;stroke-width:1.0;fill:none;\" x1=\"88\" x2=\"78\" y1=\"545.4971\" y2=\"541.4971\"/><line style=\"stroke:#A80036;stroke-width:1.0;fill:none;\" x1=\"31.5\" x2=\"89\" y1=\"545.4971\" y2=\"545.4971\"/><text fill=\"#000000\" font-family=\"monospace\" font-size=\"13\" lengthAdjust=\"spacing\" textLength=\"32\" x=\"38.5\" y=\"539.9351\">-\\\\o</text><ellipse cx=\"95\" cy=\"574.3471\" rx=\"4\" ry=\"4\" style=\"stroke:#A80036;stroke-width:1.5;fill:none;\"/><polygon fill=\"#A80036\" points=\"78,576.0971,88,576.0971,78,580.0971\" style=\"stroke:#A80036;stroke-width:1.0;\"/><line style=\"stroke:#A80036;stroke-width:1.0;\" x1=\"31.5\" x2=\"89\" y1=\"575.0971\" y2=\"575.0971\"/><text fill=\"#000000\" font-family=\"monospace\" font-size=\"13\" lengthAdjust=\"spacing\" textLength=\"24\" x=\"38.5\" y=\"569.5351\">-/o</text><ellipse cx=\"95\" cy=\"603.9471\" rx=\"4\" ry=\"4\" style=\"stroke:#A80036;stroke-width:1.5;fill:none;\"/><line style=\"stroke:#A80036;stroke-width:1.0;fill:none;\" x1=\"88\" x2=\"78\" y1=\"604.6971\" y2=\"608.6971\"/><line style=\"stroke:#A80036;stroke-width:1.0;fill:none;\" x1=\"31.5\" x2=\"89\" y1=\"604.6971\" y2=\"604.6971\"/><text fill=\"#000000\" font-family=\"monospace\" font-size=\"13\" lengthAdjust=\"spacing\" textLength=\"32\" x=\"38.5\" y=\"599.1351\">-//o</text><line style=\"stroke:#A80036;stroke-width:2.0;\" x1=\"37.5\" x2=\"47.5\" y1=\"629.2971\" y2=\"639.2971\"/><line style=\"stroke:#A80036;stroke-width:2.0;\" x1=\"37.5\" x2=\"47.5\" y1=\"639.2971\" y2=\"629.2971\"/><ellipse cx=\"95\" cy=\"633.5471\" rx=\"4\" ry=\"4\" style=\"stroke:#A80036;stroke-width:1.5;fill:none;\"/><polygon fill=\"#A80036\" points=\"78,630.2971,88,634.2971,78,638.2971,82,634.2971\" style=\"stroke:#A80036;stroke-width:1.0;\"/><line style=\"stroke:#A80036;stroke-width:1.0;\" x1=\"43.5\" x2=\"84\" y1=\"634.2971\" y2=\"634.2971\"/><text fill=\"#000000\" font-family=\"monospace\" font-size=\"13\" lengthAdjust=\"spacing\" textLength=\"32\" x=\"48.5\" y=\"628.7351\">x-&gt;o</text><!--MD5=[811f44a5935d538be7af2d265086555b]\n",
       "@startuml\n",
       "participant Alice as a\n",
       "participant Bob as b\n",
       "a -> b : \"\"-> \"\"\n",
       "a ->> b : \"\"->> \"\"\n",
       "a -\\ b : \"\"-\\ \"\"\n",
       "a -\\\\ b : \"\"-\\\\\\\\\"\"\n",
       "a -/ b : \"\"-/ \"\"\n",
       "a -// b : \"\"-// \"\"\n",
       "a ->x b : \"\"->x \"\"\n",
       "a x-> b : \"\"x-> \"\"\n",
       "a o-> b : \"\"o-> \"\"\n",
       "a ->o b : \"\"->o \"\"\n",
       "a o->o b : \"\"o->o \"\"\n",
       "a <-> b : \"\"<-> \"\"\n",
       "a o<->o b : \"\"o<->o\"\"\n",
       "a x<->x b : \"\"x<->x\"\"\n",
       "a ->>o b : \"\"->>o \"\"\n",
       "a -\\o b : \"\"-\\o \"\"\n",
       "a -\\\\o b : \"\"-\\\\\\\\o\"\"\n",
       "a -/o b : \"\"-/o \"\"\n",
       "a -//o b : \"\"-//o \"\"\n",
       "a x->o b : \"\"x->o \"\"\n",
       "@enduml\n",
       "\n",
       "PlantUML version 1.2021.9beta2(Unknown compile time)\n",
       "(GPL source distribution)\n",
       "Java Runtime: Java(TM) SE Runtime Environment\n",
       "JVM: Java HotSpot(TM) 64-Bit Server VM\n",
       "Default Encoding: UTF-8\n",
       "Language: en\n",
       "Country: US\n",
       "--></g></svg>"
      ],
      "text/plain": [
       "<IPython.core.display.SVG object>"
      ]
     },
     "execution_count": 56,
     "metadata": {},
     "output_type": "execute_result"
    }
   ],
   "source": [
    "%%plantuml\n",
    "\n",
    "@startuml\n",
    "participant Alice as a\n",
    "participant Bob as b\n",
    "a -> b : \"\"-> \"\"\n",
    "a ->> b : \"\"->> \"\"\n",
    "a -\\ b : \"\"-\\ \"\"\n",
    "a -\\\\ b : \"\"-\\\\\\\\\"\"\n",
    "a -/ b : \"\"-/ \"\"\n",
    "a -// b : \"\"-// \"\"\n",
    "a ->x b : \"\"->x \"\"\n",
    "a x-> b : \"\"x-> \"\"\n",
    "a o-> b : \"\"o-> \"\"\n",
    "a ->o b : \"\"->o \"\"\n",
    "a o->o b : \"\"o->o \"\"\n",
    "a <-> b : \"\"<-> \"\"\n",
    "a o<->o b : \"\"o<->o\"\"\n",
    "a x<->x b : \"\"x<->x\"\"\n",
    "a ->>o b : \"\"->>o \"\"\n",
    "a -\\o b : \"\"-\\o \"\"\n",
    "a -\\\\o b : \"\"-\\\\\\\\o\"\"\n",
    "a -/o b : \"\"-/o \"\"\n",
    "a -//o b : \"\"-//o \"\"\n",
    "a x->o b : \"\"x->o \"\"\n",
    "@enduml\n"
   ]
  },
  {
   "cell_type": "code",
   "execution_count": 57,
   "id": "f6e86e2b",
   "metadata": {},
   "outputs": [
    {
     "data": {
      "image/svg+xml": [
       "<svg xmlns=\"http://www.w3.org/2000/svg\" xmlns:xlink=\"http://www.w3.org/1999/xlink\" contentScriptType=\"application/ecmascript\" contentStyleType=\"text/css\" height=\"695px\" preserveAspectRatio=\"none\" style=\"width:125px;height:695px;background:#FFFFFF;\" version=\"1.1\" viewBox=\"0 0 125 695\" width=\"125px\" zoomAndPan=\"magnify\"><defs><filter height=\"300%\" id=\"fz43qvv9rsltc\" width=\"300%\" x=\"-1\" y=\"-1\"><feGaussianBlur result=\"blurOut\" stdDeviation=\"2.0\"/><feColorMatrix in=\"blurOut\" result=\"blurOut2\" type=\"matrix\" values=\"0 0 0 0 0 0 0 0 0 0 0 0 0 0 0 0 0 0 .4 0\"/><feOffset dx=\"4.0\" dy=\"4.0\" in=\"blurOut2\" result=\"blurOut3\"/><feBlend in=\"SourceGraphic\" in2=\"blurOut3\" mode=\"normal\"/></filter></defs><g><line style=\"stroke:#A80036;stroke-width:1.0;stroke-dasharray:5.0,5.0;\" x1=\"31\" x2=\"31\" y1=\"40.2969\" y2=\"652.2971\"/><line style=\"stroke:#A80036;stroke-width:1.0;stroke-dasharray:5.0,5.0;\" x1=\"91\" x2=\"91\" y1=\"40.2969\" y2=\"652.2971\"/><rect fill=\"#FEFECE\" filter=\"url(#fz43qvv9rsltc)\" height=\"30.2969\" style=\"stroke:#A80036;stroke-width:1.5;\" width=\"49\" x=\"5\" y=\"5\"/><text fill=\"#000000\" font-family=\"sans-serif\" font-size=\"14\" lengthAdjust=\"spacing\" textLength=\"35\" x=\"12\" y=\"24.9951\">Alice</text><rect fill=\"#FEFECE\" filter=\"url(#fz43qvv9rsltc)\" height=\"30.2969\" style=\"stroke:#A80036;stroke-width:1.5;\" width=\"49\" x=\"5\" y=\"651.2971\"/><text fill=\"#000000\" font-family=\"sans-serif\" font-size=\"14\" lengthAdjust=\"spacing\" textLength=\"35\" x=\"12\" y=\"671.2923\">Alice</text><rect fill=\"#FEFECE\" filter=\"url(#fz43qvv9rsltc)\" height=\"30.2969\" style=\"stroke:#A80036;stroke-width:1.5;\" width=\"43\" x=\"68\" y=\"5\"/><text fill=\"#000000\" font-family=\"sans-serif\" font-size=\"14\" lengthAdjust=\"spacing\" textLength=\"29\" x=\"75\" y=\"24.9951\">Bob</text><rect fill=\"#FEFECE\" filter=\"url(#fz43qvv9rsltc)\" height=\"30.2969\" style=\"stroke:#A80036;stroke-width:1.5;\" width=\"43\" x=\"68\" y=\"651.2971\"/><text fill=\"#000000\" font-family=\"sans-serif\" font-size=\"14\" lengthAdjust=\"spacing\" textLength=\"29\" x=\"75\" y=\"671.2923\">Bob</text><polygon fill=\"#A80036\" points=\"79.5,67.8969,89.5,71.8969,79.5,75.8969,83.5,71.8969\" style=\"stroke:#A80036;stroke-width:1.0;\"/><line style=\"stroke:#A80036;stroke-width:1.0;\" x1=\"0\" x2=\"85.5\" y1=\"71.8969\" y2=\"71.8969\"/><text fill=\"#000000\" font-family=\"monospace\" font-size=\"13\" lengthAdjust=\"spacing\" textLength=\"24\" x=\"7\" y=\"66.3349\">[-&gt;</text><line style=\"stroke:#A80036;stroke-width:1.0;\" x1=\"89.5\" x2=\"79.5\" y1=\"101.4969\" y2=\"97.4969\"/><line style=\"stroke:#A80036;stroke-width:1.0;\" x1=\"89.5\" x2=\"79.5\" y1=\"101.4969\" y2=\"105.4969\"/><line style=\"stroke:#A80036;stroke-width:1.0;\" x1=\"0\" x2=\"90.5\" y1=\"101.4969\" y2=\"101.4969\"/><text fill=\"#000000\" font-family=\"monospace\" font-size=\"13\" lengthAdjust=\"spacing\" textLength=\"32\" x=\"7\" y=\"95.9349\">[-&gt;&gt;</text><polygon fill=\"#A80036\" points=\"79.5,127.0969,89.5,131.0969,79.5,131.0969\" style=\"stroke:#A80036;stroke-width:1.0;\"/><line style=\"stroke:#A80036;stroke-width:1.0;\" x1=\"0\" x2=\"90.5\" y1=\"131.0969\" y2=\"131.0969\"/><text fill=\"#000000\" font-family=\"monospace\" font-size=\"13\" lengthAdjust=\"spacing\" textLength=\"24\" x=\"7\" y=\"125.5349\">[-\\</text><line style=\"stroke:#A80036;stroke-width:1.0;\" x1=\"89.5\" x2=\"79.5\" y1=\"160.6969\" y2=\"156.6969\"/><line style=\"stroke:#A80036;stroke-width:1.0;\" x1=\"0\" x2=\"90.5\" y1=\"160.6969\" y2=\"160.6969\"/><text fill=\"#000000\" font-family=\"monospace\" font-size=\"13\" lengthAdjust=\"spacing\" textLength=\"32\" x=\"7\" y=\"155.1349\">[-\\\\</text><polygon fill=\"#A80036\" points=\"79.5,191.2969,89.5,191.2969,79.5,195.2969\" style=\"stroke:#A80036;stroke-width:1.0;\"/><line style=\"stroke:#A80036;stroke-width:1.0;\" x1=\"0\" x2=\"90.5\" y1=\"190.2969\" y2=\"190.2969\"/><text fill=\"#000000\" font-family=\"monospace\" font-size=\"13\" lengthAdjust=\"spacing\" textLength=\"24\" x=\"7\" y=\"184.7349\">[-/</text><line style=\"stroke:#A80036;stroke-width:1.0;\" x1=\"89.5\" x2=\"79.5\" y1=\"219.897\" y2=\"223.897\"/><line style=\"stroke:#A80036;stroke-width:1.0;\" x1=\"0\" x2=\"90.5\" y1=\"219.897\" y2=\"219.897\"/><text fill=\"#000000\" font-family=\"monospace\" font-size=\"13\" lengthAdjust=\"spacing\" textLength=\"32\" x=\"7\" y=\"214.335\">[-//</text><line style=\"stroke:#A80036;stroke-width:2.0;\" x1=\"73.5\" x2=\"83.5\" y1=\"244.497\" y2=\"254.497\"/><line style=\"stroke:#A80036;stroke-width:2.0;\" x1=\"73.5\" x2=\"83.5\" y1=\"254.497\" y2=\"244.497\"/><line style=\"stroke:#A80036;stroke-width:1.0;\" x1=\"0\" x2=\"78.5\" y1=\"249.497\" y2=\"249.497\"/><text fill=\"#000000\" font-family=\"monospace\" font-size=\"13\" lengthAdjust=\"spacing\" textLength=\"32\" x=\"7\" y=\"243.935\">[-&gt;x</text><line style=\"stroke:#A80036;stroke-width:2.0;\" x1=\"73.5\" x2=\"83.5\" y1=\"274.097\" y2=\"284.097\"/><line style=\"stroke:#A80036;stroke-width:2.0;\" x1=\"73.5\" x2=\"83.5\" y1=\"284.097\" y2=\"274.097\"/><line style=\"stroke:#A80036;stroke-width:1.0;\" x1=\"0\" x2=\"78.5\" y1=\"279.097\" y2=\"279.097\"/><text fill=\"#000000\" font-family=\"monospace\" font-size=\"13\" lengthAdjust=\"spacing\" textLength=\"32\" x=\"7\" y=\"273.535\">[x-&gt;</text><ellipse cx=\"7.5\" cy=\"307.947\" rx=\"4\" ry=\"4\" style=\"stroke:#A80036;stroke-width:1.5;fill:none;\"/><polygon fill=\"#A80036\" points=\"79.5,304.697,89.5,308.697,79.5,312.697,83.5,308.697\" style=\"stroke:#A80036;stroke-width:1.0;\"/><line style=\"stroke:#A80036;stroke-width:1.0;\" x1=\"12\" x2=\"85.5\" y1=\"308.697\" y2=\"308.697\"/><text fill=\"#000000\" font-family=\"monospace\" font-size=\"13\" lengthAdjust=\"spacing\" textLength=\"32\" x=\"15\" y=\"303.135\">[o-&gt;</text><ellipse cx=\"91\" cy=\"337.547\" rx=\"4\" ry=\"4\" style=\"stroke:#A80036;stroke-width:1.5;fill:none;\"/><polygon fill=\"#A80036\" points=\"74,334.297,84,338.297,74,342.297,78,338.297\" style=\"stroke:#A80036;stroke-width:1.0;\"/><line style=\"stroke:#A80036;stroke-width:1.0;\" x1=\"0\" x2=\"80\" y1=\"338.297\" y2=\"338.297\"/><text fill=\"#000000\" font-family=\"monospace\" font-size=\"13\" lengthAdjust=\"spacing\" textLength=\"32\" x=\"7\" y=\"332.735\">[-&gt;o</text><ellipse cx=\"7.5\" cy=\"367.147\" rx=\"4\" ry=\"4\" style=\"stroke:#A80036;stroke-width:1.5;fill:none;\"/><ellipse cx=\"91\" cy=\"367.147\" rx=\"4\" ry=\"4\" style=\"stroke:#A80036;stroke-width:1.5;fill:none;\"/><polygon fill=\"#A80036\" points=\"74,363.897,84,367.897,74,371.897,78,367.897\" style=\"stroke:#A80036;stroke-width:1.0;\"/><line style=\"stroke:#A80036;stroke-width:1.0;\" x1=\"12\" x2=\"80\" y1=\"367.897\" y2=\"367.897\"/><text fill=\"#000000\" font-family=\"monospace\" font-size=\"13\" lengthAdjust=\"spacing\" textLength=\"40\" x=\"15\" y=\"362.335\">[o-&gt;o</text><polygon fill=\"#A80036\" points=\"11,393.497,1,397.497,11,401.497,7,397.497\" style=\"stroke:#A80036;stroke-width:1.0;\"/><polygon fill=\"#A80036\" points=\"79.5,393.497,89.5,397.497,79.5,401.497,83.5,397.497\" style=\"stroke:#A80036;stroke-width:1.0;\"/><line style=\"stroke:#A80036;stroke-width:1.0;\" x1=\"5\" x2=\"85.5\" y1=\"397.497\" y2=\"397.497\"/><text fill=\"#000000\" font-family=\"monospace\" font-size=\"13\" lengthAdjust=\"spacing\" textLength=\"32\" x=\"17\" y=\"391.935\">[&lt;-&gt;</text><ellipse cx=\"7.5\" cy=\"426.3471\" rx=\"4\" ry=\"4\" style=\"stroke:#A80036;stroke-width:1.5;fill:none;\"/><polygon fill=\"#A80036\" points=\"24.5,423.0971,14.5,427.0971,24.5,431.0971,20.5,427.0971\" style=\"stroke:#A80036;stroke-width:1.0;\"/><ellipse cx=\"91\" cy=\"426.3471\" rx=\"4\" ry=\"4\" style=\"stroke:#A80036;stroke-width:1.5;fill:none;\"/><polygon fill=\"#A80036\" points=\"74,423.0971,84,427.0971,74,431.0971,78,427.0971\" style=\"stroke:#A80036;stroke-width:1.0;\"/><line style=\"stroke:#A80036;stroke-width:1.0;\" x1=\"22.5\" x2=\"80\" y1=\"427.0971\" y2=\"427.0971\"/><text fill=\"#000000\" font-family=\"monospace\" font-size=\"13\" lengthAdjust=\"spacing\" textLength=\"48\" x=\"25\" y=\"421.5351\">[o&lt;-&gt;o</text><polygon fill=\"#A80036\" points=\"11,452.6971,1,456.6971,11,460.6971,7,456.6971\" style=\"stroke:#A80036;stroke-width:1.0;\"/><line style=\"stroke:#A80036;stroke-width:2.0;\" x1=\"73.5\" x2=\"83.5\" y1=\"451.6971\" y2=\"461.6971\"/><line style=\"stroke:#A80036;stroke-width:2.0;\" x1=\"73.5\" x2=\"83.5\" y1=\"461.6971\" y2=\"451.6971\"/><line style=\"stroke:#A80036;stroke-width:1.0;\" x1=\"5\" x2=\"78.5\" y1=\"456.6971\" y2=\"456.6971\"/><text fill=\"#000000\" font-family=\"monospace\" font-size=\"13\" lengthAdjust=\"spacing\" textLength=\"48\" x=\"17\" y=\"451.1351\">[x&lt;-&gt;x</text><ellipse cx=\"91\" cy=\"485.5471\" rx=\"4\" ry=\"4\" style=\"stroke:#A80036;stroke-width:1.5;fill:none;\"/><line style=\"stroke:#A80036;stroke-width:1.0;fill:none;\" x1=\"84\" x2=\"74\" y1=\"486.2971\" y2=\"482.2971\"/><line style=\"stroke:#A80036;stroke-width:1.0;fill:none;\" x1=\"84\" x2=\"74\" y1=\"486.2971\" y2=\"490.2971\"/><line style=\"stroke:#A80036;stroke-width:1.0;fill:none;\" x1=\"0\" x2=\"85\" y1=\"486.2971\" y2=\"486.2971\"/><text fill=\"#000000\" font-family=\"monospace\" font-size=\"13\" lengthAdjust=\"spacing\" textLength=\"40\" x=\"7\" y=\"480.7351\">[-&gt;&gt;o</text><ellipse cx=\"91\" cy=\"515.1471\" rx=\"4\" ry=\"4\" style=\"stroke:#A80036;stroke-width:1.5;fill:none;\"/><polygon fill=\"#A80036\" points=\"74,511.8971,84,515.8971,74,515.8971\" style=\"stroke:#A80036;stroke-width:1.0;\"/><line style=\"stroke:#A80036;stroke-width:1.0;\" x1=\"0\" x2=\"85\" y1=\"515.8971\" y2=\"515.8971\"/><text fill=\"#000000\" font-family=\"monospace\" font-size=\"13\" lengthAdjust=\"spacing\" textLength=\"32\" x=\"7\" y=\"510.3351\">[-\\o</text><ellipse cx=\"91\" cy=\"544.7471\" rx=\"4\" ry=\"4\" style=\"stroke:#A80036;stroke-width:1.5;fill:none;\"/><line style=\"stroke:#A80036;stroke-width:1.0;fill:none;\" x1=\"84\" x2=\"74\" y1=\"545.4971\" y2=\"541.4971\"/><line style=\"stroke:#A80036;stroke-width:1.0;fill:none;\" x1=\"0\" x2=\"85\" y1=\"545.4971\" y2=\"545.4971\"/><text fill=\"#000000\" font-family=\"monospace\" font-size=\"13\" lengthAdjust=\"spacing\" textLength=\"40\" x=\"7\" y=\"539.9351\">[-\\\\o</text><ellipse cx=\"91\" cy=\"574.3471\" rx=\"4\" ry=\"4\" style=\"stroke:#A80036;stroke-width:1.5;fill:none;\"/><polygon fill=\"#A80036\" points=\"74,576.0971,84,576.0971,74,580.0971\" style=\"stroke:#A80036;stroke-width:1.0;\"/><line style=\"stroke:#A80036;stroke-width:1.0;\" x1=\"0\" x2=\"85\" y1=\"575.0971\" y2=\"575.0971\"/><text fill=\"#000000\" font-family=\"monospace\" font-size=\"13\" lengthAdjust=\"spacing\" textLength=\"32\" x=\"7\" y=\"569.5351\">[-/o</text><ellipse cx=\"91\" cy=\"603.9471\" rx=\"4\" ry=\"4\" style=\"stroke:#A80036;stroke-width:1.5;fill:none;\"/><line style=\"stroke:#A80036;stroke-width:1.0;fill:none;\" x1=\"84\" x2=\"74\" y1=\"604.6971\" y2=\"608.6971\"/><line style=\"stroke:#A80036;stroke-width:1.0;fill:none;\" x1=\"0\" x2=\"85\" y1=\"604.6971\" y2=\"604.6971\"/><text fill=\"#000000\" font-family=\"monospace\" font-size=\"13\" lengthAdjust=\"spacing\" textLength=\"40\" x=\"7\" y=\"599.1351\">[-//o</text><ellipse cx=\"91\" cy=\"633.5471\" rx=\"4\" ry=\"4\" style=\"stroke:#A80036;stroke-width:1.5;fill:none;\"/><line style=\"stroke:#A80036;stroke-width:2.0;fill:none;\" x1=\"68\" x2=\"78\" y1=\"629.2971\" y2=\"639.2971\"/><line style=\"stroke:#A80036;stroke-width:2.0;fill:none;\" x1=\"68\" x2=\"78\" y1=\"639.2971\" y2=\"629.2971\"/><line style=\"stroke:#A80036;stroke-width:1.0;fill:none;\" x1=\"0\" x2=\"73\" y1=\"634.2971\" y2=\"634.2971\"/><text fill=\"#000000\" font-family=\"monospace\" font-size=\"13\" lengthAdjust=\"spacing\" textLength=\"40\" x=\"7\" y=\"628.7351\">[x-&gt;o</text><!--MD5=[752c907bfa9d1b8a4a946ec3e2e90e4f]\n",
       "@startuml\n",
       "participant Alice as a\n",
       "participant Bob as b\n",
       "[-> b : \"\"[-> \"\"\n",
       "[->> b : \"\"[->> \"\"\n",
       "[-\\ b : \"\"[-\\ \"\"\n",
       "[-\\\\ b : \"\"[-\\\\\\\\\"\"\n",
       "[-/ b : \"\"[-/ \"\"\n",
       "[-// b : \"\"[-// \"\"\n",
       "[->x b : \"\"[->x \"\"\n",
       "[x-> b : \"\"[x-> \"\"\n",
       "[o-> b : \"\"[o-> \"\"\n",
       "[->o b : \"\"[->o \"\"\n",
       "[o->o b : \"\"[o->o \"\"\n",
       "[<-> b : \"\"[<-> \"\"\n",
       "[o<->o b : \"\"[o<->o\"\"\n",
       "[x<->x b : \"\"[x<->x\"\"\n",
       "[->>o b : \"\"[->>o \"\"\n",
       "[-\\o b : \"\"[-\\o \"\"\n",
       "[-\\\\o b : \"\"[-\\\\\\\\o\"\"\n",
       "[-/o b : \"\"[-/o \"\"\n",
       "[-//o b : \"\"[-//o \"\"\n",
       "[x->o b : \"\"[x->o \"\"\n",
       "@enduml\n",
       "\n",
       "PlantUML version 1.2021.9beta2(Unknown compile time)\n",
       "(GPL source distribution)\n",
       "Java Runtime: Java(TM) SE Runtime Environment\n",
       "JVM: Java HotSpot(TM) 64-Bit Server VM\n",
       "Default Encoding: UTF-8\n",
       "Language: en\n",
       "Country: US\n",
       "--></g></svg>"
      ],
      "text/plain": [
       "<IPython.core.display.SVG object>"
      ]
     },
     "execution_count": 57,
     "metadata": {},
     "output_type": "execute_result"
    }
   ],
   "source": [
    "%%plantuml\n",
    "\n",
    "@startuml\n",
    "participant Alice as a\n",
    "participant Bob as b\n",
    "[-> b : \"\"[-> \"\"\n",
    "[->> b : \"\"[->> \"\"\n",
    "[-\\ b : \"\"[-\\ \"\"\n",
    "[-\\\\ b : \"\"[-\\\\\\\\\"\"\n",
    "[-/ b : \"\"[-/ \"\"\n",
    "[-// b : \"\"[-// \"\"\n",
    "[->x b : \"\"[->x \"\"\n",
    "[x-> b : \"\"[x-> \"\"\n",
    "[o-> b : \"\"[o-> \"\"\n",
    "[->o b : \"\"[->o \"\"\n",
    "[o->o b : \"\"[o->o \"\"\n",
    "[<-> b : \"\"[<-> \"\"\n",
    "[o<->o b : \"\"[o<->o\"\"\n",
    "[x<->x b : \"\"[x<->x\"\"\n",
    "[->>o b : \"\"[->>o \"\"\n",
    "[-\\o b : \"\"[-\\o \"\"\n",
    "[-\\\\o b : \"\"[-\\\\\\\\o\"\"\n",
    "[-/o b : \"\"[-/o \"\"\n",
    "[-//o b : \"\"[-//o \"\"\n",
    "[x->o b : \"\"[x->o \"\"\n",
    "@enduml\n",
    "             "
   ]
  },
  {
   "cell_type": "code",
   "execution_count": 58,
   "id": "26d09a01",
   "metadata": {},
   "outputs": [
    {
     "data": {
      "image/svg+xml": [
       "<svg xmlns=\"http://www.w3.org/2000/svg\" xmlns:xlink=\"http://www.w3.org/1999/xlink\" contentScriptType=\"application/ecmascript\" contentStyleType=\"text/css\" height=\"695px\" preserveAspectRatio=\"none\" style=\"width:126px;height:695px;background:#FFFFFF;\" version=\"1.1\" viewBox=\"0 0 126 695\" width=\"126px\" zoomAndPan=\"magnify\"><defs><filter height=\"300%\" id=\"f1utfag77q9fxk\" width=\"300%\" x=\"-1\" y=\"-1\"><feGaussianBlur result=\"blurOut\" stdDeviation=\"2.0\"/><feColorMatrix in=\"blurOut\" result=\"blurOut2\" type=\"matrix\" values=\"0 0 0 0 0 0 0 0 0 0 0 0 0 0 0 0 0 0 .4 0\"/><feOffset dx=\"4.0\" dy=\"4.0\" in=\"blurOut2\" result=\"blurOut3\"/><feBlend in=\"SourceGraphic\" in2=\"blurOut3\" mode=\"normal\"/></filter></defs><g><line style=\"stroke:#A80036;stroke-width:1.0;stroke-dasharray:5.0,5.0;\" x1=\"31\" x2=\"31\" y1=\"40.2969\" y2=\"652.2971\"/><line style=\"stroke:#A80036;stroke-width:1.0;stroke-dasharray:5.0,5.0;\" x1=\"91\" x2=\"91\" y1=\"40.2969\" y2=\"652.2971\"/><rect fill=\"#FEFECE\" filter=\"url(#f1utfag77q9fxk)\" height=\"30.2969\" style=\"stroke:#A80036;stroke-width:1.5;\" width=\"49\" x=\"5\" y=\"5\"/><text fill=\"#000000\" font-family=\"sans-serif\" font-size=\"14\" lengthAdjust=\"spacing\" textLength=\"35\" x=\"12\" y=\"24.9951\">Alice</text><rect fill=\"#FEFECE\" filter=\"url(#f1utfag77q9fxk)\" height=\"30.2969\" style=\"stroke:#A80036;stroke-width:1.5;\" width=\"49\" x=\"5\" y=\"651.2971\"/><text fill=\"#000000\" font-family=\"sans-serif\" font-size=\"14\" lengthAdjust=\"spacing\" textLength=\"35\" x=\"12\" y=\"671.2923\">Alice</text><rect fill=\"#FEFECE\" filter=\"url(#f1utfag77q9fxk)\" height=\"30.2969\" style=\"stroke:#A80036;stroke-width:1.5;\" width=\"43\" x=\"68\" y=\"5\"/><text fill=\"#000000\" font-family=\"sans-serif\" font-size=\"14\" lengthAdjust=\"spacing\" textLength=\"29\" x=\"75\" y=\"24.9951\">Bob</text><rect fill=\"#FEFECE\" filter=\"url(#f1utfag77q9fxk)\" height=\"30.2969\" style=\"stroke:#A80036;stroke-width:1.5;\" width=\"43\" x=\"68\" y=\"651.2971\"/><text fill=\"#000000\" font-family=\"sans-serif\" font-size=\"14\" lengthAdjust=\"spacing\" textLength=\"29\" x=\"75\" y=\"671.2923\">Bob</text><polygon fill=\"#A80036\" points=\"108,67.8969,118,71.8969,108,75.8969,112,71.8969\" style=\"stroke:#A80036;stroke-width:1.0;\"/><line style=\"stroke:#A80036;stroke-width:1.0;\" x1=\"31.5\" x2=\"114\" y1=\"71.8969\" y2=\"71.8969\"/><text fill=\"#000000\" font-family=\"monospace\" font-size=\"13\" lengthAdjust=\"spacing\" textLength=\"24\" x=\"38.5\" y=\"66.3349\">-&gt;]</text><line style=\"stroke:#A80036;stroke-width:1.0;\" x1=\"118\" x2=\"108\" y1=\"101.4969\" y2=\"97.4969\"/><line style=\"stroke:#A80036;stroke-width:1.0;\" x1=\"118\" x2=\"108\" y1=\"101.4969\" y2=\"105.4969\"/><line style=\"stroke:#A80036;stroke-width:1.0;\" x1=\"31.5\" x2=\"119\" y1=\"101.4969\" y2=\"101.4969\"/><text fill=\"#000000\" font-family=\"monospace\" font-size=\"13\" lengthAdjust=\"spacing\" textLength=\"32\" x=\"38.5\" y=\"95.9349\">-&gt;&gt;]</text><polygon fill=\"#A80036\" points=\"108,127.0969,118,131.0969,108,131.0969\" style=\"stroke:#A80036;stroke-width:1.0;\"/><line style=\"stroke:#A80036;stroke-width:1.0;\" x1=\"31.5\" x2=\"119\" y1=\"131.0969\" y2=\"131.0969\"/><text fill=\"#000000\" font-family=\"monospace\" font-size=\"13\" lengthAdjust=\"spacing\" textLength=\"24\" x=\"38.5\" y=\"125.5349\">-\\]</text><line style=\"stroke:#A80036;stroke-width:1.0;\" x1=\"118\" x2=\"108\" y1=\"160.6969\" y2=\"156.6969\"/><line style=\"stroke:#A80036;stroke-width:1.0;\" x1=\"31.5\" x2=\"119\" y1=\"160.6969\" y2=\"160.6969\"/><text fill=\"#000000\" font-family=\"monospace\" font-size=\"13\" lengthAdjust=\"spacing\" textLength=\"32\" x=\"38.5\" y=\"155.1349\">-\\\\]</text><polygon fill=\"#A80036\" points=\"108,191.2969,118,191.2969,108,195.2969\" style=\"stroke:#A80036;stroke-width:1.0;\"/><line style=\"stroke:#A80036;stroke-width:1.0;\" x1=\"31.5\" x2=\"119\" y1=\"190.2969\" y2=\"190.2969\"/><text fill=\"#000000\" font-family=\"monospace\" font-size=\"13\" lengthAdjust=\"spacing\" textLength=\"24\" x=\"38.5\" y=\"184.7349\">-/]</text><line style=\"stroke:#A80036;stroke-width:1.0;\" x1=\"118\" x2=\"108\" y1=\"219.897\" y2=\"223.897\"/><line style=\"stroke:#A80036;stroke-width:1.0;\" x1=\"31.5\" x2=\"119\" y1=\"219.897\" y2=\"219.897\"/><text fill=\"#000000\" font-family=\"monospace\" font-size=\"13\" lengthAdjust=\"spacing\" textLength=\"32\" x=\"38.5\" y=\"214.335\">-//]</text><line style=\"stroke:#A80036;stroke-width:2.0;\" x1=\"102\" x2=\"112\" y1=\"244.497\" y2=\"254.497\"/><line style=\"stroke:#A80036;stroke-width:2.0;\" x1=\"102\" x2=\"112\" y1=\"254.497\" y2=\"244.497\"/><line style=\"stroke:#A80036;stroke-width:1.0;\" x1=\"31.5\" x2=\"107\" y1=\"249.497\" y2=\"249.497\"/><text fill=\"#000000\" font-family=\"monospace\" font-size=\"13\" lengthAdjust=\"spacing\" textLength=\"32\" x=\"38.5\" y=\"243.935\">-&gt;x]</text><line style=\"stroke:#A80036;stroke-width:2.0;\" x1=\"102\" x2=\"112\" y1=\"274.097\" y2=\"284.097\"/><line style=\"stroke:#A80036;stroke-width:2.0;\" x1=\"102\" x2=\"112\" y1=\"284.097\" y2=\"274.097\"/><line style=\"stroke:#A80036;stroke-width:1.0;\" x1=\"31.5\" x2=\"107\" y1=\"279.097\" y2=\"279.097\"/><text fill=\"#000000\" font-family=\"monospace\" font-size=\"13\" lengthAdjust=\"spacing\" textLength=\"32\" x=\"38.5\" y=\"273.535\">x-&gt;]</text><ellipse cx=\"31\" cy=\"307.947\" rx=\"4\" ry=\"4\" style=\"stroke:#A80036;stroke-width:1.5;fill:none;\"/><polygon fill=\"#A80036\" points=\"108,304.697,118,308.697,108,312.697,112,308.697\" style=\"stroke:#A80036;stroke-width:1.0;\"/><line style=\"stroke:#A80036;stroke-width:1.0;\" x1=\"35.5\" x2=\"114\" y1=\"308.697\" y2=\"308.697\"/><text fill=\"#000000\" font-family=\"monospace\" font-size=\"13\" lengthAdjust=\"spacing\" textLength=\"32\" x=\"38.5\" y=\"303.135\">o-&gt;]</text><ellipse cx=\"111.5\" cy=\"337.547\" rx=\"4\" ry=\"4\" style=\"stroke:#A80036;stroke-width:1.5;fill:none;\"/><polygon fill=\"#A80036\" points=\"94.5,334.297,104.5,338.297,94.5,342.297,98.5,338.297\" style=\"stroke:#A80036;stroke-width:1.0;\"/><line style=\"stroke:#A80036;stroke-width:1.0;\" x1=\"31.5\" x2=\"100.5\" y1=\"338.297\" y2=\"338.297\"/><text fill=\"#000000\" font-family=\"monospace\" font-size=\"13\" lengthAdjust=\"spacing\" textLength=\"32\" x=\"38.5\" y=\"332.735\">-&gt;o]</text><ellipse cx=\"31\" cy=\"367.147\" rx=\"4\" ry=\"4\" style=\"stroke:#A80036;stroke-width:1.5;fill:none;\"/><ellipse cx=\"111.5\" cy=\"367.147\" rx=\"4\" ry=\"4\" style=\"stroke:#A80036;stroke-width:1.5;fill:none;\"/><polygon fill=\"#A80036\" points=\"94.5,363.897,104.5,367.897,94.5,371.897,98.5,367.897\" style=\"stroke:#A80036;stroke-width:1.0;\"/><line style=\"stroke:#A80036;stroke-width:1.0;\" x1=\"35.5\" x2=\"100.5\" y1=\"367.897\" y2=\"367.897\"/><text fill=\"#000000\" font-family=\"monospace\" font-size=\"13\" lengthAdjust=\"spacing\" textLength=\"40\" x=\"38.5\" y=\"362.335\">o-&gt;o]</text><polygon fill=\"#A80036\" points=\"42.5,393.497,32.5,397.497,42.5,401.497,38.5,397.497\" style=\"stroke:#A80036;stroke-width:1.0;\"/><polygon fill=\"#A80036\" points=\"108,393.497,118,397.497,108,401.497,112,397.497\" style=\"stroke:#A80036;stroke-width:1.0;\"/><line style=\"stroke:#A80036;stroke-width:1.0;\" x1=\"36.5\" x2=\"114\" y1=\"397.497\" y2=\"397.497\"/><text fill=\"#000000\" font-family=\"monospace\" font-size=\"13\" lengthAdjust=\"spacing\" textLength=\"32\" x=\"48.5\" y=\"391.935\">&lt;-&gt;]</text><ellipse cx=\"31\" cy=\"426.3471\" rx=\"4\" ry=\"4\" style=\"stroke:#A80036;stroke-width:1.5;fill:none;\"/><polygon fill=\"#A80036\" points=\"48,423.0971,38,427.0971,48,431.0971,44,427.0971\" style=\"stroke:#A80036;stroke-width:1.0;\"/><ellipse cx=\"111.5\" cy=\"426.3471\" rx=\"4\" ry=\"4\" style=\"stroke:#A80036;stroke-width:1.5;fill:none;\"/><polygon fill=\"#A80036\" points=\"94.5,423.0971,104.5,427.0971,94.5,431.0971,98.5,427.0971\" style=\"stroke:#A80036;stroke-width:1.0;\"/><line style=\"stroke:#A80036;stroke-width:1.0;\" x1=\"46\" x2=\"100.5\" y1=\"427.0971\" y2=\"427.0971\"/><text fill=\"#000000\" font-family=\"monospace\" font-size=\"13\" lengthAdjust=\"spacing\" textLength=\"48\" x=\"48.5\" y=\"421.5351\">o&lt;-&gt;o]</text><polygon fill=\"#A80036\" points=\"42.5,452.6971,32.5,456.6971,42.5,460.6971,38.5,456.6971\" style=\"stroke:#A80036;stroke-width:1.0;\"/><line style=\"stroke:#A80036;stroke-width:2.0;\" x1=\"102\" x2=\"112\" y1=\"451.6971\" y2=\"461.6971\"/><line style=\"stroke:#A80036;stroke-width:2.0;\" x1=\"102\" x2=\"112\" y1=\"461.6971\" y2=\"451.6971\"/><line style=\"stroke:#A80036;stroke-width:1.0;\" x1=\"36.5\" x2=\"107\" y1=\"456.6971\" y2=\"456.6971\"/><text fill=\"#000000\" font-family=\"monospace\" font-size=\"13\" lengthAdjust=\"spacing\" textLength=\"48\" x=\"48.5\" y=\"451.1351\">x&lt;-&gt;x]</text><ellipse cx=\"111.5\" cy=\"485.5471\" rx=\"4\" ry=\"4\" style=\"stroke:#A80036;stroke-width:1.5;fill:none;\"/><line style=\"stroke:#A80036;stroke-width:1.0;fill:none;\" x1=\"104.5\" x2=\"94.5\" y1=\"486.2971\" y2=\"482.2971\"/><line style=\"stroke:#A80036;stroke-width:1.0;fill:none;\" x1=\"104.5\" x2=\"94.5\" y1=\"486.2971\" y2=\"490.2971\"/><line style=\"stroke:#A80036;stroke-width:1.0;fill:none;\" x1=\"31.5\" x2=\"105.5\" y1=\"486.2971\" y2=\"486.2971\"/><text fill=\"#000000\" font-family=\"monospace\" font-size=\"13\" lengthAdjust=\"spacing\" textLength=\"40\" x=\"38.5\" y=\"480.7351\">-&gt;&gt;o]</text><ellipse cx=\"111.5\" cy=\"515.1471\" rx=\"4\" ry=\"4\" style=\"stroke:#A80036;stroke-width:1.5;fill:none;\"/><polygon fill=\"#A80036\" points=\"94.5,511.8971,104.5,515.8971,94.5,515.8971\" style=\"stroke:#A80036;stroke-width:1.0;\"/><line style=\"stroke:#A80036;stroke-width:1.0;\" x1=\"31.5\" x2=\"105.5\" y1=\"515.8971\" y2=\"515.8971\"/><text fill=\"#000000\" font-family=\"monospace\" font-size=\"13\" lengthAdjust=\"spacing\" textLength=\"32\" x=\"38.5\" y=\"510.3351\">-\\o]</text><ellipse cx=\"111.5\" cy=\"544.7471\" rx=\"4\" ry=\"4\" style=\"stroke:#A80036;stroke-width:1.5;fill:none;\"/><line style=\"stroke:#A80036;stroke-width:1.0;fill:none;\" x1=\"104.5\" x2=\"94.5\" y1=\"545.4971\" y2=\"541.4971\"/><line style=\"stroke:#A80036;stroke-width:1.0;fill:none;\" x1=\"31.5\" x2=\"105.5\" y1=\"545.4971\" y2=\"545.4971\"/><text fill=\"#000000\" font-family=\"monospace\" font-size=\"13\" lengthAdjust=\"spacing\" textLength=\"40\" x=\"38.5\" y=\"539.9351\">-\\\\o]</text><ellipse cx=\"111.5\" cy=\"574.3471\" rx=\"4\" ry=\"4\" style=\"stroke:#A80036;stroke-width:1.5;fill:none;\"/><polygon fill=\"#A80036\" points=\"94.5,576.0971,104.5,576.0971,94.5,580.0971\" style=\"stroke:#A80036;stroke-width:1.0;\"/><line style=\"stroke:#A80036;stroke-width:1.0;\" x1=\"31.5\" x2=\"105.5\" y1=\"575.0971\" y2=\"575.0971\"/><text fill=\"#000000\" font-family=\"monospace\" font-size=\"13\" lengthAdjust=\"spacing\" textLength=\"32\" x=\"38.5\" y=\"569.5351\">-/o]</text><ellipse cx=\"111.5\" cy=\"603.9471\" rx=\"4\" ry=\"4\" style=\"stroke:#A80036;stroke-width:1.5;fill:none;\"/><line style=\"stroke:#A80036;stroke-width:1.0;fill:none;\" x1=\"104.5\" x2=\"94.5\" y1=\"604.6971\" y2=\"608.6971\"/><line style=\"stroke:#A80036;stroke-width:1.0;fill:none;\" x1=\"31.5\" x2=\"105.5\" y1=\"604.6971\" y2=\"604.6971\"/><text fill=\"#000000\" font-family=\"monospace\" font-size=\"13\" lengthAdjust=\"spacing\" textLength=\"40\" x=\"38.5\" y=\"599.1351\">-//o]</text><ellipse cx=\"111.5\" cy=\"633.5471\" rx=\"4\" ry=\"4\" style=\"stroke:#A80036;stroke-width:1.5;fill:none;\"/><line style=\"stroke:#A80036;stroke-width:2.0;fill:none;\" x1=\"88.5\" x2=\"98.5\" y1=\"629.2971\" y2=\"639.2971\"/><line style=\"stroke:#A80036;stroke-width:2.0;fill:none;\" x1=\"88.5\" x2=\"98.5\" y1=\"639.2971\" y2=\"629.2971\"/><line style=\"stroke:#A80036;stroke-width:1.0;fill:none;\" x1=\"31.5\" x2=\"93.5\" y1=\"634.2971\" y2=\"634.2971\"/><text fill=\"#000000\" font-family=\"monospace\" font-size=\"13\" lengthAdjust=\"spacing\" textLength=\"40\" x=\"38.5\" y=\"628.7351\">x-&gt;o]</text><!--MD5=[80bbd457a078e44cf23ded6d30653912]\n",
       "@startuml\n",
       "participant Alice as a\n",
       "participant Bob as b\n",
       "a ->] : \"\"->] \"\"\n",
       "a ->>] : \"\"->>] \"\"\n",
       "a -\\] : \"\"-\\] \"\"\n",
       "a -\\\\] : \"\"-\\\\\\\\]\"\"\n",
       "a -/] : \"\"-/] \"\"\n",
       "a -//] : \"\"-//] \"\"\n",
       "a ->x] : \"\"->x] \"\"\n",
       "a x->] : \"\"x->] \"\"\n",
       "a o->] : \"\"o->] \"\"\n",
       "a ->o] : \"\"->o] \"\"\n",
       "a o->o] : \"\"o->o] \"\"\n",
       "a <->] : \"\"<->] \"\"\n",
       "a o<->o] : \"\"o<->o]\"\"\n",
       "a x<->x] : \"\"x<->x]\"\"\n",
       "a ->>o] : \"\"->>o] \"\"\n",
       "a -\\o] : \"\"-\\o] \"\"\n",
       "a -\\\\o] : \"\"-\\\\\\\\o]\"\"\n",
       "a -/o] : \"\"-/o] \"\"\n",
       "a -//o] : \"\"-//o] \"\"\n",
       "a x->o] : \"\"x->o] \"\"\n",
       "@enduml\n",
       "\n",
       "PlantUML version 1.2021.9beta2(Unknown compile time)\n",
       "(GPL source distribution)\n",
       "Java Runtime: Java(TM) SE Runtime Environment\n",
       "JVM: Java HotSpot(TM) 64-Bit Server VM\n",
       "Default Encoding: UTF-8\n",
       "Language: en\n",
       "Country: US\n",
       "--></g></svg>"
      ],
      "text/plain": [
       "<IPython.core.display.SVG object>"
      ]
     },
     "execution_count": 58,
     "metadata": {},
     "output_type": "execute_result"
    }
   ],
   "source": [
    "%%plantuml\n",
    "\n",
    "@startuml\n",
    "participant Alice as a\n",
    "participant Bob as b\n",
    "a ->] : \"\"->] \"\"\n",
    "a ->>] : \"\"->>] \"\"\n",
    "a -\\] : \"\"-\\] \"\"\n",
    "a -\\\\] : \"\"-\\\\\\\\]\"\"\n",
    "a -/] : \"\"-/] \"\"\n",
    "a -//] : \"\"-//] \"\"\n",
    "a ->x] : \"\"->x] \"\"\n",
    "a x->] : \"\"x->] \"\"\n",
    "a o->] : \"\"o->] \"\"\n",
    "a ->o] : \"\"->o] \"\"\n",
    "a o->o] : \"\"o->o] \"\"\n",
    "a <->] : \"\"<->] \"\"\n",
    "a o<->o] : \"\"o<->o]\"\"\n",
    "a x<->x] : \"\"x<->x]\"\"\n",
    "a ->>o] : \"\"->>o] \"\"\n",
    "a -\\o] : \"\"-\\o] \"\"\n",
    "a -\\\\o] : \"\"-\\\\\\\\o]\"\"\n",
    "a -/o] : \"\"-/o] \"\"\n",
    "a -//o] : \"\"-//o] \"\"\n",
    "a x->o] : \"\"x->o] \"\"\n",
    "@enduml\n",
    "    "
   ]
  },
  {
   "cell_type": "code",
   "execution_count": 59,
   "id": "eb87b28d",
   "metadata": {},
   "outputs": [
    {
     "data": {
      "image/svg+xml": [
       "<svg xmlns=\"http://www.w3.org/2000/svg\" xmlns:xlink=\"http://www.w3.org/1999/xlink\" contentScriptType=\"application/ecmascript\" contentStyleType=\"text/css\" height=\"724px\" preserveAspectRatio=\"none\" style=\"width:188px;height:724px;background:#FFFFFF;\" version=\"1.1\" viewBox=\"0 0 188 724\" width=\"188px\" zoomAndPan=\"magnify\"><defs><filter height=\"300%\" id=\"f2fclf31s4hfl\" width=\"300%\" x=\"-1\" y=\"-1\"><feGaussianBlur result=\"blurOut\" stdDeviation=\"2.0\"/><feColorMatrix in=\"blurOut\" result=\"blurOut2\" type=\"matrix\" values=\"0 0 0 0 0 0 0 0 0 0 0 0 0 0 0 0 0 0 .4 0\"/><feOffset dx=\"4.0\" dy=\"4.0\" in=\"blurOut2\" result=\"blurOut3\"/><feBlend in=\"SourceGraphic\" in2=\"blurOut3\" mode=\"normal\"/></filter></defs><g><line style=\"stroke:#A80036;stroke-width:1.0;stroke-dasharray:5.0,5.0;\" x1=\"31\" x2=\"31\" y1=\"40.2969\" y2=\"681.43\"/><line style=\"stroke:#A80036;stroke-width:1.0;stroke-dasharray:5.0,5.0;\" x1=\"154\" x2=\"154\" y1=\"40.2969\" y2=\"681.43\"/><rect fill=\"#FEFECE\" filter=\"url(#f2fclf31s4hfl)\" height=\"30.2969\" style=\"stroke:#A80036;stroke-width:1.5;\" width=\"49\" x=\"5\" y=\"5\"/><text fill=\"#000000\" font-family=\"sans-serif\" font-size=\"14\" lengthAdjust=\"spacing\" textLength=\"35\" x=\"12\" y=\"24.9951\">Alice</text><rect fill=\"#FEFECE\" filter=\"url(#f2fclf31s4hfl)\" height=\"30.2969\" style=\"stroke:#A80036;stroke-width:1.5;\" width=\"49\" x=\"5\" y=\"680.43\"/><text fill=\"#000000\" font-family=\"sans-serif\" font-size=\"14\" lengthAdjust=\"spacing\" textLength=\"35\" x=\"12\" y=\"700.4251\">Alice</text><rect fill=\"#FEFECE\" filter=\"url(#f2fclf31s4hfl)\" height=\"30.2969\" style=\"stroke:#A80036;stroke-width:1.5;\" width=\"43\" x=\"131\" y=\"5\"/><text fill=\"#000000\" font-family=\"sans-serif\" font-size=\"14\" lengthAdjust=\"spacing\" textLength=\"29\" x=\"138\" y=\"24.9951\">Bob</text><rect fill=\"#FEFECE\" filter=\"url(#f2fclf31s4hfl)\" height=\"30.2969\" style=\"stroke:#A80036;stroke-width:1.5;\" width=\"43\" x=\"131\" y=\"680.43\"/><text fill=\"#000000\" font-family=\"sans-serif\" font-size=\"14\" lengthAdjust=\"spacing\" textLength=\"29\" x=\"138\" y=\"700.4251\">Bob</text><polygon fill=\"#A80036\" points=\"142.5,67.4297,152.5,71.4297,142.5,75.4297,146.5,71.4297\" style=\"stroke:#A80036;stroke-width:1.0;\"/><line style=\"stroke:#A80036;stroke-width:1.0;\" x1=\"31.5\" x2=\"148.5\" y1=\"71.4297\" y2=\"71.4297\"/><text fill=\"#000000\" font-family=\"sans-serif\" font-size=\"13\" font-style=\"italic\" lengthAdjust=\"spacing\" textLength=\"99\" x=\"38.5\" y=\"66.3638\">Long long label</text><polygon fill=\"#A80036\" points=\"142.5,97.0297,152.5,101.0297,142.5,105.0297,146.5,101.0297\" style=\"stroke:#A80036;stroke-width:1.0;\"/><line style=\"stroke:#A80036;stroke-width:1.0;\" x1=\"98.5\" x2=\"148.5\" y1=\"101.0297\" y2=\"101.0297\"/><text fill=\"#000000\" font-family=\"monospace\" font-size=\"13\" lengthAdjust=\"spacing\" textLength=\"24\" x=\"105.5\" y=\"95.4677\">?-&gt;</text><line style=\"stroke:#A80036;stroke-width:1.0;\" x1=\"152.5\" x2=\"142.5\" y1=\"130.6297\" y2=\"126.6297\"/><line style=\"stroke:#A80036;stroke-width:1.0;\" x1=\"152.5\" x2=\"142.5\" y1=\"130.6297\" y2=\"134.6297\"/><line style=\"stroke:#A80036;stroke-width:1.0;\" x1=\"90.5\" x2=\"153.5\" y1=\"130.6297\" y2=\"130.6297\"/><text fill=\"#000000\" font-family=\"monospace\" font-size=\"13\" lengthAdjust=\"spacing\" textLength=\"32\" x=\"97.5\" y=\"125.0677\">?-&gt;&gt;</text><polygon fill=\"#A80036\" points=\"142.5,156.2297,152.5,160.2297,142.5,160.2297\" style=\"stroke:#A80036;stroke-width:1.0;\"/><line style=\"stroke:#A80036;stroke-width:1.0;\" x1=\"98.5\" x2=\"153.5\" y1=\"160.2297\" y2=\"160.2297\"/><text fill=\"#000000\" font-family=\"monospace\" font-size=\"13\" lengthAdjust=\"spacing\" textLength=\"24\" x=\"105.5\" y=\"154.6677\">?-\\</text><line style=\"stroke:#A80036;stroke-width:1.0;\" x1=\"152.5\" x2=\"142.5\" y1=\"189.8297\" y2=\"185.8297\"/><line style=\"stroke:#A80036;stroke-width:1.0;\" x1=\"98.5\" x2=\"153.5\" y1=\"189.8297\" y2=\"189.8297\"/><text fill=\"#000000\" font-family=\"monospace\" font-size=\"13\" lengthAdjust=\"spacing\" textLength=\"32\" x=\"105.5\" y=\"184.2677\">?-\\\\</text><polygon fill=\"#A80036\" points=\"142.5,220.4298,152.5,220.4298,142.5,224.4298\" style=\"stroke:#A80036;stroke-width:1.0;\"/><line style=\"stroke:#A80036;stroke-width:1.0;\" x1=\"98.5\" x2=\"153.5\" y1=\"219.4298\" y2=\"219.4298\"/><text fill=\"#000000\" font-family=\"monospace\" font-size=\"13\" lengthAdjust=\"spacing\" textLength=\"24\" x=\"105.5\" y=\"213.8678\">?-/</text><line style=\"stroke:#A80036;stroke-width:1.0;\" x1=\"152.5\" x2=\"142.5\" y1=\"249.0298\" y2=\"253.0298\"/><line style=\"stroke:#A80036;stroke-width:1.0;\" x1=\"90.5\" x2=\"153.5\" y1=\"249.0298\" y2=\"249.0298\"/><text fill=\"#000000\" font-family=\"monospace\" font-size=\"13\" lengthAdjust=\"spacing\" textLength=\"32\" x=\"97.5\" y=\"243.4678\">?-//</text><line style=\"stroke:#A80036;stroke-width:2.0;\" x1=\"136.5\" x2=\"146.5\" y1=\"273.6298\" y2=\"283.6298\"/><line style=\"stroke:#A80036;stroke-width:2.0;\" x1=\"136.5\" x2=\"146.5\" y1=\"283.6298\" y2=\"273.6298\"/><line style=\"stroke:#A80036;stroke-width:1.0;\" x1=\"90.5\" x2=\"141.5\" y1=\"278.6298\" y2=\"278.6298\"/><text fill=\"#000000\" font-family=\"monospace\" font-size=\"13\" lengthAdjust=\"spacing\" textLength=\"32\" x=\"97.5\" y=\"273.0678\">?-&gt;x</text><line style=\"stroke:#A80036;stroke-width:2.0;\" x1=\"136.5\" x2=\"146.5\" y1=\"303.2298\" y2=\"313.2298\"/><line style=\"stroke:#A80036;stroke-width:2.0;\" x1=\"136.5\" x2=\"146.5\" y1=\"313.2298\" y2=\"303.2298\"/><line style=\"stroke:#A80036;stroke-width:1.0;\" x1=\"90.5\" x2=\"141.5\" y1=\"308.2298\" y2=\"308.2298\"/><text fill=\"#000000\" font-family=\"monospace\" font-size=\"13\" lengthAdjust=\"spacing\" textLength=\"32\" x=\"97.5\" y=\"302.6678\">?x-&gt;</text><ellipse cx=\"82\" cy=\"337.0798\" rx=\"4\" ry=\"4\" style=\"stroke:#A80036;stroke-width:1.5;fill:none;\"/><polygon fill=\"#A80036\" points=\"142.5,333.8298,152.5,337.8298,142.5,341.8298,146.5,337.8298\" style=\"stroke:#A80036;stroke-width:1.0;\"/><line style=\"stroke:#A80036;stroke-width:1.0;\" x1=\"86.5\" x2=\"148.5\" y1=\"337.8298\" y2=\"337.8298\"/><text fill=\"#000000\" font-family=\"monospace\" font-size=\"13\" lengthAdjust=\"spacing\" textLength=\"32\" x=\"89.5\" y=\"332.2678\">?o-&gt;</text><ellipse cx=\"154\" cy=\"366.6798\" rx=\"4\" ry=\"4\" style=\"stroke:#A80036;stroke-width:1.5;fill:none;\"/><polygon fill=\"#A80036\" points=\"137,363.4298,147,367.4298,137,371.4298,141,367.4298\" style=\"stroke:#A80036;stroke-width:1.0;\"/><line style=\"stroke:#A80036;stroke-width:1.0;\" x1=\"90.5\" x2=\"143\" y1=\"367.4298\" y2=\"367.4298\"/><text fill=\"#000000\" font-family=\"monospace\" font-size=\"13\" lengthAdjust=\"spacing\" textLength=\"32\" x=\"97.5\" y=\"361.8678\">?-&gt;o</text><ellipse cx=\"74\" cy=\"396.2798\" rx=\"4\" ry=\"4\" style=\"stroke:#A80036;stroke-width:1.5;fill:none;\"/><ellipse cx=\"154\" cy=\"396.2798\" rx=\"4\" ry=\"4\" style=\"stroke:#A80036;stroke-width:1.5;fill:none;\"/><polygon fill=\"#A80036\" points=\"137,393.0298,147,397.0298,137,401.0298,141,397.0298\" style=\"stroke:#A80036;stroke-width:1.0;\"/><line style=\"stroke:#A80036;stroke-width:1.0;\" x1=\"78.5\" x2=\"143\" y1=\"397.0298\" y2=\"397.0298\"/><text fill=\"#000000\" font-family=\"monospace\" font-size=\"13\" lengthAdjust=\"spacing\" textLength=\"40\" x=\"81.5\" y=\"391.4678\">?o-&gt;o</text><polygon fill=\"#A80036\" points=\"101.5,422.6299,91.5,426.6299,101.5,430.6299,97.5,426.6299\" style=\"stroke:#A80036;stroke-width:1.0;\"/><polygon fill=\"#A80036\" points=\"142.5,422.6299,152.5,426.6299,142.5,430.6299,146.5,426.6299\" style=\"stroke:#A80036;stroke-width:1.0;\"/><line style=\"stroke:#A80036;stroke-width:1.0;\" x1=\"95.5\" x2=\"148.5\" y1=\"426.6299\" y2=\"426.6299\"/><text fill=\"#000000\" font-family=\"monospace\" font-size=\"13\" lengthAdjust=\"spacing\" textLength=\"32\" x=\"107.5\" y=\"421.0678\">?&lt;-&gt;</text><ellipse cx=\"74\" cy=\"455.4799\" rx=\"4\" ry=\"4\" style=\"stroke:#A80036;stroke-width:1.5;fill:none;\"/><polygon fill=\"#A80036\" points=\"91,452.2299,81,456.2299,91,460.2299,87,456.2299\" style=\"stroke:#A80036;stroke-width:1.0;\"/><ellipse cx=\"154\" cy=\"455.4799\" rx=\"4\" ry=\"4\" style=\"stroke:#A80036;stroke-width:1.5;fill:none;\"/><polygon fill=\"#A80036\" points=\"137,452.2299,147,456.2299,137,460.2299,141,456.2299\" style=\"stroke:#A80036;stroke-width:1.0;\"/><line style=\"stroke:#A80036;stroke-width:1.0;\" x1=\"89\" x2=\"143\" y1=\"456.2299\" y2=\"456.2299\"/><text fill=\"#000000\" font-family=\"monospace\" font-size=\"13\" lengthAdjust=\"spacing\" textLength=\"48\" x=\"91.5\" y=\"450.6679\">?o&lt;-&gt;o</text><polygon fill=\"#A80036\" points=\"93.5,481.8299,83.5,485.8299,93.5,489.8299,89.5,485.8299\" style=\"stroke:#A80036;stroke-width:1.0;\"/><line style=\"stroke:#A80036;stroke-width:2.0;\" x1=\"136.5\" x2=\"146.5\" y1=\"480.8299\" y2=\"490.8299\"/><line style=\"stroke:#A80036;stroke-width:2.0;\" x1=\"136.5\" x2=\"146.5\" y1=\"490.8299\" y2=\"480.8299\"/><line style=\"stroke:#A80036;stroke-width:1.0;\" x1=\"87.5\" x2=\"141.5\" y1=\"485.8299\" y2=\"485.8299\"/><text fill=\"#000000\" font-family=\"monospace\" font-size=\"13\" lengthAdjust=\"spacing\" textLength=\"48\" x=\"99.5\" y=\"480.2679\">?x&lt;-&gt;x</text><ellipse cx=\"154\" cy=\"514.6799\" rx=\"4\" ry=\"4\" style=\"stroke:#A80036;stroke-width:1.5;fill:none;\"/><line style=\"stroke:#A80036;stroke-width:1.0;fill:none;\" x1=\"147\" x2=\"137\" y1=\"515.4299\" y2=\"511.4299\"/><line style=\"stroke:#A80036;stroke-width:1.0;fill:none;\" x1=\"147\" x2=\"137\" y1=\"515.4299\" y2=\"519.4299\"/><line style=\"stroke:#A80036;stroke-width:1.0;fill:none;\" x1=\"82.5\" x2=\"148\" y1=\"515.4299\" y2=\"515.4299\"/><text fill=\"#000000\" font-family=\"monospace\" font-size=\"13\" lengthAdjust=\"spacing\" textLength=\"40\" x=\"89.5\" y=\"509.8679\">?-&gt;&gt;o</text><ellipse cx=\"154\" cy=\"544.2799\" rx=\"4\" ry=\"4\" style=\"stroke:#A80036;stroke-width:1.5;fill:none;\"/><polygon fill=\"#A80036\" points=\"137,541.0299,147,545.0299,137,545.0299\" style=\"stroke:#A80036;stroke-width:1.0;\"/><line style=\"stroke:#A80036;stroke-width:1.0;\" x1=\"90.5\" x2=\"148\" y1=\"545.0299\" y2=\"545.0299\"/><text fill=\"#000000\" font-family=\"monospace\" font-size=\"13\" lengthAdjust=\"spacing\" textLength=\"32\" x=\"97.5\" y=\"539.4679\">?-\\o</text><ellipse cx=\"154\" cy=\"573.8799\" rx=\"4\" ry=\"4\" style=\"stroke:#A80036;stroke-width:1.5;fill:none;\"/><line style=\"stroke:#A80036;stroke-width:1.0;fill:none;\" x1=\"147\" x2=\"137\" y1=\"574.6299\" y2=\"570.6299\"/><line style=\"stroke:#A80036;stroke-width:1.0;fill:none;\" x1=\"82.5\" x2=\"148\" y1=\"574.6299\" y2=\"574.6299\"/><text fill=\"#000000\" font-family=\"monospace\" font-size=\"13\" lengthAdjust=\"spacing\" textLength=\"40\" x=\"89.5\" y=\"569.0679\">?-\\\\o</text><ellipse cx=\"154\" cy=\"603.4799\" rx=\"4\" ry=\"4\" style=\"stroke:#A80036;stroke-width:1.5;fill:none;\"/><polygon fill=\"#A80036\" points=\"137,605.2299,147,605.2299,137,609.2299\" style=\"stroke:#A80036;stroke-width:1.0;\"/><line style=\"stroke:#A80036;stroke-width:1.0;\" x1=\"90.5\" x2=\"148\" y1=\"604.2299\" y2=\"604.2299\"/><text fill=\"#000000\" font-family=\"monospace\" font-size=\"13\" lengthAdjust=\"spacing\" textLength=\"32\" x=\"97.5\" y=\"598.6679\">?-/o</text><ellipse cx=\"154\" cy=\"633.0799\" rx=\"4\" ry=\"4\" style=\"stroke:#A80036;stroke-width:1.5;fill:none;\"/><line style=\"stroke:#A80036;stroke-width:1.0;fill:none;\" x1=\"147\" x2=\"137\" y1=\"633.8299\" y2=\"637.8299\"/><line style=\"stroke:#A80036;stroke-width:1.0;fill:none;\" x1=\"82.5\" x2=\"148\" y1=\"633.8299\" y2=\"633.8299\"/><text fill=\"#000000\" font-family=\"monospace\" font-size=\"13\" lengthAdjust=\"spacing\" textLength=\"40\" x=\"89.5\" y=\"628.2679\">?-//o</text><ellipse cx=\"154\" cy=\"662.68\" rx=\"4\" ry=\"4\" style=\"stroke:#A80036;stroke-width:1.5;fill:none;\"/><line style=\"stroke:#A80036;stroke-width:2.0;fill:none;\" x1=\"131\" x2=\"141\" y1=\"658.43\" y2=\"668.43\"/><line style=\"stroke:#A80036;stroke-width:2.0;fill:none;\" x1=\"131\" x2=\"141\" y1=\"668.43\" y2=\"658.43\"/><line style=\"stroke:#A80036;stroke-width:1.0;fill:none;\" x1=\"82.5\" x2=\"136\" y1=\"663.43\" y2=\"663.43\"/><text fill=\"#000000\" font-family=\"monospace\" font-size=\"13\" lengthAdjust=\"spacing\" textLength=\"40\" x=\"89.5\" y=\"657.868\">?x-&gt;o</text><!--MD5=[11407d2296e97deb7cf6e9ffcee7a17d]\n",
       "@startuml\n",
       "participant Alice as a\n",
       "participant Bob as b\n",
       "a -> b : //Long long label//\n",
       "?-> b : \"\"?-> \"\"\n",
       "?->> b : \"\"?->> \"\"\n",
       "?-\\ b : \"\"?-\\ \"\"\n",
       "?-\\\\ b : \"\"?-\\\\\\\\\"\"\n",
       "?-/ b : \"\"?-/ \"\"\n",
       "?-// b : \"\"?-// \"\"\n",
       "?->x b : \"\"?->x \"\"\n",
       "?x-> b : \"\"?x-> \"\"\n",
       "?o-> b : \"\"?o-> \"\"\n",
       "?->o b : \"\"?->o \"\"\n",
       "?o->o b : \"\"?o->o \"\"\n",
       "?<-> b : \"\"?<-> \"\"\n",
       "?o<->o b : \"\"?o<->o\"\"\n",
       "?x<->x b : \"\"?x<->x\"\"\n",
       "?->>o b : \"\"?->>o \"\"\n",
       "?-\\o b : \"\"?-\\o \"\"\n",
       "?-\\\\o b : \"\"?-\\\\\\\\o \"\"\n",
       "?-/o b : \"\"?-/o \"\"\n",
       "?-//o b : \"\"?-//o \"\"\n",
       "?x->o b : \"\"?x->o \"\"\n",
       "@enduml\n",
       "\n",
       "PlantUML version 1.2021.9beta2(Unknown compile time)\n",
       "(GPL source distribution)\n",
       "Java Runtime: Java(TM) SE Runtime Environment\n",
       "JVM: Java HotSpot(TM) 64-Bit Server VM\n",
       "Default Encoding: UTF-8\n",
       "Language: en\n",
       "Country: US\n",
       "--></g></svg>"
      ],
      "text/plain": [
       "<IPython.core.display.SVG object>"
      ]
     },
     "execution_count": 59,
     "metadata": {},
     "output_type": "execute_result"
    }
   ],
   "source": [
    "%%plantuml\n",
    "\n",
    "@startuml\n",
    "participant Alice as a\n",
    "participant Bob as b\n",
    "a -> b : //Long long label//\n",
    "?-> b : \"\"?-> \"\"\n",
    "?->> b : \"\"?->> \"\"\n",
    "?-\\ b : \"\"?-\\ \"\"\n",
    "?-\\\\ b : \"\"?-\\\\\\\\\"\"\n",
    "?-/ b : \"\"?-/ \"\"\n",
    "?-// b : \"\"?-// \"\"\n",
    "?->x b : \"\"?->x \"\"\n",
    "?x-> b : \"\"?x-> \"\"\n",
    "?o-> b : \"\"?o-> \"\"\n",
    "?->o b : \"\"?->o \"\"\n",
    "?o->o b : \"\"?o->o \"\"\n",
    "?<-> b : \"\"?<-> \"\"\n",
    "?o<->o b : \"\"?o<->o\"\"\n",
    "?x<->x b : \"\"?x<->x\"\"\n",
    "?->>o b : \"\"?->>o \"\"\n",
    "?-\\o b : \"\"?-\\o \"\"\n",
    "?-\\\\o b : \"\"?-\\\\\\\\o \"\"\n",
    "?-/o b : \"\"?-/o \"\"\n",
    "?-//o b : \"\"?-//o \"\"\n",
    "?x->o b : \"\"?x->o \"\"\n",
    "@enduml    "
   ]
  },
  {
   "cell_type": "code",
   "execution_count": 60,
   "id": "2a54eea0",
   "metadata": {},
   "outputs": [
    {
     "data": {
      "image/svg+xml": [
       "<svg xmlns=\"http://www.w3.org/2000/svg\" xmlns:xlink=\"http://www.w3.org/1999/xlink\" contentScriptType=\"application/ecmascript\" contentStyleType=\"text/css\" height=\"724px\" preserveAspectRatio=\"none\" style=\"width:188px;height:724px;background:#FFFFFF;\" version=\"1.1\" viewBox=\"0 0 188 724\" width=\"188px\" zoomAndPan=\"magnify\"><defs><filter height=\"300%\" id=\"foukqela4tvph\" width=\"300%\" x=\"-1\" y=\"-1\"><feGaussianBlur result=\"blurOut\" stdDeviation=\"2.0\"/><feColorMatrix in=\"blurOut\" result=\"blurOut2\" type=\"matrix\" values=\"0 0 0 0 0 0 0 0 0 0 0 0 0 0 0 0 0 0 .4 0\"/><feOffset dx=\"4.0\" dy=\"4.0\" in=\"blurOut2\" result=\"blurOut3\"/><feBlend in=\"SourceGraphic\" in2=\"blurOut3\" mode=\"normal\"/></filter></defs><g><line style=\"stroke:#A80036;stroke-width:1.0;stroke-dasharray:5.0,5.0;\" x1=\"31\" x2=\"31\" y1=\"40.2969\" y2=\"681.43\"/><line style=\"stroke:#A80036;stroke-width:1.0;stroke-dasharray:5.0,5.0;\" x1=\"154\" x2=\"154\" y1=\"40.2969\" y2=\"681.43\"/><rect fill=\"#FEFECE\" filter=\"url(#foukqela4tvph)\" height=\"30.2969\" style=\"stroke:#A80036;stroke-width:1.5;\" width=\"49\" x=\"5\" y=\"5\"/><text fill=\"#000000\" font-family=\"sans-serif\" font-size=\"14\" lengthAdjust=\"spacing\" textLength=\"35\" x=\"12\" y=\"24.9951\">Alice</text><rect fill=\"#FEFECE\" filter=\"url(#foukqela4tvph)\" height=\"30.2969\" style=\"stroke:#A80036;stroke-width:1.5;\" width=\"49\" x=\"5\" y=\"680.43\"/><text fill=\"#000000\" font-family=\"sans-serif\" font-size=\"14\" lengthAdjust=\"spacing\" textLength=\"35\" x=\"12\" y=\"700.4251\">Alice</text><rect fill=\"#FEFECE\" filter=\"url(#foukqela4tvph)\" height=\"30.2969\" style=\"stroke:#A80036;stroke-width:1.5;\" width=\"43\" x=\"131\" y=\"5\"/><text fill=\"#000000\" font-family=\"sans-serif\" font-size=\"14\" lengthAdjust=\"spacing\" textLength=\"29\" x=\"138\" y=\"24.9951\">Bob</text><rect fill=\"#FEFECE\" filter=\"url(#foukqela4tvph)\" height=\"30.2969\" style=\"stroke:#A80036;stroke-width:1.5;\" width=\"43\" x=\"131\" y=\"680.43\"/><text fill=\"#000000\" font-family=\"sans-serif\" font-size=\"14\" lengthAdjust=\"spacing\" textLength=\"29\" x=\"138\" y=\"700.4251\">Bob</text><polygon fill=\"#A80036\" points=\"142.5,67.4297,152.5,71.4297,142.5,75.4297,146.5,71.4297\" style=\"stroke:#A80036;stroke-width:1.0;\"/><line style=\"stroke:#A80036;stroke-width:1.0;\" x1=\"31.5\" x2=\"148.5\" y1=\"71.4297\" y2=\"71.4297\"/><text fill=\"#000000\" font-family=\"sans-serif\" font-size=\"13\" font-style=\"italic\" lengthAdjust=\"spacing\" textLength=\"99\" x=\"38.5\" y=\"66.3638\">Long long label</text><polygon fill=\"#A80036\" points=\"75.5,97.0297,85.5,101.0297,75.5,105.0297,79.5,101.0297\" style=\"stroke:#A80036;stroke-width:1.0;\"/><line style=\"stroke:#A80036;stroke-width:1.0;\" x1=\"31.5\" x2=\"81.5\" y1=\"101.0297\" y2=\"101.0297\"/><text fill=\"#000000\" font-family=\"monospace\" font-size=\"13\" lengthAdjust=\"spacing\" textLength=\"24\" x=\"38.5\" y=\"95.4677\">-&gt;?</text><line style=\"stroke:#A80036;stroke-width:1.0;\" x1=\"93.5\" x2=\"83.5\" y1=\"130.6297\" y2=\"126.6297\"/><line style=\"stroke:#A80036;stroke-width:1.0;\" x1=\"93.5\" x2=\"83.5\" y1=\"130.6297\" y2=\"134.6297\"/><line style=\"stroke:#A80036;stroke-width:1.0;\" x1=\"31.5\" x2=\"94.5\" y1=\"130.6297\" y2=\"130.6297\"/><text fill=\"#000000\" font-family=\"monospace\" font-size=\"13\" lengthAdjust=\"spacing\" textLength=\"32\" x=\"38.5\" y=\"125.0677\">-&gt;&gt;?</text><polygon fill=\"#A80036\" points=\"75.5,156.2297,85.5,160.2297,75.5,160.2297\" style=\"stroke:#A80036;stroke-width:1.0;\"/><line style=\"stroke:#A80036;stroke-width:1.0;\" x1=\"31.5\" x2=\"86.5\" y1=\"160.2297\" y2=\"160.2297\"/><text fill=\"#000000\" font-family=\"monospace\" font-size=\"13\" lengthAdjust=\"spacing\" textLength=\"24\" x=\"38.5\" y=\"154.6677\">-\\?</text><line style=\"stroke:#A80036;stroke-width:1.0;\" x1=\"85.5\" x2=\"75.5\" y1=\"189.8297\" y2=\"185.8297\"/><line style=\"stroke:#A80036;stroke-width:1.0;\" x1=\"31.5\" x2=\"86.5\" y1=\"189.8297\" y2=\"189.8297\"/><text fill=\"#000000\" font-family=\"monospace\" font-size=\"13\" lengthAdjust=\"spacing\" textLength=\"32\" x=\"38.5\" y=\"184.2677\">-\\\\?</text><polygon fill=\"#A80036\" points=\"75.5,220.4298,85.5,220.4298,75.5,224.4298\" style=\"stroke:#A80036;stroke-width:1.0;\"/><line style=\"stroke:#A80036;stroke-width:1.0;\" x1=\"31.5\" x2=\"86.5\" y1=\"219.4298\" y2=\"219.4298\"/><text fill=\"#000000\" font-family=\"monospace\" font-size=\"13\" lengthAdjust=\"spacing\" textLength=\"24\" x=\"38.5\" y=\"213.8678\">-/?</text><line style=\"stroke:#A80036;stroke-width:1.0;\" x1=\"93.5\" x2=\"83.5\" y1=\"249.0298\" y2=\"253.0298\"/><line style=\"stroke:#A80036;stroke-width:1.0;\" x1=\"31.5\" x2=\"94.5\" y1=\"249.0298\" y2=\"249.0298\"/><text fill=\"#000000\" font-family=\"monospace\" font-size=\"13\" lengthAdjust=\"spacing\" textLength=\"32\" x=\"38.5\" y=\"243.4678\">-//?</text><line style=\"stroke:#A80036;stroke-width:2.0;\" x1=\"77.5\" x2=\"87.5\" y1=\"273.6298\" y2=\"283.6298\"/><line style=\"stroke:#A80036;stroke-width:2.0;\" x1=\"77.5\" x2=\"87.5\" y1=\"283.6298\" y2=\"273.6298\"/><line style=\"stroke:#A80036;stroke-width:1.0;\" x1=\"31.5\" x2=\"82.5\" y1=\"278.6298\" y2=\"278.6298\"/><text fill=\"#000000\" font-family=\"monospace\" font-size=\"13\" lengthAdjust=\"spacing\" textLength=\"32\" x=\"38.5\" y=\"273.0678\">-&gt;x?</text><line style=\"stroke:#A80036;stroke-width:2.0;\" x1=\"77.5\" x2=\"87.5\" y1=\"303.2298\" y2=\"313.2298\"/><line style=\"stroke:#A80036;stroke-width:2.0;\" x1=\"77.5\" x2=\"87.5\" y1=\"313.2298\" y2=\"303.2298\"/><line style=\"stroke:#A80036;stroke-width:1.0;\" x1=\"31.5\" x2=\"82.5\" y1=\"308.2298\" y2=\"308.2298\"/><text fill=\"#000000\" font-family=\"monospace\" font-size=\"13\" lengthAdjust=\"spacing\" textLength=\"32\" x=\"38.5\" y=\"302.6678\">x-&gt;?</text><ellipse cx=\"31\" cy=\"337.0798\" rx=\"4\" ry=\"4\" style=\"stroke:#A80036;stroke-width:1.5;fill:none;\"/><polygon fill=\"#A80036\" points=\"83.5,333.8298,93.5,337.8298,83.5,341.8298,87.5,337.8298\" style=\"stroke:#A80036;stroke-width:1.0;\"/><line style=\"stroke:#A80036;stroke-width:1.0;\" x1=\"35.5\" x2=\"89.5\" y1=\"337.8298\" y2=\"337.8298\"/><text fill=\"#000000\" font-family=\"monospace\" font-size=\"13\" lengthAdjust=\"spacing\" textLength=\"32\" x=\"38.5\" y=\"332.2678\">o-&gt;?</text><ellipse cx=\"103\" cy=\"366.6798\" rx=\"4\" ry=\"4\" style=\"stroke:#A80036;stroke-width:1.5;fill:none;\"/><polygon fill=\"#A80036\" points=\"86,363.4298,96,367.4298,86,371.4298,90,367.4298\" style=\"stroke:#A80036;stroke-width:1.0;\"/><line style=\"stroke:#A80036;stroke-width:1.0;\" x1=\"31.5\" x2=\"92\" y1=\"367.4298\" y2=\"367.4298\"/><text fill=\"#000000\" font-family=\"monospace\" font-size=\"13\" lengthAdjust=\"spacing\" textLength=\"32\" x=\"38.5\" y=\"361.8678\">-&gt;o?</text><ellipse cx=\"31\" cy=\"396.2798\" rx=\"4\" ry=\"4\" style=\"stroke:#A80036;stroke-width:1.5;fill:none;\"/><ellipse cx=\"111\" cy=\"396.2798\" rx=\"4\" ry=\"4\" style=\"stroke:#A80036;stroke-width:1.5;fill:none;\"/><polygon fill=\"#A80036\" points=\"94,393.0298,104,397.0298,94,401.0298,98,397.0298\" style=\"stroke:#A80036;stroke-width:1.0;\"/><line style=\"stroke:#A80036;stroke-width:1.0;\" x1=\"35.5\" x2=\"100\" y1=\"397.0298\" y2=\"397.0298\"/><text fill=\"#000000\" font-family=\"monospace\" font-size=\"13\" lengthAdjust=\"spacing\" textLength=\"40\" x=\"38.5\" y=\"391.4678\">o-&gt;o?</text><polygon fill=\"#A80036\" points=\"42.5,422.6299,32.5,426.6299,42.5,430.6299,38.5,426.6299\" style=\"stroke:#A80036;stroke-width:1.0;\"/><polygon fill=\"#A80036\" points=\"83.5,422.6299,93.5,426.6299,83.5,430.6299,87.5,426.6299\" style=\"stroke:#A80036;stroke-width:1.0;\"/><line style=\"stroke:#A80036;stroke-width:1.0;\" x1=\"36.5\" x2=\"89.5\" y1=\"426.6299\" y2=\"426.6299\"/><text fill=\"#000000\" font-family=\"monospace\" font-size=\"13\" lengthAdjust=\"spacing\" textLength=\"32\" x=\"48.5\" y=\"421.0678\">&lt;-&gt;?</text><ellipse cx=\"31\" cy=\"455.4799\" rx=\"4\" ry=\"4\" style=\"stroke:#A80036;stroke-width:1.5;fill:none;\"/><polygon fill=\"#A80036\" points=\"48,452.2299,38,456.2299,48,460.2299,44,456.2299\" style=\"stroke:#A80036;stroke-width:1.0;\"/><ellipse cx=\"111\" cy=\"455.4799\" rx=\"4\" ry=\"4\" style=\"stroke:#A80036;stroke-width:1.5;fill:none;\"/><polygon fill=\"#A80036\" points=\"94,452.2299,104,456.2299,94,460.2299,98,456.2299\" style=\"stroke:#A80036;stroke-width:1.0;\"/><line style=\"stroke:#A80036;stroke-width:1.0;\" x1=\"46\" x2=\"100\" y1=\"456.2299\" y2=\"456.2299\"/><text fill=\"#000000\" font-family=\"monospace\" font-size=\"13\" lengthAdjust=\"spacing\" textLength=\"48\" x=\"48.5\" y=\"450.6679\">o&lt;-&gt;o?</text><polygon fill=\"#A80036\" points=\"42.5,481.8299,32.5,485.8299,42.5,489.8299,38.5,485.8299\" style=\"stroke:#A80036;stroke-width:1.0;\"/><line style=\"stroke:#A80036;stroke-width:2.0;\" x1=\"85.5\" x2=\"95.5\" y1=\"480.8299\" y2=\"490.8299\"/><line style=\"stroke:#A80036;stroke-width:2.0;\" x1=\"85.5\" x2=\"95.5\" y1=\"490.8299\" y2=\"480.8299\"/><line style=\"stroke:#A80036;stroke-width:1.0;\" x1=\"36.5\" x2=\"90.5\" y1=\"485.8299\" y2=\"485.8299\"/><text fill=\"#000000\" font-family=\"monospace\" font-size=\"13\" lengthAdjust=\"spacing\" textLength=\"48\" x=\"48.5\" y=\"480.2679\">x&lt;-&gt;x?</text><ellipse cx=\"111\" cy=\"514.6799\" rx=\"4\" ry=\"4\" style=\"stroke:#A80036;stroke-width:1.5;fill:none;\"/><line style=\"stroke:#A80036;stroke-width:1.0;fill:none;\" x1=\"104\" x2=\"94\" y1=\"515.4299\" y2=\"511.4299\"/><line style=\"stroke:#A80036;stroke-width:1.0;fill:none;\" x1=\"104\" x2=\"94\" y1=\"515.4299\" y2=\"519.4299\"/><line style=\"stroke:#A80036;stroke-width:1.0;fill:none;\" x1=\"31.5\" x2=\"105\" y1=\"515.4299\" y2=\"515.4299\"/><text fill=\"#000000\" font-family=\"monospace\" font-size=\"13\" lengthAdjust=\"spacing\" textLength=\"40\" x=\"38.5\" y=\"509.8679\">-&gt;&gt;o?</text><ellipse cx=\"103\" cy=\"544.2799\" rx=\"4\" ry=\"4\" style=\"stroke:#A80036;stroke-width:1.5;fill:none;\"/><polygon fill=\"#A80036\" points=\"86,541.0299,96,545.0299,86,545.0299\" style=\"stroke:#A80036;stroke-width:1.0;\"/><line style=\"stroke:#A80036;stroke-width:1.0;\" x1=\"31.5\" x2=\"97\" y1=\"545.0299\" y2=\"545.0299\"/><text fill=\"#000000\" font-family=\"monospace\" font-size=\"13\" lengthAdjust=\"spacing\" textLength=\"32\" x=\"38.5\" y=\"539.4679\">-\\o?</text><ellipse cx=\"103\" cy=\"573.8799\" rx=\"4\" ry=\"4\" style=\"stroke:#A80036;stroke-width:1.5;fill:none;\"/><line style=\"stroke:#A80036;stroke-width:1.0;fill:none;\" x1=\"96\" x2=\"86\" y1=\"574.6299\" y2=\"570.6299\"/><line style=\"stroke:#A80036;stroke-width:1.0;fill:none;\" x1=\"31.5\" x2=\"97\" y1=\"574.6299\" y2=\"574.6299\"/><text fill=\"#000000\" font-family=\"monospace\" font-size=\"13\" lengthAdjust=\"spacing\" textLength=\"40\" x=\"38.5\" y=\"569.0679\">-\\\\o?</text><ellipse cx=\"103\" cy=\"603.4799\" rx=\"4\" ry=\"4\" style=\"stroke:#A80036;stroke-width:1.5;fill:none;\"/><polygon fill=\"#A80036\" points=\"86,605.2299,96,605.2299,86,609.2299\" style=\"stroke:#A80036;stroke-width:1.0;\"/><line style=\"stroke:#A80036;stroke-width:1.0;\" x1=\"31.5\" x2=\"97\" y1=\"604.2299\" y2=\"604.2299\"/><text fill=\"#000000\" font-family=\"monospace\" font-size=\"13\" lengthAdjust=\"spacing\" textLength=\"32\" x=\"38.5\" y=\"598.6679\">-/o?</text><ellipse cx=\"111\" cy=\"633.0799\" rx=\"4\" ry=\"4\" style=\"stroke:#A80036;stroke-width:1.5;fill:none;\"/><line style=\"stroke:#A80036;stroke-width:1.0;fill:none;\" x1=\"104\" x2=\"94\" y1=\"633.8299\" y2=\"637.8299\"/><line style=\"stroke:#A80036;stroke-width:1.0;fill:none;\" x1=\"31.5\" x2=\"105\" y1=\"633.8299\" y2=\"633.8299\"/><text fill=\"#000000\" font-family=\"monospace\" font-size=\"13\" lengthAdjust=\"spacing\" textLength=\"40\" x=\"38.5\" y=\"628.2679\">-//o?</text><ellipse cx=\"111\" cy=\"662.68\" rx=\"4\" ry=\"4\" style=\"stroke:#A80036;stroke-width:1.5;fill:none;\"/><line style=\"stroke:#A80036;stroke-width:2.0;fill:none;\" x1=\"88\" x2=\"98\" y1=\"658.43\" y2=\"668.43\"/><line style=\"stroke:#A80036;stroke-width:2.0;fill:none;\" x1=\"88\" x2=\"98\" y1=\"668.43\" y2=\"658.43\"/><line style=\"stroke:#A80036;stroke-width:1.0;fill:none;\" x1=\"31.5\" x2=\"93\" y1=\"663.43\" y2=\"663.43\"/><text fill=\"#000000\" font-family=\"monospace\" font-size=\"13\" lengthAdjust=\"spacing\" textLength=\"40\" x=\"38.5\" y=\"657.868\">x-&gt;o?</text><!--MD5=[c296a752808796acf6b9d593f75e0578]\n",
       "@startuml\n",
       "participant Alice as a\n",
       "participant Bob as b\n",
       "a -> b : //Long long label//\n",
       "a ->? : \"\"->? \"\"\n",
       "a ->>? : \"\"->>? \"\"\n",
       "a -\\? : \"\"-\\? \"\"\n",
       "a -\\\\? : \"\"-\\\\\\\\?\"\"\n",
       "a -/? : \"\"-/? \"\"\n",
       "a -//? : \"\"-//? \"\"\n",
       "a ->x? : \"\"->x? \"\"\n",
       "a x->? : \"\"x->? \"\"\n",
       "a o->? : \"\"o->? \"\"\n",
       "a ->o? : \"\"->o? \"\"\n",
       "a o->o? : \"\"o->o? \"\"\n",
       "a <->? : \"\"<->? \"\"\n",
       "a o<->o? : \"\"o<->o?\"\"\n",
       "a x<->x? : \"\"x<->x?\"\"\n",
       "a ->>o? : \"\"->>o? \"\"\n",
       "a -\\o? : \"\"-\\o? \"\"\n",
       "a -\\\\o? : \"\"-\\\\\\\\o?\"\"\n",
       "a -/o? : \"\"-/o? \"\"\n",
       "a -//o? : \"\"-//o? \"\"\n",
       "a x->o? : \"\"x->o? \"\"\n",
       "@enduml\n",
       "\n",
       "PlantUML version 1.2021.9beta2(Unknown compile time)\n",
       "(GPL source distribution)\n",
       "Java Runtime: Java(TM) SE Runtime Environment\n",
       "JVM: Java HotSpot(TM) 64-Bit Server VM\n",
       "Default Encoding: UTF-8\n",
       "Language: en\n",
       "Country: US\n",
       "--></g></svg>"
      ],
      "text/plain": [
       "<IPython.core.display.SVG object>"
      ]
     },
     "execution_count": 60,
     "metadata": {},
     "output_type": "execute_result"
    }
   ],
   "source": [
    "%%plantuml\n",
    "\n",
    "@startuml\n",
    "participant Alice as a\n",
    "participant Bob as b\n",
    "a -> b : //Long long label//\n",
    "a ->? : \"\"->? \"\"\n",
    "a ->>? : \"\"->>? \"\"\n",
    "a -\\? : \"\"-\\? \"\"\n",
    "a -\\\\? : \"\"-\\\\\\\\?\"\"\n",
    "a -/? : \"\"-/? \"\"\n",
    "a -//? : \"\"-//? \"\"\n",
    "a ->x? : \"\"->x? \"\"\n",
    "a x->? : \"\"x->? \"\"\n",
    "a o->? : \"\"o->? \"\"\n",
    "a ->o? : \"\"->o? \"\"\n",
    "a o->o? : \"\"o->o? \"\"\n",
    "a <->? : \"\"<->? \"\"\n",
    "a o<->o? : \"\"o<->o?\"\"\n",
    "a x<->x? : \"\"x<->x?\"\"\n",
    "a ->>o? : \"\"->>o? \"\"\n",
    "a -\\o? : \"\"-\\o? \"\"\n",
    "a -\\\\o? : \"\"-\\\\\\\\o?\"\"\n",
    "a -/o? : \"\"-/o? \"\"\n",
    "a -//o? : \"\"-//o? \"\"\n",
    "a x->o? : \"\"x->o? \"\"\n",
    "@enduml"
   ]
  },
  {
   "cell_type": "code",
   "execution_count": 61,
   "id": "b4914e11",
   "metadata": {},
   "outputs": [
    {
     "data": {
      "image/svg+xml": [
       "<svg xmlns=\"http://www.w3.org/2000/svg\" xmlns:xlink=\"http://www.w3.org/1999/xlink\" contentScriptType=\"application/ecmascript\" contentStyleType=\"text/css\" height=\"161px\" preserveAspectRatio=\"none\" style=\"width:125px;height:161px;background:#FFFFFF;\" version=\"1.1\" viewBox=\"0 0 125 161\" width=\"125px\" zoomAndPan=\"magnify\"><defs><filter height=\"300%\" id=\"f15jtd314bc8b0\" width=\"300%\" x=\"-1\" y=\"-1\"><feGaussianBlur result=\"blurOut\" stdDeviation=\"2.0\"/><feColorMatrix in=\"blurOut\" result=\"blurOut2\" type=\"matrix\" values=\"0 0 0 0 0 0 0 0 0 0 0 0 0 0 0 0 0 0 .4 0\"/><feOffset dx=\"4.0\" dy=\"4.0\" in=\"blurOut2\" result=\"blurOut3\"/><feBlend in=\"SourceGraphic\" in2=\"blurOut3\" mode=\"normal\"/></filter></defs><g><line style=\"stroke:#A80036;stroke-width:1.0;stroke-dasharray:5.0,5.0;\" x1=\"28\" x2=\"28\" y1=\"40.2969\" y2=\"118.5625\"/><line style=\"stroke:#A80036;stroke-width:1.0;stroke-dasharray:5.0,5.0;\" x1=\"88\" x2=\"88\" y1=\"40.2969\" y2=\"118.5625\"/><rect fill=\"#FEFECE\" filter=\"url(#f15jtd314bc8b0)\" height=\"30.2969\" style=\"stroke:#A80036;stroke-width:1.5;\" width=\"43\" x=\"5\" y=\"5\"/><text fill=\"#000000\" font-family=\"sans-serif\" font-size=\"14\" lengthAdjust=\"spacing\" textLength=\"29\" x=\"12\" y=\"24.9951\">Bob</text><rect fill=\"#FEFECE\" filter=\"url(#f15jtd314bc8b0)\" height=\"30.2969\" style=\"stroke:#A80036;stroke-width:1.5;\" width=\"43\" x=\"5\" y=\"117.5625\"/><text fill=\"#000000\" font-family=\"sans-serif\" font-size=\"14\" lengthAdjust=\"spacing\" textLength=\"29\" x=\"12\" y=\"137.5576\">Bob</text><rect fill=\"#FEFECE\" filter=\"url(#f15jtd314bc8b0)\" height=\"30.2969\" style=\"stroke:#A80036;stroke-width:1.5;\" width=\"49\" x=\"62\" y=\"5\"/><text fill=\"#000000\" font-family=\"sans-serif\" font-size=\"14\" lengthAdjust=\"spacing\" textLength=\"35\" x=\"69\" y=\"24.9951\">Alice</text><rect fill=\"#FEFECE\" filter=\"url(#f15jtd314bc8b0)\" height=\"30.2969\" style=\"stroke:#A80036;stroke-width:1.5;\" width=\"49\" x=\"62\" y=\"117.5625\"/><text fill=\"#000000\" font-family=\"sans-serif\" font-size=\"14\" lengthAdjust=\"spacing\" textLength=\"35\" x=\"69\" y=\"137.5576\">Alice</text><polygon fill=\"#A80036\" points=\"76.5,67.4297,86.5,71.4297,76.5,75.4297,80.5,71.4297\" style=\"stroke:#A80036;stroke-width:1.0;\"/><line style=\"stroke:#A80036;stroke-width:1.0;\" x1=\"28.5\" x2=\"82.5\" y1=\"71.4297\" y2=\"71.4297\"/><text fill=\"#000000\" font-family=\"sans-serif\" font-size=\"13\" lengthAdjust=\"spacing\" textLength=\"30\" x=\"35.5\" y=\"66.3638\">hello</text><polygon fill=\"#A80036\" points=\"39.5,96.5625,29.5,100.5625,39.5,104.5625,35.5,100.5625\" style=\"stroke:#A80036;stroke-width:1.0;\"/><line style=\"stroke:#A80036;stroke-width:1.0;\" x1=\"33.5\" x2=\"87.5\" y1=\"100.5625\" y2=\"100.5625\"/><text fill=\"#000000\" font-family=\"sans-serif\" font-size=\"13\" lengthAdjust=\"spacing\" textLength=\"15\" x=\"45.5\" y=\"95.4966\">ok</text><!--MD5=[244cd60069558ab07ba70b6bba5f633b]\n",
       "@startuml\n",
       "Bob -> Alice : hello\n",
       "Alice -> Bob : ok\n",
       "@enduml\n",
       "\n",
       "PlantUML version 1.2021.9beta2(Unknown compile time)\n",
       "(GPL source distribution)\n",
       "Java Runtime: Java(TM) SE Runtime Environment\n",
       "JVM: Java HotSpot(TM) 64-Bit Server VM\n",
       "Default Encoding: UTF-8\n",
       "Language: en\n",
       "Country: US\n",
       "--></g></svg>"
      ],
      "text/plain": [
       "<IPython.core.display.SVG object>"
      ]
     },
     "execution_count": 61,
     "metadata": {},
     "output_type": "execute_result"
    }
   ],
   "source": [
    "%%plantuml\n",
    "\n",
    "@startuml\n",
    "Bob -> Alice : hello\n",
    "Alice -> Bob : ok\n",
    "@enduml"
   ]
  },
  {
   "cell_type": "code",
   "execution_count": 62,
   "id": "fe0518d0",
   "metadata": {},
   "outputs": [
    {
     "data": {
      "image/svg+xml": [
       "<svg xmlns=\"http://www.w3.org/2000/svg\" xmlns:xlink=\"http://www.w3.org/1999/xlink\" contentScriptType=\"application/ecmascript\" contentStyleType=\"text/css\" height=\"161px\" preserveAspectRatio=\"none\" style=\"width:125px;height:161px;background:#FFFFFF;\" version=\"1.1\" viewBox=\"0 0 125 161\" width=\"125px\" zoomAndPan=\"magnify\"><defs><filter height=\"300%\" id=\"f83ydg0qxt8hm\" width=\"300%\" x=\"-1\" y=\"-1\"><feGaussianBlur result=\"blurOut\" stdDeviation=\"2.0\"/><feColorMatrix in=\"blurOut\" result=\"blurOut2\" type=\"matrix\" values=\"0 0 0 0 0 0 0 0 0 0 0 0 0 0 0 0 0 0 .4 0\"/><feOffset dx=\"4.0\" dy=\"4.0\" in=\"blurOut2\" result=\"blurOut3\"/><feBlend in=\"SourceGraphic\" in2=\"blurOut3\" mode=\"normal\"/></filter></defs><g><line style=\"stroke:#A80036;stroke-width:1.0;stroke-dasharray:5.0,5.0;\" x1=\"28\" x2=\"28\" y1=\"40.2969\" y2=\"118.5625\"/><line style=\"stroke:#A80036;stroke-width:1.0;stroke-dasharray:5.0,5.0;\" x1=\"88\" x2=\"88\" y1=\"40.2969\" y2=\"118.5625\"/><rect fill=\"#FEFECE\" filter=\"url(#f83ydg0qxt8hm)\" height=\"30.2969\" style=\"stroke:#A80036;stroke-width:1.5;\" width=\"43\" x=\"5\" y=\"5\"/><text fill=\"#000000\" font-family=\"sans-serif\" font-size=\"14\" lengthAdjust=\"spacing\" textLength=\"29\" x=\"12\" y=\"24.9951\">Bob</text><rect fill=\"#FEFECE\" filter=\"url(#f83ydg0qxt8hm)\" height=\"30.2969\" style=\"stroke:#A80036;stroke-width:1.5;\" width=\"43\" x=\"5\" y=\"117.5625\"/><text fill=\"#000000\" font-family=\"sans-serif\" font-size=\"14\" lengthAdjust=\"spacing\" textLength=\"29\" x=\"12\" y=\"137.5576\">Bob</text><rect fill=\"#FEFECE\" filter=\"url(#f83ydg0qxt8hm)\" height=\"30.2969\" style=\"stroke:#A80036;stroke-width:1.5;\" width=\"49\" x=\"62\" y=\"5\"/><text fill=\"#000000\" font-family=\"sans-serif\" font-size=\"14\" lengthAdjust=\"spacing\" textLength=\"35\" x=\"69\" y=\"24.9951\">Alice</text><rect fill=\"#FEFECE\" filter=\"url(#f83ydg0qxt8hm)\" height=\"30.2969\" style=\"stroke:#A80036;stroke-width:1.5;\" width=\"49\" x=\"62\" y=\"117.5625\"/><text fill=\"#000000\" font-family=\"sans-serif\" font-size=\"14\" lengthAdjust=\"spacing\" textLength=\"35\" x=\"69\" y=\"137.5576\">Alice</text><polygon fill=\"#A80036\" points=\"76.5,67.4297,86.5,71.4297,76.5,75.4297,80.5,71.4297\" style=\"stroke:#A80036;stroke-width:1.0;\"/><line style=\"stroke:#A80036;stroke-width:1.0;\" x1=\"28.5\" x2=\"82.5\" y1=\"71.4297\" y2=\"71.4297\"/><text fill=\"#000000\" font-family=\"sans-serif\" font-size=\"13\" lengthAdjust=\"spacing\" textLength=\"30\" x=\"35.5\" y=\"66.3638\">hello</text><polygon fill=\"#A80036\" points=\"39.5,96.5625,29.5,100.5625,39.5,104.5625,35.5,100.5625\" style=\"stroke:#A80036;stroke-width:1.0;\"/><line style=\"stroke:#A80036;stroke-width:1.0;\" x1=\"33.5\" x2=\"87.5\" y1=\"100.5625\" y2=\"100.5625\"/><text fill=\"#000000\" font-family=\"sans-serif\" font-size=\"13\" lengthAdjust=\"spacing\" textLength=\"15\" x=\"45.5\" y=\"95.4966\">ok</text><!--MD5=[3980b0bacf082a50f939782a800ac469]\n",
       "@startuml\n",
       "skinparam lifelineStrategy nosolid\n",
       "Bob -> Alice : hello\n",
       "Alice -> Bob : ok\n",
       "@enduml\n",
       "\n",
       "PlantUML version 1.2021.9beta2(Unknown compile time)\n",
       "(GPL source distribution)\n",
       "Java Runtime: Java(TM) SE Runtime Environment\n",
       "JVM: Java HotSpot(TM) 64-Bit Server VM\n",
       "Default Encoding: UTF-8\n",
       "Language: en\n",
       "Country: US\n",
       "--></g></svg>"
      ],
      "text/plain": [
       "<IPython.core.display.SVG object>"
      ]
     },
     "execution_count": 62,
     "metadata": {},
     "output_type": "execute_result"
    }
   ],
   "source": [
    "%%plantuml\n",
    "\n",
    "@startuml\n",
    "skinparam lifelineStrategy nosolid\n",
    "Bob -> Alice : hello\n",
    "Alice -> Bob : ok\n",
    "@enduml\n"
   ]
  },
  {
   "cell_type": "code",
   "execution_count": 63,
   "id": "a6796734",
   "metadata": {},
   "outputs": [
    {
     "data": {
      "image/svg+xml": [
       "<svg xmlns=\"http://www.w3.org/2000/svg\" xmlns:xlink=\"http://www.w3.org/1999/xlink\" contentScriptType=\"application/ecmascript\" contentStyleType=\"text/css\" height=\"161px\" preserveAspectRatio=\"none\" style=\"width:125px;height:161px;background:#FFFFFF;\" version=\"1.1\" viewBox=\"0 0 125 161\" width=\"125px\" zoomAndPan=\"magnify\"><defs><filter height=\"300%\" id=\"f1nb69bqhxzkpz\" width=\"300%\" x=\"-1\" y=\"-1\"><feGaussianBlur result=\"blurOut\" stdDeviation=\"2.0\"/><feColorMatrix in=\"blurOut\" result=\"blurOut2\" type=\"matrix\" values=\"0 0 0 0 0 0 0 0 0 0 0 0 0 0 0 0 0 0 .4 0\"/><feOffset dx=\"4.0\" dy=\"4.0\" in=\"blurOut2\" result=\"blurOut3\"/><feBlend in=\"SourceGraphic\" in2=\"blurOut3\" mode=\"normal\"/></filter></defs><g><line style=\"stroke:#A80036;stroke-width:1.0;\" x1=\"28\" x2=\"28\" y1=\"40.2969\" y2=\"118.5625\"/><line style=\"stroke:#A80036;stroke-width:1.0;\" x1=\"88\" x2=\"88\" y1=\"40.2969\" y2=\"118.5625\"/><rect fill=\"#FEFECE\" filter=\"url(#f1nb69bqhxzkpz)\" height=\"30.2969\" style=\"stroke:#A80036;stroke-width:1.5;\" width=\"43\" x=\"5\" y=\"5\"/><text fill=\"#000000\" font-family=\"sans-serif\" font-size=\"14\" lengthAdjust=\"spacing\" textLength=\"29\" x=\"12\" y=\"24.9951\">Bob</text><rect fill=\"#FEFECE\" filter=\"url(#f1nb69bqhxzkpz)\" height=\"30.2969\" style=\"stroke:#A80036;stroke-width:1.5;\" width=\"43\" x=\"5\" y=\"117.5625\"/><text fill=\"#000000\" font-family=\"sans-serif\" font-size=\"14\" lengthAdjust=\"spacing\" textLength=\"29\" x=\"12\" y=\"137.5576\">Bob</text><rect fill=\"#FEFECE\" filter=\"url(#f1nb69bqhxzkpz)\" height=\"30.2969\" style=\"stroke:#A80036;stroke-width:1.5;\" width=\"49\" x=\"62\" y=\"5\"/><text fill=\"#000000\" font-family=\"sans-serif\" font-size=\"14\" lengthAdjust=\"spacing\" textLength=\"35\" x=\"69\" y=\"24.9951\">Alice</text><rect fill=\"#FEFECE\" filter=\"url(#f1nb69bqhxzkpz)\" height=\"30.2969\" style=\"stroke:#A80036;stroke-width:1.5;\" width=\"49\" x=\"62\" y=\"117.5625\"/><text fill=\"#000000\" font-family=\"sans-serif\" font-size=\"14\" lengthAdjust=\"spacing\" textLength=\"35\" x=\"69\" y=\"137.5576\">Alice</text><polygon fill=\"#A80036\" points=\"76.5,67.4297,86.5,71.4297,76.5,75.4297,80.5,71.4297\" style=\"stroke:#A80036;stroke-width:1.0;\"/><line style=\"stroke:#A80036;stroke-width:1.0;\" x1=\"28.5\" x2=\"82.5\" y1=\"71.4297\" y2=\"71.4297\"/><text fill=\"#000000\" font-family=\"sans-serif\" font-size=\"13\" lengthAdjust=\"spacing\" textLength=\"30\" x=\"35.5\" y=\"66.3638\">hello</text><polygon fill=\"#A80036\" points=\"39.5,96.5625,29.5,100.5625,39.5,104.5625,35.5,100.5625\" style=\"stroke:#A80036;stroke-width:1.0;\"/><line style=\"stroke:#A80036;stroke-width:1.0;\" x1=\"33.5\" x2=\"87.5\" y1=\"100.5625\" y2=\"100.5625\"/><text fill=\"#000000\" font-family=\"sans-serif\" font-size=\"13\" lengthAdjust=\"spacing\" textLength=\"15\" x=\"45.5\" y=\"95.4966\">ok</text><!--MD5=[d704d894df74047f5f29aaf6b934dfdc]\n",
       "@startuml\n",
       "skinparam lifelineStrategy solid\n",
       "Bob -> Alice : hello\n",
       "Alice -> Bob : ok\n",
       "@enduml\n",
       "\n",
       "PlantUML version 1.2021.9beta2(Unknown compile time)\n",
       "(GPL source distribution)\n",
       "Java Runtime: Java(TM) SE Runtime Environment\n",
       "JVM: Java HotSpot(TM) 64-Bit Server VM\n",
       "Default Encoding: UTF-8\n",
       "Language: en\n",
       "Country: US\n",
       "--></g></svg>"
      ],
      "text/plain": [
       "<IPython.core.display.SVG object>"
      ]
     },
     "execution_count": 63,
     "metadata": {},
     "output_type": "execute_result"
    }
   ],
   "source": [
    "%%plantuml\n",
    "\n",
    "@startuml\n",
    "skinparam lifelineStrategy solid\n",
    "Bob -> Alice : hello\n",
    "Alice -> Bob : ok\n",
    "@enduml"
   ]
  },
  {
   "cell_type": "code",
   "execution_count": 64,
   "id": "fb192a52",
   "metadata": {},
   "outputs": [
    {
     "data": {
      "image/svg+xml": [
       "<svg xmlns=\"http://www.w3.org/2000/svg\" xmlns:xlink=\"http://www.w3.org/1999/xlink\" contentScriptType=\"application/ecmascript\" contentStyleType=\"text/css\" height=\"121px\" preserveAspectRatio=\"none\" style=\"width:113px;height:121px;background:#FFFFFF;\" version=\"1.1\" viewBox=\"0 0 113 121\" width=\"113px\" zoomAndPan=\"magnify\"><defs/><g><line style=\"stroke:#A80036;stroke-width:1.0;stroke-dasharray:5.0,5.0;\" x1=\"26\" x2=\"26\" y1=\"36.2969\" y2=\"114.5625\"/><line style=\"stroke:#A80036;stroke-width:1.0;stroke-dasharray:5.0,5.0;\" x1=\"82\" x2=\"82\" y1=\"36.2969\" y2=\"114.5625\"/><rect fill=\"#FEFECE\" height=\"30.2969\" style=\"stroke:#A80036;stroke-width:1.5;\" width=\"43\" x=\"5\" y=\"5\"/><text fill=\"#000000\" font-family=\"sans-serif\" font-size=\"14\" lengthAdjust=\"spacing\" textLength=\"29\" x=\"12\" y=\"24.9951\">Bob</text><rect fill=\"#FEFECE\" height=\"30.2969\" style=\"stroke:#A80036;stroke-width:1.5;\" width=\"49\" x=\"58\" y=\"5\"/><text fill=\"#000000\" font-family=\"sans-serif\" font-size=\"14\" lengthAdjust=\"spacing\" textLength=\"35\" x=\"65\" y=\"24.9951\">Alice</text><polygon fill=\"#A80036\" points=\"70.5,63.4297,80.5,67.4297,70.5,71.4297\" style=\"stroke:#A80036;stroke-width:1.0;\"/><line style=\"stroke:#A80036;stroke-width:1.0;\" x1=\"26.5\" x2=\"76.5\" y1=\"67.4297\" y2=\"67.4297\"/><text fill=\"#000000\" font-family=\"sans-serif\" font-size=\"13\" lengthAdjust=\"spacing\" textLength=\"30\" x=\"33.5\" y=\"62.3638\">hello</text><polygon fill=\"#A80036\" points=\"37.5,92.5625,27.5,96.5625,37.5,100.5625\" style=\"stroke:#A80036;stroke-width:1.0;\"/><line style=\"stroke:#A80036;stroke-width:1.0;\" x1=\"31.5\" x2=\"81.5\" y1=\"96.5625\" y2=\"96.5625\"/><text fill=\"#000000\" font-family=\"sans-serif\" font-size=\"13\" lengthAdjust=\"spacing\" textLength=\"15\" x=\"43.5\" y=\"91.4966\">ok</text><!--MD5=[20b5b9ed00c92ee675a269a5b412d8f5]\n",
       "@startuml\n",
       "skinparam style strictuml\n",
       "Bob -> Alice : hello\n",
       "Alice -> Bob : ok\n",
       "@enduml\n",
       "\n",
       "PlantUML version 1.2021.9beta2(Unknown compile time)\n",
       "(GPL source distribution)\n",
       "Java Runtime: Java(TM) SE Runtime Environment\n",
       "JVM: Java HotSpot(TM) 64-Bit Server VM\n",
       "Default Encoding: UTF-8\n",
       "Language: en\n",
       "Country: US\n",
       "--></g></svg>"
      ],
      "text/plain": [
       "<IPython.core.display.SVG object>"
      ]
     },
     "execution_count": 64,
     "metadata": {},
     "output_type": "execute_result"
    }
   ],
   "source": [
    "%%plantuml\n",
    "\n",
    "@startuml\n",
    "skinparam style strictuml\n",
    "Bob -> Alice : hello\n",
    "Alice -> Bob : ok\n",
    "@enduml"
   ]
  },
  {
   "cell_type": "code",
   "execution_count": null,
   "id": "a0d8c3d3",
   "metadata": {},
   "outputs": [],
   "source": []
  }
 ],
 "metadata": {
  "kernelspec": {
   "display_name": "Python 3",
   "language": "python",
   "name": "python3"
  },
  "language_info": {
   "codemirror_mode": {
    "name": "ipython",
    "version": 3
   },
   "file_extension": ".py",
   "mimetype": "text/x-python",
   "name": "python",
   "nbconvert_exporter": "python",
   "pygments_lexer": "ipython3",
   "version": "3.8.8"
  }
 },
 "nbformat": 4,
 "nbformat_minor": 5
}
