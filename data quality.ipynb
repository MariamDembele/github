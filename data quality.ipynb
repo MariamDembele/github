{
 "cells": [
  {
   "cell_type": "code",
   "execution_count": 13,
   "id": "8c5ce828",
   "metadata": {},
   "outputs": [],
   "source": [
    "from ydata_quality import DataQuality\n",
    "import pandas as pd\n",
    "df = pd.read_csv('https://raw.githubusercontent.com/ydataai/ydata-quality/master/datasets/transformed/census_10k.csv')"
   ]
  },
  {
   "cell_type": "code",
   "execution_count": 14,
   "id": "d03251ef",
   "metadata": {},
   "outputs": [
    {
     "name": "stdout",
     "output_type": "stream",
     "text": [
      "\u001b[1mWarnings:\u001b[0m\n",
      "\tTOTAL: 4 warning(s)\n",
      "\t\u001b[1m\u001b[38;5;209mPriority 1\u001b[0m: 1 warning(s)\n",
      "\t\u001b[1m\u001b[38;5;11mPriority 2\u001b[0m: 3 warning(s)\n",
      "\n",
      "\u001b[38;5;209m\u001b[1mPriority 1\u001b[0m - \u001b[1mheavy impact expected\u001b[0m:\n",
      "\t\u001b[38;5;209m*\u001b[0m \u001b[1m[DUPLICATES\u001b[0m - \u001b[4mDUPLICATE COLUMNS]\u001b[0m Found 1 columns with exactly the same feature values as other columns.\n",
      "\u001b[38;5;11m\u001b[1mPriority 2\u001b[0m - \u001b[1musage allowed, limited human intelligibility\u001b[0m:\n",
      "\t\u001b[38;5;11m*\u001b[0m \u001b[1m[DUPLICATES\u001b[0m - \u001b[4mEXACT DUPLICATES]\u001b[0m Found 3 instances with exact duplicate feature values.\n",
      "\t\u001b[38;5;11m*\u001b[0m \u001b[1m[ERRONEOUS DATA\u001b[0m - \u001b[4mPREDEFINED ERRONEOUS DATA]\u001b[0m Found 1960 ED values in the dataset.\n",
      "\t\u001b[38;5;11m*\u001b[0m \u001b[1m[DATA RELATIONS\u001b[0m - \u001b[4mHIGH COLLINEARITY - CATEGORICAL]\u001b[0m Found 10 categorical variables with significant collinearity (p-value < 0.05). The variables listed in results are highly collinear with other variables in the dataset and sorted descending according to propensity. These will make model explainability harder and potentially give way to issues like overfitting.Depending on your end goal you might want to remove variables following the provided order.\n",
      "\n"
     ]
    }
   ],
   "source": [
    "# create the main class that holds all quality modules\n",
    "dq = DataQuality(df=df)\n",
    "# run the tests\n",
    "results = dq.evaluate()"
   ]
  },
  {
   "cell_type": "code",
   "execution_count": 15,
   "id": "5f2734b3",
   "metadata": {},
   "outputs": [
    {
     "data": {
      "text/plain": [
       "[QualityWarning(category='Duplicates', test='Duplicate Columns', description='Found 1 columns with exactly the same feature values as other columns.', priority=<Priority.P1: 1>, data={'workclass': ['workclass2']})]"
      ]
     },
     "execution_count": 15,
     "metadata": {},
     "output_type": "execute_result"
    }
   ],
   "source": [
    "dq.get_warnings(test=\"Duplicate Columns\")"
   ]
  },
  {
   "cell_type": "code",
   "execution_count": 16,
   "id": "c58342b0",
   "metadata": {},
   "outputs": [
    {
     "name": "stdout",
     "output_type": "stream",
     "text": [
      "\u001b[1mWarnings:\u001b[0m\n",
      "\tTOTAL: 2 warning(s)\n",
      "\t\u001b[1m\u001b[38;5;11mPriority 2\u001b[0m: 2 warning(s)\n",
      "\n",
      "\n",
      "\u001b[38;5;11m\u001b[1mPriority 2\u001b[0m - \u001b[1musage allowed, limited human intelligibility\u001b[0m:\n",
      "\t\u001b[38;5;11m*\u001b[0m \u001b[1m[BIAS&FAIRNESS\u001b[0m - \u001b[4mSENSITIVE ATTRIBUTE REPRESENTATIVITY]\u001b[0m Found 2 values of 'race'                             sensitive attribute with low representativity in the dataset (below 1.00%).\n",
      "\t\u001b[38;5;11m*\u001b[0m \u001b[1m[BIAS&FAIRNESS\u001b[0m - \u001b[4mPROXY IDENTIFICATION]\u001b[0m Found 1 feature pairs of correlation to sensitive attributes with values higher than defined threshold (0.5).\n",
      "\n"
     ]
    }
   ],
   "source": [
    "from ydata_quality.bias_fairness import BiasFairness\n",
    "#create the main class that holds all quality modules\n",
    "bf = BiasFairness(df=df, sensitive_features=['race', 'sex'], label='income')\n",
    "# run the tests\n",
    "bf_results = bf.evaluate()"
   ]
  },
  {
   "cell_type": "code",
   "execution_count": 17,
   "id": "6cdf785e",
   "metadata": {},
   "outputs": [
    {
     "data": {
      "text/plain": [
       "[QualityWarning(category='Bias&Fairness', test='Proxy Identification', description='Found 1 feature pairs of correlation to sensitive attributes with values higher than defined threshold (0.5).', priority=<Priority.P2: 2>, data=features\n",
       " relationship_sex    0.650656\n",
       " Name: association, dtype: float64)]"
      ]
     },
     "execution_count": 17,
     "metadata": {},
     "output_type": "execute_result"
    }
   ],
   "source": [
    "bf.get_warnings(test='Proxy Identification')"
   ]
  },
  {
   "cell_type": "code",
   "execution_count": 18,
   "id": "e328a744",
   "metadata": {},
   "outputs": [],
   "source": [
    "def improve_quality(df: pd.DataFrame):\n",
    "    \"\"\"Clean the data based on the Data Quality issues found previously.\"\"\"\n",
    "    # Bias & Fairness\n",
    "    df = df.replace({'relationship': {'Husband': 'Married', 'Wife': 'Married'}}) # Substitute gender-based 'Husband'/'Wife' for generic 'Married'\n",
    "    \n",
    "    # Duplicates\n",
    "    df = df.drop(columns=['workclass2']) # Remove the duplicated column\n",
    "    df = df.drop_duplicates()            # Remove exact feature value duplicates\n",
    "\n",
    "    return df\n",
    "\n",
    "clean_df = improve_quality(df.copy())"
   ]
  },
  {
   "cell_type": "code",
   "execution_count": 24,
   "id": "610ac993",
   "metadata": {},
   "outputs": [
    {
     "name": "stdout",
     "output_type": "stream",
     "text": [
      "\u001b[1mWarnings:\u001b[0m\n",
      "\tTOTAL: 2 warning(s)\n",
      "\t\u001b[1m\u001b[38;5;11mPriority 2\u001b[0m: 2 warning(s)\n",
      "\n",
      "\n",
      "\u001b[38;5;11m\u001b[1mPriority 2\u001b[0m - \u001b[1musage allowed, limited human intelligibility\u001b[0m:\n",
      "\t\u001b[38;5;11m*\u001b[0m \u001b[1m[ERRONEOUS DATA\u001b[0m - \u001b[4mPREDEFINED ERRONEOUS DATA]\u001b[0m Found 1360 ED values in the dataset.\n",
      "\t\u001b[38;5;11m*\u001b[0m \u001b[1m[DATA RELATIONS\u001b[0m - \u001b[4mHIGH COLLINEARITY - CATEGORICAL]\u001b[0m Found 9 categorical variables with significant collinearity (p-value < 0.05). The variables listed in results are highly collinear with other variables in the dataset and sorted descending according to propensity. These will make model explainability harder and potentially give way to issues like overfitting.Depending on your end goal you might want to remove variables following the provided order.\n",
      "\n"
     ]
    }
   ],
   "source": [
    "better_dq = DataQuality(df=clean_df) # main class on cleaned data\n",
    "results = better_dq.evaluate() # run the tests"
   ]
  },
  {
   "cell_type": "code",
   "execution_count": 25,
   "id": "f9b30792",
   "metadata": {},
   "outputs": [
    {
     "name": "stdout",
     "output_type": "stream",
     "text": [
      "\u001b[1mWarnings:\u001b[0m\n",
      "\tTOTAL: 1 warning(s)\n",
      "\t\u001b[1m\u001b[38;5;11mPriority 2\u001b[0m: 1 warning(s)\n",
      "\n",
      "\n",
      "\u001b[38;5;11m\u001b[1mPriority 2\u001b[0m - \u001b[1musage allowed, limited human intelligibility\u001b[0m:\n",
      "\t\u001b[38;5;11m*\u001b[0m \u001b[1m[BIAS&FAIRNESS\u001b[0m - \u001b[4mSENSITIVE ATTRIBUTE REPRESENTATIVITY]\u001b[0m Found 2 values of 'race'                             sensitive attribute with low representativity in the dataset (below 1.00%).\n",
      "\n"
     ]
    }
   ],
   "source": [
    "# Specific analysis for Bias & Fairness with improved dataframe\n",
    "better_bf = BiasFairness(df=clean_df, sensitive_features=['race', 'sex'], label='income')\n",
    "_ = better_bf.evaluate()"
   ]
  },
  {
   "cell_type": "code",
   "execution_count": 26,
   "id": "764b1613",
   "metadata": {},
   "outputs": [
    {
     "data": {
      "text/plain": [
       "features\n",
       "relationship_sex      0.475097\n",
       "marital-status_sex    0.459768\n",
       "Name: association, dtype: float64"
      ]
     },
     "execution_count": 26,
     "metadata": {},
     "output_type": "execute_result"
    }
   ],
   "source": [
    "# Lowering the threshold detects more possible proxies\n",
    "better_bf.proxy_identification(th=0.45)"
   ]
  },
  {
   "cell_type": "code",
   "execution_count": null,
   "id": "95124922",
   "metadata": {},
   "outputs": [],
   "source": []
  }
 ],
 "metadata": {
  "kernelspec": {
   "display_name": "Python 3 (ipykernel)",
   "language": "python",
   "name": "python3"
  },
  "language_info": {
   "codemirror_mode": {
    "name": "ipython",
    "version": 3
   },
   "file_extension": ".py",
   "mimetype": "text/x-python",
   "name": "python",
   "nbconvert_exporter": "python",
   "pygments_lexer": "ipython3",
   "version": "3.8.12"
  }
 },
 "nbformat": 4,
 "nbformat_minor": 5
}
